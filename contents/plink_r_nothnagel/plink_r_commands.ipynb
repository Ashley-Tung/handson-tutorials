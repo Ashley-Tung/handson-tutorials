{
 "cells": [
  {
   "cell_type": "markdown",
   "id": "ffdf58a6-919a-4c1f-9147-0cb3ab28e482",
   "metadata": {
    "kernel": "Bash"
   },
   "source": [
    "# PLINK intro"
   ]
  },
  {
   "cell_type": "code",
   "execution_count": 21,
   "id": "994a3ed1-e3fe-472d-884b-9874845121ba",
   "metadata": {
    "kernel": "Bash",
    "scrolled": true
   },
   "outputs": [
    {
     "name": "stdout",
     "output_type": "stream",
     "text": [
      "PLINK v1.90b6.21 64-bit (19 Oct 2020)          www.cog-genomics.org/plink/1.9/\n",
      "(C) 2005-2020 Shaun Purcell, Christopher Chang   GNU General Public License v3\n",
      "Logging to plink.log.\n",
      "Options in effect:\n",
      "  --map dbp.map\n",
      "  --missing\n",
      "  --ped dbp.cc.ped\n",
      "\n",
      "31376 MB RAM detected; reserving 15688 MB for main workspace.\n",
      ".ped scan complete (for binary autoconversion).21212121212131313131313141414141414151515151515161616161616171717171717181818181818191919191919202020202020212121212121222222222222232323232323242424242424252525252525262626262626272727272727282828282828292929292929303030303030313131313131323232323232333333333333343434343434353535353535363636363636373737373737383838383838393939393939404040404040414141414141424242424242434343434343444444444444454545454545464646464646474747474747484848484848494949494949505050505050515151515151525252525252535353535353545454545454555555555555565656565656575757575757585858585858595959595959606060606060616161616161626262626262636363636363646464646464656565656565666666666666676767676767686868686868696969696969707070707070717171717171727272727272737373737373747474747474757575757575767676767676777777777777787878787878797979797979808080808080818181818181828282828282838383838383848484848484858585858585868686868686878787878787888888888888898989898989909090909090919191919191929292929292939393939393949494949494959595959595969696969696979797979797989898989898999999999999100%\n",
      "Performing single-pass .bed write (20 variants, 600 people).\n",
      "--file: plink-temporary.bed + plink-temporary.bim + plink-temporary.fam546474849505152535455565758596061626364656667686970717273747576777879808182838485868788899091929394%\n",
      "written.\n",
      "20 variants loaded from .bim file.\n",
      "600 people (329 males, 271 females) loaded from .fam.\n",
      "600 phenotype values loaded from .fam.\n",
      "Using 1 thread (no multithreaded calculations invoked).\n",
      "Before main variant filters, 600 founders and 0 nonfounders present.\n",
      "Calculating allele frequencies... 10111213141516171819202122232425262728293031323334353637383940414243444546474849505152535455565758596061626364656667686970717273747576777879808182838485868788899091929394959697989 done.\n",
      "Total genotyping rate is 0.988333.\n",
      "--missing: Sample missing data report written to plink.imiss, and variant-based\n",
      "missing data report written to plink.lmiss.\n",
      "PLINK v1.90b6.21 64-bit (19 Oct 2020)          www.cog-genomics.org/plink/1.9/\n",
      "(C) 2005-2020 Shaun Purcell, Christopher Chang   GNU General Public License v3\n",
      "Logging to cleaned.log.\n",
      "Options in effect:\n",
      "  --geno 0.05\n",
      "  --map dbp.map\n",
      "  --mind 0.10\n",
      "  --out cleaned\n",
      "  --ped dbp.cc.ped\n",
      "  --recode\n",
      "\n",
      "31376 MB RAM detected; reserving 15688 MB for main workspace.\n",
      ".ped scan complete (for binary autoconversion).21212121212131313131313141414141414151515151515161616161616171717171717181818181818191919191919202020202020212121212121222222222222232323232323242424242424252525252525262626262626272727272727282828282828292929292929303030303030313131313131323232323232333333333333343434343434353535353535363636363636373737373737383838383838393939393939404040404040414141414141424242424242434343434343444444444444454545454545464646464646474747474747484848484848494949494949505050505050515151515151525252525252535353535353545454545454555555555555565656565656575757575757585858585858595959595959606060606060616161616161626262626262636363636363646464646464656565656565666666666666676767676767686868686868696969696969707070707070717171717171727272727272737373737373747474747474757575757575767676767676777777777777787878787878797979797979808080808080818181818181828282828282838383838383848484848484858585858585868686868686878787878787888888888888898989898989909090909090919191919191929292929292939393939393949494949494959595959595969696969696979797979797989898989898999999999999100%\n",
      "Performing single-pass .bed write (20 variants, 600 people).\n",
      "--file: cleaned-temporary.bed + cleaned-temporary.bim + cleaned-temporary.fam849505152535455565758596061626364656667686970717273747576777879808182838485868788899091929394%\n",
      "written.\n",
      "20 variants loaded from .bim file.\n",
      "600 people (329 males, 271 females) loaded from .fam.\n",
      "600 phenotype values loaded from .fam.\n",
      "0 people removed due to missing genotype data (--mind).\n",
      "Using 1 thread (no multithreaded calculations invoked).\n",
      "Before main variant filters, 600 founders and 0 nonfounders present.\n",
      "Calculating allele frequencies... 10111213141516171819202122232425262728293031323334353637383940414243444546474849505152535455565758596061626364656667686970717273747576777879808182838485868788899091929394959697989 done.\n",
      "Total genotyping rate is 0.988333.\n",
      "2 variants removed due to missing genotype data (--geno).\n",
      "18 variants and 600 people pass filters and QC.\n",
      "Among remaining phenotypes, 300 are cases and 300 are controls.\n",
      "--recode ped to cleaned.ped + cleaned.map ... 101112131415161718192021222324252627282930313233343536373839404142434445464748495051525354555657585960616263646566676869707172737475767778798081828384858687888990919293949596979899done.\n",
      "PLINK v1.90b6.21 64-bit (19 Oct 2020)          www.cog-genomics.org/plink/1.9/\n",
      "(C) 2005-2020 Shaun Purcell, Christopher Chang   GNU General Public License v3\n",
      "Logging to cleaned.log.\n",
      "Options in effect:\n",
      "  --freq\n",
      "  --map cleaned.map\n",
      "  --out cleaned\n",
      "  --ped cleaned.ped\n",
      "\n",
      "31376 MB RAM detected; reserving 15688 MB for main workspace.\n",
      ".ped scan complete (for binary autoconversion).212121212121313131313141414141414151515151515151616161616161717171717171818181818181919191919192020202020202121212121212222222222222323232323232424242424242525252525252626262626262727272727272828282828282929292929293030303030303131313131313232323232323333333333333434343434343535353535353636363636363737373737373838383838383939393939394040404040404141414141414242424242424343434343434444444444444545454545454646464646464747474747474848484848484949494949495050505050505151515151515252525252525353535353535454545454545555555555555656565656565757575757575858585858585959595959596060606060606161616161616262626262626363636363636464646464646565656565656666666666666767676767676868686868686969696969697070707070707171717171717272727272727373737373737474747474757575757575767676767676767777777777777878787878787979797979798080808080808181818181818282828282828383838383838484848484848585858585858686868686868787878787878888888888888989898989899090909090909191919191919292929292929393939393939494949494949595959595959696969696969797979797979898989898989999999999100%\n",
      "Performing single-pass .bed write (18 variants, 600 people).\n",
      "--file: cleaned-temporary.bed + cleaned-temporary.bim + cleaned-temporary.fam849505152535455565758596061626364656667686970717273747576777879808182838485868788899091929394%\n",
      "written.\n",
      "18 variants loaded from .bim file.\n",
      "600 people (329 males, 271 females) loaded from .fam.\n",
      "600 phenotype values loaded from .fam.\n",
      "Using 1 thread (no multithreaded calculations invoked).\n",
      "Before main variant filters, 600 founders and 0 nonfounders present.\n",
      "Calculating allele frequencies... 10111213141516171819202122232425262728293031323334353637383940414243444546474849505152535455565758596061626364656667686970717273747576777879808182838485868788899091929394959697989 done.\n",
      "--freq: Allele frequencies (founders only) written to cleaned.frq .\n",
      "PLINK v1.90b6.21 64-bit (19 Oct 2020)          www.cog-genomics.org/plink/1.9/\n",
      "(C) 2005-2020 Shaun Purcell, Christopher Chang   GNU General Public License v3\n",
      "Logging to cleaned.log.\n",
      "Options in effect:\n",
      "  --hardy\n",
      "  --map cleaned.map\n",
      "  --out cleaned\n",
      "  --ped cleaned.ped\n",
      "\n",
      "31376 MB RAM detected; reserving 15688 MB for main workspace.\n",
      ".ped scan complete (for binary autoconversion).212121212121313131313141414141414151515151515151616161616161717171717171818181818181919191919192020202020202121212121212222222222222323232323232424242424242525252525252626262626262727272727272828282828282929292929293030303030303131313131313232323232323333333333333434343434343535353535353636363636363737373737373838383838383939393939394040404040404141414141414242424242424343434343434444444444444545454545454646464646464747474747474848484848484949494949495050505050505151515151515252525252525353535353535454545454545555555555555656565656565757575757575858585858585959595959596060606060606161616161616262626262626363636363636464646464646565656565656666666666666767676767676868686868686969696969697070707070707171717171717272727272727373737373737474747474757575757575767676767676767777777777777878787878787979797979798080808080808181818181818282828282828383838383838484848484848585858585858686868686868787878787878888888888888989898989899090909090909191919191919292929292929393939393939494949494949595959595959696969696969797979797979898989898989999999999100%\n",
      "Performing single-pass .bed write (18 variants, 600 people).\n",
      "--file: cleaned-temporary.bed + cleaned-temporary.bim + cleaned-temporary.fam849505152535455565758596061626364656667686970717273747576777879808182838485868788899091929394%\n",
      "written.\n",
      "18 variants loaded from .bim file.\n",
      "600 people (329 males, 271 females) loaded from .fam.\n",
      "600 phenotype values loaded from .fam.\n",
      "Using 1 thread (no multithreaded calculations invoked).\n",
      "Before main variant filters, 600 founders and 0 nonfounders present.\n",
      "Calculating allele frequencies... 10111213141516171819202122232425262728293031323334353637383940414243444546474849505152535455565758596061626364656667686970717273747576777879808182838485868788899091929394959697989 done.\n",
      "--hardy: Writing Hardy-Weinberg report (founders only) to cleaned.hwe ... 101112131415161718192021222324252627282930313233343536373839404142434445464748495051525354555657585960616263646566676869707172737475767778798081828384858687888990919293949596979899done.\n",
      "PLINK v1.90b6.21 64-bit (19 Oct 2020)          www.cog-genomics.org/plink/1.9/\n",
      "(C) 2005-2020 Shaun Purcell, Christopher Chang   GNU General Public License v3\n",
      "Logging to cleaned.R.log.\n",
      "Options in effect:\n",
      "  --map cleaned.map\n",
      "  --out cleaned.R\n",
      "  --ped cleaned.ped\n",
      "  --recode\n",
      "  --tab\n",
      "\n",
      "Note: --tab flag deprecated.  Use \"--recode tab ...\".\n",
      "31376 MB RAM detected; reserving 15688 MB for main workspace.\n",
      ".ped scan complete (for binary autoconversion).212121212121313131313141414141414151515151515151616161616161717171717171818181818181919191919192020202020202121212121212222222222222323232323232424242424242525252525252626262626262727272727272828282828282929292929293030303030303131313131313232323232323333333333333434343434343535353535353636363636363737373737373838383838383939393939394040404040404141414141414242424242424343434343434444444444444545454545454646464646464747474747474848484848484949494949495050505050505151515151515252525252525353535353535454545454545555555555555656565656565757575757575858585858585959595959596060606060606161616161616262626262626363636363636464646464646565656565656666666666666767676767676868686868686969696969697070707070707171717171717272727272727373737373737474747474757575757575767676767676767777777777777878787878787979797979798080808080808181818181818282828282828383838383838484848484848585858585858686868686868787878787878888888888888989898989899090909090909191919191919292929292929393939393939494949494949595959595959696969696969797979797979898989898989999999999100%\n",
      "Performing single-pass .bed write (18 variants, 600 people).\n",
      "--file: cleaned.R-temporary.bed + cleaned.R-temporary.bim +940414243444546474849505152535455565758596061626364656667686970717273747576777879808182838485868788899091929394%\n",
      "cleaned.R-temporary.fam written.\n",
      "18 variants loaded from .bim file.\n",
      "600 people (329 males, 271 females) loaded from .fam.\n",
      "600 phenotype values loaded from .fam.\n",
      "Using 1 thread (no multithreaded calculations invoked).\n",
      "Before main variant filters, 600 founders and 0 nonfounders present.\n",
      "Calculating allele frequencies... 10111213141516171819202122232425262728293031323334353637383940414243444546474849505152535455565758596061626364656667686970717273747576777879808182838485868788899091929394959697989 done.\n",
      "18 variants and 600 people pass filters and QC.\n",
      "Among remaining phenotypes, 300 are cases and 300 are controls.\n",
      "--recode ped to cleaned.R.ped + cleaned.R.map ... 101112131415161718192021222324252627282930313233343536373839404142434445464748495051525354555657585960616263646566676869707172737475767778798081828384858687888990919293949596979899done.\n",
      "PLINK v1.90b6.21 64-bit (19 Oct 2020)          www.cog-genomics.org/plink/1.9/\n",
      "(C) 2005-2020 Shaun Purcell, Christopher Chang   GNU General Public License v3\n",
      "Logging to dbp.log.\n",
      "Options in effect:\n",
      "  --make-bed\n",
      "  --map dbp.map\n",
      "  --out dbp\n",
      "  --ped dbp.cc.ped\n",
      "\n",
      "31376 MB RAM detected; reserving 15688 MB for main workspace.\n",
      ".ped scan complete (for binary autoconversion).21212121212131313131313141414141414151515151515161616161616171717171717181818181818191919191919202020202020212121212121222222222222232323232323242424242424252525252525262626262626272727272727282828282828292929292929303030303030313131313131323232323232333333333333343434343434353535353535363636363636373737373737383838383838393939393939404040404040414141414141424242424242434343434343444444444444454545454545464646464646474747474747484848484848494949494949505050505050515151515151525252525252535353535353545454545454555555555555565656565656575757575757585858585858595959595959606060606060616161616161626262626262636363636363646464646464656565656565666666666666676767676767686868686868696969696969707070707070717171717171727272727272737373737373747474747474757575757575767676767676777777777777787878787878797979797979808080808080818181818181828282828282838383838383848484848484858585858585868686868686878787878787888888888888898989898989909090909090919191919191929292929292939393939393949494949494959595959595969696969696979797979797989898989898999999999999100%\n",
      "Performing single-pass .bed write (20 variants, 600 people).\n",
      "--file: dbp-temporary.bed + dbp-temporary.bim + dbp-temporary.fam written.474849505152535455565758596061626364656667686970717273747576777879808182838485868788899091929394%\n",
      "20 variants loaded from .bim file.\n",
      "600 people (329 males, 271 females) loaded from .fam.\n",
      "600 phenotype values loaded from .fam.\n",
      "Using 1 thread (no multithreaded calculations invoked).\n",
      "Before main variant filters, 600 founders and 0 nonfounders present.\n",
      "Calculating allele frequencies... 10111213141516171819202122232425262728293031323334353637383940414243444546474849505152535455565758596061626364656667686970717273747576777879808182838485868788899091929394959697989 done.\n",
      "Total genotyping rate is 0.988333.\n",
      "20 variants and 600 people pass filters and QC.\n",
      "Among remaining phenotypes, 300 are cases and 300 are controls.\n",
      "--make-bed to dbp.bed + dbp.bim + dbp.fam ... 101112131415161718192021222324252627282930313233343536373839404142434445464748495051525354555657585960616263646566676869707172737475767778798081828384858687888990919293949596979899done.\n",
      "PLINK v1.90b6.21 64-bit (19 Oct 2020)          www.cog-genomics.org/plink/1.9/\n",
      "(C) 2005-2020 Shaun Purcell, Christopher Chang   GNU General Public License v3\n",
      "Logging to dbp.qt.log.\n",
      "Options in effect:\n",
      "  --make-bed\n",
      "  --map dbp.map\n",
      "  --out dbp.qt\n",
      "  --ped dbp.qt.ped\n",
      "\n",
      "31376 MB RAM detected; reserving 15688 MB for main workspace.\n",
      ".ped scan complete (for binary autoconversion).21212121212131313131313141414141414151515151515161616161616171717171717181818181818191919191919202020202020212121212121222222222222232323232323242424242424252525252525262626262626272727272727282828282828292929292929303030303030313131313131323232323232333333333333343434343434353535353535363636363636373737373737383838383838393939393939404040404040414141414141424242424242434343434343444444444444454545454545464646464646474747474747484848484848494949494949505050505050515151515151525252525252535353535353545454545454555555555555565656565656575757575757585858585858595959595959606060606060616161616161626262626262636363636363646464646464656565656565666666666666676767676767686868686868696969696969707070707070717171717171727272727272737373737373747474747474757575757575767676767676777777777777787878787878797979797979808080808080818181818181828282828282838383838383848484848484858585858585868686868686878787878787888888888888898989898989909090909090919191919191929292929292939393939393949494949494959595959595969696969696979797979797989898989898999999999999100%\n",
      "Performing single-pass .bed write (20 variants, 600 people).\n",
      "--file: dbp.qt-temporary.bed + dbp.qt-temporary.bim + dbp.qt-temporary.fam474849505152535455565758596061626364656667686970717273747576777879808182838485868788899091929394%\n",
      "written.\n",
      "20 variants loaded from .bim file.\n",
      "600 people (329 males, 271 females) loaded from .fam.\n",
      "600 phenotype values loaded from .fam.\n",
      "Using 1 thread (no multithreaded calculations invoked).\n",
      "Before main variant filters, 600 founders and 0 nonfounders present.\n",
      "Calculating allele frequencies... 10111213141516171819202122232425262728293031323334353637383940414243444546474849505152535455565758596061626364656667686970717273747576777879808182838485868788899091929394959697989 done.\n",
      "Total genotyping rate is 0.988333.\n",
      "20 variants and 600 people pass filters and QC.\n",
      "Phenotype data is quantitative.\n",
      "--make-bed to dbp.qt.bed + dbp.qt.bim + dbp.qt.fam ... 101112131415161718192021222324252627282930313233343536373839404142434445464748495051525354555657585960616263646566676869707172737475767778798081828384858687888990919293949596979899done.\n"
     ]
    }
   ],
   "source": [
    "plink  --ped dbp.cc.ped  --map dbp.map  --missing\n",
    "\n",
    "plink  --ped dbp.cc.ped  --map dbp.map  --mind 0.10  --geno 0.05 \\\n",
    "       --recode  --out cleaned\n",
    "plink  --ped cleaned.ped  --map cleaned.map  --freq  --out cleaned\n",
    "plink  --ped cleaned.ped  --map cleaned.map  --hardy  --out cleaned\n",
    "\n",
    "plink  --ped cleaned.ped  --map cleaned.map  --out cleaned.R  --recode  \\\n",
    "       --tab\n",
    "\n",
    "plink  --ped dbp.cc.ped  --map dbp.map  --make-bed  --out dbp\n",
    "plink  --ped dbp.qt.ped  --map dbp.map  --make-bed  --out dbp.qt"
   ]
  },
  {
   "cell_type": "markdown",
   "id": "eed92d36-002c-42fa-b51a-59b36439ef98",
   "metadata": {
    "kernel": "Bash"
   },
   "source": [
    "# R intro"
   ]
  },
  {
   "cell_type": "code",
   "execution_count": 22,
   "id": "e5ef5d35-c407-4147-8ee6-18c141086279",
   "metadata": {
    "kernel": "R",
    "scrolled": true
   },
   "outputs": [
    {
     "data": {
      "text/html": [
       "<style>\n",
       ".list-inline {list-style: none; margin:0; padding: 0}\n",
       ".list-inline>li {display: inline-block}\n",
       ".list-inline>li:not(:last-child)::after {content: \"\\00b7\"; padding: 0 .5ex}\n",
       "</style>\n",
       "<ol class=list-inline><li>'Oslo'</li><li>'Bergen'</li><li>'Munich'</li><li>'Berlin'</li><li>'Rome'</li><li>'Milan'</li></ol>\n"
      ],
      "text/latex": [
       "\\begin{enumerate*}\n",
       "\\item 'Oslo'\n",
       "\\item 'Bergen'\n",
       "\\item 'Munich'\n",
       "\\item 'Berlin'\n",
       "\\item 'Rome'\n",
       "\\item 'Milan'\n",
       "\\end{enumerate*}\n"
      ],
      "text/markdown": [
       "1. 'Oslo'\n",
       "2. 'Bergen'\n",
       "3. 'Munich'\n",
       "4. 'Berlin'\n",
       "5. 'Rome'\n",
       "6. 'Milan'\n",
       "\n",
       "\n"
      ],
      "text/plain": [
       "[1] \"Oslo\"   \"Bergen\" \"Munich\" \"Berlin\" \"Rome\"   \"Milan\" "
      ]
     },
     "metadata": {},
     "output_type": "display_data"
    },
    {
     "data": {
      "text/html": [
       "<style>\n",
       ".list-inline {list-style: none; margin:0; padding: 0}\n",
       ".list-inline>li {display: inline-block}\n",
       ".list-inline>li:not(:last-child)::after {content: \"\\00b7\"; padding: 0 .5ex}\n",
       "</style>\n",
       "<ol class=list-inline><li>0.58</li><li>0.25</li><li>1.3</li><li>3.4</li><li>2.7</li><li>1.3</li></ol>\n"
      ],
      "text/latex": [
       "\\begin{enumerate*}\n",
       "\\item 0.58\n",
       "\\item 0.25\n",
       "\\item 1.3\n",
       "\\item 3.4\n",
       "\\item 2.7\n",
       "\\item 1.3\n",
       "\\end{enumerate*}\n"
      ],
      "text/markdown": [
       "1. 0.58\n",
       "2. 0.25\n",
       "3. 1.3\n",
       "4. 3.4\n",
       "5. 2.7\n",
       "6. 1.3\n",
       "\n",
       "\n"
      ],
      "text/plain": [
       "[1] 0.58 0.25 1.30 3.40 2.70 1.30"
      ]
     },
     "metadata": {},
     "output_type": "display_data"
    },
    {
     "data": {
      "text/html": [
       "<style>\n",
       ".list-inline {list-style: none; margin:0; padding: 0}\n",
       ".list-inline>li {display: inline-block}\n",
       ".list-inline>li:not(:last-child)::after {content: \"\\00b7\"; padding: 0 .5ex}\n",
       "</style>\n",
       "<ol class=list-inline><li>Norway</li><li>Norway</li><li>Germany</li><li>Germany</li><li>Italy</li><li>Italy</li></ol>\n",
       "\n",
       "<details>\n",
       "\t<summary style=display:list-item;cursor:pointer>\n",
       "\t\t<strong>Levels</strong>:\n",
       "\t</summary>\n",
       "\t<style>\n",
       "\t.list-inline {list-style: none; margin:0; padding: 0}\n",
       "\t.list-inline>li {display: inline-block}\n",
       "\t.list-inline>li:not(:last-child)::after {content: \"\\00b7\"; padding: 0 .5ex}\n",
       "\t</style>\n",
       "\t<ol class=list-inline><li>'Germany'</li><li>'Italy'</li><li>'Norway'</li></ol>\n",
       "</details>"
      ],
      "text/latex": [
       "\\begin{enumerate*}\n",
       "\\item Norway\n",
       "\\item Norway\n",
       "\\item Germany\n",
       "\\item Germany\n",
       "\\item Italy\n",
       "\\item Italy\n",
       "\\end{enumerate*}\n",
       "\n",
       "\\emph{Levels}: \\begin{enumerate*}\n",
       "\\item 'Germany'\n",
       "\\item 'Italy'\n",
       "\\item 'Norway'\n",
       "\\end{enumerate*}\n"
      ],
      "text/markdown": [
       "1. Norway\n",
       "2. Norway\n",
       "3. Germany\n",
       "4. Germany\n",
       "5. Italy\n",
       "6. Italy\n",
       "\n",
       "\n",
       "\n",
       "**Levels**: 1. 'Germany'\n",
       "2. 'Italy'\n",
       "3. 'Norway'\n",
       "\n",
       "\n"
      ],
      "text/plain": [
       "[1] Norway  Norway  Germany Germany Italy   Italy  \n",
       "Levels: Germany Italy Norway"
      ]
     },
     "metadata": {},
     "output_type": "display_data"
    },
    {
     "data": {
      "text/html": [
       "<style>\n",
       ".list-inline {list-style: none; margin:0; padding: 0}\n",
       ".list-inline>li {display: inline-block}\n",
       ".list-inline>li:not(:last-child)::after {content: \"\\00b7\"; padding: 0 .5ex}\n",
       "</style>\n",
       "<ol class=list-inline><li>TRUE</li><li>FALSE</li><li>FALSE</li><li>TRUE</li><li>TRUE</li><li>FALSE</li></ol>\n"
      ],
      "text/latex": [
       "\\begin{enumerate*}\n",
       "\\item TRUE\n",
       "\\item FALSE\n",
       "\\item FALSE\n",
       "\\item TRUE\n",
       "\\item TRUE\n",
       "\\item FALSE\n",
       "\\end{enumerate*}\n"
      ],
      "text/markdown": [
       "1. TRUE\n",
       "2. FALSE\n",
       "3. FALSE\n",
       "4. TRUE\n",
       "5. TRUE\n",
       "6. FALSE\n",
       "\n",
       "\n"
      ],
      "text/plain": [
       "[1]  TRUE FALSE FALSE  TRUE  TRUE FALSE"
      ]
     },
     "metadata": {},
     "output_type": "display_data"
    },
    {
     "data": {
      "text/html": [
       "<style>\n",
       ".list-inline {list-style: none; margin:0; padding: 0}\n",
       ".list-inline>li {display: inline-block}\n",
       ".list-inline>li:not(:last-child)::after {content: \"\\00b7\"; padding: 0 .5ex}\n",
       "</style>\n",
       "<ol class=list-inline><li>'Oslo'</li><li>'Bergen'</li><li>'Munich'</li><li>'Berlin'</li><li>'Rome'</li><li>'Milan'</li><li>'Oslo'</li><li>'Bergen'</li><li>'Munich'</li><li>'Berlin'</li><li>'Rome'</li><li>'Milan'</li></ol>\n"
      ],
      "text/latex": [
       "\\begin{enumerate*}\n",
       "\\item 'Oslo'\n",
       "\\item 'Bergen'\n",
       "\\item 'Munich'\n",
       "\\item 'Berlin'\n",
       "\\item 'Rome'\n",
       "\\item 'Milan'\n",
       "\\item 'Oslo'\n",
       "\\item 'Bergen'\n",
       "\\item 'Munich'\n",
       "\\item 'Berlin'\n",
       "\\item 'Rome'\n",
       "\\item 'Milan'\n",
       "\\end{enumerate*}\n"
      ],
      "text/markdown": [
       "1. 'Oslo'\n",
       "2. 'Bergen'\n",
       "3. 'Munich'\n",
       "4. 'Berlin'\n",
       "5. 'Rome'\n",
       "6. 'Milan'\n",
       "7. 'Oslo'\n",
       "8. 'Bergen'\n",
       "9. 'Munich'\n",
       "10. 'Berlin'\n",
       "11. 'Rome'\n",
       "12. 'Milan'\n",
       "\n",
       "\n"
      ],
      "text/plain": [
       " [1] \"Oslo\"   \"Bergen\" \"Munich\" \"Berlin\" \"Rome\"   \"Milan\"  \"Oslo\"   \"Bergen\"\n",
       " [9] \"Munich\" \"Berlin\" \"Rome\"   \"Milan\" "
      ]
     },
     "metadata": {},
     "output_type": "display_data"
    },
    {
     "data": {
      "text/html": [
       "<style>\n",
       ".list-inline {list-style: none; margin:0; padding: 0}\n",
       ".list-inline>li {display: inline-block}\n",
       ".list-inline>li:not(:last-child)::after {content: \"\\00b7\"; padding: 0 .5ex}\n",
       "</style>\n",
       "<ol class=list-inline><li>0.58</li><li>0.25</li><li>1.3</li><li>3.4</li><li>2.7</li><li>1.3</li><li>2009</li></ol>\n"
      ],
      "text/latex": [
       "\\begin{enumerate*}\n",
       "\\item 0.58\n",
       "\\item 0.25\n",
       "\\item 1.3\n",
       "\\item 3.4\n",
       "\\item 2.7\n",
       "\\item 1.3\n",
       "\\item 2009\n",
       "\\end{enumerate*}\n"
      ],
      "text/markdown": [
       "1. 0.58\n",
       "2. 0.25\n",
       "3. 1.3\n",
       "4. 3.4\n",
       "5. 2.7\n",
       "6. 1.3\n",
       "7. 2009\n",
       "\n",
       "\n"
      ],
      "text/plain": [
       "[1]    0.58    0.25    1.30    3.40    2.70    1.30 2009.00"
      ]
     },
     "metadata": {},
     "output_type": "display_data"
    },
    {
     "data": {
      "text/plain": [
       "   Length     Class      Mode \n",
       "        6 character character "
      ]
     },
     "metadata": {},
     "output_type": "display_data"
    },
    {
     "data": {
      "text/plain": [
       "   Min. 1st Qu.  Median    Mean 3rd Qu.    Max. \n",
       "  0.250   0.760   1.300   1.588   2.350   3.400 "
      ]
     },
     "metadata": {},
     "output_type": "display_data"
    },
    {
     "data": {
      "text/html": [
       "<style>\n",
       ".dl-inline {width: auto; margin:0; padding: 0}\n",
       ".dl-inline>dt, .dl-inline>dd {float: none; width: auto; display: inline-block}\n",
       ".dl-inline>dt::after {content: \":\\0020\"; padding-right: .5ex}\n",
       ".dl-inline>dt:not(:first-of-type) {padding-left: .5ex}\n",
       "</style><dl class=dl-inline><dt>Germany</dt><dd>2</dd><dt>Italy</dt><dd>2</dd><dt>Norway</dt><dd>2</dd></dl>\n"
      ],
      "text/latex": [
       "\\begin{description*}\n",
       "\\item[Germany] 2\n",
       "\\item[Italy] 2\n",
       "\\item[Norway] 2\n",
       "\\end{description*}\n"
      ],
      "text/markdown": [
       "Germany\n",
       ":   2Italy\n",
       ":   2Norway\n",
       ":   2\n",
       "\n"
      ],
      "text/plain": [
       "Germany   Italy  Norway \n",
       "      2       2       2 "
      ]
     },
     "metadata": {},
     "output_type": "display_data"
    },
    {
     "data": {
      "text/plain": [
       "   Mode   FALSE    TRUE \n",
       "logical       3       3 "
      ]
     },
     "metadata": {},
     "output_type": "display_data"
    },
    {
     "data": {
      "text/html": [
       "FALSE"
      ],
      "text/latex": [
       "FALSE"
      ],
      "text/markdown": [
       "FALSE"
      ],
      "text/plain": [
       "[1] FALSE"
      ]
     },
     "metadata": {},
     "output_type": "display_data"
    },
    {
     "data": {
      "text/html": [
       "TRUE"
      ],
      "text/latex": [
       "TRUE"
      ],
      "text/markdown": [
       "TRUE"
      ],
      "text/plain": [
       "[1] TRUE"
      ]
     },
     "metadata": {},
     "output_type": "display_data"
    },
    {
     "data": {
      "text/html": [
       "FALSE"
      ],
      "text/latex": [
       "FALSE"
      ],
      "text/markdown": [
       "FALSE"
      ],
      "text/plain": [
       "[1] FALSE"
      ]
     },
     "metadata": {},
     "output_type": "display_data"
    },
    {
     "data": {
      "text/html": [
       "'character'"
      ],
      "text/latex": [
       "'character'"
      ],
      "text/markdown": [
       "'character'"
      ],
      "text/plain": [
       "[1] \"character\""
      ]
     },
     "metadata": {},
     "output_type": "display_data"
    },
    {
     "data": {
      "text/html": [
       "'numeric'"
      ],
      "text/latex": [
       "'numeric'"
      ],
      "text/markdown": [
       "'numeric'"
      ],
      "text/plain": [
       "[1] \"numeric\""
      ]
     },
     "metadata": {},
     "output_type": "display_data"
    },
    {
     "data": {
      "text/html": [
       "'factor'"
      ],
      "text/latex": [
       "'factor'"
      ],
      "text/markdown": [
       "'factor'"
      ],
      "text/plain": [
       "[1] \"factor\""
      ]
     },
     "metadata": {},
     "output_type": "display_data"
    },
    {
     "data": {
      "text/html": [
       "'logical'"
      ],
      "text/latex": [
       "'logical'"
      ],
      "text/markdown": [
       "'logical'"
      ],
      "text/plain": [
       "[1] \"logical\""
      ]
     },
     "metadata": {},
     "output_type": "display_data"
    },
    {
     "data": {
      "text/html": [
       "6"
      ],
      "text/latex": [
       "6"
      ],
      "text/markdown": [
       "6"
      ],
      "text/plain": [
       "[1] 6"
      ]
     },
     "metadata": {},
     "output_type": "display_data"
    }
   ],
   "source": [
    "# I: Data Types #\n",
    "\n",
    "city       = c(\"Oslo\", \"Bergen\", \"Munich\", \"Berlin\", \"Rome\", \"Milan\")\n",
    "population = c(0.58, 0.25, 1.3, 3.4, 2.7, 1.3)\n",
    "country    = factor( c(\"Norway\" , \"Norway\", \"Germany\",\n",
    "                       \"Germany\", \"Italy\", \"Italy\"   ))\n",
    "capital    = c(TRUE, FALSE, FALSE, TRUE, TRUE, FALSE)\n",
    "updated    = 2009\n",
    "\n",
    "city\n",
    "population\n",
    "country\n",
    "capital\n",
    "\n",
    "c(city, city)\n",
    "c(population, updated)\n",
    "\n",
    "summary (city)\n",
    "summary (population)\n",
    "summary (country)\n",
    "summary (capital)\n",
    "\n",
    "is.numeric(city)\n",
    "is.character(city)\n",
    "is.factor(city)\n",
    "\n",
    "class (city)\n",
    "class (population)\n",
    "class (country)\n",
    "class (capital)\n",
    "\n",
    "length(city)"
   ]
  },
  {
   "cell_type": "code",
   "execution_count": 23,
   "id": "80815628-8188-48b5-810b-8edb8334c97d",
   "metadata": {
    "kernel": "R"
   },
   "outputs": [
    {
     "data": {
      "text/html": [
       "<style>\n",
       ".dl-inline {width: auto; margin:0; padding: 0}\n",
       ".dl-inline>dt, .dl-inline>dd {float: none; width: auto; display: inline-block}\n",
       ".dl-inline>dt::after {content: \":\\0020\"; padding-right: .5ex}\n",
       ".dl-inline>dt:not(:first-of-type) {padding-left: .5ex}\n",
       "</style><dl class=dl-inline><dt>Oslo</dt><dd>0.58</dd><dt>Bergen</dt><dd>0.25</dd><dt>Munich</dt><dd>1.3</dd><dt>Berlin</dt><dd>3.4</dd><dt>Rome</dt><dd>2.7</dd><dt>Milan</dt><dd>1.3</dd></dl>\n"
      ],
      "text/latex": [
       "\\begin{description*}\n",
       "\\item[Oslo] 0.58\n",
       "\\item[Bergen] 0.25\n",
       "\\item[Munich] 1.3\n",
       "\\item[Berlin] 3.4\n",
       "\\item[Rome] 2.7\n",
       "\\item[Milan] 1.3\n",
       "\\end{description*}\n"
      ],
      "text/markdown": [
       "Oslo\n",
       ":   0.58Bergen\n",
       ":   0.25Munich\n",
       ":   1.3Berlin\n",
       ":   3.4Rome\n",
       ":   2.7Milan\n",
       ":   1.3\n",
       "\n"
      ],
      "text/plain": [
       "  Oslo Bergen Munich Berlin   Rome  Milan \n",
       "  0.58   0.25   1.30   3.40   2.70   1.30 "
      ]
     },
     "metadata": {},
     "output_type": "display_data"
    },
    {
     "data": {
      "text/html": [
       "'Munich'"
      ],
      "text/latex": [
       "'Munich'"
      ],
      "text/markdown": [
       "'Munich'"
      ],
      "text/plain": [
       "[1] \"Munich\""
      ]
     },
     "metadata": {},
     "output_type": "display_data"
    },
    {
     "data": {
      "text/html": [
       "<style>\n",
       ".list-inline {list-style: none; margin:0; padding: 0}\n",
       ".list-inline>li {display: inline-block}\n",
       ".list-inline>li:not(:last-child)::after {content: \"\\00b7\"; padding: 0 .5ex}\n",
       "</style>\n",
       "<ol class=list-inline><li>'Bergen'</li><li>'Munich'</li><li>'Berlin'</li></ol>\n"
      ],
      "text/latex": [
       "\\begin{enumerate*}\n",
       "\\item 'Bergen'\n",
       "\\item 'Munich'\n",
       "\\item 'Berlin'\n",
       "\\end{enumerate*}\n"
      ],
      "text/markdown": [
       "1. 'Bergen'\n",
       "2. 'Munich'\n",
       "3. 'Berlin'\n",
       "\n",
       "\n"
      ],
      "text/plain": [
       "[1] \"Bergen\" \"Munich\" \"Berlin\""
      ]
     },
     "metadata": {},
     "output_type": "display_data"
    },
    {
     "data": {
      "text/html": [
       "<style>\n",
       ".list-inline {list-style: none; margin:0; padding: 0}\n",
       ".list-inline>li {display: inline-block}\n",
       ".list-inline>li:not(:last-child)::after {content: \"\\00b7\"; padding: 0 .5ex}\n",
       "</style>\n",
       "<ol class=list-inline><li>'Oslo'</li><li>'Rome'</li><li>'Milan'</li></ol>\n"
      ],
      "text/latex": [
       "\\begin{enumerate*}\n",
       "\\item 'Oslo'\n",
       "\\item 'Rome'\n",
       "\\item 'Milan'\n",
       "\\end{enumerate*}\n"
      ],
      "text/markdown": [
       "1. 'Oslo'\n",
       "2. 'Rome'\n",
       "3. 'Milan'\n",
       "\n",
       "\n"
      ],
      "text/plain": [
       "[1] \"Oslo\"  \"Rome\"  \"Milan\""
      ]
     },
     "metadata": {},
     "output_type": "display_data"
    },
    {
     "data": {
      "text/html": [
       "<strong>Munich:</strong> 1.3"
      ],
      "text/latex": [
       "\\textbf{Munich:} 1.3"
      ],
      "text/markdown": [
       "**Munich:** 1.3"
      ],
      "text/plain": [
       "Munich \n",
       "   1.3 "
      ]
     },
     "metadata": {},
     "output_type": "display_data"
    },
    {
     "data": {
      "text/html": [
       "<strong>Oslo:</strong> 0.58"
      ],
      "text/latex": [
       "\\textbf{Oslo:} 0.58"
      ],
      "text/markdown": [
       "**Oslo:** 0.58"
      ],
      "text/plain": [
       "Oslo \n",
       "0.58 "
      ]
     },
     "metadata": {},
     "output_type": "display_data"
    },
    {
     "data": {
      "text/html": [
       "<style>\n",
       ".dl-inline {width: auto; margin:0; padding: 0}\n",
       ".dl-inline>dt, .dl-inline>dd {float: none; width: auto; display: inline-block}\n",
       ".dl-inline>dt::after {content: \":\\0020\"; padding-right: .5ex}\n",
       ".dl-inline>dt:not(:first-of-type) {padding-left: .5ex}\n",
       "</style><dl class=dl-inline><dt>Berlin</dt><dd>3.4</dd><dt>Rome</dt><dd>2.7</dd></dl>\n"
      ],
      "text/latex": [
       "\\begin{description*}\n",
       "\\item[Berlin] 3.4\n",
       "\\item[Rome] 2.7\n",
       "\\end{description*}\n"
      ],
      "text/markdown": [
       "Berlin\n",
       ":   3.4Rome\n",
       ":   2.7\n",
       "\n"
      ],
      "text/plain": [
       "Berlin   Rome \n",
       "   3.4    2.7 "
      ]
     },
     "metadata": {},
     "output_type": "display_data"
    },
    {
     "data": {
      "text/html": [
       "<style>\n",
       ".dl-inline {width: auto; margin:0; padding: 0}\n",
       ".dl-inline>dt, .dl-inline>dd {float: none; width: auto; display: inline-block}\n",
       ".dl-inline>dt::after {content: \":\\0020\"; padding-right: .5ex}\n",
       ".dl-inline>dt:not(:first-of-type) {padding-left: .5ex}\n",
       "</style><dl class=dl-inline><dt>Oslo</dt><dd>0.58</dd><dt>Bergen</dt><dd>0.25</dd><dt>Munich</dt><dd>1.3</dd><dt>Berlin</dt><dd>3.4</dd><dt>Rome</dt><dd>2.7</dd><dt>Milan</dt><dd>1.3</dd></dl>\n"
      ],
      "text/latex": [
       "\\begin{description*}\n",
       "\\item[Oslo] 0.58\n",
       "\\item[Bergen] 0.25\n",
       "\\item[Munich] 1.3\n",
       "\\item[Berlin] 3.4\n",
       "\\item[Rome] 2.7\n",
       "\\item[Milan] 1.3\n",
       "\\end{description*}\n"
      ],
      "text/markdown": [
       "Oslo\n",
       ":   0.58Bergen\n",
       ":   0.25Munich\n",
       ":   1.3Berlin\n",
       ":   3.4Rome\n",
       ":   2.7Milan\n",
       ":   1.3\n",
       "\n"
      ],
      "text/plain": [
       "  Oslo Bergen Munich Berlin   Rome  Milan \n",
       "  0.58   0.25   1.30   3.40   2.70   1.30 "
      ]
     },
     "metadata": {},
     "output_type": "display_data"
    },
    {
     "data": {
      "text/html": [
       "<style>\n",
       ".list-inline {list-style: none; margin:0; padding: 0}\n",
       ".list-inline>li {display: inline-block}\n",
       ".list-inline>li:not(:last-child)::after {content: \"\\00b7\"; padding: 0 .5ex}\n",
       "</style>\n",
       "<ol class=list-inline><li>TRUE</li><li>FALSE</li><li>FALSE</li><li>TRUE</li><li>TRUE</li><li>FALSE</li></ol>\n"
      ],
      "text/latex": [
       "\\begin{enumerate*}\n",
       "\\item TRUE\n",
       "\\item FALSE\n",
       "\\item FALSE\n",
       "\\item TRUE\n",
       "\\item TRUE\n",
       "\\item FALSE\n",
       "\\end{enumerate*}\n"
      ],
      "text/markdown": [
       "1. TRUE\n",
       "2. FALSE\n",
       "3. FALSE\n",
       "4. TRUE\n",
       "5. TRUE\n",
       "6. FALSE\n",
       "\n",
       "\n"
      ],
      "text/plain": [
       "[1]  TRUE FALSE FALSE  TRUE  TRUE FALSE"
      ]
     },
     "metadata": {},
     "output_type": "display_data"
    },
    {
     "data": {
      "text/html": [
       "<style>\n",
       ".dl-inline {width: auto; margin:0; padding: 0}\n",
       ".dl-inline>dt, .dl-inline>dd {float: none; width: auto; display: inline-block}\n",
       ".dl-inline>dt::after {content: \":\\0020\"; padding-right: .5ex}\n",
       ".dl-inline>dt:not(:first-of-type) {padding-left: .5ex}\n",
       "</style><dl class=dl-inline><dt>Oslo</dt><dd>0.58</dd><dt>Berlin</dt><dd>3.4</dd><dt>Rome</dt><dd>2.7</dd></dl>\n"
      ],
      "text/latex": [
       "\\begin{description*}\n",
       "\\item[Oslo] 0.58\n",
       "\\item[Berlin] 3.4\n",
       "\\item[Rome] 2.7\n",
       "\\end{description*}\n"
      ],
      "text/markdown": [
       "Oslo\n",
       ":   0.58Berlin\n",
       ":   3.4Rome\n",
       ":   2.7\n",
       "\n"
      ],
      "text/plain": [
       "  Oslo Berlin   Rome \n",
       "  0.58   3.40   2.70 "
      ]
     },
     "metadata": {},
     "output_type": "display_data"
    },
    {
     "data": {
      "text/html": [
       "<style>\n",
       ".dl-inline {width: auto; margin:0; padding: 0}\n",
       ".dl-inline>dt, .dl-inline>dd {float: none; width: auto; display: inline-block}\n",
       ".dl-inline>dt::after {content: \":\\0020\"; padding-right: .5ex}\n",
       ".dl-inline>dt:not(:first-of-type) {padding-left: .5ex}\n",
       "</style><dl class=dl-inline><dt>Oslo</dt><dd>FALSE</dd><dt>Bergen</dt><dd>FALSE</dd><dt>Munich</dt><dd>TRUE</dd><dt>Berlin</dt><dd>TRUE</dd><dt>Rome</dt><dd>TRUE</dd><dt>Milan</dt><dd>TRUE</dd></dl>\n"
      ],
      "text/latex": [
       "\\begin{description*}\n",
       "\\item[Oslo] FALSE\n",
       "\\item[Bergen] FALSE\n",
       "\\item[Munich] TRUE\n",
       "\\item[Berlin] TRUE\n",
       "\\item[Rome] TRUE\n",
       "\\item[Milan] TRUE\n",
       "\\end{description*}\n"
      ],
      "text/markdown": [
       "Oslo\n",
       ":   FALSEBergen\n",
       ":   FALSEMunich\n",
       ":   TRUEBerlin\n",
       ":   TRUERome\n",
       ":   TRUEMilan\n",
       ":   TRUE\n",
       "\n"
      ],
      "text/plain": [
       "  Oslo Bergen Munich Berlin   Rome  Milan \n",
       " FALSE  FALSE   TRUE   TRUE   TRUE   TRUE "
      ]
     },
     "metadata": {},
     "output_type": "display_data"
    },
    {
     "data": {
      "text/html": [
       "<style>\n",
       ".dl-inline {width: auto; margin:0; padding: 0}\n",
       ".dl-inline>dt, .dl-inline>dd {float: none; width: auto; display: inline-block}\n",
       ".dl-inline>dt::after {content: \":\\0020\"; padding-right: .5ex}\n",
       ".dl-inline>dt:not(:first-of-type) {padding-left: .5ex}\n",
       "</style><dl class=dl-inline><dt>Munich</dt><dd>1.3</dd><dt>Berlin</dt><dd>3.4</dd><dt>Rome</dt><dd>2.7</dd><dt>Milan</dt><dd>1.3</dd></dl>\n"
      ],
      "text/latex": [
       "\\begin{description*}\n",
       "\\item[Munich] 1.3\n",
       "\\item[Berlin] 3.4\n",
       "\\item[Rome] 2.7\n",
       "\\item[Milan] 1.3\n",
       "\\end{description*}\n"
      ],
      "text/markdown": [
       "Munich\n",
       ":   1.3Berlin\n",
       ":   3.4Rome\n",
       ":   2.7Milan\n",
       ":   1.3\n",
       "\n"
      ],
      "text/plain": [
       "Munich Berlin   Rome  Milan \n",
       "   1.3    3.4    2.7    1.3 "
      ]
     },
     "metadata": {},
     "output_type": "display_data"
    }
   ],
   "source": [
    "# II: Names & Indexes #\n",
    "\n",
    "names(population) = city\n",
    "population\n",
    "\n",
    "city [3]\n",
    "city [2:4]\n",
    "city[c(1,5:6)]\n",
    "population[3]\n",
    "\n",
    "population[\"Oslo\"]\n",
    "population[c(\"Berlin\",\"Rome\")]\n",
    "\n",
    "population\n",
    "capital\n",
    "population[capital]\n",
    "\n",
    "population>=1.0\n",
    "population[population>=1.0]"
   ]
  },
  {
   "cell_type": "code",
   "execution_count": 24,
   "id": "b1f7f0bc-4688-4f81-98a0-de6f4ae83369",
   "metadata": {
    "kernel": "R"
   },
   "outputs": [
    {
     "data": {
      "text/html": [
       "<table class=\"dataframe\">\n",
       "<caption>A data.frame: 6 × 4</caption>\n",
       "<thead>\n",
       "\t<tr><th></th><th scope=col>city</th><th scope=col>pop</th><th scope=col>country</th><th scope=col>capital</th></tr>\n",
       "\t<tr><th></th><th scope=col>&lt;chr&gt;</th><th scope=col>&lt;dbl&gt;</th><th scope=col>&lt;fct&gt;</th><th scope=col>&lt;lgl&gt;</th></tr>\n",
       "</thead>\n",
       "<tbody>\n",
       "\t<tr><th scope=row>Oslo</th><td>Oslo  </td><td>0.58</td><td>Norway </td><td> TRUE</td></tr>\n",
       "\t<tr><th scope=row>Bergen</th><td>Bergen</td><td>0.25</td><td>Norway </td><td>FALSE</td></tr>\n",
       "\t<tr><th scope=row>Munich</th><td>Munich</td><td>1.30</td><td>Germany</td><td>FALSE</td></tr>\n",
       "\t<tr><th scope=row>Berlin</th><td>Berlin</td><td>3.40</td><td>Germany</td><td> TRUE</td></tr>\n",
       "\t<tr><th scope=row>Rome</th><td>Rome  </td><td>2.70</td><td>Italy  </td><td> TRUE</td></tr>\n",
       "\t<tr><th scope=row>Milan</th><td>Milan </td><td>1.30</td><td>Italy  </td><td>FALSE</td></tr>\n",
       "</tbody>\n",
       "</table>\n"
      ],
      "text/latex": [
       "A data.frame: 6 × 4\n",
       "\\begin{tabular}{r|llll}\n",
       "  & city & pop & country & capital\\\\\n",
       "  & <chr> & <dbl> & <fct> & <lgl>\\\\\n",
       "\\hline\n",
       "\tOslo & Oslo   & 0.58 & Norway  &  TRUE\\\\\n",
       "\tBergen & Bergen & 0.25 & Norway  & FALSE\\\\\n",
       "\tMunich & Munich & 1.30 & Germany & FALSE\\\\\n",
       "\tBerlin & Berlin & 3.40 & Germany &  TRUE\\\\\n",
       "\tRome & Rome   & 2.70 & Italy   &  TRUE\\\\\n",
       "\tMilan & Milan  & 1.30 & Italy   & FALSE\\\\\n",
       "\\end{tabular}\n"
      ],
      "text/markdown": [
       "\n",
       "A data.frame: 6 × 4\n",
       "\n",
       "| <!--/--> | city &lt;chr&gt; | pop &lt;dbl&gt; | country &lt;fct&gt; | capital &lt;lgl&gt; |\n",
       "|---|---|---|---|---|\n",
       "| Oslo | Oslo   | 0.58 | Norway  |  TRUE |\n",
       "| Bergen | Bergen | 0.25 | Norway  | FALSE |\n",
       "| Munich | Munich | 1.30 | Germany | FALSE |\n",
       "| Berlin | Berlin | 3.40 | Germany |  TRUE |\n",
       "| Rome | Rome   | 2.70 | Italy   |  TRUE |\n",
       "| Milan | Milan  | 1.30 | Italy   | FALSE |\n",
       "\n"
      ],
      "text/plain": [
       "       city   pop  country capital\n",
       "Oslo   Oslo   0.58 Norway   TRUE  \n",
       "Bergen Bergen 0.25 Norway  FALSE  \n",
       "Munich Munich 1.30 Germany FALSE  \n",
       "Berlin Berlin 3.40 Germany  TRUE  \n",
       "Rome   Rome   2.70 Italy    TRUE  \n",
       "Milan  Milan  1.30 Italy   FALSE  "
      ]
     },
     "metadata": {},
     "output_type": "display_data"
    },
    {
     "data": {
      "text/html": [
       "4"
      ],
      "text/latex": [
       "4"
      ],
      "text/markdown": [
       "4"
      ],
      "text/plain": [
       "[1] 4"
      ]
     },
     "metadata": {},
     "output_type": "display_data"
    },
    {
     "data": {
      "text/html": [
       "<style>\n",
       ".list-inline {list-style: none; margin:0; padding: 0}\n",
       ".list-inline>li {display: inline-block}\n",
       ".list-inline>li:not(:last-child)::after {content: \"\\00b7\"; padding: 0 .5ex}\n",
       "</style>\n",
       "<ol class=list-inline><li>6</li><li>4</li></ol>\n"
      ],
      "text/latex": [
       "\\begin{enumerate*}\n",
       "\\item 6\n",
       "\\item 4\n",
       "\\end{enumerate*}\n"
      ],
      "text/markdown": [
       "1. 6\n",
       "2. 4\n",
       "\n",
       "\n"
      ],
      "text/plain": [
       "[1] 6 4"
      ]
     },
     "metadata": {},
     "output_type": "display_data"
    },
    {
     "data": {
      "text/html": [
       "TRUE"
      ],
      "text/latex": [
       "TRUE"
      ],
      "text/markdown": [
       "TRUE"
      ],
      "text/plain": [
       "[1] TRUE"
      ]
     },
     "metadata": {},
     "output_type": "display_data"
    },
    {
     "data": {
      "text/html": [
       "TRUE"
      ],
      "text/latex": [
       "TRUE"
      ],
      "text/markdown": [
       "TRUE"
      ],
      "text/plain": [
       "[1] TRUE"
      ]
     },
     "metadata": {},
     "output_type": "display_data"
    },
    {
     "data": {
      "text/html": [
       "<style>\n",
       ".list-inline {list-style: none; margin:0; padding: 0}\n",
       ".list-inline>li {display: inline-block}\n",
       ".list-inline>li:not(:last-child)::after {content: \"\\00b7\"; padding: 0 .5ex}\n",
       "</style>\n",
       "<ol class=list-inline><li>'city'</li><li>'pop'</li><li>'country'</li><li>'capital'</li></ol>\n"
      ],
      "text/latex": [
       "\\begin{enumerate*}\n",
       "\\item 'city'\n",
       "\\item 'pop'\n",
       "\\item 'country'\n",
       "\\item 'capital'\n",
       "\\end{enumerate*}\n"
      ],
      "text/markdown": [
       "1. 'city'\n",
       "2. 'pop'\n",
       "3. 'country'\n",
       "4. 'capital'\n",
       "\n",
       "\n"
      ],
      "text/plain": [
       "[1] \"city\"    \"pop\"     \"country\" \"capital\""
      ]
     },
     "metadata": {},
     "output_type": "display_data"
    },
    {
     "data": {
      "text/html": [
       "<style>\n",
       ".list-inline {list-style: none; margin:0; padding: 0}\n",
       ".list-inline>li {display: inline-block}\n",
       ".list-inline>li:not(:last-child)::after {content: \"\\00b7\"; padding: 0 .5ex}\n",
       "</style>\n",
       "<ol class=list-inline><li>'Oslo'</li><li>'Bergen'</li><li>'Munich'</li><li>'Berlin'</li><li>'Rome'</li><li>'Milan'</li></ol>\n"
      ],
      "text/latex": [
       "\\begin{enumerate*}\n",
       "\\item 'Oslo'\n",
       "\\item 'Bergen'\n",
       "\\item 'Munich'\n",
       "\\item 'Berlin'\n",
       "\\item 'Rome'\n",
       "\\item 'Milan'\n",
       "\\end{enumerate*}\n"
      ],
      "text/markdown": [
       "1. 'Oslo'\n",
       "2. 'Bergen'\n",
       "3. 'Munich'\n",
       "4. 'Berlin'\n",
       "5. 'Rome'\n",
       "6. 'Milan'\n",
       "\n",
       "\n"
      ],
      "text/plain": [
       "[1] \"Oslo\"   \"Bergen\" \"Munich\" \"Berlin\" \"Rome\"   \"Milan\" "
      ]
     },
     "metadata": {},
     "output_type": "display_data"
    },
    {
     "data": {
      "text/html": [
       "<style>\n",
       ".list-inline {list-style: none; margin:0; padding: 0}\n",
       ".list-inline>li {display: inline-block}\n",
       ".list-inline>li:not(:last-child)::after {content: \"\\00b7\"; padding: 0 .5ex}\n",
       "</style>\n",
       "<ol class=list-inline><li>'Oslo'</li><li>'Bergen'</li><li>'Munich'</li><li>'Berlin'</li><li>'Rome'</li><li>'Milan'</li></ol>\n"
      ],
      "text/latex": [
       "\\begin{enumerate*}\n",
       "\\item 'Oslo'\n",
       "\\item 'Bergen'\n",
       "\\item 'Munich'\n",
       "\\item 'Berlin'\n",
       "\\item 'Rome'\n",
       "\\item 'Milan'\n",
       "\\end{enumerate*}\n"
      ],
      "text/markdown": [
       "1. 'Oslo'\n",
       "2. 'Bergen'\n",
       "3. 'Munich'\n",
       "4. 'Berlin'\n",
       "5. 'Rome'\n",
       "6. 'Milan'\n",
       "\n",
       "\n"
      ],
      "text/plain": [
       "[1] \"Oslo\"   \"Bergen\" \"Munich\" \"Berlin\" \"Rome\"   \"Milan\" "
      ]
     },
     "metadata": {},
     "output_type": "display_data"
    },
    {
     "data": {
      "text/html": [
       "<style>\n",
       ".list-inline {list-style: none; margin:0; padding: 0}\n",
       ".list-inline>li {display: inline-block}\n",
       ".list-inline>li:not(:last-child)::after {content: \"\\00b7\"; padding: 0 .5ex}\n",
       "</style>\n",
       "<ol class=list-inline><li>'Oslo'</li><li>'Bergen'</li><li>'Munich'</li><li>'Berlin'</li><li>'Rome'</li><li>'Milan'</li></ol>\n"
      ],
      "text/latex": [
       "\\begin{enumerate*}\n",
       "\\item 'Oslo'\n",
       "\\item 'Bergen'\n",
       "\\item 'Munich'\n",
       "\\item 'Berlin'\n",
       "\\item 'Rome'\n",
       "\\item 'Milan'\n",
       "\\end{enumerate*}\n"
      ],
      "text/markdown": [
       "1. 'Oslo'\n",
       "2. 'Bergen'\n",
       "3. 'Munich'\n",
       "4. 'Berlin'\n",
       "5. 'Rome'\n",
       "6. 'Milan'\n",
       "\n",
       "\n"
      ],
      "text/plain": [
       "[1] \"Oslo\"   \"Bergen\" \"Munich\" \"Berlin\" \"Rome\"   \"Milan\" "
      ]
     },
     "metadata": {},
     "output_type": "display_data"
    },
    {
     "data": {
      "text/html": [
       "<table class=\"dataframe\">\n",
       "<caption>A data.frame: 1 × 4</caption>\n",
       "<thead>\n",
       "\t<tr><th></th><th scope=col>city</th><th scope=col>pop</th><th scope=col>country</th><th scope=col>capital</th></tr>\n",
       "\t<tr><th></th><th scope=col>&lt;chr&gt;</th><th scope=col>&lt;dbl&gt;</th><th scope=col>&lt;fct&gt;</th><th scope=col>&lt;lgl&gt;</th></tr>\n",
       "</thead>\n",
       "<tbody>\n",
       "\t<tr><th scope=row>Bergen</th><td>Bergen</td><td>0.25</td><td>Norway</td><td>FALSE</td></tr>\n",
       "</tbody>\n",
       "</table>\n"
      ],
      "text/latex": [
       "A data.frame: 1 × 4\n",
       "\\begin{tabular}{r|llll}\n",
       "  & city & pop & country & capital\\\\\n",
       "  & <chr> & <dbl> & <fct> & <lgl>\\\\\n",
       "\\hline\n",
       "\tBergen & Bergen & 0.25 & Norway & FALSE\\\\\n",
       "\\end{tabular}\n"
      ],
      "text/markdown": [
       "\n",
       "A data.frame: 1 × 4\n",
       "\n",
       "| <!--/--> | city &lt;chr&gt; | pop &lt;dbl&gt; | country &lt;fct&gt; | capital &lt;lgl&gt; |\n",
       "|---|---|---|---|---|\n",
       "| Bergen | Bergen | 0.25 | Norway | FALSE |\n",
       "\n"
      ],
      "text/plain": [
       "       city   pop  country capital\n",
       "Bergen Bergen 0.25 Norway  FALSE  "
      ]
     },
     "metadata": {},
     "output_type": "display_data"
    },
    {
     "data": {
      "text/html": [
       "Norway\n",
       "<details>\n",
       "\t<summary style=display:list-item;cursor:pointer>\n",
       "\t\t<strong>Levels</strong>:\n",
       "\t</summary>\n",
       "\t<style>\n",
       "\t.list-inline {list-style: none; margin:0; padding: 0}\n",
       "\t.list-inline>li {display: inline-block}\n",
       "\t.list-inline>li:not(:last-child)::after {content: \"\\00b7\"; padding: 0 .5ex}\n",
       "\t</style>\n",
       "\t<ol class=list-inline><li>'Germany'</li><li>'Italy'</li><li>'Norway'</li></ol>\n",
       "</details>"
      ],
      "text/latex": [
       "Norway\n",
       "\\emph{Levels}: \\begin{enumerate*}\n",
       "\\item 'Germany'\n",
       "\\item 'Italy'\n",
       "\\item 'Norway'\n",
       "\\end{enumerate*}\n"
      ],
      "text/markdown": [
       "Norway\n",
       "**Levels**: 1. 'Germany'\n",
       "2. 'Italy'\n",
       "3. 'Norway'\n",
       "\n",
       "\n"
      ],
      "text/plain": [
       "[1] Norway\n",
       "Levels: Germany Italy Norway"
      ]
     },
     "metadata": {},
     "output_type": "display_data"
    },
    {
     "data": {
      "text/html": [
       "1.3"
      ],
      "text/latex": [
       "1.3"
      ],
      "text/markdown": [
       "1.3"
      ],
      "text/plain": [
       "[1] 1.3"
      ]
     },
     "metadata": {},
     "output_type": "display_data"
    },
    {
     "data": {
      "text/html": [
       "<table class=\"dataframe\">\n",
       "<caption>A data.frame: 3 × 4</caption>\n",
       "<thead>\n",
       "\t<tr><th></th><th scope=col>city</th><th scope=col>pop</th><th scope=col>country</th><th scope=col>capital</th></tr>\n",
       "\t<tr><th></th><th scope=col>&lt;chr&gt;</th><th scope=col>&lt;dbl&gt;</th><th scope=col>&lt;fct&gt;</th><th scope=col>&lt;lgl&gt;</th></tr>\n",
       "</thead>\n",
       "<tbody>\n",
       "\t<tr><th scope=row>Oslo</th><td>Oslo  </td><td>0.58</td><td>Norway </td><td>TRUE</td></tr>\n",
       "\t<tr><th scope=row>Berlin</th><td>Berlin</td><td>3.40</td><td>Germany</td><td>TRUE</td></tr>\n",
       "\t<tr><th scope=row>Rome</th><td>Rome  </td><td>2.70</td><td>Italy  </td><td>TRUE</td></tr>\n",
       "</tbody>\n",
       "</table>\n"
      ],
      "text/latex": [
       "A data.frame: 3 × 4\n",
       "\\begin{tabular}{r|llll}\n",
       "  & city & pop & country & capital\\\\\n",
       "  & <chr> & <dbl> & <fct> & <lgl>\\\\\n",
       "\\hline\n",
       "\tOslo & Oslo   & 0.58 & Norway  & TRUE\\\\\n",
       "\tBerlin & Berlin & 3.40 & Germany & TRUE\\\\\n",
       "\tRome & Rome   & 2.70 & Italy   & TRUE\\\\\n",
       "\\end{tabular}\n"
      ],
      "text/markdown": [
       "\n",
       "A data.frame: 3 × 4\n",
       "\n",
       "| <!--/--> | city &lt;chr&gt; | pop &lt;dbl&gt; | country &lt;fct&gt; | capital &lt;lgl&gt; |\n",
       "|---|---|---|---|---|\n",
       "| Oslo | Oslo   | 0.58 | Norway  | TRUE |\n",
       "| Berlin | Berlin | 3.40 | Germany | TRUE |\n",
       "| Rome | Rome   | 2.70 | Italy   | TRUE |\n",
       "\n"
      ],
      "text/plain": [
       "       city   pop  country capital\n",
       "Oslo   Oslo   0.58 Norway  TRUE   \n",
       "Berlin Berlin 3.40 Germany TRUE   \n",
       "Rome   Rome   2.70 Italy   TRUE   "
      ]
     },
     "metadata": {},
     "output_type": "display_data"
    },
    {
     "data": {
      "text/html": [
       "<table class=\"dataframe\">\n",
       "<caption>A data.frame: 4 × 4</caption>\n",
       "<thead>\n",
       "\t<tr><th></th><th scope=col>city</th><th scope=col>pop</th><th scope=col>country</th><th scope=col>capital</th></tr>\n",
       "\t<tr><th></th><th scope=col>&lt;chr&gt;</th><th scope=col>&lt;dbl&gt;</th><th scope=col>&lt;fct&gt;</th><th scope=col>&lt;lgl&gt;</th></tr>\n",
       "</thead>\n",
       "<tbody>\n",
       "\t<tr><th scope=row>Munich</th><td>Munich</td><td>1.3</td><td>Germany</td><td>FALSE</td></tr>\n",
       "\t<tr><th scope=row>Berlin</th><td>Berlin</td><td>3.4</td><td>Germany</td><td> TRUE</td></tr>\n",
       "\t<tr><th scope=row>Rome</th><td>Rome  </td><td>2.7</td><td>Italy  </td><td> TRUE</td></tr>\n",
       "\t<tr><th scope=row>Milan</th><td>Milan </td><td>1.3</td><td>Italy  </td><td>FALSE</td></tr>\n",
       "</tbody>\n",
       "</table>\n"
      ],
      "text/latex": [
       "A data.frame: 4 × 4\n",
       "\\begin{tabular}{r|llll}\n",
       "  & city & pop & country & capital\\\\\n",
       "  & <chr> & <dbl> & <fct> & <lgl>\\\\\n",
       "\\hline\n",
       "\tMunich & Munich & 1.3 & Germany & FALSE\\\\\n",
       "\tBerlin & Berlin & 3.4 & Germany &  TRUE\\\\\n",
       "\tRome & Rome   & 2.7 & Italy   &  TRUE\\\\\n",
       "\tMilan & Milan  & 1.3 & Italy   & FALSE\\\\\n",
       "\\end{tabular}\n"
      ],
      "text/markdown": [
       "\n",
       "A data.frame: 4 × 4\n",
       "\n",
       "| <!--/--> | city &lt;chr&gt; | pop &lt;dbl&gt; | country &lt;fct&gt; | capital &lt;lgl&gt; |\n",
       "|---|---|---|---|---|\n",
       "| Munich | Munich | 1.3 | Germany | FALSE |\n",
       "| Berlin | Berlin | 3.4 | Germany |  TRUE |\n",
       "| Rome | Rome   | 2.7 | Italy   |  TRUE |\n",
       "| Milan | Milan  | 1.3 | Italy   | FALSE |\n",
       "\n"
      ],
      "text/plain": [
       "       city   pop country capital\n",
       "Munich Munich 1.3 Germany FALSE  \n",
       "Berlin Berlin 3.4 Germany  TRUE  \n",
       "Rome   Rome   2.7 Italy    TRUE  \n",
       "Milan  Milan  1.3 Italy   FALSE  "
      ]
     },
     "metadata": {},
     "output_type": "display_data"
    }
   ],
   "source": [
    "# III: Data frames  #\n",
    "\n",
    "cities = data.frame (city=city, pop=population, \n",
    "                     country=country, capital=capital, stringsAsFactors=F)\n",
    "cities\n",
    "length(cities)\n",
    "dim(cities)\n",
    "is.data.frame(cities)\n",
    "is.list(cities)\n",
    "\n",
    "colnames(cities)\n",
    "rownames(cities)\n",
    "\n",
    "cities$city\n",
    "cities[,1]\n",
    "cities[2,]\n",
    "cities[2,3]\n",
    "cities$pop[3]\n",
    "cities[capital,]\n",
    "cities[cities$pop>=1.0,]"
   ]
  },
  {
   "cell_type": "code",
   "execution_count": 25,
   "id": "4edda3fd-eed8-400f-b8d8-e7e956635988",
   "metadata": {
    "kernel": "R"
   },
   "outputs": [
    {
     "data": {
      "text/html": [
       "<style>\n",
       ".list-inline {list-style: none; margin:0; padding: 0}\n",
       ".list-inline>li {display: inline-block}\n",
       ".list-inline>li:not(:last-child)::after {content: \"\\00b7\"; padding: 0 .5ex}\n",
       "</style>\n",
       "<ol class=list-inline><li>'adj.p.values'</li><li>'capital'</li><li>'ci'</li><li>'cities'</li><li>'city'</li><li>'country'</li><li>'dbp'</li><li>'dev.all'</li><li>'dev.geno'</li><li>'lrt.pvalue'</li><li>'modelchoice.result'</li><li>'new.table'</li><li>'p.values'</li><li>'population'</li><li>'result.adj'</li><li>'result.all'</li><li>'result.inter'</li><li>'result.reg'</li><li>'result.snp12'</li><li>'snp.beta'</li><li>'snp.data'</li><li>'updated'</li></ol>\n"
      ],
      "text/latex": [
       "\\begin{enumerate*}\n",
       "\\item 'adj.p.values'\n",
       "\\item 'capital'\n",
       "\\item 'ci'\n",
       "\\item 'cities'\n",
       "\\item 'city'\n",
       "\\item 'country'\n",
       "\\item 'dbp'\n",
       "\\item 'dev.all'\n",
       "\\item 'dev.geno'\n",
       "\\item 'lrt.pvalue'\n",
       "\\item 'modelchoice.result'\n",
       "\\item 'new.table'\n",
       "\\item 'p.values'\n",
       "\\item 'population'\n",
       "\\item 'result.adj'\n",
       "\\item 'result.all'\n",
       "\\item 'result.inter'\n",
       "\\item 'result.reg'\n",
       "\\item 'result.snp12'\n",
       "\\item 'snp.beta'\n",
       "\\item 'snp.data'\n",
       "\\item 'updated'\n",
       "\\end{enumerate*}\n"
      ],
      "text/markdown": [
       "1. 'adj.p.values'\n",
       "2. 'capital'\n",
       "3. 'ci'\n",
       "4. 'cities'\n",
       "5. 'city'\n",
       "6. 'country'\n",
       "7. 'dbp'\n",
       "8. 'dev.all'\n",
       "9. 'dev.geno'\n",
       "10. 'lrt.pvalue'\n",
       "11. 'modelchoice.result'\n",
       "12. 'new.table'\n",
       "13. 'p.values'\n",
       "14. 'population'\n",
       "15. 'result.adj'\n",
       "16. 'result.all'\n",
       "17. 'result.inter'\n",
       "18. 'result.reg'\n",
       "19. 'result.snp12'\n",
       "20. 'snp.beta'\n",
       "21. 'snp.data'\n",
       "22. 'updated'\n",
       "\n",
       "\n"
      ],
      "text/plain": [
       " [1] \"adj.p.values\"       \"capital\"            \"ci\"                \n",
       " [4] \"cities\"             \"city\"               \"country\"           \n",
       " [7] \"dbp\"                \"dev.all\"            \"dev.geno\"          \n",
       "[10] \"lrt.pvalue\"         \"modelchoice.result\" \"new.table\"         \n",
       "[13] \"p.values\"           \"population\"         \"result.adj\"        \n",
       "[16] \"result.all\"         \"result.inter\"       \"result.reg\"        \n",
       "[19] \"result.snp12\"       \"snp.beta\"           \"snp.data\"          \n",
       "[22] \"updated\"           "
      ]
     },
     "metadata": {},
     "output_type": "display_data"
    },
    {
     "name": "stdout",
     "output_type": "stream",
     "text": [
      "         city  pop country capital\n",
      "Oslo     Oslo 0.58  Norway    TRUE\n",
      "Bergen Bergen 0.25  Norway   FALSE\n",
      "Munich Munich 1.30 Germany   FALSE\n",
      "Berlin Berlin 3.40 Germany    TRUE\n",
      "Rome     Rome 2.70   Italy    TRUE\n",
      "Milan   Milan 1.30   Italy   FALSE\n"
     ]
    },
    {
     "data": {
      "text/html": [
       "<style>\n",
       ".list-inline {list-style: none; margin:0; padding: 0}\n",
       ".list-inline>li {display: inline-block}\n",
       ".list-inline>li:not(:last-child)::after {content: \"\\00b7\"; padding: 0 .5ex}\n",
       "</style>\n",
       "<ol class=list-inline><li>'LICENSE'</li><li>'SYNAPSE_METADATA_MANIFEST.tsv'</li><li>'Untitled.ipynb'</li><li>'cities.output.txt'</li><li>'cities.txt'</li><li>'cleaned.R.log'</li><li>'cleaned.R.map'</li><li>'cleaned.R.ped'</li><li>'cleaned.frq'</li><li>'cleaned.hwe'</li><li>'cleaned.log'</li><li>'cleaned.map'</li><li>'cleaned.ped'</li><li>'code'</li><li>'dbp.R'</li><li>'dbp.age.pheno'</li><li>'dbp.bed'</li><li>'dbp.bim'</li><li>'dbp.cc.ped'</li><li>'dbp.fam'</li><li>'dbp.log'</li><li>'dbp.map'</li><li>'dbp.qt.bed'</li><li>'dbp.qt.bim'</li><li>'dbp.qt.fam'</li><li>'dbp.qt.log'</li><li>'dbp.qt.ped'</li><li>'linreg.sex.add.assoc.linear'</li><li>'linreg.sex.add.log'</li><li>'logreg.add.assoc.logistic'</li><li>'logreg.add.ci.assoc.logistic'</li><li>'logreg.add.ci.log'</li><li>'logreg.add.log'</li><li>'logreg.age.add.assoc.logistic'</li><li>'logreg.age.add.log'</li><li>'logreg.sex.add.assoc.logistic'</li><li>'logreg.sex.add.log'</li><li>'logreg.sex.inter.add.assoc.logistic'</li><li>'logreg.sex.inter.add.log'</li><li>'logreg.sexage.add.assoc.logistic'</li><li>'logreg.sexage.add.log'</li><li>'logreg.snp1112.add.assoc.logistic'</li><li>'logreg.snp1112.add.log'</li><li>'logreg.snp1112.inter.add.assoc.logistic'</li><li>'logreg.snp1112.inter.add.log'</li><li>'logreg.snp1117.add.assoc.logistic'</li><li>'logreg.snp1117.add.log'</li><li>'multperm100000.assoc'</li><li>'multperm100000.assoc.mperm'</li><li>'multperm100000.log'</li><li>'multperm5000.assoc'</li><li>'multperm5000.assoc.mperm'</li><li>'multperm5000.log'</li><li>'multtest.assoc'</li><li>'multtest.assoc.adjusted'</li><li>'multtest.log'</li><li>'myobjects.R'</li><li>'p.values.R'</li><li>'plink.imiss'</li><li>'plink.lmiss'</li><li>'plink.log'</li></ol>\n"
      ],
      "text/latex": [
       "\\begin{enumerate*}\n",
       "\\item 'LICENSE'\n",
       "\\item 'SYNAPSE\\_METADATA\\_MANIFEST.tsv'\n",
       "\\item 'Untitled.ipynb'\n",
       "\\item 'cities.output.txt'\n",
       "\\item 'cities.txt'\n",
       "\\item 'cleaned.R.log'\n",
       "\\item 'cleaned.R.map'\n",
       "\\item 'cleaned.R.ped'\n",
       "\\item 'cleaned.frq'\n",
       "\\item 'cleaned.hwe'\n",
       "\\item 'cleaned.log'\n",
       "\\item 'cleaned.map'\n",
       "\\item 'cleaned.ped'\n",
       "\\item 'code'\n",
       "\\item 'dbp.R'\n",
       "\\item 'dbp.age.pheno'\n",
       "\\item 'dbp.bed'\n",
       "\\item 'dbp.bim'\n",
       "\\item 'dbp.cc.ped'\n",
       "\\item 'dbp.fam'\n",
       "\\item 'dbp.log'\n",
       "\\item 'dbp.map'\n",
       "\\item 'dbp.qt.bed'\n",
       "\\item 'dbp.qt.bim'\n",
       "\\item 'dbp.qt.fam'\n",
       "\\item 'dbp.qt.log'\n",
       "\\item 'dbp.qt.ped'\n",
       "\\item 'linreg.sex.add.assoc.linear'\n",
       "\\item 'linreg.sex.add.log'\n",
       "\\item 'logreg.add.assoc.logistic'\n",
       "\\item 'logreg.add.ci.assoc.logistic'\n",
       "\\item 'logreg.add.ci.log'\n",
       "\\item 'logreg.add.log'\n",
       "\\item 'logreg.age.add.assoc.logistic'\n",
       "\\item 'logreg.age.add.log'\n",
       "\\item 'logreg.sex.add.assoc.logistic'\n",
       "\\item 'logreg.sex.add.log'\n",
       "\\item 'logreg.sex.inter.add.assoc.logistic'\n",
       "\\item 'logreg.sex.inter.add.log'\n",
       "\\item 'logreg.sexage.add.assoc.logistic'\n",
       "\\item 'logreg.sexage.add.log'\n",
       "\\item 'logreg.snp1112.add.assoc.logistic'\n",
       "\\item 'logreg.snp1112.add.log'\n",
       "\\item 'logreg.snp1112.inter.add.assoc.logistic'\n",
       "\\item 'logreg.snp1112.inter.add.log'\n",
       "\\item 'logreg.snp1117.add.assoc.logistic'\n",
       "\\item 'logreg.snp1117.add.log'\n",
       "\\item 'multperm100000.assoc'\n",
       "\\item 'multperm100000.assoc.mperm'\n",
       "\\item 'multperm100000.log'\n",
       "\\item 'multperm5000.assoc'\n",
       "\\item 'multperm5000.assoc.mperm'\n",
       "\\item 'multperm5000.log'\n",
       "\\item 'multtest.assoc'\n",
       "\\item 'multtest.assoc.adjusted'\n",
       "\\item 'multtest.log'\n",
       "\\item 'myobjects.R'\n",
       "\\item 'p.values.R'\n",
       "\\item 'plink.imiss'\n",
       "\\item 'plink.lmiss'\n",
       "\\item 'plink.log'\n",
       "\\end{enumerate*}\n"
      ],
      "text/markdown": [
       "1. 'LICENSE'\n",
       "2. 'SYNAPSE_METADATA_MANIFEST.tsv'\n",
       "3. 'Untitled.ipynb'\n",
       "4. 'cities.output.txt'\n",
       "5. 'cities.txt'\n",
       "6. 'cleaned.R.log'\n",
       "7. 'cleaned.R.map'\n",
       "8. 'cleaned.R.ped'\n",
       "9. 'cleaned.frq'\n",
       "10. 'cleaned.hwe'\n",
       "11. 'cleaned.log'\n",
       "12. 'cleaned.map'\n",
       "13. 'cleaned.ped'\n",
       "14. 'code'\n",
       "15. 'dbp.R'\n",
       "16. 'dbp.age.pheno'\n",
       "17. 'dbp.bed'\n",
       "18. 'dbp.bim'\n",
       "19. 'dbp.cc.ped'\n",
       "20. 'dbp.fam'\n",
       "21. 'dbp.log'\n",
       "22. 'dbp.map'\n",
       "23. 'dbp.qt.bed'\n",
       "24. 'dbp.qt.bim'\n",
       "25. 'dbp.qt.fam'\n",
       "26. 'dbp.qt.log'\n",
       "27. 'dbp.qt.ped'\n",
       "28. 'linreg.sex.add.assoc.linear'\n",
       "29. 'linreg.sex.add.log'\n",
       "30. 'logreg.add.assoc.logistic'\n",
       "31. 'logreg.add.ci.assoc.logistic'\n",
       "32. 'logreg.add.ci.log'\n",
       "33. 'logreg.add.log'\n",
       "34. 'logreg.age.add.assoc.logistic'\n",
       "35. 'logreg.age.add.log'\n",
       "36. 'logreg.sex.add.assoc.logistic'\n",
       "37. 'logreg.sex.add.log'\n",
       "38. 'logreg.sex.inter.add.assoc.logistic'\n",
       "39. 'logreg.sex.inter.add.log'\n",
       "40. 'logreg.sexage.add.assoc.logistic'\n",
       "41. 'logreg.sexage.add.log'\n",
       "42. 'logreg.snp1112.add.assoc.logistic'\n",
       "43. 'logreg.snp1112.add.log'\n",
       "44. 'logreg.snp1112.inter.add.assoc.logistic'\n",
       "45. 'logreg.snp1112.inter.add.log'\n",
       "46. 'logreg.snp1117.add.assoc.logistic'\n",
       "47. 'logreg.snp1117.add.log'\n",
       "48. 'multperm100000.assoc'\n",
       "49. 'multperm100000.assoc.mperm'\n",
       "50. 'multperm100000.log'\n",
       "51. 'multperm5000.assoc'\n",
       "52. 'multperm5000.assoc.mperm'\n",
       "53. 'multperm5000.log'\n",
       "54. 'multtest.assoc'\n",
       "55. 'multtest.assoc.adjusted'\n",
       "56. 'multtest.log'\n",
       "57. 'myobjects.R'\n",
       "58. 'p.values.R'\n",
       "59. 'plink.imiss'\n",
       "60. 'plink.lmiss'\n",
       "61. 'plink.log'\n",
       "\n",
       "\n"
      ],
      "text/plain": [
       " [1] \"LICENSE\"                                \n",
       " [2] \"SYNAPSE_METADATA_MANIFEST.tsv\"          \n",
       " [3] \"Untitled.ipynb\"                         \n",
       " [4] \"cities.output.txt\"                      \n",
       " [5] \"cities.txt\"                             \n",
       " [6] \"cleaned.R.log\"                          \n",
       " [7] \"cleaned.R.map\"                          \n",
       " [8] \"cleaned.R.ped\"                          \n",
       " [9] \"cleaned.frq\"                            \n",
       "[10] \"cleaned.hwe\"                            \n",
       "[11] \"cleaned.log\"                            \n",
       "[12] \"cleaned.map\"                            \n",
       "[13] \"cleaned.ped\"                            \n",
       "[14] \"code\"                                   \n",
       "[15] \"dbp.R\"                                  \n",
       "[16] \"dbp.age.pheno\"                          \n",
       "[17] \"dbp.bed\"                                \n",
       "[18] \"dbp.bim\"                                \n",
       "[19] \"dbp.cc.ped\"                             \n",
       "[20] \"dbp.fam\"                                \n",
       "[21] \"dbp.log\"                                \n",
       "[22] \"dbp.map\"                                \n",
       "[23] \"dbp.qt.bed\"                             \n",
       "[24] \"dbp.qt.bim\"                             \n",
       "[25] \"dbp.qt.fam\"                             \n",
       "[26] \"dbp.qt.log\"                             \n",
       "[27] \"dbp.qt.ped\"                             \n",
       "[28] \"linreg.sex.add.assoc.linear\"            \n",
       "[29] \"linreg.sex.add.log\"                     \n",
       "[30] \"logreg.add.assoc.logistic\"              \n",
       "[31] \"logreg.add.ci.assoc.logistic\"           \n",
       "[32] \"logreg.add.ci.log\"                      \n",
       "[33] \"logreg.add.log\"                         \n",
       "[34] \"logreg.age.add.assoc.logistic\"          \n",
       "[35] \"logreg.age.add.log\"                     \n",
       "[36] \"logreg.sex.add.assoc.logistic\"          \n",
       "[37] \"logreg.sex.add.log\"                     \n",
       "[38] \"logreg.sex.inter.add.assoc.logistic\"    \n",
       "[39] \"logreg.sex.inter.add.log\"               \n",
       "[40] \"logreg.sexage.add.assoc.logistic\"       \n",
       "[41] \"logreg.sexage.add.log\"                  \n",
       "[42] \"logreg.snp1112.add.assoc.logistic\"      \n",
       "[43] \"logreg.snp1112.add.log\"                 \n",
       "[44] \"logreg.snp1112.inter.add.assoc.logistic\"\n",
       "[45] \"logreg.snp1112.inter.add.log\"           \n",
       "[46] \"logreg.snp1117.add.assoc.logistic\"      \n",
       "[47] \"logreg.snp1117.add.log\"                 \n",
       "[48] \"multperm100000.assoc\"                   \n",
       "[49] \"multperm100000.assoc.mperm\"             \n",
       "[50] \"multperm100000.log\"                     \n",
       "[51] \"multperm5000.assoc\"                     \n",
       "[52] \"multperm5000.assoc.mperm\"               \n",
       "[53] \"multperm5000.log\"                       \n",
       "[54] \"multtest.assoc\"                         \n",
       "[55] \"multtest.assoc.adjusted\"                \n",
       "[56] \"multtest.log\"                           \n",
       "[57] \"myobjects.R\"                            \n",
       "[58] \"p.values.R\"                             \n",
       "[59] \"plink.imiss\"                            \n",
       "[60] \"plink.lmiss\"                            \n",
       "[61] \"plink.log\"                              "
      ]
     },
     "metadata": {},
     "output_type": "display_data"
    },
    {
     "data": {
      "text/html": [],
      "text/latex": [],
      "text/markdown": [],
      "text/plain": [
       "character(0)"
      ]
     },
     "metadata": {},
     "output_type": "display_data"
    },
    {
     "data": {
      "text/html": [
       "'new.table'"
      ],
      "text/latex": [
       "'new.table'"
      ],
      "text/markdown": [
       "'new.table'"
      ],
      "text/plain": [
       "[1] \"new.table\""
      ]
     },
     "metadata": {},
     "output_type": "display_data"
    },
    {
     "data": {
      "text/html": [
       "<table class=\"dataframe\">\n",
       "<caption>A data.frame: 6 × 4</caption>\n",
       "<thead>\n",
       "\t<tr><th></th><th scope=col>city</th><th scope=col>pop</th><th scope=col>country</th><th scope=col>capital</th></tr>\n",
       "\t<tr><th></th><th scope=col>&lt;chr&gt;</th><th scope=col>&lt;dbl&gt;</th><th scope=col>&lt;chr&gt;</th><th scope=col>&lt;lgl&gt;</th></tr>\n",
       "</thead>\n",
       "<tbody>\n",
       "\t<tr><th scope=row>Oslo</th><td>Oslo  </td><td>0.58</td><td>Norway </td><td> TRUE</td></tr>\n",
       "\t<tr><th scope=row>Bergen</th><td>Bergen</td><td>0.25</td><td>Norway </td><td>FALSE</td></tr>\n",
       "\t<tr><th scope=row>Munich</th><td>Munich</td><td>1.30</td><td>Germany</td><td>FALSE</td></tr>\n",
       "\t<tr><th scope=row>Berlin</th><td>Berlin</td><td>3.40</td><td>Germany</td><td> TRUE</td></tr>\n",
       "\t<tr><th scope=row>Rome</th><td>Rome  </td><td>2.70</td><td>Italy  </td><td> TRUE</td></tr>\n",
       "\t<tr><th scope=row>Milan</th><td>Milan </td><td>1.30</td><td>Italy  </td><td>FALSE</td></tr>\n",
       "</tbody>\n",
       "</table>\n"
      ],
      "text/latex": [
       "A data.frame: 6 × 4\n",
       "\\begin{tabular}{r|llll}\n",
       "  & city & pop & country & capital\\\\\n",
       "  & <chr> & <dbl> & <chr> & <lgl>\\\\\n",
       "\\hline\n",
       "\tOslo & Oslo   & 0.58 & Norway  &  TRUE\\\\\n",
       "\tBergen & Bergen & 0.25 & Norway  & FALSE\\\\\n",
       "\tMunich & Munich & 1.30 & Germany & FALSE\\\\\n",
       "\tBerlin & Berlin & 3.40 & Germany &  TRUE\\\\\n",
       "\tRome & Rome   & 2.70 & Italy   &  TRUE\\\\\n",
       "\tMilan & Milan  & 1.30 & Italy   & FALSE\\\\\n",
       "\\end{tabular}\n"
      ],
      "text/markdown": [
       "\n",
       "A data.frame: 6 × 4\n",
       "\n",
       "| <!--/--> | city &lt;chr&gt; | pop &lt;dbl&gt; | country &lt;chr&gt; | capital &lt;lgl&gt; |\n",
       "|---|---|---|---|---|\n",
       "| Oslo | Oslo   | 0.58 | Norway  |  TRUE |\n",
       "| Bergen | Bergen | 0.25 | Norway  | FALSE |\n",
       "| Munich | Munich | 1.30 | Germany | FALSE |\n",
       "| Berlin | Berlin | 3.40 | Germany |  TRUE |\n",
       "| Rome | Rome   | 2.70 | Italy   |  TRUE |\n",
       "| Milan | Milan  | 1.30 | Italy   | FALSE |\n",
       "\n"
      ],
      "text/plain": [
       "       city   pop  country capital\n",
       "Oslo   Oslo   0.58 Norway   TRUE  \n",
       "Bergen Bergen 0.25 Norway  FALSE  \n",
       "Munich Munich 1.30 Germany FALSE  \n",
       "Berlin Berlin 3.40 Germany  TRUE  \n",
       "Rome   Rome   2.70 Italy    TRUE  \n",
       "Milan  Milan  1.30 Italy   FALSE  "
      ]
     },
     "metadata": {},
     "output_type": "display_data"
    },
    {
     "data": {
      "text/html": [
       "<style>\n",
       ".list-inline {list-style: none; margin:0; padding: 0}\n",
       ".list-inline>li {display: inline-block}\n",
       ".list-inline>li:not(:last-child)::after {content: \"\\00b7\"; padding: 0 .5ex}\n",
       "</style>\n",
       "<ol class=list-inline><li>'cities'</li><li>'city'</li><li>'country'</li><li>'new.table'</li></ol>\n"
      ],
      "text/latex": [
       "\\begin{enumerate*}\n",
       "\\item 'cities'\n",
       "\\item 'city'\n",
       "\\item 'country'\n",
       "\\item 'new.table'\n",
       "\\end{enumerate*}\n"
      ],
      "text/markdown": [
       "1. 'cities'\n",
       "2. 'city'\n",
       "3. 'country'\n",
       "4. 'new.table'\n",
       "\n",
       "\n"
      ],
      "text/plain": [
       "[1] \"cities\"    \"city\"      \"country\"   \"new.table\""
      ]
     },
     "metadata": {},
     "output_type": "display_data"
    },
    {
     "data": {
      "text/html": [
       "<table class=\"dataframe\">\n",
       "<caption>A data.frame: 6 × 4</caption>\n",
       "<thead>\n",
       "\t<tr><th></th><th scope=col>city</th><th scope=col>pop</th><th scope=col>country</th><th scope=col>capital</th></tr>\n",
       "\t<tr><th></th><th scope=col>&lt;chr&gt;</th><th scope=col>&lt;dbl&gt;</th><th scope=col>&lt;fct&gt;</th><th scope=col>&lt;lgl&gt;</th></tr>\n",
       "</thead>\n",
       "<tbody>\n",
       "\t<tr><th scope=row>Oslo</th><td>Oslo  </td><td>0.58</td><td>Norway </td><td> TRUE</td></tr>\n",
       "\t<tr><th scope=row>Bergen</th><td>Bergen</td><td>0.25</td><td>Norway </td><td>FALSE</td></tr>\n",
       "\t<tr><th scope=row>Munich</th><td>Munich</td><td>1.30</td><td>Germany</td><td>FALSE</td></tr>\n",
       "\t<tr><th scope=row>Berlin</th><td>Berlin</td><td>3.40</td><td>Germany</td><td> TRUE</td></tr>\n",
       "\t<tr><th scope=row>Rome</th><td>Rome  </td><td>2.70</td><td>Italy  </td><td> TRUE</td></tr>\n",
       "\t<tr><th scope=row>Milan</th><td>Milan </td><td>1.30</td><td>Italy  </td><td>FALSE</td></tr>\n",
       "</tbody>\n",
       "</table>\n"
      ],
      "text/latex": [
       "A data.frame: 6 × 4\n",
       "\\begin{tabular}{r|llll}\n",
       "  & city & pop & country & capital\\\\\n",
       "  & <chr> & <dbl> & <fct> & <lgl>\\\\\n",
       "\\hline\n",
       "\tOslo & Oslo   & 0.58 & Norway  &  TRUE\\\\\n",
       "\tBergen & Bergen & 0.25 & Norway  & FALSE\\\\\n",
       "\tMunich & Munich & 1.30 & Germany & FALSE\\\\\n",
       "\tBerlin & Berlin & 3.40 & Germany &  TRUE\\\\\n",
       "\tRome & Rome   & 2.70 & Italy   &  TRUE\\\\\n",
       "\tMilan & Milan  & 1.30 & Italy   & FALSE\\\\\n",
       "\\end{tabular}\n"
      ],
      "text/markdown": [
       "\n",
       "A data.frame: 6 × 4\n",
       "\n",
       "| <!--/--> | city &lt;chr&gt; | pop &lt;dbl&gt; | country &lt;fct&gt; | capital &lt;lgl&gt; |\n",
       "|---|---|---|---|---|\n",
       "| Oslo | Oslo   | 0.58 | Norway  |  TRUE |\n",
       "| Bergen | Bergen | 0.25 | Norway  | FALSE |\n",
       "| Munich | Munich | 1.30 | Germany | FALSE |\n",
       "| Berlin | Berlin | 3.40 | Germany |  TRUE |\n",
       "| Rome | Rome   | 2.70 | Italy   |  TRUE |\n",
       "| Milan | Milan  | 1.30 | Italy   | FALSE |\n",
       "\n"
      ],
      "text/plain": [
       "       city   pop  country capital\n",
       "Oslo   Oslo   0.58 Norway   TRUE  \n",
       "Bergen Bergen 0.25 Norway  FALSE  \n",
       "Munich Munich 1.30 Germany FALSE  \n",
       "Berlin Berlin 3.40 Germany  TRUE  \n",
       "Rome   Rome   2.70 Italy    TRUE  \n",
       "Milan  Milan  1.30 Italy   FALSE  "
      ]
     },
     "metadata": {},
     "output_type": "display_data"
    },
    {
     "data": {
      "text/html": [
       "<table class=\"dataframe\">\n",
       "<caption>A data.frame: 6 × 4</caption>\n",
       "<thead>\n",
       "\t<tr><th></th><th scope=col>city</th><th scope=col>pop</th><th scope=col>country</th><th scope=col>capital</th></tr>\n",
       "\t<tr><th></th><th scope=col>&lt;chr&gt;</th><th scope=col>&lt;dbl&gt;</th><th scope=col>&lt;chr&gt;</th><th scope=col>&lt;lgl&gt;</th></tr>\n",
       "</thead>\n",
       "<tbody>\n",
       "\t<tr><th scope=row>Oslo</th><td>Oslo  </td><td>0.58</td><td>Norway </td><td> TRUE</td></tr>\n",
       "\t<tr><th scope=row>Bergen</th><td>Bergen</td><td>0.25</td><td>Norway </td><td>FALSE</td></tr>\n",
       "\t<tr><th scope=row>Munich</th><td>Munich</td><td>1.30</td><td>Germany</td><td>FALSE</td></tr>\n",
       "\t<tr><th scope=row>Berlin</th><td>Berlin</td><td>3.40</td><td>Germany</td><td> TRUE</td></tr>\n",
       "\t<tr><th scope=row>Rome</th><td>Rome  </td><td>2.70</td><td>Italy  </td><td> TRUE</td></tr>\n",
       "\t<tr><th scope=row>Milan</th><td>Milan </td><td>1.30</td><td>Italy  </td><td>FALSE</td></tr>\n",
       "</tbody>\n",
       "</table>\n"
      ],
      "text/latex": [
       "A data.frame: 6 × 4\n",
       "\\begin{tabular}{r|llll}\n",
       "  & city & pop & country & capital\\\\\n",
       "  & <chr> & <dbl> & <chr> & <lgl>\\\\\n",
       "\\hline\n",
       "\tOslo & Oslo   & 0.58 & Norway  &  TRUE\\\\\n",
       "\tBergen & Bergen & 0.25 & Norway  & FALSE\\\\\n",
       "\tMunich & Munich & 1.30 & Germany & FALSE\\\\\n",
       "\tBerlin & Berlin & 3.40 & Germany &  TRUE\\\\\n",
       "\tRome & Rome   & 2.70 & Italy   &  TRUE\\\\\n",
       "\tMilan & Milan  & 1.30 & Italy   & FALSE\\\\\n",
       "\\end{tabular}\n"
      ],
      "text/markdown": [
       "\n",
       "A data.frame: 6 × 4\n",
       "\n",
       "| <!--/--> | city &lt;chr&gt; | pop &lt;dbl&gt; | country &lt;chr&gt; | capital &lt;lgl&gt; |\n",
       "|---|---|---|---|---|\n",
       "| Oslo | Oslo   | 0.58 | Norway  |  TRUE |\n",
       "| Bergen | Bergen | 0.25 | Norway  | FALSE |\n",
       "| Munich | Munich | 1.30 | Germany | FALSE |\n",
       "| Berlin | Berlin | 3.40 | Germany |  TRUE |\n",
       "| Rome | Rome   | 2.70 | Italy   |  TRUE |\n",
       "| Milan | Milan  | 1.30 | Italy   | FALSE |\n",
       "\n"
      ],
      "text/plain": [
       "       city   pop  country capital\n",
       "Oslo   Oslo   0.58 Norway   TRUE  \n",
       "Bergen Bergen 0.25 Norway  FALSE  \n",
       "Munich Munich 1.30 Germany FALSE  \n",
       "Berlin Berlin 3.40 Germany  TRUE  \n",
       "Rome   Rome   2.70 Italy    TRUE  \n",
       "Milan  Milan  1.30 Italy   FALSE  "
      ]
     },
     "metadata": {},
     "output_type": "display_data"
    }
   ],
   "source": [
    "# IV: Export & Import #\n",
    "\n",
    "ls()\n",
    "\n",
    "save(cities, city, country, file=\"myobjects.R\")\n",
    "\n",
    "write.table(cities, file=\"cities.txt\")\n",
    "\n",
    "sink (\"cities.output.txt\")\n",
    "print (cities)\n",
    "sink ()\n",
    "\n",
    "dir()\n",
    "\n",
    "rm(list=ls())\n",
    "ls()\n",
    "\n",
    "new.table = read.table (\"cities.txt\")\n",
    "ls()\n",
    "new.table\n",
    "\n",
    "load (\"myobjects.R\")\n",
    "ls()\n",
    "cities\n",
    "new.table"
   ]
  },
  {
   "cell_type": "markdown",
   "id": "ec012884-bb05-400f-8d20-2e49773a4fd0",
   "metadata": {
    "kernel": "R"
   },
   "source": [
    "# Regression I"
   ]
  },
  {
   "cell_type": "code",
   "execution_count": 26,
   "id": "3f0ecda9-4624-4897-baaf-1ac22ac1b647",
   "metadata": {
    "kernel": "Bash"
   },
   "outputs": [
    {
     "name": "stdout",
     "output_type": "stream",
     "text": [
      "PLINK v1.90b6.21 64-bit (19 Oct 2020)          www.cog-genomics.org/plink/1.9/\n",
      "(C) 2005-2020 Shaun Purcell, Christopher Chang   GNU General Public License v3\n",
      "Logging to logreg.add.log.\n",
      "Options in effect:\n",
      "  --bfile dbp\n",
      "  --logistic\n",
      "  --out logreg.add\n",
      "\n",
      "31376 MB RAM detected; reserving 15688 MB for main workspace.\n",
      "20 variants loaded from .bim file.\n",
      "600 people (329 males, 271 females) loaded from .fam.\n",
      "600 phenotype values loaded from .fam.\n",
      "Using 1 thread (no multithreaded calculations invoked).\n",
      "Before main variant filters, 600 founders and 0 nonfounders present.\n",
      "Calculating allele frequencies... 10111213141516171819202122232425262728293031323334353637383940414243444546474849505152535455565758596061626364656667686970717273747576777879808182838485868788899091929394959697989 done.\n",
      "Total genotyping rate is 0.988333.\n",
      "20 variants and 600 people pass filters and QC.\n",
      "Among remaining phenotypes, 300 are cases and 300 are controls.\n",
      "Writing logistic model association results to logreg.add.assoc.logistic ...\n",
      "done.\n",
      "PLINK v1.90b6.21 64-bit (19 Oct 2020)          www.cog-genomics.org/plink/1.9/\n",
      "(C) 2005-2020 Shaun Purcell, Christopher Chang   GNU General Public License v3\n",
      "Logging to logreg.add.ci.log.\n",
      "Options in effect:\n",
      "  --bfile dbp\n",
      "  --ci 0.95\n",
      "  --logistic\n",
      "  --out logreg.add.ci\n",
      "\n",
      "31376 MB RAM detected; reserving 15688 MB for main workspace.\n",
      "20 variants loaded from .bim file.\n",
      "600 people (329 males, 271 females) loaded from .fam.\n",
      "600 phenotype values loaded from .fam.\n",
      "Using 1 thread (no multithreaded calculations invoked).\n",
      "Before main variant filters, 600 founders and 0 nonfounders present.\n",
      "Calculating allele frequencies... 10111213141516171819202122232425262728293031323334353637383940414243444546474849505152535455565758596061626364656667686970717273747576777879808182838485868788899091929394959697989 done.\n",
      "Total genotyping rate is 0.988333.\n",
      "20 variants and 600 people pass filters and QC.\n",
      "Among remaining phenotypes, 300 are cases and 300 are controls.\n",
      "Writing logistic model association results to logreg.add.ci.assoc.logistic ...\n",
      "done.\n",
      "PLINK v1.90b6.21 64-bit (19 Oct 2020)          www.cog-genomics.org/plink/1.9/\n",
      "(C) 2005-2020 Shaun Purcell, Christopher Chang   GNU General Public License v3\n",
      "Logging to logreg.age.add.log.\n",
      "Options in effect:\n",
      "  --bfile dbp\n",
      "  --covar dbp.age.pheno\n",
      "  --logistic\n",
      "  --out logreg.age.add\n",
      "\n",
      "31376 MB RAM detected; reserving 15688 MB for main workspace.\n",
      "20 variants loaded from .bim file.\n",
      "600 people (329 males, 271 females) loaded from .fam.\n",
      "600 phenotype values loaded from .fam.\n",
      "Using 1 thread (no multithreaded calculations invoked).\n",
      "--covar: 1 covariate loaded.\n",
      "Before main variant filters, 600 founders and 0 nonfounders present.\n",
      "Calculating allele frequencies... 10111213141516171819202122232425262728293031323334353637383940414243444546474849505152535455565758596061626364656667686970717273747576777879808182838485868788899091929394959697989 done.\n",
      "Total genotyping rate is 0.988333.\n",
      "20 variants and 600 people pass filters and QC.\n",
      "Among remaining phenotypes, 300 are cases and 300 are controls.\n",
      "Writing logistic model association results to logreg.age.add.assoc.logistic ...\n",
      "done.\n",
      "PLINK v1.90b6.21 64-bit (19 Oct 2020)          www.cog-genomics.org/plink/1.9/\n",
      "(C) 2005-2020 Shaun Purcell, Christopher Chang   GNU General Public License v3\n",
      "Logging to logreg.sex.add.log.\n",
      "Options in effect:\n",
      "  --bfile dbp\n",
      "  --logistic\n",
      "  --out logreg.sex.add\n",
      "  --sex\n",
      "\n",
      "Note: --sex flag deprecated.  Use e.g. \"--linear sex\".\n",
      "31376 MB RAM detected; reserving 15688 MB for main workspace.\n",
      "20 variants loaded from .bim file.\n",
      "600 people (329 males, 271 females) loaded from .fam.\n",
      "600 phenotype values loaded from .fam.\n",
      "Using 1 thread (no multithreaded calculations invoked).\n",
      "Before main variant filters, 600 founders and 0 nonfounders present.\n",
      "Calculating allele frequencies... 10111213141516171819202122232425262728293031323334353637383940414243444546474849505152535455565758596061626364656667686970717273747576777879808182838485868788899091929394959697989 done.\n",
      "Total genotyping rate is 0.988333.\n",
      "20 variants and 600 people pass filters and QC.\n",
      "Among remaining phenotypes, 300 are cases and 300 are controls.\n",
      "Writing logistic model association results to logreg.sex.add.assoc.logistic ...\n",
      "done.\n",
      "PLINK v1.90b6.21 64-bit (19 Oct 2020)          www.cog-genomics.org/plink/1.9/\n",
      "(C) 2005-2020 Shaun Purcell, Christopher Chang   GNU General Public License v3\n",
      "Logging to logreg.sexage.add.log.\n",
      "Options in effect:\n",
      "  --bfile dbp\n",
      "  --covar dbp.age.pheno\n",
      "  --logistic\n",
      "  --out logreg.sexage.add\n",
      "  --sex\n",
      "\n",
      "Note: --sex flag deprecated.  Use e.g. \"--linear sex\".\n",
      "31376 MB RAM detected; reserving 15688 MB for main workspace.\n",
      "20 variants loaded from .bim file.\n",
      "600 people (329 males, 271 females) loaded from .fam.\n",
      "600 phenotype values loaded from .fam.\n",
      "Using 1 thread (no multithreaded calculations invoked).\n",
      "--covar: 1 covariate loaded.\n",
      "Before main variant filters, 600 founders and 0 nonfounders present.\n",
      "Calculating allele frequencies... 10111213141516171819202122232425262728293031323334353637383940414243444546474849505152535455565758596061626364656667686970717273747576777879808182838485868788899091929394959697989 done.\n",
      "Total genotyping rate is 0.988333.\n",
      "20 variants and 600 people pass filters and QC.\n",
      "Among remaining phenotypes, 300 are cases and 300 are controls.\n",
      "Writing logistic model association results to logreg.sexage.add.assoc.logistic\n",
      "... done.\n",
      "PLINK v1.90b6.21 64-bit (19 Oct 2020)          www.cog-genomics.org/plink/1.9/\n",
      "(C) 2005-2020 Shaun Purcell, Christopher Chang   GNU General Public License v3\n",
      "Logging to logreg.snp1112.add.log.\n",
      "Options in effect:\n",
      "  --bfile dbp\n",
      "  --condition rs1112\n",
      "  --logistic\n",
      "  --out logreg.snp1112.add\n",
      "\n",
      "31376 MB RAM detected; reserving 15688 MB for main workspace.\n",
      "20 variants loaded from .bim file.\n",
      "600 people (329 males, 271 females) loaded from .fam.\n",
      "600 phenotype values loaded from .fam.\n",
      "Using 1 thread (no multithreaded calculations invoked).\n",
      "Before main variant filters, 600 founders and 0 nonfounders present.\n",
      "Calculating allele frequencies... 10111213141516171819202122232425262728293031323334353637383940414243444546474849505152535455565758596061626364656667686970717273747576777879808182838485868788899091929394959697989 done.\n",
      "Total genotyping rate is 0.988333.\n",
      "20 variants and 600 people pass filters and QC.\n",
      "Among remaining phenotypes, 300 are cases and 300 are controls.\n",
      "Writing logistic model association results to logreg.snp1112.add.assoc.logistic\n",
      "... done.\n",
      "PLINK v1.90b6.21 64-bit (19 Oct 2020)          www.cog-genomics.org/plink/1.9/\n",
      "(C) 2005-2020 Shaun Purcell, Christopher Chang   GNU General Public License v3\n",
      "Logging to logreg.snp1117.add.log.\n",
      "Options in effect:\n",
      "  --bfile dbp\n",
      "  --condition rs1117\n",
      "  --logistic\n",
      "  --out logreg.snp1117.add\n",
      "\n",
      "31376 MB RAM detected; reserving 15688 MB for main workspace.\n",
      "20 variants loaded from .bim file.\n",
      "600 people (329 males, 271 females) loaded from .fam.\n",
      "600 phenotype values loaded from .fam.\n",
      "Using 1 thread (no multithreaded calculations invoked).\n",
      "Before main variant filters, 600 founders and 0 nonfounders present.\n",
      "Calculating allele frequencies... 10111213141516171819202122232425262728293031323334353637383940414243444546474849505152535455565758596061626364656667686970717273747576777879808182838485868788899091929394959697989 done.\n",
      "Total genotyping rate is 0.988333.\n",
      "20 variants and 600 people pass filters and QC.\n",
      "Among remaining phenotypes, 300 are cases and 300 are controls.\n",
      "Writing logistic model association results to logreg.snp1117.add.assoc.logistic\n",
      "... done.\n",
      "PLINK v1.90b6.21 64-bit (19 Oct 2020)          www.cog-genomics.org/plink/1.9/\n",
      "(C) 2005-2020 Shaun Purcell, Christopher Chang   GNU General Public License v3\n",
      "Logging to linreg.sex.add.log.\n",
      "Options in effect:\n",
      "  --bfile dbp.qt\n",
      "  --linear\n",
      "  --out linreg.sex.add\n",
      "  --sex\n",
      "\n",
      "Note: --sex flag deprecated.  Use e.g. \"--linear sex\".\n",
      "31376 MB RAM detected; reserving 15688 MB for main workspace.\n",
      "20 variants loaded from .bim file.\n",
      "600 people (329 males, 271 females) loaded from .fam.\n",
      "600 phenotype values loaded from .fam.\n",
      "Using 1 thread (no multithreaded calculations invoked).\n",
      "Before main variant filters, 600 founders and 0 nonfounders present.\n",
      "Calculating allele frequencies... 10111213141516171819202122232425262728293031323334353637383940414243444546474849505152535455565758596061626364656667686970717273747576777879808182838485868788899091929394959697989 done.\n",
      "Total genotyping rate is 0.988333.\n",
      "20 variants and 600 people pass filters and QC.\n",
      "Phenotype data is quantitative.\n",
      "Writing linear model association results to linreg.sex.add.assoc.linear ...\n",
      "done.\n"
     ]
    }
   ],
   "source": [
    "# PLINK commands #\n",
    "\n",
    "plink  --bfile dbp  --logistic  --out logreg.add\n",
    "\n",
    "plink  --bfile dbp  --logistic  --ci 0.95  --out logreg.add.ci\n",
    "\n",
    "plink  --bfile dbp  --logistic  --covar dbp.age.pheno  --out logreg.age.add\n",
    "\n",
    "plink  --bfile dbp  --logistic  --sex  --out logreg.sex.add\n",
    "      \n",
    "plink  --bfile dbp  --logistic  --sex  --covar dbp.age.pheno  \\\n",
    "       --out logreg.sexage.add\n",
    "\n",
    "plink  --bfile dbp  --logistic  --condition rs1112  \\\n",
    "       --out logreg.snp1112.add\n",
    "      \n",
    "plink  --bfile dbp  --logistic  --condition rs1117  \\\n",
    "       --out logreg.snp1117.add\n",
    "      \n",
    "plink  --bfile dbp.qt  --linear  --sex  --out linreg.sex.add "
   ]
  },
  {
   "cell_type": "code",
   "execution_count": 27,
   "id": "6bcbde5f-786e-426f-853f-9f61f36141d6",
   "metadata": {
    "kernel": "R"
   },
   "outputs": [
    {
     "data": {
      "text/html": [
       "<style>\n",
       ".list-inline {list-style: none; margin:0; padding: 0}\n",
       ".list-inline>li {display: inline-block}\n",
       ".list-inline>li:not(:last-child)::after {content: \"\\00b7\"; padding: 0 .5ex}\n",
       "</style>\n",
       "<ol class=list-inline><li>'cities'</li><li>'city'</li><li>'country'</li><li>'dbp'</li><li>'new.table'</li></ol>\n"
      ],
      "text/latex": [
       "\\begin{enumerate*}\n",
       "\\item 'cities'\n",
       "\\item 'city'\n",
       "\\item 'country'\n",
       "\\item 'dbp'\n",
       "\\item 'new.table'\n",
       "\\end{enumerate*}\n"
      ],
      "text/markdown": [
       "1. 'cities'\n",
       "2. 'city'\n",
       "3. 'country'\n",
       "4. 'dbp'\n",
       "5. 'new.table'\n",
       "\n",
       "\n"
      ],
      "text/plain": [
       "[1] \"cities\"    \"city\"      \"country\"   \"dbp\"       \"new.table\""
      ]
     },
     "metadata": {},
     "output_type": "display_data"
    },
    {
     "data": {
      "text/html": [
       "<table class=\"dataframe\">\n",
       "<caption>A data.frame: 5 × 28</caption>\n",
       "<thead>\n",
       "\t<tr><th></th><th scope=col>fam</th><th scope=col>pid</th><th scope=col>fid</th><th scope=col>mid</th><th scope=col>sex</th><th scope=col>trait</th><th scope=col>affection</th><th scope=col>age</th><th scope=col>rs1101</th><th scope=col>rs1102</th><th scope=col>⋯</th><th scope=col>rs1111</th><th scope=col>rs1112</th><th scope=col>rs1113</th><th scope=col>rs1114</th><th scope=col>rs1115</th><th scope=col>rs1116</th><th scope=col>rs1117</th><th scope=col>rs1118</th><th scope=col>rs1119</th><th scope=col>rs1120</th></tr>\n",
       "\t<tr><th></th><th scope=col>&lt;int&gt;</th><th scope=col>&lt;int&gt;</th><th scope=col>&lt;int&gt;</th><th scope=col>&lt;int&gt;</th><th scope=col>&lt;fct&gt;</th><th scope=col>&lt;dbl&gt;</th><th scope=col>&lt;fct&gt;</th><th scope=col>&lt;int&gt;</th><th scope=col>&lt;fct&gt;</th><th scope=col>&lt;fct&gt;</th><th scope=col>⋯</th><th scope=col>&lt;fct&gt;</th><th scope=col>&lt;fct&gt;</th><th scope=col>&lt;fct&gt;</th><th scope=col>&lt;fct&gt;</th><th scope=col>&lt;fct&gt;</th><th scope=col>&lt;fct&gt;</th><th scope=col>&lt;fct&gt;</th><th scope=col>&lt;fct&gt;</th><th scope=col>&lt;fct&gt;</th><th scope=col>&lt;fct&gt;</th></tr>\n",
       "</thead>\n",
       "<tbody>\n",
       "\t<tr><th scope=row>4928</th><td>4928</td><td>1</td><td>0</td><td>0</td><td>1</td><td>85.51</td><td>1</td><td>66</td><td>4</td><td>2</td><td>⋯</td><td>3</td><td>3</td><td>3</td><td>3</td><td>3</td><td>4</td><td>2</td><td>3</td><td>3</td><td>3</td></tr>\n",
       "\t<tr><th scope=row>1838</th><td>1838</td><td>1</td><td>0</td><td>0</td><td>1</td><td>84.51</td><td>1</td><td>67</td><td>2</td><td>2</td><td>⋯</td><td>4</td><td>2</td><td>2</td><td>4</td><td>4</td><td>4</td><td>2</td><td>2</td><td>4</td><td>4</td></tr>\n",
       "\t<tr><th scope=row>2450</th><td>2450</td><td>1</td><td>0</td><td>0</td><td>1</td><td>84.30</td><td>1</td><td>89</td><td>2</td><td>2</td><td>⋯</td><td>4</td><td>3</td><td>3</td><td>4</td><td>3</td><td>4</td><td>2</td><td>3</td><td>3</td><td>3</td></tr>\n",
       "\t<tr><th scope=row>647</th><td> 647</td><td>1</td><td>0</td><td>0</td><td>2</td><td>89.14</td><td>1</td><td>36</td><td>4</td><td>4</td><td>⋯</td><td>2</td><td>3</td><td>3</td><td>2</td><td>3</td><td>4</td><td>3</td><td>3</td><td>4</td><td>3</td></tr>\n",
       "\t<tr><th scope=row>2772</th><td>2772</td><td>1</td><td>0</td><td>0</td><td>1</td><td>90.39</td><td>1</td><td>54</td><td>3</td><td>2</td><td>⋯</td><td>2</td><td>2</td><td>2</td><td>2</td><td>4</td><td>4</td><td>2</td><td>2</td><td>4</td><td>4</td></tr>\n",
       "</tbody>\n",
       "</table>\n"
      ],
      "text/latex": [
       "A data.frame: 5 × 28\n",
       "\\begin{tabular}{r|lllllllllllllllllllll}\n",
       "  & fam & pid & fid & mid & sex & trait & affection & age & rs1101 & rs1102 & ⋯ & rs1111 & rs1112 & rs1113 & rs1114 & rs1115 & rs1116 & rs1117 & rs1118 & rs1119 & rs1120\\\\\n",
       "  & <int> & <int> & <int> & <int> & <fct> & <dbl> & <fct> & <int> & <fct> & <fct> & ⋯ & <fct> & <fct> & <fct> & <fct> & <fct> & <fct> & <fct> & <fct> & <fct> & <fct>\\\\\n",
       "\\hline\n",
       "\t4928 & 4928 & 1 & 0 & 0 & 1 & 85.51 & 1 & 66 & 4 & 2 & ⋯ & 3 & 3 & 3 & 3 & 3 & 4 & 2 & 3 & 3 & 3\\\\\n",
       "\t1838 & 1838 & 1 & 0 & 0 & 1 & 84.51 & 1 & 67 & 2 & 2 & ⋯ & 4 & 2 & 2 & 4 & 4 & 4 & 2 & 2 & 4 & 4\\\\\n",
       "\t2450 & 2450 & 1 & 0 & 0 & 1 & 84.30 & 1 & 89 & 2 & 2 & ⋯ & 4 & 3 & 3 & 4 & 3 & 4 & 2 & 3 & 3 & 3\\\\\n",
       "\t647 &  647 & 1 & 0 & 0 & 2 & 89.14 & 1 & 36 & 4 & 4 & ⋯ & 2 & 3 & 3 & 2 & 3 & 4 & 3 & 3 & 4 & 3\\\\\n",
       "\t2772 & 2772 & 1 & 0 & 0 & 1 & 90.39 & 1 & 54 & 3 & 2 & ⋯ & 2 & 2 & 2 & 2 & 4 & 4 & 2 & 2 & 4 & 4\\\\\n",
       "\\end{tabular}\n"
      ],
      "text/markdown": [
       "\n",
       "A data.frame: 5 × 28\n",
       "\n",
       "| <!--/--> | fam &lt;int&gt; | pid &lt;int&gt; | fid &lt;int&gt; | mid &lt;int&gt; | sex &lt;fct&gt; | trait &lt;dbl&gt; | affection &lt;fct&gt; | age &lt;int&gt; | rs1101 &lt;fct&gt; | rs1102 &lt;fct&gt; | ⋯ ⋯ | rs1111 &lt;fct&gt; | rs1112 &lt;fct&gt; | rs1113 &lt;fct&gt; | rs1114 &lt;fct&gt; | rs1115 &lt;fct&gt; | rs1116 &lt;fct&gt; | rs1117 &lt;fct&gt; | rs1118 &lt;fct&gt; | rs1119 &lt;fct&gt; | rs1120 &lt;fct&gt; |\n",
       "|---|---|---|---|---|---|---|---|---|---|---|---|---|---|---|---|---|---|---|---|---|---|\n",
       "| 4928 | 4928 | 1 | 0 | 0 | 1 | 85.51 | 1 | 66 | 4 | 2 | ⋯ | 3 | 3 | 3 | 3 | 3 | 4 | 2 | 3 | 3 | 3 |\n",
       "| 1838 | 1838 | 1 | 0 | 0 | 1 | 84.51 | 1 | 67 | 2 | 2 | ⋯ | 4 | 2 | 2 | 4 | 4 | 4 | 2 | 2 | 4 | 4 |\n",
       "| 2450 | 2450 | 1 | 0 | 0 | 1 | 84.30 | 1 | 89 | 2 | 2 | ⋯ | 4 | 3 | 3 | 4 | 3 | 4 | 2 | 3 | 3 | 3 |\n",
       "| 647 |  647 | 1 | 0 | 0 | 2 | 89.14 | 1 | 36 | 4 | 4 | ⋯ | 2 | 3 | 3 | 2 | 3 | 4 | 3 | 3 | 4 | 3 |\n",
       "| 2772 | 2772 | 1 | 0 | 0 | 1 | 90.39 | 1 | 54 | 3 | 2 | ⋯ | 2 | 2 | 2 | 2 | 4 | 4 | 2 | 2 | 4 | 4 |\n",
       "\n"
      ],
      "text/plain": [
       "     fam  pid fid mid sex trait affection age rs1101 rs1102 ⋯ rs1111 rs1112\n",
       "4928 4928 1   0   0   1   85.51 1         66  4      2      ⋯ 3      3     \n",
       "1838 1838 1   0   0   1   84.51 1         67  2      2      ⋯ 4      2     \n",
       "2450 2450 1   0   0   1   84.30 1         89  2      2      ⋯ 4      3     \n",
       "647   647 1   0   0   2   89.14 1         36  4      4      ⋯ 2      3     \n",
       "2772 2772 1   0   0   1   90.39 1         54  3      2      ⋯ 2      2     \n",
       "     rs1113 rs1114 rs1115 rs1116 rs1117 rs1118 rs1119 rs1120\n",
       "4928 3      3      3      4      2      3      3      3     \n",
       "1838 2      4      4      4      2      2      4      4     \n",
       "2450 3      4      3      4      2      3      3      3     \n",
       "647  3      2      3      4      3      3      4      3     \n",
       "2772 2      2      4      4      2      2      4      4     "
      ]
     },
     "metadata": {},
     "output_type": "display_data"
    },
    {
     "data": {
      "text/plain": [
       "      fam            pid         fid         mid    sex         trait       \n",
       " Min.   :   1   Min.   :1   Min.   :0   Min.   :0   1:329   Min.   : 60.50  \n",
       " 1st Qu.:1250   1st Qu.:1   1st Qu.:0   1st Qu.:0   2:271   1st Qu.: 77.44  \n",
       " Median :2600   Median :1   Median :0   Median :0           Median : 82.00  \n",
       " Mean   :2536   Mean   :1   Mean   :0   Mean   :0           Mean   : 81.85  \n",
       " 3rd Qu.:3729   3rd Qu.:1   3rd Qu.:0   3rd Qu.:0           3rd Qu.: 86.09  \n",
       " Max.   :5000   Max.   :1   Max.   :0   Max.   :0           Max.   :101.49  \n",
       " affection      age        rs1101  rs1102  rs1103   rs1104    rs1105 \n",
       " 0:300     Min.   :18.00   2:115   2:317   2:165   2   : 32   2:118  \n",
       " 1:300     1st Qu.:38.00   3:311   3:249   3:309   3   :208   3:311  \n",
       "           Median :55.00   4:174   4: 34   4:126   4   :268   4:171  \n",
       "           Mean   :55.49                           NA's: 92          \n",
       "           3rd Qu.:74.00                                             \n",
       "           Max.   :90.00                                             \n",
       "  rs1106    rs1107  rs1108  rs1109  rs1110  rs1111  rs1112  rs1113  rs1114 \n",
       " 2   :399   2:430   2:163   2:113   2:112   2:194   2:297   2:321   2:210  \n",
       " 3   :141   3:157   3:298   3:305   3:323   3:290   3:251   3:236   3:279  \n",
       " 4   : 12   4: 13   4:139   4:182   4:165   4:116   4: 52   4: 43   4:111  \n",
       " NA's: 48                                                                  \n",
       "                                                                           \n",
       "                                                                           \n",
       " rs1115  rs1116  rs1117  rs1118  rs1119  rs1120 \n",
       " 2: 45   2:  4   2:396   2:305   2: 23   2: 57  \n",
       " 3:227   3: 88   3:190   3:249   3:176   3:249  \n",
       " 4:328   4:508   4: 14   4: 46   4:401   4:294  \n",
       "                                                \n",
       "                                                \n",
       "                                                "
      ]
     },
     "metadata": {},
     "output_type": "display_data"
    }
   ],
   "source": [
    "# R commands #\n",
    "\n",
    "load(\"dbp.R\")\n",
    "ls()\n",
    "dbp[1:5,]\n",
    "summary(dbp)"
   ]
  },
  {
   "cell_type": "code",
   "execution_count": 28,
   "id": "0d242128-5749-447e-a31f-fd8bf0e6a392",
   "metadata": {
    "kernel": "R",
    "scrolled": true
   },
   "outputs": [
    {
     "name": "stdout",
     "output_type": "stream",
     "text": [
      "\n",
      "Call:  glm(formula = affection ~ rs1112, family = binomial(\"logit\"), \n",
      "    data = dbp)\n",
      "\n",
      "Coefficients:\n",
      "(Intercept)      rs11123      rs11124  \n",
      "    -0.4449       0.7582       1.5435  \n",
      "\n",
      "Degrees of Freedom: 599 Total (i.e. Null);  597 Residual\n",
      "Null Deviance:\t    831.8 \n",
      "Residual Deviance: 797.7 \tAIC: 803.7\n",
      "[1] \"glm\" \"lm\" \n",
      "\n",
      "Call:\n",
      "glm(formula = affection ~ rs1112, family = binomial(\"logit\"), \n",
      "    data = dbp)\n",
      "\n",
      "Coefficients:\n",
      "            Estimate Std. Error z value Pr(>|z|)    \n",
      "(Intercept)  -0.4449     0.1189  -3.741 0.000183 ***\n",
      "rs11123       0.7582     0.1746   4.343 1.40e-05 ***\n",
      "rs11124       1.5435     0.3416   4.518 6.24e-06 ***\n",
      "---\n",
      "Signif. codes:  0 ‘***’ 0.001 ‘**’ 0.01 ‘*’ 0.05 ‘.’ 0.1 ‘ ’ 1\n",
      "\n",
      "(Dispersion parameter for binomial family taken to be 1)\n",
      "\n",
      "    Null deviance: 831.78  on 599  degrees of freedom\n",
      "Residual deviance: 797.75  on 597  degrees of freedom\n",
      "AIC: 803.75\n",
      "\n",
      "Number of Fisher Scoring iterations: 4\n",
      "\n",
      "[1] 4.077856e-08\n",
      "              Estimate Std. Error   z value     Pr(>|z|)\n",
      "(Intercept) -0.4449068  0.1189351 -3.740754 1.834691e-04\n",
      "rs11123      0.7582015  0.1745740  4.343154 1.404519e-05\n",
      "rs11124      1.5435191  0.3416277  4.518132 6.238747e-06\n",
      "  rs11123   rs11124 \n",
      "0.7582015 1.5435191 \n",
      " rs11123  rs11124 \n",
      "2.134434 4.681034 \n"
     ]
    },
    {
     "name": "stderr",
     "output_type": "stream",
     "text": [
      "Waiting for profiling to be done...\n",
      "\n"
     ]
    },
    {
     "name": "stdout",
     "output_type": "stream",
     "text": [
      "                 2.5 %     97.5 %\n",
      "(Intercept) -0.6802726 -0.2135169\n",
      "rs11123      0.4176220  1.1023701\n",
      "rs11124      0.8984800  2.2475097\n",
      "                2.5 %    97.5 %\n",
      "(Intercept) 0.5064789 0.8077385\n",
      "rs11123     1.5183466 3.0112947\n",
      "rs11124     2.4558674 9.4641382\n"
     ]
    },
    {
     "data": {
      "text/plain": [
       " affection rs1112 \n",
       " 0:300     2:297  \n",
       " 1:300     3:251  \n",
       "           4: 52  "
      ]
     },
     "metadata": {},
     "output_type": "display_data"
    },
    {
     "data": {
      "text/plain": [
       " affection     rs1112      \n",
       " 0:300     Min.   :0.0000  \n",
       " 1:300     1st Qu.:0.0000  \n",
       "           Median :1.0000  \n",
       "           Mean   :0.5917  \n",
       "           3rd Qu.:1.0000  \n",
       "           Max.   :2.0000  "
      ]
     },
     "metadata": {},
     "output_type": "display_data"
    },
    {
     "data": {
      "text/plain": [
       "\n",
       "Call:\n",
       "glm(formula = affection ~ rs1112, family = binomial(\"logit\"), \n",
       "    data = snp.data)\n",
       "\n",
       "Coefficients:\n",
       "            Estimate Std. Error z value Pr(>|z|)    \n",
       "(Intercept)  -0.4470     0.1142  -3.913 9.10e-05 ***\n",
       "rs1112        0.7652     0.1356   5.642 1.68e-08 ***\n",
       "---\n",
       "Signif. codes:  0 ‘***’ 0.001 ‘**’ 0.01 ‘*’ 0.05 ‘.’ 0.1 ‘ ’ 1\n",
       "\n",
       "(Dispersion parameter for binomial family taken to be 1)\n",
       "\n",
       "    Null deviance: 831.78  on 599  degrees of freedom\n",
       "Residual deviance: 797.75  on 598  degrees of freedom\n",
       "AIC: 801.75\n",
       "\n",
       "Number of Fisher Scoring iterations: 4\n"
      ]
     },
     "metadata": {},
     "output_type": "display_data"
    },
    {
     "name": "stdout",
     "output_type": "stream",
     "text": [
      "Analysis of Deviance Table\n",
      "\n",
      "Model: binomial, link: logit\n",
      "\n",
      "Response: affection\n",
      "\n",
      "Terms added sequentially (first to last)\n",
      "\n",
      "\n",
      "       Df Deviance Resid. Df Resid. Dev  Pr(>Chi)    \n",
      "NULL                     599     831.78              \n",
      "rs1112  1   34.026       598     797.75 5.438e-09 ***\n",
      "---\n",
      "Signif. codes:  0 ‘***’ 0.001 ‘**’ 0.01 ‘*’ 0.05 ‘.’ 0.1 ‘ ’ 1\n"
     ]
    }
   ],
   "source": [
    "# I. Logistic regression on a single SNP genotype #\n",
    "\n",
    "result.snp12 = glm (affection ~ rs1112, family=binomial(\"logit\"), data=dbp)\n",
    "print (result.snp12)\n",
    "\n",
    "print ( class  (result.snp12) )\n",
    "print ( summary(result.snp12) )\n",
    "\n",
    "dev.geno = anova (result.snp12, test=\"Chi\")\n",
    "lrt.pvalue = pchisq(dev.geno[dim(dev.geno)[1],\"Deviance\"], \n",
    "             df=2, ncp=0, FALSE) \n",
    "print ( lrt.pvalue )\n",
    "\n",
    "print ( summary(result.snp12)$coefficients )\n",
    "snp.beta = summary(result.snp12)$coefficients[2:3,1]\n",
    "print ( snp.beta )\n",
    "print ( exp(snp.beta) )\n",
    "\n",
    "ci = confint (result.snp12)\n",
    "print (ci) \n",
    "print ( exp(ci) )\n",
    "\n",
    "snp.data = dbp[,c(\"affection\", \"rs1112\")]\n",
    "summary(snp.data)\n",
    "\n",
    "snp.data[,\"rs1112\"] <- as.numeric(snp.data[,\"rs1112\"]) - 1\n",
    "summary(snp.data)\n",
    "\n",
    "result.all = glm (affection ~ rs1112, family=binomial(\"logit\"), \n",
    "                  data=snp.data)\n",
    "dev.all    = anova (result.all, test=\"Chi\")\n",
    "summary(result.all)   \n",
    "print(dev.all) "
   ]
  },
  {
   "cell_type": "code",
   "execution_count": 29,
   "id": "741314b9-6af4-4418-9bd6-75d7175737e7",
   "metadata": {
    "kernel": "R",
    "scrolled": true
   },
   "outputs": [
    {
     "data": {
      "text/plain": [
       " affection     trait        sex          age        rs1112  rs1117 \n",
       " 0:300     Min.   : 60.50   1:329   Min.   :18.00   2:297   2:396  \n",
       " 1:300     1st Qu.: 77.44   2:271   1st Qu.:38.00   3:251   3:190  \n",
       "           Median : 82.00           Median :55.00   4: 52   4: 14  \n",
       "           Mean   : 81.85           Mean   :55.49                  \n",
       "           3rd Qu.: 86.09           3rd Qu.:74.00                  \n",
       "           Max.   :101.49           Max.   :90.00                  "
      ]
     },
     "metadata": {},
     "output_type": "display_data"
    },
    {
     "data": {
      "text/plain": [
       "\n",
       "Call:\n",
       "glm(formula = affection ~ sex + rs1112, family = binomial(\"logit\"), \n",
       "    data = snp.data)\n",
       "\n",
       "Coefficients:\n",
       "            Estimate Std. Error z value Pr(>|z|)    \n",
       "(Intercept) -0.08386    0.13730  -0.611    0.541    \n",
       "sex2        -0.81412    0.17253  -4.719 2.37e-06 ***\n",
       "rs1112       0.77139    0.13840   5.574 2.49e-08 ***\n",
       "---\n",
       "Signif. codes:  0 ‘***’ 0.001 ‘**’ 0.01 ‘*’ 0.05 ‘.’ 0.1 ‘ ’ 1\n",
       "\n",
       "(Dispersion parameter for binomial family taken to be 1)\n",
       "\n",
       "    Null deviance: 831.78  on 599  degrees of freedom\n",
       "Residual deviance: 774.98  on 597  degrees of freedom\n",
       "AIC: 780.98\n",
       "\n",
       "Number of Fisher Scoring iterations: 4\n"
      ]
     },
     "metadata": {},
     "output_type": "display_data"
    },
    {
     "data": {
      "text/plain": [
       "\n",
       "Call:\n",
       "glm(formula = affection ~ age + rs1112, family = binomial(\"logit\"), \n",
       "    data = snp.data)\n",
       "\n",
       "Coefficients:\n",
       "             Estimate Std. Error z value Pr(>|z|)    \n",
       "(Intercept) -0.520422   0.250956  -2.074   0.0381 *  \n",
       "age          0.001322   0.004020   0.329   0.7423    \n",
       "rs1112       0.765189   0.135624   5.642 1.68e-08 ***\n",
       "---\n",
       "Signif. codes:  0 ‘***’ 0.001 ‘**’ 0.01 ‘*’ 0.05 ‘.’ 0.1 ‘ ’ 1\n",
       "\n",
       "(Dispersion parameter for binomial family taken to be 1)\n",
       "\n",
       "    Null deviance: 831.78  on 599  degrees of freedom\n",
       "Residual deviance: 797.64  on 597  degrees of freedom\n",
       "AIC: 803.64\n",
       "\n",
       "Number of Fisher Scoring iterations: 4\n"
      ]
     },
     "metadata": {},
     "output_type": "display_data"
    },
    {
     "data": {
      "text/plain": [
       "\n",
       "Call:\n",
       "glm(formula = affection ~ sex + age + rs1112, family = binomial(\"logit\"), \n",
       "    data = snp.data)\n",
       "\n",
       "Coefficients:\n",
       "             Estimate Std. Error z value Pr(>|z|)    \n",
       "(Intercept) -0.198133   0.263732  -0.751    0.452    \n",
       "sex2        -0.817603   0.172736  -4.733 2.21e-06 ***\n",
       "age          0.002084   0.004105   0.508    0.612    \n",
       "rs1112       0.771546   0.138411   5.574 2.48e-08 ***\n",
       "---\n",
       "Signif. codes:  0 ‘***’ 0.001 ‘**’ 0.01 ‘*’ 0.05 ‘.’ 0.1 ‘ ’ 1\n",
       "\n",
       "(Dispersion parameter for binomial family taken to be 1)\n",
       "\n",
       "    Null deviance: 831.78  on 599  degrees of freedom\n",
       "Residual deviance: 774.72  on 596  degrees of freedom\n",
       "AIC: 782.72\n",
       "\n",
       "Number of Fisher Scoring iterations: 4\n"
      ]
     },
     "metadata": {},
     "output_type": "display_data"
    },
    {
     "data": {
      "text/plain": [
       "\n",
       "Call:\n",
       "glm(formula = affection ~ rs1117 + rs1112, family = binomial(\"logit\"), \n",
       "    data = snp.data)\n",
       "\n",
       "Coefficients:\n",
       "            Estimate Std. Error z value Pr(>|z|)    \n",
       "(Intercept)  -0.4523     0.1144  -3.955 7.66e-05 ***\n",
       "rs1117        0.2853     0.2297   1.242  0.21431    \n",
       "rs1112        0.5999     0.1883   3.186  0.00144 ** \n",
       "---\n",
       "Signif. codes:  0 ‘***’ 0.001 ‘**’ 0.01 ‘*’ 0.05 ‘.’ 0.1 ‘ ’ 1\n",
       "\n",
       "(Dispersion parameter for binomial family taken to be 1)\n",
       "\n",
       "    Null deviance: 831.78  on 599  degrees of freedom\n",
       "Residual deviance: 796.21  on 597  degrees of freedom\n",
       "AIC: 802.21\n",
       "\n",
       "Number of Fisher Scoring iterations: 4\n"
      ]
     },
     "metadata": {},
     "output_type": "display_data"
    },
    {
     "data": {
      "text/html": [
       "<table class=\"dataframe\">\n",
       "<caption>A anova: 3 × 5</caption>\n",
       "<thead>\n",
       "\t<tr><th></th><th scope=col>Df</th><th scope=col>Deviance</th><th scope=col>Resid. Df</th><th scope=col>Resid. Dev</th><th scope=col>Pr(&gt;Chi)</th></tr>\n",
       "\t<tr><th></th><th scope=col>&lt;int&gt;</th><th scope=col>&lt;dbl&gt;</th><th scope=col>&lt;int&gt;</th><th scope=col>&lt;dbl&gt;</th><th scope=col>&lt;dbl&gt;</th></tr>\n",
       "</thead>\n",
       "<tbody>\n",
       "\t<tr><th scope=row>NULL</th><td>NA</td><td>      NA</td><td>599</td><td>831.7766</td><td>          NA</td></tr>\n",
       "\t<tr><th scope=row>rs1117</th><td> 1</td><td>25.06376</td><td>598</td><td>806.7129</td><td>5.546551e-07</td></tr>\n",
       "\t<tr><th scope=row>rs1112</th><td> 1</td><td>10.50081</td><td>597</td><td>796.2120</td><td>1.193220e-03</td></tr>\n",
       "</tbody>\n",
       "</table>\n"
      ],
      "text/latex": [
       "A anova: 3 × 5\n",
       "\\begin{tabular}{r|lllll}\n",
       "  & Df & Deviance & Resid. Df & Resid. Dev & Pr(>Chi)\\\\\n",
       "  & <int> & <dbl> & <int> & <dbl> & <dbl>\\\\\n",
       "\\hline\n",
       "\tNULL & NA &       NA & 599 & 831.7766 &           NA\\\\\n",
       "\trs1117 &  1 & 25.06376 & 598 & 806.7129 & 5.546551e-07\\\\\n",
       "\trs1112 &  1 & 10.50081 & 597 & 796.2120 & 1.193220e-03\\\\\n",
       "\\end{tabular}\n"
      ],
      "text/markdown": [
       "\n",
       "A anova: 3 × 5\n",
       "\n",
       "| <!--/--> | Df &lt;int&gt; | Deviance &lt;dbl&gt; | Resid. Df &lt;int&gt; | Resid. Dev &lt;dbl&gt; | Pr(&gt;Chi) &lt;dbl&gt; |\n",
       "|---|---|---|---|---|---|\n",
       "| NULL | NA |       NA | 599 | 831.7766 |           NA |\n",
       "| rs1117 |  1 | 25.06376 | 598 | 806.7129 | 5.546551e-07 |\n",
       "| rs1112 |  1 | 10.50081 | 597 | 796.2120 | 1.193220e-03 |\n",
       "\n"
      ],
      "text/plain": [
       "       Df Deviance Resid. Df Resid. Dev Pr(>Chi)    \n",
       "NULL   NA       NA 599       831.7766             NA\n",
       "rs1117  1 25.06376 598       806.7129   5.546551e-07\n",
       "rs1112  1 10.50081 597       796.2120   1.193220e-03"
      ]
     },
     "metadata": {},
     "output_type": "display_data"
    },
    {
     "data": {
      "text/plain": [
       "\n",
       "Call:\n",
       "glm(formula = affection ~ rs1112 + rs1117, family = binomial(\"logit\"), \n",
       "    data = snp.data)\n",
       "\n",
       "Coefficients:\n",
       "            Estimate Std. Error z value Pr(>|z|)    \n",
       "(Intercept)  -0.4523     0.1144  -3.955 7.66e-05 ***\n",
       "rs1112        0.5999     0.1883   3.186  0.00144 ** \n",
       "rs1117        0.2853     0.2297   1.242  0.21431    \n",
       "---\n",
       "Signif. codes:  0 ‘***’ 0.001 ‘**’ 0.01 ‘*’ 0.05 ‘.’ 0.1 ‘ ’ 1\n",
       "\n",
       "(Dispersion parameter for binomial family taken to be 1)\n",
       "\n",
       "    Null deviance: 831.78  on 599  degrees of freedom\n",
       "Residual deviance: 796.21  on 597  degrees of freedom\n",
       "AIC: 802.21\n",
       "\n",
       "Number of Fisher Scoring iterations: 4\n"
      ]
     },
     "metadata": {},
     "output_type": "display_data"
    },
    {
     "data": {
      "text/html": [
       "<table class=\"dataframe\">\n",
       "<caption>A anova: 3 × 5</caption>\n",
       "<thead>\n",
       "\t<tr><th></th><th scope=col>Df</th><th scope=col>Deviance</th><th scope=col>Resid. Df</th><th scope=col>Resid. Dev</th><th scope=col>Pr(&gt;Chi)</th></tr>\n",
       "\t<tr><th></th><th scope=col>&lt;int&gt;</th><th scope=col>&lt;dbl&gt;</th><th scope=col>&lt;int&gt;</th><th scope=col>&lt;dbl&gt;</th><th scope=col>&lt;dbl&gt;</th></tr>\n",
       "</thead>\n",
       "<tbody>\n",
       "\t<tr><th scope=row>NULL</th><td>NA</td><td>       NA</td><td>599</td><td>831.7766</td><td>          NA</td></tr>\n",
       "\t<tr><th scope=row>rs1112</th><td> 1</td><td>34.026174</td><td>598</td><td>797.7504</td><td>5.437568e-09</td></tr>\n",
       "\t<tr><th scope=row>rs1117</th><td> 1</td><td> 1.538401</td><td>597</td><td>796.2120</td><td>2.148560e-01</td></tr>\n",
       "</tbody>\n",
       "</table>\n"
      ],
      "text/latex": [
       "A anova: 3 × 5\n",
       "\\begin{tabular}{r|lllll}\n",
       "  & Df & Deviance & Resid. Df & Resid. Dev & Pr(>Chi)\\\\\n",
       "  & <int> & <dbl> & <int> & <dbl> & <dbl>\\\\\n",
       "\\hline\n",
       "\tNULL & NA &        NA & 599 & 831.7766 &           NA\\\\\n",
       "\trs1112 &  1 & 34.026174 & 598 & 797.7504 & 5.437568e-09\\\\\n",
       "\trs1117 &  1 &  1.538401 & 597 & 796.2120 & 2.148560e-01\\\\\n",
       "\\end{tabular}\n"
      ],
      "text/markdown": [
       "\n",
       "A anova: 3 × 5\n",
       "\n",
       "| <!--/--> | Df &lt;int&gt; | Deviance &lt;dbl&gt; | Resid. Df &lt;int&gt; | Resid. Dev &lt;dbl&gt; | Pr(&gt;Chi) &lt;dbl&gt; |\n",
       "|---|---|---|---|---|---|\n",
       "| NULL | NA |        NA | 599 | 831.7766 |           NA |\n",
       "| rs1112 |  1 | 34.026174 | 598 | 797.7504 | 5.437568e-09 |\n",
       "| rs1117 |  1 |  1.538401 | 597 | 796.2120 | 2.148560e-01 |\n",
       "\n"
      ],
      "text/plain": [
       "       Df Deviance  Resid. Df Resid. Dev Pr(>Chi)    \n",
       "NULL   NA        NA 599       831.7766             NA\n",
       "rs1112  1 34.026174 598       797.7504   5.437568e-09\n",
       "rs1117  1  1.538401 597       796.2120   2.148560e-01"
      ]
     },
     "metadata": {},
     "output_type": "display_data"
    }
   ],
   "source": [
    "# II. Adjustment for the effects of covariates and of other SNPs #\n",
    "\n",
    "snp.data = dbp[,c(\"affection\", \"trait\",\"sex\", \"age\", \"rs1112\", \"rs1117\")]\n",
    "summary(snp.data)\n",
    "\n",
    "snp.data[,\"rs1112\"] <- as.numeric(snp.data[,\"rs1112\"]) - 1\n",
    "snp.data[,\"rs1117\"] <- as.numeric(snp.data[,\"rs1117\"]) - 1\n",
    "\n",
    "result.adj = glm (affection ~ sex + rs1112      , family=binomial(\"logit\"), \n",
    "                  data=snp.data)\n",
    "summary(result.adj)\n",
    "\n",
    "result.adj = glm (affection ~ age + rs1112      , family=binomial(\"logit\"), \n",
    "                  data=snp.data)\n",
    "summary(result.adj)\n",
    "\n",
    "result.adj = glm (affection ~ sex + age + rs1112, family=binomial(\"logit\"), \n",
    "                  data=snp.data)\n",
    "summary(result.adj)\n",
    "\n",
    "result.adj = glm (affection ~ rs1117 + rs1112, family=binomial(\"logit\"), \n",
    "                  data=snp.data)\n",
    "summary(result.adj)\n",
    "anova (result.adj, test=\"Chi\")\n",
    "\n",
    "result.adj = glm (affection ~ rs1112 + rs1117, family=binomial(\"logit\"), \n",
    "                  data=snp.data)\n",
    "summary(result.adj)\n",
    "anova (result.adj, test=\"Chi\")"
   ]
  },
  {
   "cell_type": "code",
   "execution_count": 30,
   "id": "5c87db41-9d24-4e22-adba-d0a4220541d2",
   "metadata": {
    "kernel": "R"
   },
   "outputs": [
    {
     "data": {
      "text/plain": [
       "\n",
       "Call:\n",
       "lm(formula = trait ~ rs1112, data = snp.data)\n",
       "\n",
       "Residuals:\n",
       "     Min       1Q   Median       3Q      Max \n",
       "-22.5556  -3.9106   0.2194   4.0144  15.4809 \n",
       "\n",
       "Coefficients:\n",
       "            Estimate Std. Error t value Pr(>|t|)    \n",
       "(Intercept)  80.1021     0.3301 242.680  < 2e-16 ***\n",
       "rs1112        2.9535     0.3774   7.826 2.29e-14 ***\n",
       "---\n",
       "Signif. codes:  0 ‘***’ 0.001 ‘**’ 0.01 ‘*’ 0.05 ‘.’ 0.1 ‘ ’ 1\n",
       "\n",
       "Residual standard error: 5.954 on 598 degrees of freedom\n",
       "Multiple R-squared:  0.09291,\tAdjusted R-squared:  0.09139 \n",
       "F-statistic: 61.25 on 1 and 598 DF,  p-value: 2.292e-14\n"
      ]
     },
     "metadata": {},
     "output_type": "display_data"
    },
    {
     "data": {
      "text/plain": [
       "\n",
       "Call:\n",
       "lm(formula = trait ~ sex + rs1112, data = snp.data)\n",
       "\n",
       "Residuals:\n",
       "     Min       1Q   Median       3Q      Max \n",
       "-20.9404  -3.6272   0.2234   3.7815  16.3480 \n",
       "\n",
       "Coefficients:\n",
       "            Estimate Std. Error t value Pr(>|t|)    \n",
       "(Intercept)  81.4542     0.3904 208.654  < 2e-16 ***\n",
       "sex2         -2.8823     0.4748  -6.071 2.27e-09 ***\n",
       "rs1112        2.8685     0.3668   7.820 2.41e-14 ***\n",
       "---\n",
       "Signif. codes:  0 ‘***’ 0.001 ‘**’ 0.01 ‘*’ 0.05 ‘.’ 0.1 ‘ ’ 1\n",
       "\n",
       "Residual standard error: 5.784 on 597 degrees of freedom\n",
       "Multiple R-squared:  0.1456,\tAdjusted R-squared:  0.1428 \n",
       "F-statistic: 50.89 on 2 and 597 DF,  p-value: < 2.2e-16\n"
      ]
     },
     "metadata": {},
     "output_type": "display_data"
    }
   ],
   "source": [
    "# III. Analysis of quantitative instead of dichotomized trait #\n",
    "\n",
    "result.adj = lm (trait ~ rs1112      , data=snp.data)\n",
    "summary(result.adj)\n",
    "\n",
    "result.adj = lm (trait ~ sex + rs1112, data=snp.data)\n",
    "summary(result.adj)"
   ]
  },
  {
   "cell_type": "markdown",
   "id": "a648b504-da15-447d-a7b4-f147ffc7b4c4",
   "metadata": {
    "kernel": "R"
   },
   "source": [
    "# Regression II"
   ]
  },
  {
   "cell_type": "code",
   "execution_count": 31,
   "id": "f42435f8-e314-4b2c-914c-87a5a841e212",
   "metadata": {
    "kernel": "Bash"
   },
   "outputs": [
    {
     "name": "stdout",
     "output_type": "stream",
     "text": [
      "PLINK v1.90b6.21 64-bit (19 Oct 2020)          www.cog-genomics.org/plink/1.9/\n",
      "(C) 2005-2020 Shaun Purcell, Christopher Chang   GNU General Public License v3\n",
      "Logging to logreg.sex.inter.add.log.\n",
      "Options in effect:\n",
      "  --bfile dbp\n",
      "  --logistic sex interaction\n",
      "  --out logreg.sex.inter.add\n",
      "\n",
      "31376 MB RAM detected; reserving 15688 MB for main workspace.\n",
      "20 variants loaded from .bim file.\n",
      "600 people (329 males, 271 females) loaded from .fam.\n",
      "600 phenotype values loaded from .fam.\n",
      "Using 1 thread (no multithreaded calculations invoked).\n",
      "Before main variant filters, 600 founders and 0 nonfounders present.\n",
      "Calculating allele frequencies... 10111213141516171819202122232425262728293031323334353637383940414243444546474849505152535455565758596061626364656667686970717273747576777879808182838485868788899091929394959697989 done.\n",
      "Total genotyping rate is 0.988333.\n",
      "20 variants and 600 people pass filters and QC.\n",
      "Among remaining phenotypes, 300 are cases and 300 are controls.\n",
      "Writing logistic model association results to\n",
      "logreg.sex.inter.add.assoc.logistic ... done.\n",
      "PLINK v1.90b6.21 64-bit (19 Oct 2020)          www.cog-genomics.org/plink/1.9/\n",
      "(C) 2005-2020 Shaun Purcell, Christopher Chang   GNU General Public License v3\n",
      "Logging to logreg.snp1112.inter.add.log.\n",
      "Options in effect:\n",
      "  --bfile dbp\n",
      "  --condition rs1112\n",
      "  --logistic interaction\n",
      "  --out logreg.snp1112.inter.add\n",
      "\n",
      "31376 MB RAM detected; reserving 15688 MB for main workspace.\n",
      "20 variants loaded from .bim file.\n",
      "600 people (329 males, 271 females) loaded from .fam.\n",
      "600 phenotype values loaded from .fam.\n",
      "Using 1 thread (no multithreaded calculations invoked).\n",
      "Before main variant filters, 600 founders and 0 nonfounders present.\n",
      "Calculating allele frequencies... 10111213141516171819202122232425262728293031323334353637383940414243444546474849505152535455565758596061626364656667686970717273747576777879808182838485868788899091929394959697989 done.\n",
      "Total genotyping rate is 0.988333.\n",
      "20 variants and 600 people pass filters and QC.\n",
      "Among remaining phenotypes, 300 are cases and 300 are controls.\n",
      "Writing logistic model association results to\n",
      "logreg.snp1112.inter.add.assoc.logistic ... done.\n"
     ]
    }
   ],
   "source": [
    "# PLINK commands #\n",
    "\n",
    "plink  --bfile dbp  --logistic sex interaction  --out logreg.sex.inter.add\n",
    "\n",
    "plink  --bfile dbp  --logistic interaction  --condition rs1112  \\\n",
    "       --out logreg.snp1112.inter.add"
   ]
  },
  {
   "cell_type": "code",
   "execution_count": 32,
   "id": "79a8dab8-0916-4e75-9ece-2ae427de443a",
   "metadata": {
    "kernel": "R"
   },
   "outputs": [
    {
     "data": {
      "text/html": [
       "<style>\n",
       ".list-inline {list-style: none; margin:0; padding: 0}\n",
       ".list-inline>li {display: inline-block}\n",
       ".list-inline>li:not(:last-child)::after {content: \"\\00b7\"; padding: 0 .5ex}\n",
       "</style>\n",
       "<ol class=list-inline><li>'ci'</li><li>'cities'</li><li>'city'</li><li>'country'</li><li>'dbp'</li><li>'dev.all'</li><li>'dev.geno'</li><li>'lrt.pvalue'</li><li>'new.table'</li><li>'result.adj'</li><li>'result.all'</li><li>'result.snp12'</li><li>'snp.beta'</li><li>'snp.data'</li></ol>\n"
      ],
      "text/latex": [
       "\\begin{enumerate*}\n",
       "\\item 'ci'\n",
       "\\item 'cities'\n",
       "\\item 'city'\n",
       "\\item 'country'\n",
       "\\item 'dbp'\n",
       "\\item 'dev.all'\n",
       "\\item 'dev.geno'\n",
       "\\item 'lrt.pvalue'\n",
       "\\item 'new.table'\n",
       "\\item 'result.adj'\n",
       "\\item 'result.all'\n",
       "\\item 'result.snp12'\n",
       "\\item 'snp.beta'\n",
       "\\item 'snp.data'\n",
       "\\end{enumerate*}\n"
      ],
      "text/markdown": [
       "1. 'ci'\n",
       "2. 'cities'\n",
       "3. 'city'\n",
       "4. 'country'\n",
       "5. 'dbp'\n",
       "6. 'dev.all'\n",
       "7. 'dev.geno'\n",
       "8. 'lrt.pvalue'\n",
       "9. 'new.table'\n",
       "10. 'result.adj'\n",
       "11. 'result.all'\n",
       "12. 'result.snp12'\n",
       "13. 'snp.beta'\n",
       "14. 'snp.data'\n",
       "\n",
       "\n"
      ],
      "text/plain": [
       " [1] \"ci\"           \"cities\"       \"city\"         \"country\"      \"dbp\"         \n",
       " [6] \"dev.all\"      \"dev.geno\"     \"lrt.pvalue\"   \"new.table\"    \"result.adj\"  \n",
       "[11] \"result.all\"   \"result.snp12\" \"snp.beta\"     \"snp.data\"    "
      ]
     },
     "metadata": {},
     "output_type": "display_data"
    },
    {
     "data": {
      "text/html": [
       "<table class=\"dataframe\">\n",
       "<caption>A data.frame: 5 × 28</caption>\n",
       "<thead>\n",
       "\t<tr><th></th><th scope=col>fam</th><th scope=col>pid</th><th scope=col>fid</th><th scope=col>mid</th><th scope=col>sex</th><th scope=col>trait</th><th scope=col>affection</th><th scope=col>age</th><th scope=col>rs1101</th><th scope=col>rs1102</th><th scope=col>⋯</th><th scope=col>rs1111</th><th scope=col>rs1112</th><th scope=col>rs1113</th><th scope=col>rs1114</th><th scope=col>rs1115</th><th scope=col>rs1116</th><th scope=col>rs1117</th><th scope=col>rs1118</th><th scope=col>rs1119</th><th scope=col>rs1120</th></tr>\n",
       "\t<tr><th></th><th scope=col>&lt;int&gt;</th><th scope=col>&lt;int&gt;</th><th scope=col>&lt;int&gt;</th><th scope=col>&lt;int&gt;</th><th scope=col>&lt;fct&gt;</th><th scope=col>&lt;dbl&gt;</th><th scope=col>&lt;fct&gt;</th><th scope=col>&lt;int&gt;</th><th scope=col>&lt;fct&gt;</th><th scope=col>&lt;fct&gt;</th><th scope=col>⋯</th><th scope=col>&lt;fct&gt;</th><th scope=col>&lt;fct&gt;</th><th scope=col>&lt;fct&gt;</th><th scope=col>&lt;fct&gt;</th><th scope=col>&lt;fct&gt;</th><th scope=col>&lt;fct&gt;</th><th scope=col>&lt;fct&gt;</th><th scope=col>&lt;fct&gt;</th><th scope=col>&lt;fct&gt;</th><th scope=col>&lt;fct&gt;</th></tr>\n",
       "</thead>\n",
       "<tbody>\n",
       "\t<tr><th scope=row>4928</th><td>4928</td><td>1</td><td>0</td><td>0</td><td>1</td><td>85.51</td><td>1</td><td>66</td><td>4</td><td>2</td><td>⋯</td><td>3</td><td>3</td><td>3</td><td>3</td><td>3</td><td>4</td><td>2</td><td>3</td><td>3</td><td>3</td></tr>\n",
       "\t<tr><th scope=row>1838</th><td>1838</td><td>1</td><td>0</td><td>0</td><td>1</td><td>84.51</td><td>1</td><td>67</td><td>2</td><td>2</td><td>⋯</td><td>4</td><td>2</td><td>2</td><td>4</td><td>4</td><td>4</td><td>2</td><td>2</td><td>4</td><td>4</td></tr>\n",
       "\t<tr><th scope=row>2450</th><td>2450</td><td>1</td><td>0</td><td>0</td><td>1</td><td>84.30</td><td>1</td><td>89</td><td>2</td><td>2</td><td>⋯</td><td>4</td><td>3</td><td>3</td><td>4</td><td>3</td><td>4</td><td>2</td><td>3</td><td>3</td><td>3</td></tr>\n",
       "\t<tr><th scope=row>647</th><td> 647</td><td>1</td><td>0</td><td>0</td><td>2</td><td>89.14</td><td>1</td><td>36</td><td>4</td><td>4</td><td>⋯</td><td>2</td><td>3</td><td>3</td><td>2</td><td>3</td><td>4</td><td>3</td><td>3</td><td>4</td><td>3</td></tr>\n",
       "\t<tr><th scope=row>2772</th><td>2772</td><td>1</td><td>0</td><td>0</td><td>1</td><td>90.39</td><td>1</td><td>54</td><td>3</td><td>2</td><td>⋯</td><td>2</td><td>2</td><td>2</td><td>2</td><td>4</td><td>4</td><td>2</td><td>2</td><td>4</td><td>4</td></tr>\n",
       "</tbody>\n",
       "</table>\n"
      ],
      "text/latex": [
       "A data.frame: 5 × 28\n",
       "\\begin{tabular}{r|lllllllllllllllllllll}\n",
       "  & fam & pid & fid & mid & sex & trait & affection & age & rs1101 & rs1102 & ⋯ & rs1111 & rs1112 & rs1113 & rs1114 & rs1115 & rs1116 & rs1117 & rs1118 & rs1119 & rs1120\\\\\n",
       "  & <int> & <int> & <int> & <int> & <fct> & <dbl> & <fct> & <int> & <fct> & <fct> & ⋯ & <fct> & <fct> & <fct> & <fct> & <fct> & <fct> & <fct> & <fct> & <fct> & <fct>\\\\\n",
       "\\hline\n",
       "\t4928 & 4928 & 1 & 0 & 0 & 1 & 85.51 & 1 & 66 & 4 & 2 & ⋯ & 3 & 3 & 3 & 3 & 3 & 4 & 2 & 3 & 3 & 3\\\\\n",
       "\t1838 & 1838 & 1 & 0 & 0 & 1 & 84.51 & 1 & 67 & 2 & 2 & ⋯ & 4 & 2 & 2 & 4 & 4 & 4 & 2 & 2 & 4 & 4\\\\\n",
       "\t2450 & 2450 & 1 & 0 & 0 & 1 & 84.30 & 1 & 89 & 2 & 2 & ⋯ & 4 & 3 & 3 & 4 & 3 & 4 & 2 & 3 & 3 & 3\\\\\n",
       "\t647 &  647 & 1 & 0 & 0 & 2 & 89.14 & 1 & 36 & 4 & 4 & ⋯ & 2 & 3 & 3 & 2 & 3 & 4 & 3 & 3 & 4 & 3\\\\\n",
       "\t2772 & 2772 & 1 & 0 & 0 & 1 & 90.39 & 1 & 54 & 3 & 2 & ⋯ & 2 & 2 & 2 & 2 & 4 & 4 & 2 & 2 & 4 & 4\\\\\n",
       "\\end{tabular}\n"
      ],
      "text/markdown": [
       "\n",
       "A data.frame: 5 × 28\n",
       "\n",
       "| <!--/--> | fam &lt;int&gt; | pid &lt;int&gt; | fid &lt;int&gt; | mid &lt;int&gt; | sex &lt;fct&gt; | trait &lt;dbl&gt; | affection &lt;fct&gt; | age &lt;int&gt; | rs1101 &lt;fct&gt; | rs1102 &lt;fct&gt; | ⋯ ⋯ | rs1111 &lt;fct&gt; | rs1112 &lt;fct&gt; | rs1113 &lt;fct&gt; | rs1114 &lt;fct&gt; | rs1115 &lt;fct&gt; | rs1116 &lt;fct&gt; | rs1117 &lt;fct&gt; | rs1118 &lt;fct&gt; | rs1119 &lt;fct&gt; | rs1120 &lt;fct&gt; |\n",
       "|---|---|---|---|---|---|---|---|---|---|---|---|---|---|---|---|---|---|---|---|---|---|\n",
       "| 4928 | 4928 | 1 | 0 | 0 | 1 | 85.51 | 1 | 66 | 4 | 2 | ⋯ | 3 | 3 | 3 | 3 | 3 | 4 | 2 | 3 | 3 | 3 |\n",
       "| 1838 | 1838 | 1 | 0 | 0 | 1 | 84.51 | 1 | 67 | 2 | 2 | ⋯ | 4 | 2 | 2 | 4 | 4 | 4 | 2 | 2 | 4 | 4 |\n",
       "| 2450 | 2450 | 1 | 0 | 0 | 1 | 84.30 | 1 | 89 | 2 | 2 | ⋯ | 4 | 3 | 3 | 4 | 3 | 4 | 2 | 3 | 3 | 3 |\n",
       "| 647 |  647 | 1 | 0 | 0 | 2 | 89.14 | 1 | 36 | 4 | 4 | ⋯ | 2 | 3 | 3 | 2 | 3 | 4 | 3 | 3 | 4 | 3 |\n",
       "| 2772 | 2772 | 1 | 0 | 0 | 1 | 90.39 | 1 | 54 | 3 | 2 | ⋯ | 2 | 2 | 2 | 2 | 4 | 4 | 2 | 2 | 4 | 4 |\n",
       "\n"
      ],
      "text/plain": [
       "     fam  pid fid mid sex trait affection age rs1101 rs1102 ⋯ rs1111 rs1112\n",
       "4928 4928 1   0   0   1   85.51 1         66  4      2      ⋯ 3      3     \n",
       "1838 1838 1   0   0   1   84.51 1         67  2      2      ⋯ 4      2     \n",
       "2450 2450 1   0   0   1   84.30 1         89  2      2      ⋯ 4      3     \n",
       "647   647 1   0   0   2   89.14 1         36  4      4      ⋯ 2      3     \n",
       "2772 2772 1   0   0   1   90.39 1         54  3      2      ⋯ 2      2     \n",
       "     rs1113 rs1114 rs1115 rs1116 rs1117 rs1118 rs1119 rs1120\n",
       "4928 3      3      3      4      2      3      3      3     \n",
       "1838 2      4      4      4      2      2      4      4     \n",
       "2450 3      4      3      4      2      3      3      3     \n",
       "647  3      2      3      4      3      3      4      3     \n",
       "2772 2      2      4      4      2      2      4      4     "
      ]
     },
     "metadata": {},
     "output_type": "display_data"
    },
    {
     "data": {
      "text/plain": [
       "      fam            pid         fid         mid    sex         trait       \n",
       " Min.   :   1   Min.   :1   Min.   :0   Min.   :0   1:329   Min.   : 60.50  \n",
       " 1st Qu.:1250   1st Qu.:1   1st Qu.:0   1st Qu.:0   2:271   1st Qu.: 77.44  \n",
       " Median :2600   Median :1   Median :0   Median :0           Median : 82.00  \n",
       " Mean   :2536   Mean   :1   Mean   :0   Mean   :0           Mean   : 81.85  \n",
       " 3rd Qu.:3729   3rd Qu.:1   3rd Qu.:0   3rd Qu.:0           3rd Qu.: 86.09  \n",
       " Max.   :5000   Max.   :1   Max.   :0   Max.   :0           Max.   :101.49  \n",
       " affection      age        rs1101  rs1102  rs1103   rs1104    rs1105 \n",
       " 0:300     Min.   :18.00   2:115   2:317   2:165   2   : 32   2:118  \n",
       " 1:300     1st Qu.:38.00   3:311   3:249   3:309   3   :208   3:311  \n",
       "           Median :55.00   4:174   4: 34   4:126   4   :268   4:171  \n",
       "           Mean   :55.49                           NA's: 92          \n",
       "           3rd Qu.:74.00                                             \n",
       "           Max.   :90.00                                             \n",
       "  rs1106    rs1107  rs1108  rs1109  rs1110  rs1111  rs1112  rs1113  rs1114 \n",
       " 2   :399   2:430   2:163   2:113   2:112   2:194   2:297   2:321   2:210  \n",
       " 3   :141   3:157   3:298   3:305   3:323   3:290   3:251   3:236   3:279  \n",
       " 4   : 12   4: 13   4:139   4:182   4:165   4:116   4: 52   4: 43   4:111  \n",
       " NA's: 48                                                                  \n",
       "                                                                           \n",
       "                                                                           \n",
       " rs1115  rs1116  rs1117  rs1118  rs1119  rs1120 \n",
       " 2: 45   2:  4   2:396   2:305   2: 23   2: 57  \n",
       " 3:227   3: 88   3:190   3:249   3:176   3:249  \n",
       " 4:328   4:508   4: 14   4: 46   4:401   4:294  \n",
       "                                                \n",
       "                                                \n",
       "                                                "
      ]
     },
     "metadata": {},
     "output_type": "display_data"
    },
    {
     "data": {
      "text/plain": [
       "\n",
       "Call:\n",
       "glm(formula = affection ~ sex * rs1112, family = binomial(\"logit\"), \n",
       "    data = snp.data)\n",
       "\n",
       "Coefficients:\n",
       "            Estimate Std. Error z value Pr(>|z|)    \n",
       "(Intercept) -0.09415    0.15371  -0.613 0.540174    \n",
       "sex2        -0.79026    0.23515  -3.361 0.000777 ***\n",
       "rs1112       0.79049    0.18896   4.183 2.87e-05 ***\n",
       "sex2:rs1112 -0.04141    0.27771  -0.149 0.881472    \n",
       "---\n",
       "Signif. codes:  0 ‘***’ 0.001 ‘**’ 0.01 ‘*’ 0.05 ‘.’ 0.1 ‘ ’ 1\n",
       "\n",
       "(Dispersion parameter for binomial family taken to be 1)\n",
       "\n",
       "    Null deviance: 831.78  on 599  degrees of freedom\n",
       "Residual deviance: 774.96  on 596  degrees of freedom\n",
       "AIC: 782.96\n",
       "\n",
       "Number of Fisher Scoring iterations: 4\n"
      ]
     },
     "metadata": {},
     "output_type": "display_data"
    },
    {
     "data": {
      "text/plain": [
       "\n",
       "Call:\n",
       "glm(formula = affection ~ age * rs1112, family = binomial(\"logit\"), \n",
       "    data = snp.data)\n",
       "\n",
       "Coefficients:\n",
       "             Estimate Std. Error z value Pr(>|z|)   \n",
       "(Intercept) -0.764365   0.328207  -2.329  0.01986 * \n",
       "age          0.005719   0.005508   1.038  0.29909   \n",
       "rs1112       1.193715   0.393377   3.035  0.00241 **\n",
       "age:rs1112  -0.007716   0.006585  -1.172  0.24130   \n",
       "---\n",
       "Signif. codes:  0 ‘***’ 0.001 ‘**’ 0.01 ‘*’ 0.05 ‘.’ 0.1 ‘ ’ 1\n",
       "\n",
       "(Dispersion parameter for binomial family taken to be 1)\n",
       "\n",
       "    Null deviance: 831.78  on 599  degrees of freedom\n",
       "Residual deviance: 796.26  on 596  degrees of freedom\n",
       "AIC: 804.26\n",
       "\n",
       "Number of Fisher Scoring iterations: 4\n"
      ]
     },
     "metadata": {},
     "output_type": "display_data"
    },
    {
     "data": {
      "text/plain": [
       "\n",
       "Call:\n",
       "glm(formula = affection ~ rs1112 * rs1117, family = binomial(\"logit\"), \n",
       "    data = snp.data)\n",
       "\n",
       "Coefficients:\n",
       "              Estimate Std. Error z value Pr(>|z|)    \n",
       "(Intercept)   -0.45855    0.11749  -3.903  9.5e-05 ***\n",
       "rs1112         0.61285    0.19612   3.125  0.00178 ** \n",
       "rs1117         0.37232    0.43522   0.855  0.39228    \n",
       "rs1112:rs1117 -0.07464    0.31590  -0.236  0.81323    \n",
       "---\n",
       "Signif. codes:  0 ‘***’ 0.001 ‘**’ 0.01 ‘*’ 0.05 ‘.’ 0.1 ‘ ’ 1\n",
       "\n",
       "(Dispersion parameter for binomial family taken to be 1)\n",
       "\n",
       "    Null deviance: 831.78  on 599  degrees of freedom\n",
       "Residual deviance: 796.16  on 596  degrees of freedom\n",
       "AIC: 804.16\n",
       "\n",
       "Number of Fisher Scoring iterations: 4\n"
      ]
     },
     "metadata": {},
     "output_type": "display_data"
    },
    {
     "data": {
      "text/plain": [
       "\n",
       "Call:\n",
       "glm(formula = affection ~ sex + age + rs1112 + rs1117, family = binomial(\"logit\"), \n",
       "    data = snp.data)\n",
       "\n",
       "Coefficients:\n",
       "             Estimate Std. Error z value Pr(>|z|)    \n",
       "(Intercept) -0.211378   0.264220  -0.800  0.42371    \n",
       "sex2        -0.808941   0.173019  -4.675 2.93e-06 ***\n",
       "age          0.002183   0.004109   0.531  0.59519    \n",
       "rs1112       0.635080   0.193437   3.283  0.00103 ** \n",
       "rs1117       0.233915   0.235438   0.994  0.32045    \n",
       "---\n",
       "Signif. codes:  0 ‘***’ 0.001 ‘**’ 0.01 ‘*’ 0.05 ‘.’ 0.1 ‘ ’ 1\n",
       "\n",
       "(Dispersion parameter for binomial family taken to be 1)\n",
       "\n",
       "    Null deviance: 831.78  on 599  degrees of freedom\n",
       "Residual deviance: 773.74  on 595  degrees of freedom\n",
       "AIC: 783.74\n",
       "\n",
       "Number of Fisher Scoring iterations: 4\n"
      ]
     },
     "metadata": {},
     "output_type": "display_data"
    },
    {
     "name": "stdout",
     "output_type": "stream",
     "text": [
      "Start:  AIC=783.74\n",
      "affection ~ sex + age + rs1112 + rs1117\n",
      "\n",
      "         Df Deviance    AIC\n",
      "- age     1   774.02 782.02\n",
      "- rs1117  1   774.72 782.72\n",
      "<none>        773.74 783.74\n",
      "- rs1112  1   784.97 792.97\n",
      "- sex     1   796.08 804.08\n",
      "\n",
      "Step:  AIC=782.02\n",
      "affection ~ sex + rs1112 + rs1117\n",
      "\n",
      "         Df Deviance    AIC\n",
      "- rs1117  1   774.98 780.98\n",
      "<none>        774.02 782.02\n",
      "- rs1112  1   785.34 791.34\n",
      "- sex     1   796.21 802.21\n",
      "\n",
      "Step:  AIC=780.98\n",
      "affection ~ sex + rs1112\n",
      "\n",
      "         Df Deviance    AIC\n",
      "<none>        774.98 780.98\n",
      "- sex     1   797.75 801.75\n",
      "- rs1112  1   808.19 812.19\n"
     ]
    },
    {
     "data": {
      "text/plain": [
       "\n",
       "Call:\n",
       "glm(formula = affection ~ sex + rs1112, family = binomial(\"logit\"), \n",
       "    data = snp.data)\n",
       "\n",
       "Coefficients:\n",
       "            Estimate Std. Error z value Pr(>|z|)    \n",
       "(Intercept) -0.08386    0.13730  -0.611    0.541    \n",
       "sex2        -0.81412    0.17253  -4.719 2.37e-06 ***\n",
       "rs1112       0.77139    0.13840   5.574 2.49e-08 ***\n",
       "---\n",
       "Signif. codes:  0 ‘***’ 0.001 ‘**’ 0.01 ‘*’ 0.05 ‘.’ 0.1 ‘ ’ 1\n",
       "\n",
       "(Dispersion parameter for binomial family taken to be 1)\n",
       "\n",
       "    Null deviance: 831.78  on 599  degrees of freedom\n",
       "Residual deviance: 774.98  on 597  degrees of freedom\n",
       "AIC: 780.98\n",
       "\n",
       "Number of Fisher Scoring iterations: 4\n"
      ]
     },
     "metadata": {},
     "output_type": "display_data"
    }
   ],
   "source": [
    "# R commands #\n",
    "\n",
    "load(\"dbp.R\")\n",
    "ls()\n",
    "dbp[1:5,]\n",
    "summary(dbp)\n",
    "\n",
    "# IV. Gene-environment (GxE) and gene-gene (GxG) interaction #\n",
    "\n",
    "result.inter = glm (affection ~ sex * rs1112, family=binomial(\"logit\"), \n",
    "                    data=snp.data)\n",
    "summary(result.inter)\n",
    "\n",
    "result.inter = glm (affection ~ age * rs1112, family=binomial(\"logit\"), \n",
    "                    data=snp.data)\n",
    "summary(result.inter)\n",
    "\n",
    "result.inter = glm (affection ~ rs1112 * rs1117, family=binomial(\"logit\"), \n",
    "                    data=snp.data)\n",
    "summary(result.inter)\n",
    "\n",
    "result.reg = glm (affection ~ sex + age + rs1112 + rs1117, \n",
    "                  family=binomial(\"logit\"), data=snp.data)\n",
    "summary(result.reg)\n",
    "\n",
    "modelchoice.result <- step (result.reg)\n",
    "summary(modelchoice.result)"
   ]
  },
  {
   "cell_type": "markdown",
   "id": "b674d6dc-52c3-4537-a8d2-85c4a48d7227",
   "metadata": {
    "kernel": "R"
   },
   "source": [
    "# Multiple testing"
   ]
  },
  {
   "cell_type": "code",
   "execution_count": 35,
   "id": "7bd5e4b0-f6f1-4e08-915e-2419af0a3dbe",
   "metadata": {
    "kernel": "Bash",
    "scrolled": true
   },
   "outputs": [
    {
     "name": "stdout",
     "output_type": "stream",
     "text": [
      "PLINK v1.90b6.21 64-bit (19 Oct 2020)          www.cog-genomics.org/plink/1.9/\n",
      "(C) 2005-2020 Shaun Purcell, Christopher Chang   GNU General Public License v3\n",
      "Logging to multtest.log.\n",
      "Options in effect:\n",
      "  --adjust\n",
      "  --assoc\n",
      "  --bfile dbp\n",
      "  --out multtest\n",
      "\n",
      "31376 MB RAM detected; reserving 15688 MB for main workspace.\n",
      "20 variants loaded from .bim file.\n",
      "600 people (329 males, 271 females) loaded from .fam.\n",
      "600 phenotype values loaded from .fam.\n",
      "Using 1 thread (no multithreaded calculations invoked).\n",
      "Before main variant filters, 600 founders and 0 nonfounders present.\n",
      "Calculating allele frequencies... 10111213141516171819202122232425262728293031323334353637383940414243444546474849505152535455565758596061626364656667686970717273747576777879808182838485868788899091929394959697989 done.\n",
      "Total genotyping rate is 0.988333.\n",
      "20 variants and 600 people pass filters and QC.\n",
      "Among remaining phenotypes, 300 are cases and 300 are controls.\n",
      "Writing C/C --assoc report to multtest.assoc ... done.\n",
      "--adjust: Genomic inflation est. lambda (based on median chisq) = 2.21183.\n",
      "101112131415161718192021222324252627282930313233343536373839404142434445464748495051525354555657585960616263646566676869707172737475767778798081828384858687888990919293949596979899--adjust values (20 variants) written to multtest.assoc.adjusted .\n",
      "PLINK v1.90b6.21 64-bit (19 Oct 2020)          www.cog-genomics.org/plink/1.9/\n",
      "(C) 2005-2020 Shaun Purcell, Christopher Chang   GNU General Public License v3\n",
      "Logging to multperm5000.log.\n",
      "Options in effect:\n",
      "  --assoc\n",
      "  --bfile dbp\n",
      "  --mperm 5000\n",
      "  --out multperm5000\n",
      "\n",
      "Note: --mperm flag deprecated.  Use e.g. \"--model mperm=<value>\".\n",
      "31376 MB RAM detected; reserving 15688 MB for main workspace.\n",
      "20 variants loaded from .bim file.\n",
      "600 people (329 males, 271 females) loaded from .fam.\n",
      "600 phenotype values loaded from .fam.\n",
      "Using up to 4 threads (change this with --threads).\n",
      "Before main variant filters, 600 founders and 0 nonfounders present.\n",
      "Calculating allele frequencies... 10111213141516171819202122232425262728293031323334353637383940414243444546474849505152535455565758596061626364656667686970717273747576777879808182838485868788899091929394959697989 done.\n",
      "Total genotyping rate is 0.988333.\n",
      "20 variants and 600 people pass filters and QC.\n",
      "Among remaining phenotypes, 300 are cases and 300 are controls.\n",
      "Writing C/C --assoc report to multperm5000.assoc ... [generating permutations                        done.\n",
      "5000 max(T) permutations complete.\n",
      "Permutation test report written to multperm5000.assoc.mperm .\n",
      "PLINK v1.90b6.21 64-bit (19 Oct 2020)          www.cog-genomics.org/plink/1.9/\n",
      "(C) 2005-2020 Shaun Purcell, Christopher Chang   GNU General Public License v3\n",
      "Logging to multperm100000.log.\n",
      "Options in effect:\n",
      "  --assoc\n",
      "  --bfile dbp\n",
      "  --mperm 100000\n",
      "  --out multperm100000\n",
      "\n",
      "Note: --mperm flag deprecated.  Use e.g. \"--model mperm=<value>\".\n",
      "31376 MB RAM detected; reserving 15688 MB for main workspace.\n",
      "20 variants loaded from .bim file.\n",
      "600 people (329 males, 271 females) loaded from .fam.\n",
      "600 phenotype values loaded from .fam.\n",
      "Using up to 4 threads (change this with --threads).\n",
      "Before main variant filters, 600 founders and 0 nonfounders present.\n",
      "Calculating allele frequencies... 10111213141516171819202122232425262728293031323334353637383940414243444546474849505152535455565758596061626364656667686970717273747576777879808182838485868788899091929394959697989 done.\n",
      "Total genotyping rate is 0.988333.\n",
      "20 variants and 600 people pass filters and QC.\n",
      "Among remaining phenotypes, 300 are cases and 300 are controls.\n",
      "Writing C/C --assoc report to multperm100000.assoc ...\n",
      "[generating permutations                        done.\n",
      "100000 max(T) permutations complete.\n",
      "Permutation test report written to multperm100000.assoc.mperm .\n"
     ]
    }
   ],
   "source": [
    "# PLINK commands #\n",
    "\n",
    "plink  --bfile dbp  --assoc  --adjust  --out multtest\n",
    "\n",
    "plink  --bfile dbp  --assoc  --mperm   5000  --out multperm5000\n",
    "plink  --bfile dbp  --assoc  --mperm 100000  --out multperm100000"
   ]
  },
  {
   "cell_type": "code",
   "execution_count": 36,
   "id": "b596593f-ff10-46df-afe8-d7245a75e746",
   "metadata": {
    "kernel": "R",
    "scrolled": true
   },
   "outputs": [
    {
     "data": {
      "text/html": [
       "<style>\n",
       ".list-inline {list-style: none; margin:0; padding: 0}\n",
       ".list-inline>li {display: inline-block}\n",
       ".list-inline>li:not(:last-child)::after {content: \"\\00b7\"; padding: 0 .5ex}\n",
       "</style>\n",
       "<ol class=list-inline><li>'adj.p.values'</li><li>'ci'</li><li>'cities'</li><li>'city'</li><li>'country'</li><li>'dbp'</li><li>'dev.all'</li><li>'dev.geno'</li><li>'lrt.pvalue'</li><li>'modelchoice.result'</li><li>'new.table'</li><li>'p.values'</li><li>'result.adj'</li><li>'result.all'</li><li>'result.inter'</li><li>'result.reg'</li><li>'result.snp12'</li><li>'snp.beta'</li><li>'snp.data'</li></ol>\n"
      ],
      "text/latex": [
       "\\begin{enumerate*}\n",
       "\\item 'adj.p.values'\n",
       "\\item 'ci'\n",
       "\\item 'cities'\n",
       "\\item 'city'\n",
       "\\item 'country'\n",
       "\\item 'dbp'\n",
       "\\item 'dev.all'\n",
       "\\item 'dev.geno'\n",
       "\\item 'lrt.pvalue'\n",
       "\\item 'modelchoice.result'\n",
       "\\item 'new.table'\n",
       "\\item 'p.values'\n",
       "\\item 'result.adj'\n",
       "\\item 'result.all'\n",
       "\\item 'result.inter'\n",
       "\\item 'result.reg'\n",
       "\\item 'result.snp12'\n",
       "\\item 'snp.beta'\n",
       "\\item 'snp.data'\n",
       "\\end{enumerate*}\n"
      ],
      "text/markdown": [
       "1. 'adj.p.values'\n",
       "2. 'ci'\n",
       "3. 'cities'\n",
       "4. 'city'\n",
       "5. 'country'\n",
       "6. 'dbp'\n",
       "7. 'dev.all'\n",
       "8. 'dev.geno'\n",
       "9. 'lrt.pvalue'\n",
       "10. 'modelchoice.result'\n",
       "11. 'new.table'\n",
       "12. 'p.values'\n",
       "13. 'result.adj'\n",
       "14. 'result.all'\n",
       "15. 'result.inter'\n",
       "16. 'result.reg'\n",
       "17. 'result.snp12'\n",
       "18. 'snp.beta'\n",
       "19. 'snp.data'\n",
       "\n",
       "\n"
      ],
      "text/plain": [
       " [1] \"adj.p.values\"       \"ci\"                 \"cities\"            \n",
       " [4] \"city\"               \"country\"            \"dbp\"               \n",
       " [7] \"dev.all\"            \"dev.geno\"           \"lrt.pvalue\"        \n",
       "[10] \"modelchoice.result\" \"new.table\"          \"p.values\"          \n",
       "[13] \"result.adj\"         \"result.all\"         \"result.inter\"      \n",
       "[16] \"result.reg\"         \"result.snp12\"       \"snp.beta\"          \n",
       "[19] \"snp.data\"          "
      ]
     },
     "metadata": {},
     "output_type": "display_data"
    },
    {
     "data": {
      "text/html": [
       "<style>\n",
       ".dl-inline {width: auto; margin:0; padding: 0}\n",
       ".dl-inline>dt, .dl-inline>dd {float: none; width: auto; display: inline-block}\n",
       ".dl-inline>dt::after {content: \":\\0020\"; padding-right: .5ex}\n",
       ".dl-inline>dt:not(:first-of-type) {padding-left: .5ex}\n",
       "</style><dl class=dl-inline><dt>rs1101</dt><dd>0.727767184900155</dd><dt>rs1102</dt><dd>0.895813636541142</dd><dt>rs1103</dt><dd>0.417938267564241</dd><dt>rs1104</dt><dd>0.0764946813527882</dd><dt>rs1105</dt><dd>0.728013219641864</dd><dt>rs1106</dt><dd>0.697927803082261</dd><dt>rs1107</dt><dd>0.421986429836439</dd><dt>rs1108</dt><dd>0.183858124913274</dd><dt>rs1109</dt><dd>1</dd><dt>rs1110</dt><dd>0.642867853505791</dd><dt>rs1111</dt><dd>0.770939813296444</dd><dt>rs1112</dt><dd>1.2531222821099e-08</dd><dt>rs1113</dt><dd>0.000204365092165807</dd><dt>rs1114</dt><dd>0.292032848138028</dd><dt>rs1115</dt><dd>6.4858440199267e-07</dd><dt>rs1116</dt><dd>0.915259386777456</dd><dt>rs1117</dt><dd>2.39586575046428e-06</dd><dt>rs1118</dt><dd>0.000337977808146923</dd><dt>rs1119</dt><dd>0.000149720016461974</dd><dt>rs1120</dt><dd>0.00043260361962047</dd></dl>\n"
      ],
      "text/latex": [
       "\\begin{description*}\n",
       "\\item[rs1101] 0.727767184900155\n",
       "\\item[rs1102] 0.895813636541142\n",
       "\\item[rs1103] 0.417938267564241\n",
       "\\item[rs1104] 0.0764946813527882\n",
       "\\item[rs1105] 0.728013219641864\n",
       "\\item[rs1106] 0.697927803082261\n",
       "\\item[rs1107] 0.421986429836439\n",
       "\\item[rs1108] 0.183858124913274\n",
       "\\item[rs1109] 1\n",
       "\\item[rs1110] 0.642867853505791\n",
       "\\item[rs1111] 0.770939813296444\n",
       "\\item[rs1112] 1.2531222821099e-08\n",
       "\\item[rs1113] 0.000204365092165807\n",
       "\\item[rs1114] 0.292032848138028\n",
       "\\item[rs1115] 6.4858440199267e-07\n",
       "\\item[rs1116] 0.915259386777456\n",
       "\\item[rs1117] 2.39586575046428e-06\n",
       "\\item[rs1118] 0.000337977808146923\n",
       "\\item[rs1119] 0.000149720016461974\n",
       "\\item[rs1120] 0.00043260361962047\n",
       "\\end{description*}\n"
      ],
      "text/markdown": [
       "rs1101\n",
       ":   0.727767184900155rs1102\n",
       ":   0.895813636541142rs1103\n",
       ":   0.417938267564241rs1104\n",
       ":   0.0764946813527882rs1105\n",
       ":   0.728013219641864rs1106\n",
       ":   0.697927803082261rs1107\n",
       ":   0.421986429836439rs1108\n",
       ":   0.183858124913274rs1109\n",
       ":   1rs1110\n",
       ":   0.642867853505791rs1111\n",
       ":   0.770939813296444rs1112\n",
       ":   1.2531222821099e-08rs1113\n",
       ":   0.000204365092165807rs1114\n",
       ":   0.292032848138028rs1115\n",
       ":   6.4858440199267e-07rs1116\n",
       ":   0.915259386777456rs1117\n",
       ":   2.39586575046428e-06rs1118\n",
       ":   0.000337977808146923rs1119\n",
       ":   0.000149720016461974rs1120\n",
       ":   0.00043260361962047\n",
       "\n"
      ],
      "text/plain": [
       "      rs1101       rs1102       rs1103       rs1104       rs1105       rs1106 \n",
       "7.277672e-01 8.958136e-01 4.179383e-01 7.649468e-02 7.280132e-01 6.979278e-01 \n",
       "      rs1107       rs1108       rs1109       rs1110       rs1111       rs1112 \n",
       "4.219864e-01 1.838581e-01 1.000000e+00 6.428679e-01 7.709398e-01 1.253122e-08 \n",
       "      rs1113       rs1114       rs1115       rs1116       rs1117       rs1118 \n",
       "2.043651e-04 2.920328e-01 6.485844e-07 9.152594e-01 2.395866e-06 3.379778e-04 \n",
       "      rs1119       rs1120 \n",
       "1.497200e-04 4.326036e-04 "
      ]
     },
     "metadata": {},
     "output_type": "display_data"
    },
    {
     "data": {
      "text/html": [
       "<dl>\n",
       "\t<dt>$adjp</dt>\n",
       "\t\t<dd><table class=\"dataframe\">\n",
       "<caption>A matrix: 20 × 5 of type dbl</caption>\n",
       "<thead>\n",
       "\t<tr><th scope=col>rawp</th><th scope=col>Bonferroni</th><th scope=col>Holm</th><th scope=col>SidakSS</th><th scope=col>BH</th></tr>\n",
       "</thead>\n",
       "<tbody>\n",
       "\t<tr><td>1.253122e-08</td><td>2.506245e-07</td><td>2.506245e-07</td><td>2.506244e-07</td><td>2.506245e-07</td></tr>\n",
       "\t<tr><td>6.485844e-07</td><td>1.297169e-05</td><td>1.232310e-05</td><td>1.297161e-05</td><td>6.485844e-06</td></tr>\n",
       "\t<tr><td>2.395866e-06</td><td>4.791732e-05</td><td>4.312558e-05</td><td>4.791622e-05</td><td>1.597244e-05</td></tr>\n",
       "\t<tr><td>1.497200e-04</td><td>2.994400e-03</td><td>2.545240e-03</td><td>2.990145e-03</td><td>7.486001e-04</td></tr>\n",
       "\t<tr><td>2.043651e-04</td><td>4.087302e-03</td><td>3.269841e-03</td><td>4.079376e-03</td><td>8.174604e-04</td></tr>\n",
       "\t<tr><td>3.379778e-04</td><td>6.759556e-03</td><td>5.069667e-03</td><td>6.737897e-03</td><td>1.126593e-03</td></tr>\n",
       "\t<tr><td>4.326036e-04</td><td>8.652072e-03</td><td>6.056451e-03</td><td>8.616607e-03</td><td>1.236010e-03</td></tr>\n",
       "\t<tr><td>7.649468e-02</td><td>1.000000e+00</td><td>9.944309e-01</td><td>7.963952e-01</td><td>1.912367e-01</td></tr>\n",
       "\t<tr><td>1.838581e-01</td><td>1.000000e+00</td><td>1.000000e+00</td><td>9.828085e-01</td><td>4.085736e-01</td></tr>\n",
       "\t<tr><td>2.920328e-01</td><td>1.000000e+00</td><td>1.000000e+00</td><td>9.989994e-01</td><td>5.840657e-01</td></tr>\n",
       "\t<tr><td>4.179383e-01</td><td>1.000000e+00</td><td>1.000000e+00</td><td>9.999801e-01</td><td>7.033107e-01</td></tr>\n",
       "\t<tr><td>4.219864e-01</td><td>1.000000e+00</td><td>1.000000e+00</td><td>9.999827e-01</td><td>7.033107e-01</td></tr>\n",
       "\t<tr><td>6.428679e-01</td><td>1.000000e+00</td><td>1.000000e+00</td><td>1.000000e+00</td><td>9.069880e-01</td></tr>\n",
       "\t<tr><td>6.979278e-01</td><td>1.000000e+00</td><td>1.000000e+00</td><td>1.000000e+00</td><td>9.069880e-01</td></tr>\n",
       "\t<tr><td>7.277672e-01</td><td>1.000000e+00</td><td>1.000000e+00</td><td>1.000000e+00</td><td>9.069880e-01</td></tr>\n",
       "\t<tr><td>7.280132e-01</td><td>1.000000e+00</td><td>1.000000e+00</td><td>1.000000e+00</td><td>9.069880e-01</td></tr>\n",
       "\t<tr><td>7.709398e-01</td><td>1.000000e+00</td><td>1.000000e+00</td><td>1.000000e+00</td><td>9.069880e-01</td></tr>\n",
       "\t<tr><td>8.958136e-01</td><td>1.000000e+00</td><td>1.000000e+00</td><td>1.000000e+00</td><td>9.634309e-01</td></tr>\n",
       "\t<tr><td>9.152594e-01</td><td>1.000000e+00</td><td>1.000000e+00</td><td>1.000000e+00</td><td>9.634309e-01</td></tr>\n",
       "\t<tr><td>1.000000e+00</td><td>1.000000e+00</td><td>1.000000e+00</td><td>1.000000e+00</td><td>1.000000e+00</td></tr>\n",
       "</tbody>\n",
       "</table>\n",
       "</dd>\n",
       "\t<dt>$index</dt>\n",
       "\t\t<dd><style>\n",
       ".list-inline {list-style: none; margin:0; padding: 0}\n",
       ".list-inline>li {display: inline-block}\n",
       ".list-inline>li:not(:last-child)::after {content: \"\\00b7\"; padding: 0 .5ex}\n",
       "</style>\n",
       "<ol class=list-inline><li>12</li><li>15</li><li>17</li><li>19</li><li>13</li><li>18</li><li>20</li><li>4</li><li>8</li><li>14</li><li>3</li><li>7</li><li>10</li><li>6</li><li>1</li><li>5</li><li>11</li><li>2</li><li>16</li><li>9</li></ol>\n",
       "</dd>\n",
       "\t<dt>$h0.ABH</dt>\n",
       "\t\t<dd>NULL</dd>\n",
       "\t<dt>$h0.TSBH</dt>\n",
       "\t\t<dd>NULL</dd>\n",
       "</dl>\n"
      ],
      "text/latex": [
       "\\begin{description}\n",
       "\\item[\\$adjp] A matrix: 20 × 5 of type dbl\n",
       "\\begin{tabular}{lllll}\n",
       " rawp & Bonferroni & Holm & SidakSS & BH\\\\\n",
       "\\hline\n",
       "\t 1.253122e-08 & 2.506245e-07 & 2.506245e-07 & 2.506244e-07 & 2.506245e-07\\\\\n",
       "\t 6.485844e-07 & 1.297169e-05 & 1.232310e-05 & 1.297161e-05 & 6.485844e-06\\\\\n",
       "\t 2.395866e-06 & 4.791732e-05 & 4.312558e-05 & 4.791622e-05 & 1.597244e-05\\\\\n",
       "\t 1.497200e-04 & 2.994400e-03 & 2.545240e-03 & 2.990145e-03 & 7.486001e-04\\\\\n",
       "\t 2.043651e-04 & 4.087302e-03 & 3.269841e-03 & 4.079376e-03 & 8.174604e-04\\\\\n",
       "\t 3.379778e-04 & 6.759556e-03 & 5.069667e-03 & 6.737897e-03 & 1.126593e-03\\\\\n",
       "\t 4.326036e-04 & 8.652072e-03 & 6.056451e-03 & 8.616607e-03 & 1.236010e-03\\\\\n",
       "\t 7.649468e-02 & 1.000000e+00 & 9.944309e-01 & 7.963952e-01 & 1.912367e-01\\\\\n",
       "\t 1.838581e-01 & 1.000000e+00 & 1.000000e+00 & 9.828085e-01 & 4.085736e-01\\\\\n",
       "\t 2.920328e-01 & 1.000000e+00 & 1.000000e+00 & 9.989994e-01 & 5.840657e-01\\\\\n",
       "\t 4.179383e-01 & 1.000000e+00 & 1.000000e+00 & 9.999801e-01 & 7.033107e-01\\\\\n",
       "\t 4.219864e-01 & 1.000000e+00 & 1.000000e+00 & 9.999827e-01 & 7.033107e-01\\\\\n",
       "\t 6.428679e-01 & 1.000000e+00 & 1.000000e+00 & 1.000000e+00 & 9.069880e-01\\\\\n",
       "\t 6.979278e-01 & 1.000000e+00 & 1.000000e+00 & 1.000000e+00 & 9.069880e-01\\\\\n",
       "\t 7.277672e-01 & 1.000000e+00 & 1.000000e+00 & 1.000000e+00 & 9.069880e-01\\\\\n",
       "\t 7.280132e-01 & 1.000000e+00 & 1.000000e+00 & 1.000000e+00 & 9.069880e-01\\\\\n",
       "\t 7.709398e-01 & 1.000000e+00 & 1.000000e+00 & 1.000000e+00 & 9.069880e-01\\\\\n",
       "\t 8.958136e-01 & 1.000000e+00 & 1.000000e+00 & 1.000000e+00 & 9.634309e-01\\\\\n",
       "\t 9.152594e-01 & 1.000000e+00 & 1.000000e+00 & 1.000000e+00 & 9.634309e-01\\\\\n",
       "\t 1.000000e+00 & 1.000000e+00 & 1.000000e+00 & 1.000000e+00 & 1.000000e+00\\\\\n",
       "\\end{tabular}\n",
       "\n",
       "\\item[\\$index] \\begin{enumerate*}\n",
       "\\item 12\n",
       "\\item 15\n",
       "\\item 17\n",
       "\\item 19\n",
       "\\item 13\n",
       "\\item 18\n",
       "\\item 20\n",
       "\\item 4\n",
       "\\item 8\n",
       "\\item 14\n",
       "\\item 3\n",
       "\\item 7\n",
       "\\item 10\n",
       "\\item 6\n",
       "\\item 1\n",
       "\\item 5\n",
       "\\item 11\n",
       "\\item 2\n",
       "\\item 16\n",
       "\\item 9\n",
       "\\end{enumerate*}\n",
       "\n",
       "\\item[\\$h0.ABH] NULL\n",
       "\\item[\\$h0.TSBH] NULL\n",
       "\\end{description}\n"
      ],
      "text/markdown": [
       "$adjp\n",
       ":   \n",
       "A matrix: 20 × 5 of type dbl\n",
       "\n",
       "| rawp | Bonferroni | Holm | SidakSS | BH |\n",
       "|---|---|---|---|---|\n",
       "| 1.253122e-08 | 2.506245e-07 | 2.506245e-07 | 2.506244e-07 | 2.506245e-07 |\n",
       "| 6.485844e-07 | 1.297169e-05 | 1.232310e-05 | 1.297161e-05 | 6.485844e-06 |\n",
       "| 2.395866e-06 | 4.791732e-05 | 4.312558e-05 | 4.791622e-05 | 1.597244e-05 |\n",
       "| 1.497200e-04 | 2.994400e-03 | 2.545240e-03 | 2.990145e-03 | 7.486001e-04 |\n",
       "| 2.043651e-04 | 4.087302e-03 | 3.269841e-03 | 4.079376e-03 | 8.174604e-04 |\n",
       "| 3.379778e-04 | 6.759556e-03 | 5.069667e-03 | 6.737897e-03 | 1.126593e-03 |\n",
       "| 4.326036e-04 | 8.652072e-03 | 6.056451e-03 | 8.616607e-03 | 1.236010e-03 |\n",
       "| 7.649468e-02 | 1.000000e+00 | 9.944309e-01 | 7.963952e-01 | 1.912367e-01 |\n",
       "| 1.838581e-01 | 1.000000e+00 | 1.000000e+00 | 9.828085e-01 | 4.085736e-01 |\n",
       "| 2.920328e-01 | 1.000000e+00 | 1.000000e+00 | 9.989994e-01 | 5.840657e-01 |\n",
       "| 4.179383e-01 | 1.000000e+00 | 1.000000e+00 | 9.999801e-01 | 7.033107e-01 |\n",
       "| 4.219864e-01 | 1.000000e+00 | 1.000000e+00 | 9.999827e-01 | 7.033107e-01 |\n",
       "| 6.428679e-01 | 1.000000e+00 | 1.000000e+00 | 1.000000e+00 | 9.069880e-01 |\n",
       "| 6.979278e-01 | 1.000000e+00 | 1.000000e+00 | 1.000000e+00 | 9.069880e-01 |\n",
       "| 7.277672e-01 | 1.000000e+00 | 1.000000e+00 | 1.000000e+00 | 9.069880e-01 |\n",
       "| 7.280132e-01 | 1.000000e+00 | 1.000000e+00 | 1.000000e+00 | 9.069880e-01 |\n",
       "| 7.709398e-01 | 1.000000e+00 | 1.000000e+00 | 1.000000e+00 | 9.069880e-01 |\n",
       "| 8.958136e-01 | 1.000000e+00 | 1.000000e+00 | 1.000000e+00 | 9.634309e-01 |\n",
       "| 9.152594e-01 | 1.000000e+00 | 1.000000e+00 | 1.000000e+00 | 9.634309e-01 |\n",
       "| 1.000000e+00 | 1.000000e+00 | 1.000000e+00 | 1.000000e+00 | 1.000000e+00 |\n",
       "\n",
       "\n",
       "$index\n",
       ":   1. 12\n",
       "2. 15\n",
       "3. 17\n",
       "4. 19\n",
       "5. 13\n",
       "6. 18\n",
       "7. 20\n",
       "8. 4\n",
       "9. 8\n",
       "10. 14\n",
       "11. 3\n",
       "12. 7\n",
       "13. 10\n",
       "14. 6\n",
       "15. 1\n",
       "16. 5\n",
       "17. 11\n",
       "18. 2\n",
       "19. 16\n",
       "20. 9\n",
       "\n",
       "\n",
       "\n",
       "$h0.ABH\n",
       ":   NULL\n",
       "$h0.TSBH\n",
       ":   NULL\n",
       "\n",
       "\n"
      ],
      "text/plain": [
       "$adjp\n",
       "              rawp   Bonferroni         Holm      SidakSS           BH\n",
       " [1,] 1.253122e-08 2.506245e-07 2.506245e-07 2.506244e-07 2.506245e-07\n",
       " [2,] 6.485844e-07 1.297169e-05 1.232310e-05 1.297161e-05 6.485844e-06\n",
       " [3,] 2.395866e-06 4.791732e-05 4.312558e-05 4.791622e-05 1.597244e-05\n",
       " [4,] 1.497200e-04 2.994400e-03 2.545240e-03 2.990145e-03 7.486001e-04\n",
       " [5,] 2.043651e-04 4.087302e-03 3.269841e-03 4.079376e-03 8.174604e-04\n",
       " [6,] 3.379778e-04 6.759556e-03 5.069667e-03 6.737897e-03 1.126593e-03\n",
       " [7,] 4.326036e-04 8.652072e-03 6.056451e-03 8.616607e-03 1.236010e-03\n",
       " [8,] 7.649468e-02 1.000000e+00 9.944309e-01 7.963952e-01 1.912367e-01\n",
       " [9,] 1.838581e-01 1.000000e+00 1.000000e+00 9.828085e-01 4.085736e-01\n",
       "[10,] 2.920328e-01 1.000000e+00 1.000000e+00 9.989994e-01 5.840657e-01\n",
       "[11,] 4.179383e-01 1.000000e+00 1.000000e+00 9.999801e-01 7.033107e-01\n",
       "[12,] 4.219864e-01 1.000000e+00 1.000000e+00 9.999827e-01 7.033107e-01\n",
       "[13,] 6.428679e-01 1.000000e+00 1.000000e+00 1.000000e+00 9.069880e-01\n",
       "[14,] 6.979278e-01 1.000000e+00 1.000000e+00 1.000000e+00 9.069880e-01\n",
       "[15,] 7.277672e-01 1.000000e+00 1.000000e+00 1.000000e+00 9.069880e-01\n",
       "[16,] 7.280132e-01 1.000000e+00 1.000000e+00 1.000000e+00 9.069880e-01\n",
       "[17,] 7.709398e-01 1.000000e+00 1.000000e+00 1.000000e+00 9.069880e-01\n",
       "[18,] 8.958136e-01 1.000000e+00 1.000000e+00 1.000000e+00 9.634309e-01\n",
       "[19,] 9.152594e-01 1.000000e+00 1.000000e+00 1.000000e+00 9.634309e-01\n",
       "[20,] 1.000000e+00 1.000000e+00 1.000000e+00 1.000000e+00 1.000000e+00\n",
       "\n",
       "$index\n",
       " [1] 12 15 17 19 13 18 20  4  8 14  3  7 10  6  1  5 11  2 16  9\n",
       "\n",
       "$h0.ABH\n",
       "NULL\n",
       "\n",
       "$h0.TSBH\n",
       "NULL\n"
      ]
     },
     "metadata": {},
     "output_type": "display_data"
    },
    {
     "data": {
      "text/html": [
       "<table class=\"dataframe\">\n",
       "<caption>A matrix: 20 × 5 of type dbl</caption>\n",
       "<thead>\n",
       "\t<tr><th></th><th scope=col>rawp</th><th scope=col>Bonferroni</th><th scope=col>Holm</th><th scope=col>SidakSS</th><th scope=col>BH</th></tr>\n",
       "</thead>\n",
       "<tbody>\n",
       "\t<tr><th scope=row>rs1112</th><td>1.253122e-08</td><td>2.506245e-07</td><td>2.506245e-07</td><td>2.506244e-07</td><td>2.506245e-07</td></tr>\n",
       "\t<tr><th scope=row>rs1115</th><td>6.485844e-07</td><td>1.297169e-05</td><td>1.232310e-05</td><td>1.297161e-05</td><td>6.485844e-06</td></tr>\n",
       "\t<tr><th scope=row>rs1117</th><td>2.395866e-06</td><td>4.791732e-05</td><td>4.312558e-05</td><td>4.791622e-05</td><td>1.597244e-05</td></tr>\n",
       "\t<tr><th scope=row>rs1119</th><td>1.497200e-04</td><td>2.994400e-03</td><td>2.545240e-03</td><td>2.990145e-03</td><td>7.486001e-04</td></tr>\n",
       "\t<tr><th scope=row>rs1113</th><td>2.043651e-04</td><td>4.087302e-03</td><td>3.269841e-03</td><td>4.079376e-03</td><td>8.174604e-04</td></tr>\n",
       "\t<tr><th scope=row>rs1118</th><td>3.379778e-04</td><td>6.759556e-03</td><td>5.069667e-03</td><td>6.737897e-03</td><td>1.126593e-03</td></tr>\n",
       "\t<tr><th scope=row>rs1120</th><td>4.326036e-04</td><td>8.652072e-03</td><td>6.056451e-03</td><td>8.616607e-03</td><td>1.236010e-03</td></tr>\n",
       "\t<tr><th scope=row>rs1104</th><td>7.649468e-02</td><td>1.000000e+00</td><td>9.944309e-01</td><td>7.963952e-01</td><td>1.912367e-01</td></tr>\n",
       "\t<tr><th scope=row>rs1108</th><td>1.838581e-01</td><td>1.000000e+00</td><td>1.000000e+00</td><td>9.828085e-01</td><td>4.085736e-01</td></tr>\n",
       "\t<tr><th scope=row>rs1114</th><td>2.920328e-01</td><td>1.000000e+00</td><td>1.000000e+00</td><td>9.989994e-01</td><td>5.840657e-01</td></tr>\n",
       "\t<tr><th scope=row>rs1103</th><td>4.179383e-01</td><td>1.000000e+00</td><td>1.000000e+00</td><td>9.999801e-01</td><td>7.033107e-01</td></tr>\n",
       "\t<tr><th scope=row>rs1107</th><td>4.219864e-01</td><td>1.000000e+00</td><td>1.000000e+00</td><td>9.999827e-01</td><td>7.033107e-01</td></tr>\n",
       "\t<tr><th scope=row>rs1110</th><td>6.428679e-01</td><td>1.000000e+00</td><td>1.000000e+00</td><td>1.000000e+00</td><td>9.069880e-01</td></tr>\n",
       "\t<tr><th scope=row>rs1106</th><td>6.979278e-01</td><td>1.000000e+00</td><td>1.000000e+00</td><td>1.000000e+00</td><td>9.069880e-01</td></tr>\n",
       "\t<tr><th scope=row>rs1101</th><td>7.277672e-01</td><td>1.000000e+00</td><td>1.000000e+00</td><td>1.000000e+00</td><td>9.069880e-01</td></tr>\n",
       "\t<tr><th scope=row>rs1105</th><td>7.280132e-01</td><td>1.000000e+00</td><td>1.000000e+00</td><td>1.000000e+00</td><td>9.069880e-01</td></tr>\n",
       "\t<tr><th scope=row>rs1111</th><td>7.709398e-01</td><td>1.000000e+00</td><td>1.000000e+00</td><td>1.000000e+00</td><td>9.069880e-01</td></tr>\n",
       "\t<tr><th scope=row>rs1102</th><td>8.958136e-01</td><td>1.000000e+00</td><td>1.000000e+00</td><td>1.000000e+00</td><td>9.634309e-01</td></tr>\n",
       "\t<tr><th scope=row>rs1116</th><td>9.152594e-01</td><td>1.000000e+00</td><td>1.000000e+00</td><td>1.000000e+00</td><td>9.634309e-01</td></tr>\n",
       "\t<tr><th scope=row>rs1109</th><td>1.000000e+00</td><td>1.000000e+00</td><td>1.000000e+00</td><td>1.000000e+00</td><td>1.000000e+00</td></tr>\n",
       "</tbody>\n",
       "</table>\n"
      ],
      "text/latex": [
       "A matrix: 20 × 5 of type dbl\n",
       "\\begin{tabular}{r|lllll}\n",
       "  & rawp & Bonferroni & Holm & SidakSS & BH\\\\\n",
       "\\hline\n",
       "\trs1112 & 1.253122e-08 & 2.506245e-07 & 2.506245e-07 & 2.506244e-07 & 2.506245e-07\\\\\n",
       "\trs1115 & 6.485844e-07 & 1.297169e-05 & 1.232310e-05 & 1.297161e-05 & 6.485844e-06\\\\\n",
       "\trs1117 & 2.395866e-06 & 4.791732e-05 & 4.312558e-05 & 4.791622e-05 & 1.597244e-05\\\\\n",
       "\trs1119 & 1.497200e-04 & 2.994400e-03 & 2.545240e-03 & 2.990145e-03 & 7.486001e-04\\\\\n",
       "\trs1113 & 2.043651e-04 & 4.087302e-03 & 3.269841e-03 & 4.079376e-03 & 8.174604e-04\\\\\n",
       "\trs1118 & 3.379778e-04 & 6.759556e-03 & 5.069667e-03 & 6.737897e-03 & 1.126593e-03\\\\\n",
       "\trs1120 & 4.326036e-04 & 8.652072e-03 & 6.056451e-03 & 8.616607e-03 & 1.236010e-03\\\\\n",
       "\trs1104 & 7.649468e-02 & 1.000000e+00 & 9.944309e-01 & 7.963952e-01 & 1.912367e-01\\\\\n",
       "\trs1108 & 1.838581e-01 & 1.000000e+00 & 1.000000e+00 & 9.828085e-01 & 4.085736e-01\\\\\n",
       "\trs1114 & 2.920328e-01 & 1.000000e+00 & 1.000000e+00 & 9.989994e-01 & 5.840657e-01\\\\\n",
       "\trs1103 & 4.179383e-01 & 1.000000e+00 & 1.000000e+00 & 9.999801e-01 & 7.033107e-01\\\\\n",
       "\trs1107 & 4.219864e-01 & 1.000000e+00 & 1.000000e+00 & 9.999827e-01 & 7.033107e-01\\\\\n",
       "\trs1110 & 6.428679e-01 & 1.000000e+00 & 1.000000e+00 & 1.000000e+00 & 9.069880e-01\\\\\n",
       "\trs1106 & 6.979278e-01 & 1.000000e+00 & 1.000000e+00 & 1.000000e+00 & 9.069880e-01\\\\\n",
       "\trs1101 & 7.277672e-01 & 1.000000e+00 & 1.000000e+00 & 1.000000e+00 & 9.069880e-01\\\\\n",
       "\trs1105 & 7.280132e-01 & 1.000000e+00 & 1.000000e+00 & 1.000000e+00 & 9.069880e-01\\\\\n",
       "\trs1111 & 7.709398e-01 & 1.000000e+00 & 1.000000e+00 & 1.000000e+00 & 9.069880e-01\\\\\n",
       "\trs1102 & 8.958136e-01 & 1.000000e+00 & 1.000000e+00 & 1.000000e+00 & 9.634309e-01\\\\\n",
       "\trs1116 & 9.152594e-01 & 1.000000e+00 & 1.000000e+00 & 1.000000e+00 & 9.634309e-01\\\\\n",
       "\trs1109 & 1.000000e+00 & 1.000000e+00 & 1.000000e+00 & 1.000000e+00 & 1.000000e+00\\\\\n",
       "\\end{tabular}\n"
      ],
      "text/markdown": [
       "\n",
       "A matrix: 20 × 5 of type dbl\n",
       "\n",
       "| <!--/--> | rawp | Bonferroni | Holm | SidakSS | BH |\n",
       "|---|---|---|---|---|---|\n",
       "| rs1112 | 1.253122e-08 | 2.506245e-07 | 2.506245e-07 | 2.506244e-07 | 2.506245e-07 |\n",
       "| rs1115 | 6.485844e-07 | 1.297169e-05 | 1.232310e-05 | 1.297161e-05 | 6.485844e-06 |\n",
       "| rs1117 | 2.395866e-06 | 4.791732e-05 | 4.312558e-05 | 4.791622e-05 | 1.597244e-05 |\n",
       "| rs1119 | 1.497200e-04 | 2.994400e-03 | 2.545240e-03 | 2.990145e-03 | 7.486001e-04 |\n",
       "| rs1113 | 2.043651e-04 | 4.087302e-03 | 3.269841e-03 | 4.079376e-03 | 8.174604e-04 |\n",
       "| rs1118 | 3.379778e-04 | 6.759556e-03 | 5.069667e-03 | 6.737897e-03 | 1.126593e-03 |\n",
       "| rs1120 | 4.326036e-04 | 8.652072e-03 | 6.056451e-03 | 8.616607e-03 | 1.236010e-03 |\n",
       "| rs1104 | 7.649468e-02 | 1.000000e+00 | 9.944309e-01 | 7.963952e-01 | 1.912367e-01 |\n",
       "| rs1108 | 1.838581e-01 | 1.000000e+00 | 1.000000e+00 | 9.828085e-01 | 4.085736e-01 |\n",
       "| rs1114 | 2.920328e-01 | 1.000000e+00 | 1.000000e+00 | 9.989994e-01 | 5.840657e-01 |\n",
       "| rs1103 | 4.179383e-01 | 1.000000e+00 | 1.000000e+00 | 9.999801e-01 | 7.033107e-01 |\n",
       "| rs1107 | 4.219864e-01 | 1.000000e+00 | 1.000000e+00 | 9.999827e-01 | 7.033107e-01 |\n",
       "| rs1110 | 6.428679e-01 | 1.000000e+00 | 1.000000e+00 | 1.000000e+00 | 9.069880e-01 |\n",
       "| rs1106 | 6.979278e-01 | 1.000000e+00 | 1.000000e+00 | 1.000000e+00 | 9.069880e-01 |\n",
       "| rs1101 | 7.277672e-01 | 1.000000e+00 | 1.000000e+00 | 1.000000e+00 | 9.069880e-01 |\n",
       "| rs1105 | 7.280132e-01 | 1.000000e+00 | 1.000000e+00 | 1.000000e+00 | 9.069880e-01 |\n",
       "| rs1111 | 7.709398e-01 | 1.000000e+00 | 1.000000e+00 | 1.000000e+00 | 9.069880e-01 |\n",
       "| rs1102 | 8.958136e-01 | 1.000000e+00 | 1.000000e+00 | 1.000000e+00 | 9.634309e-01 |\n",
       "| rs1116 | 9.152594e-01 | 1.000000e+00 | 1.000000e+00 | 1.000000e+00 | 9.634309e-01 |\n",
       "| rs1109 | 1.000000e+00 | 1.000000e+00 | 1.000000e+00 | 1.000000e+00 | 1.000000e+00 |\n",
       "\n"
      ],
      "text/plain": [
       "       rawp         Bonferroni   Holm         SidakSS      BH          \n",
       "rs1112 1.253122e-08 2.506245e-07 2.506245e-07 2.506244e-07 2.506245e-07\n",
       "rs1115 6.485844e-07 1.297169e-05 1.232310e-05 1.297161e-05 6.485844e-06\n",
       "rs1117 2.395866e-06 4.791732e-05 4.312558e-05 4.791622e-05 1.597244e-05\n",
       "rs1119 1.497200e-04 2.994400e-03 2.545240e-03 2.990145e-03 7.486001e-04\n",
       "rs1113 2.043651e-04 4.087302e-03 3.269841e-03 4.079376e-03 8.174604e-04\n",
       "rs1118 3.379778e-04 6.759556e-03 5.069667e-03 6.737897e-03 1.126593e-03\n",
       "rs1120 4.326036e-04 8.652072e-03 6.056451e-03 8.616607e-03 1.236010e-03\n",
       "rs1104 7.649468e-02 1.000000e+00 9.944309e-01 7.963952e-01 1.912367e-01\n",
       "rs1108 1.838581e-01 1.000000e+00 1.000000e+00 9.828085e-01 4.085736e-01\n",
       "rs1114 2.920328e-01 1.000000e+00 1.000000e+00 9.989994e-01 5.840657e-01\n",
       "rs1103 4.179383e-01 1.000000e+00 1.000000e+00 9.999801e-01 7.033107e-01\n",
       "rs1107 4.219864e-01 1.000000e+00 1.000000e+00 9.999827e-01 7.033107e-01\n",
       "rs1110 6.428679e-01 1.000000e+00 1.000000e+00 1.000000e+00 9.069880e-01\n",
       "rs1106 6.979278e-01 1.000000e+00 1.000000e+00 1.000000e+00 9.069880e-01\n",
       "rs1101 7.277672e-01 1.000000e+00 1.000000e+00 1.000000e+00 9.069880e-01\n",
       "rs1105 7.280132e-01 1.000000e+00 1.000000e+00 1.000000e+00 9.069880e-01\n",
       "rs1111 7.709398e-01 1.000000e+00 1.000000e+00 1.000000e+00 9.069880e-01\n",
       "rs1102 8.958136e-01 1.000000e+00 1.000000e+00 1.000000e+00 9.634309e-01\n",
       "rs1116 9.152594e-01 1.000000e+00 1.000000e+00 1.000000e+00 9.634309e-01\n",
       "rs1109 1.000000e+00 1.000000e+00 1.000000e+00 1.000000e+00 1.000000e+00"
      ]
     },
     "metadata": {},
     "output_type": "display_data"
    }
   ],
   "source": [
    "# R commands #\n",
    "\n",
    "## Code below installs the library \"multtest\". \n",
    "## They are only necessary if your system does not have multtest R package installled already\n",
    "# if (!requireNamespace(\"BiocManager\", quietly = TRUE))\n",
    "#    install.packages(\"BiocManager\")\n",
    "# BiocManager::install()\n",
    "# BiocManager::install(\"multtest\")\n",
    "\n",
    "library (multtest)\n",
    "\n",
    "\n",
    "load(\"p.values.R\")\n",
    "ls()\n",
    "p.values\n",
    "\n",
    "adj.p.values = mt.rawp2adjp(p.values,c(\"Bonferroni\",\"Holm\",\"SidakSS\",\"BH\"))\n",
    "adj.p.values\n",
    "\n",
    "rownames(adj.p.values$adjp) = names(p.values[adj.p.values$index])\n",
    "\n",
    "adj.p.values$adjp\n"
   ]
  },
  {
   "cell_type": "code",
   "execution_count": null,
   "id": "2211af2f-f187-438b-a32d-7f2c38ad4deb",
   "metadata": {
    "kernel": "R"
   },
   "outputs": [],
   "source": []
  },
  {
   "cell_type": "code",
   "execution_count": null,
   "id": "c6439d2b-0720-40e9-a4c4-be05a4c42c1f",
   "metadata": {
    "kernel": "R"
   },
   "outputs": [],
   "source": []
  },
  {
   "cell_type": "code",
   "execution_count": null,
   "id": "bcc9d88a-aee7-4dcc-ac62-634f51b01097",
   "metadata": {
    "kernel": "R"
   },
   "outputs": [],
   "source": []
  }
 ],
 "metadata": {
  "kernelspec": {
   "display_name": "SoS",
   "language": "sos",
   "name": "sos"
  },
  "language_info": {
   "codemirror_mode": "sos",
   "file_extension": ".sos",
   "mimetype": "text/x-sos",
   "name": "sos",
   "nbconvert_exporter": "sos_notebook.converter.SoS_Exporter",
   "pygments_lexer": "sos"
  },
  "sos": {
   "kernels": [
    [
     "Bash",
     "calysto_bash",
     "Bash",
     "#E6EEFF",
     "shell"
    ],
    [
     "R",
     "ir",
     "R",
     "#DCDCDA",
     "r"
    ]
   ],
   "version": ""
  }
 },
 "nbformat": 4,
 "nbformat_minor": 5
}
