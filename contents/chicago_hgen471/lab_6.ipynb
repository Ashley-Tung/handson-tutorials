{
 "cells": [
  {
   "cell_type": "markdown",
   "id": "ae3546f4",
   "metadata": {
    "kernel": "SoS"
   },
   "source": [
    "# Lab 6: TensorQTL\n",
    "\n",
    "In eQTL analysis, we test association for each gene in transcriptome against a set of variants.\n",
    "Typically, for cis-eQTL analysis, one gene could have thousands of variants to test against. \n",
    "Matrix eQTL @matrixqtl was developed to create a computationally less burdensome analysis for eQTL identification. \n",
    "Compared to other existing tools for QTL analysis, Matrix eQTL is **orders of magnitude faster** in analysis due to specific preprocessing and its use of large matrix operations for the computationally difficult aspects of the system. \n",
    "\n",
    "To compare between genes which habor different LD structures and different number of testing variants, the statistical test underlying cis-eQTL requires permutation.\n",
    "So it is computationally intensive even with matrixQTL. \n",
    "To overcome the computational burden of permutation, FastQTL @fastqtl proposed an approximate simulation scheme which is efficient for large-scale transcriptome-wide analysis, *i.e.* Geuvadis & GTEx.\n",
    "\n",
    "In the past few years, GPU has been widely adapted for many computations. \n",
    "TensorQTL @tensorqtl was recently developed which is capable of running on both CPU and GPU. \n",
    "And when GPU is enabled, it runs 100 times faster than CPU. \n",
    "Today, we will learn to use `tensorqtl` with CPU. (And to run on GPU needs only few more setup steps with the same command!)\n",
    "By the end of the lab you should be able to:\n",
    "\n",
    "- **Understand the types of files required for tensorQTL**  \n",
    "- **Interpret the results of tensorQTL**  \n"
   ]
  },
  {
   "cell_type": "markdown",
   "id": "e28f8a5b",
   "metadata": {
    "kernel": "SoS"
   },
   "source": [
    "# tensorQTL\n",
    "\n",
    "## Input files for eQTL analysis\n",
    "\n",
    "* **Phenotype**: a matrix representing gene expression levels in each individual (gene x individual)\n",
    "* **Covariate**: a matrix representing value of covariate values in each individual (covariate x individual)\n",
    "* **Genotype**: a matrix representing genotype dosage (effect allele) for each variant and individual (in plink format)\n",
    "\n",
    "Note that we need to know the genomic position of the gene (say the position of transcription start site, TSS) since we test cis-eQTL for nearby variants only. The example data for this lab is at `lab6`:"
   ]
  },
  {
   "cell_type": "markdown",
   "id": "fd335a8b",
   "metadata": {
    "kernel": "Markdown"
   },
   "source": [
    "## Input files description"
   ]
  },
  {
   "cell_type": "markdown",
   "id": "6f0073e9",
   "metadata": {
    "kernel": "SoS"
   },
   "source": [
    "* **Phenotype**: `GEUVADIS.chr22.expression.bed.gz`\n",
    "* **Covariate**: `GEUVADIS.445_samples.covariates.txt`\n",
    "* **Genotype**: `GEUVADIS.hg38.chr22.*`\n",
    "\n",
    "*Problem 1*\n",
    "\n",
    "How many covariates are in the example data?\n",
    "\n",
    "## Compute nominal p-value in cis-eQTL analysis\n",
    "\n",
    "Nominal p-value is the observed p-value under linear model $\\tilde{Y} \\sim X$, where $\\tilde{Y}$ is residual expression level after regressing out covariates and $X$ is the genotype dosage of a variant of interest.\n",
    "\n",
    "Let's compute nomimal p-value for all cis-eQTL candidates. \n",
    "Here we define cis-window as 10kb surrounding TSS (both sides)."
   ]
  },
  {
   "cell_type": "code",
   "execution_count": null,
   "id": "fc959f59",
   "metadata": {
    "attributes": {
     "classes": [],
     "eval": "FALSE",
     "id": ""
    },
    "kernel": "Bash"
   },
   "outputs": [],
   "source": [
    "cd lab6\n",
    "\n",
    "mkdir output\n",
    "\n",
    "tensorqtl.py \\\n",
    "  --covariates data/lab6/GEUVADIS.445_samples.covariates.txt \\\n",
    "  --window 10000 \\\n",
    "  --mode cis_nominal \\\n",
    "  data/lab6/GEUVADIS.hg38.chr22 \\\n",
    "  data/lab6/GEUVADIS.chr22.expression.bed.gz \\\n",
    "  output/cis_nominal"
   ]
  },
  {
   "cell_type": "markdown",
   "id": "709374c1",
   "metadata": {
    "kernel": "SoS"
   },
   "source": [
    "*Problem 2*\n",
    "\n",
    "From the logging message of tensorqtl run, how many genes are being analyzed? \n",
    "\n",
    "The output contains all variant/gene pairs being test regardless of significance. \n",
    "So, it will be huge amount of data in practice. \n",
    "The output file is in `parquet` format, which is a binary format but it gives better I/O performance as comparing to human-readable text file. \n",
    "We've provided a tiny python script to convert `parquet` file to text table in `txt.gz`."
   ]
  },
  {
   "cell_type": "code",
   "execution_count": null,
   "id": "61c1c621",
   "metadata": {
    "attributes": {
     "classes": [],
     "eval": "FALSE",
     "id": ""
    },
    "kernel": "Bash"
   },
   "outputs": [],
   "source": [
    "parquet2table.py \\\n",
    "  --parquet output/cis_nominal.cis_qtl_pairs.chr22.parquet \\\n",
    "  --output output/cis_nominal.cis_qtl_pairs.chr22.txt.gz"
   ]
  },
  {
   "cell_type": "markdown",
   "id": "e3998f73",
   "metadata": {
    "kernel": "SoS"
   },
   "source": [
    "*Problem 3*\n",
    "\n",
    "How many variant/gene pairs are being tested and reported?\n",
    "\n",
    "*Problem 4*\n",
    "\n",
    "Which genes has the strongest association?\n",
    "\n",
    "\n",
    "## Perform cis-eQTL analysis with adaptive permutation\n",
    "\n",
    "If we'd like to identify eGene (gene that is significantly regulated by genetic variation), like we've mentioned above, we need to perform permutation to obtain gene-level p-value. \n",
    "Here is how it can be done using `tensorqtl`."
   ]
  },
  {
   "cell_type": "code",
   "execution_count": null,
   "id": "e1a19389",
   "metadata": {
    "attributes": {
     "classes": [],
     "eval": "FALSE",
     "id": ""
    },
    "kernel": "Bash"
   },
   "outputs": [],
   "source": [
    "tensorqtl.py \\\n",
    "  --covariates data/lab6/GEUVADIS.445_samples.covariates.txt \\\n",
    "  --window 10000 \\\n",
    "  --mode cis \\\n",
    "  data/lab6/GEUVADIS.hg38.chr22 \\\n",
    "  data/lab6/GEUVADIS.chr22.expression.bed.gz \\\n",
    "  output/cis"
   ]
  },
  {
   "cell_type": "markdown",
   "id": "1dd2fcbd",
   "metadata": {
    "kernel": "SoS"
   },
   "source": [
    "The output is the gene-level statistics obtained from adaptive permutation where each row is for one gene (in txt.gz format).\n",
    "To obtain eGene as FDR 10%, we can collect all genes with `qval` smaller than 0.1. \n",
    "To obtain cis-eQTL for these eGenes, we can collect all variant/gene pairs with `pval_nominal` (reported in `cis_nominal` run) smaller than `pval_nominal_threshold`.\n",
    "\n",
    "*Problem 5*\n",
    "\n",
    "Which gene has the most significant q-value?\n",
    "\n",
    "Note, it is possible your own cis output file might lack the q-value column (column 18, called \"qval\") and pval_nominal_threshold information, if this is the case, simply use the pre-computed `pre_run.cis_qtl.txt` in the data folder.\n",
    "\n",
    "*Problem 6*\n",
    "\n",
    "Select a gene with q-value < 0.05, visualize its cis-eQTL results by plotting $-\\log(p)$\n",
    "on y-axis and distance to TSS on x-axis. And put a horizontal line indicating the corresponding `pval_nominal_threshold` of the gene.\n",
    "\n",
    "\n",
    "**References**:\n",
    "\n",
    "Ongen, Halit, Alfonso Buil, Andrew Anand Brown, Emmanouil T Dermitzakis, and Olivier Delaneau. 2016. “Fast and Efficient Qtl Mapper for Thousands of Molecular Phenotypes.” Bioinformatics 32 (10). Oxford University Press: 1479–85.\n",
    "\n",
    "Shabalin, Andrey A. 2012. “Matrix eQTL: Ultra Fast eQTL Analysis via Large Matrix Operations.” Bioinformatics 28 (10). Oxford University Press: 1353–8.\n",
    "\n",
    "Taylor-Weiner, Amaro, François Aguet, Nicholas J Haradhvala, Sager Gosai, Shankara Anand, Jaegil Kim, Kristin Ardlie, Eliezer M Van Allen, and Gad Getz. 2019. “Scaling Computational Genomics to Millions of Individuals with Gpus.” Genome Biology 20 (1). BioMed Central: 1–5."
   ]
  }
 ],
 "metadata": {
  "kernelspec": {
   "display_name": "SoS",
   "language": "sos",
   "name": "sos"
  },
  "language_info": {
   "codemirror_mode": "sos",
   "file_extension": ".sos",
   "mimetype": "text/x-sos",
   "name": "sos",
   "nbconvert_exporter": "sos_notebook.converter.SoS_Exporter",
   "pygments_lexer": "sos"
  },
  "sos": {
   "kernels": [
    [
     "Bash",
     "calysto_bash",
     "Bash",
     "#E6EEFF",
     ""
    ]
   ],
   "panel": {
    "displayed": true,
    "height": 0
   },
   "version": "0.24.4"
  },
  "varInspector": {
   "cols": {
    "lenName": 16,
    "lenType": 16,
    "lenVar": 40
   },
   "kernels_config": {
    "python": {
     "delete_cmd_postfix": "",
     "delete_cmd_prefix": "del ",
     "library": "var_list.py",
     "varRefreshCmd": "print(var_dic_list())"
    },
    "r": {
     "delete_cmd_postfix": ") ",
     "delete_cmd_prefix": "rm(",
     "library": "var_list.r",
     "varRefreshCmd": "cat(var_dic_list()) "
    }
   },
   "types_to_exclude": [
    "module",
    "function",
    "builtin_function_or_method",
    "instance",
    "_Feature"
   ],
   "window_display": false
  }
 },
 "nbformat": 4,
 "nbformat_minor": 5
}
