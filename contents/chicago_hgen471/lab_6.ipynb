{
 "cells": [
  {
   "cell_type": "markdown",
   "id": "ae3546f4",
   "metadata": {
    "kernel": "SoS"
   },
   "source": [
    "# Lab 6: TensorQTL\n",
    "\n",
    "In eQTL analysis, we test association for each gene in transcriptome against a set of variants.\n",
    "Typically, for cis-eQTL analysis, one gene could have thousands of variants to test against. \n",
    "Matrix eQTL @matrixqtl was developed to create a computationally less burdensome analysis for eQTL identification. \n",
    "Compared to other existing tools for QTL analysis, Matrix eQTL is **orders of magnitude faster** in analysis due to specific preprocessing and its use of large matrix operations for the computationally difficult aspects of the system. \n",
    "\n",
    "To compare between genes which habor different LD structures and different number of testing variants, the statistical test underlying cis-eQTL requires permutation.\n",
    "So it is computationally intensive even with matrixQTL. \n",
    "To overcome the computational burden of permutation, FastQTL @fastqtl proposed an approximate simulation scheme which is efficient for large-scale transcriptome-wide analysis, *i.e.* Geuvadis & GTEx.\n",
    "\n",
    "In the past few years, GPU has been widely adapted for many computations. \n",
    "TensorQTL @tensorqtl was recently developed which is capable of running on both CPU and GPU. \n",
    "And when GPU is enabled, it runs 100 times faster than CPU. \n",
    "Today, we will learn to use `tensorqtl` with CPU. (And to run on GPU needs only few more setup steps with the same command!)\n",
    "By the end of the lab you should be able to:\n",
    "\n",
    "- **Understand the types of files required for tensorQTL**  \n",
    "- **Interpret the results of tensorQTL**  \n"
   ]
  },
  {
   "cell_type": "markdown",
   "id": "e28f8a5b",
   "metadata": {
    "kernel": "SoS"
   },
   "source": [
    "# tensorQTL\n",
    "\n",
    "## Input files for eQTL analysis\n",
    "\n",
    "* **Phenotype**: a matrix representing gene expression levels in each individual (gene x individual)\n",
    "* **Covariate**: a matrix representing value of covariate values in each individual (covariate x individual)\n",
    "* **Genotype**: a matrix representing genotype dosage (effect allele) for each variant and individual (in plink format)\n",
    "\n",
    "Note that we need to know the genomic position of the gene (say the position of transcription start site, TSS) since we test cis-eQTL for nearby variants only. The example data for this lab is at `lab6`:"
   ]
  },
  {
   "cell_type": "markdown",
   "id": "fd335a8b",
   "metadata": {
    "kernel": "Markdown"
   },
   "source": [
    "## Input files description"
   ]
  },
  {
   "cell_type": "markdown",
   "id": "6f0073e9",
   "metadata": {
    "kernel": "SoS"
   },
   "source": [
    "* **Phenotype**: `GEUVADIS.chr22.expression.bed.gz`\n",
    "* **Covariate**: `GEUVADIS.445_samples.covariates.txt`\n",
    "* **Genotype**: `GEUVADIS.hg38.chr22.*`\n",
    "\n",
    "*Problem 1*\n",
    "\n",
    "How many covariates are in the example data?\n",
    "\n",
    "## Compute nominal p-value in cis-eQTL analysis\n",
    "\n",
    "Nominal p-value is the observed p-value under linear model $\\tilde{Y} \\sim X$, where $\\tilde{Y}$ is residual expression level after regressing out covariates and $X$ is the genotype dosage of a variant of interest.\n",
    "\n",
    "Let's compute nomimal p-value for all cis-eQTL candidates. \n",
    "Here we define cis-window as 10kb surrounding TSS (both sides)."
   ]
  },
  {
   "cell_type": "code",
   "execution_count": 1,
   "id": "fc959f59",
   "metadata": {
    "attributes": {
     "classes": [],
     "eval": "FALSE",
     "id": ""
    },
    "kernel": "Bash"
   },
   "outputs": [
    {
     "name": "stdout",
     "output_type": "stream",
     "text": [
      "/home/jovyan/.pixi/envs/tensorqtl/lib/python3.12/site-packages/tensorqtl/core.py:200: SyntaxWarning: invalid escape sequence '\\d'\n",
      "  i = int(re.findall('For batch (\\d+)', str(e))[0])\n",
      "[Jun 25 06:57:17] Running TensorQTL: cis-QTL mapping\n",
      "  * WARNING: using CPU!\n",
      "  * reading phenotypes (data/lab6/GEUVADIS.chr22.expression.bed.gz)\n",
      "  * cis-window detected as position ± 10,000\n",
      "  * reading covariates (data/lab6/GEUVADIS.445_samples.covariates.txt)\n",
      "  * loading genotypes\n",
      "Mapping files:   0%|                                      | 0/3 [00:00<?, ?it/s]/home/jovyan/.pixi/envs/tensorqtl/lib/python3.12/site-packages/tensorqtl/genotypeio.py:147: FutureWarning: The 'delim_whitespace' keyword in pd.read_csv is deprecated and will be removed in a future version. Use ``sep='\\s+'`` instead\n",
      "  self.bim, self.fam, self.bed = read_plink(plink_prefix_path, verbose=verbose)\n",
      "Mapping files:  33%|██████████                    | 1/3 [00:00<00:00,  3.92it/s]/home/jovyan/.pixi/envs/tensorqtl/lib/python3.12/site-packages/tensorqtl/genotypeio.py:147: FutureWarning: The 'delim_whitespace' keyword in pd.read_csv is deprecated and will be removed in a future version. Use ``sep='\\s+'`` instead\n",
      "  self.bim, self.fam, self.bed = read_plink(plink_prefix_path, verbose=verbose)\n",
      "Mapping files: 100%|██████████████████████████████| 3/3 [00:00<00:00,  9.36it/s]\n",
      "cis-QTL mapping: nominal associations for all variant-phenotype pairs\n",
      "  * 445 samples\n",
      "  * 555 phenotypes\n",
      "  * 26 covariates\n",
      "  * 182851 variants\n",
      "  * cis-window: ±10,000\n",
      "  * checking phenotypes: 555/555\n",
      "  * Computing associations\n",
      "    Mapping chromosome chr22\n",
      "    processing phenotype 555/555\n",
      "    time elapsed: 0.20 min\n",
      "    * writing output\n",
      "done.\n",
      "[Jun 25 06:57:31] Finished mapping\n",
      "Traceback (most recent call last):\n",
      "  File \"/home/jovyan/.pixi/envs/tensorqtl/bin/tensorqtl\", line 10, in <module>\n",
      "    sys.exit(__main__())\n",
      "             ^^^^^^^^^^\n",
      "TypeError: 'module' object is not callable\n"
     ]
    },
    {
     "ename": "",
     "evalue": "1",
     "output_type": "error",
     "traceback": []
    }
   ],
   "source": [
    "mkdir output_lab6\n",
    "\n",
    "tensorqtl \\\n",
    "  --covariates data/lab6/GEUVADIS.445_samples.covariates.txt \\\n",
    "  --window 10000 \\\n",
    "  --mode cis_nominal \\\n",
    "  data/lab6/GEUVADIS.hg38.chr22 \\\n",
    "  data/lab6/GEUVADIS.chr22.expression.bed.gz \\\n",
    "  output_lab6/cis_nominal"
   ]
  },
  {
   "cell_type": "markdown",
   "id": "709374c1",
   "metadata": {
    "kernel": "SoS"
   },
   "source": [
    "*Problem 2*\n",
    "\n",
    "From the logging message of tensorqtl run, how many genes are being analyzed? \n",
    "\n",
    "The output contains all variant/gene pairs being test regardless of significance. \n",
    "So, it will be huge amount of data in practice. \n",
    "\n",
    "The output file is in `parquet` format, which is a binary format but it gives better I/O performance as comparing to human-readable text file. \n",
    "We've provided a tiny python script to convert `parquet` file to text table in `txt.gz`."
   ]
  },
  {
   "cell_type": "code",
   "execution_count": 4,
   "id": "61c1c621",
   "metadata": {
    "attributes": {
     "classes": [],
     "eval": "FALSE",
     "id": ""
    },
    "kernel": "Python3"
   },
   "outputs": [
    {
     "name": "stdout",
     "output_type": "stream",
     "text": [
      "             phenotype_id              variant_id  ...     slope  slope_se\n",
      "0      ENSG00000206195.10  chr22_15775793_G_A_b38  ... -0.073546  0.091817\n",
      "1      ENSG00000206195.10  chr22_15776728_G_C_b38  ...  0.038667  0.238783\n",
      "2      ENSG00000206195.10  chr22_15776825_C_T_b38  ... -0.093063  0.125423\n",
      "3      ENSG00000206195.10  chr22_15776849_G_T_b38  ...  0.013793  0.057066\n",
      "4      ENSG00000206195.10  chr22_15777039_T_C_b38  ...  0.104574  0.146789\n",
      "...                   ...                     ...  ...       ...       ...\n",
      "57451  ENSG00000079974.17  chr22_50791885_T_G_b38  ...  0.025340  0.103589\n",
      "57452  ENSG00000079974.17  chr22_50791894_C_G_b38  ...  0.025340  0.103589\n",
      "57453  ENSG00000079974.17  chr22_50792314_A_C_b38  ...  0.133574  0.246519\n",
      "57454  ENSG00000079974.17  chr22_50792792_A_G_b38  ...  0.427086  0.099061\n",
      "57455  ENSG00000079974.17  chr22_50793326_C_T_b38  ... -0.022783  0.176548\n",
      "\n",
      "[57456 rows x 9 columns]\n"
     ]
    }
   ],
   "source": [
    "import pandas as pd\n",
    "df = pd.read_parquet(\"output_lab6/cis_nominal.cis_qtl_pairs.chr22.parquet\")\n",
    "print(df)\n",
    "df.to_csv(\"output_lab6/cis_nominal.cis_qtl_pairs.chr22.csv\")\n"
   ]
  },
  {
   "cell_type": "markdown",
   "id": "e3998f73",
   "metadata": {
    "kernel": "SoS"
   },
   "source": [
    "*Problem 3*\n",
    "\n",
    "How many variant/gene pairs are being tested and reported?\n",
    "\n",
    "*Problem 4*\n",
    "\n",
    "Which genes has the strongest association?\n",
    "\n",
    "\n",
    "## Perform cis-eQTL analysis with adaptive permutation\n",
    "\n",
    "If we'd like to identify eGene (gene that is significantly regulated by genetic variation), like we've mentioned above, we need to perform permutation to obtain gene-level p-value. \n",
    "Here is how it can be done using `tensorqtl`."
   ]
  },
  {
   "cell_type": "code",
   "execution_count": 5,
   "id": "e1a19389",
   "metadata": {
    "attributes": {
     "classes": [],
     "eval": "FALSE",
     "id": ""
    },
    "kernel": "Bash"
   },
   "outputs": [
    {
     "name": "stdout",
     "output_type": "stream",
     "text": [
      "[Jun 25 07:17:31] Running TensorQTL: cis-QTL mapping\n",
      "  * WARNING: using CPU!\n",
      "  * reading phenotypes (data/lab6/GEUVADIS.chr22.expression.bed.gz)\n",
      "  * cis-window detected as position ± 10,000\n",
      "  * reading covariates (data/lab6/GEUVADIS.445_samples.covariates.txt)\n",
      "  * loading genotypes\n",
      "Mapping files:   0%|                                      | 0/3 [00:00<?, ?it/s]/home/jovyan/.pixi/envs/tensorqtl/lib/python3.12/site-packages/tensorqtl/genotypeio.py:147: FutureWarning: The 'delim_whitespace' keyword in pd.read_csv is deprecated and will be removed in a future version. Use ``sep='\\s+'`` instead\n",
      "  self.bim, self.fam, self.bed = read_plink(plink_prefix_path, verbose=verbose)\n",
      "Mapping files:  33%|██████████                    | 1/3 [00:00<00:00,  4.60it/s]/home/jovyan/.pixi/envs/tensorqtl/lib/python3.12/site-packages/tensorqtl/genotypeio.py:147: FutureWarning: The 'delim_whitespace' keyword in pd.read_csv is deprecated and will be removed in a future version. Use ``sep='\\s+'`` instead\n",
      "  self.bim, self.fam, self.bed = read_plink(plink_prefix_path, verbose=verbose)\n",
      "Mapping files: 100%|██████████████████████████████| 3/3 [00:00<00:00, 10.66it/s]\n",
      "cis-QTL mapping: empirical p-values for phenotypes\n",
      "  * 445 samples\n",
      "  * 555 phenotypes\n",
      "  * 26 covariates\n",
      "  * 182851 variants\n",
      "  * cis-window: ±10,000\n",
      "  * checking phenotypes: 555/555\n",
      "  * computing permutations\n",
      "    processing phenotype 555/555\n",
      "  Time elapsed: 2.11 min\n",
      "done.\n",
      "  * writing output\n",
      "Computing q-values\n",
      "  * Number of phenotypes tested: 555\n",
      "  * Correlation between Beta-approximated and empirical p-values: 1.0000\n",
      "  * Proportion of significant phenotypes (1-pi0): 0.87\n",
      "  * QTL phenotypes @ FDR 0.05: 466\n",
      "/home/jovyan/.pixi/envs/tensorqtl/lib/python3.12/site-packages/tensorqtl/post.py:61: FutureWarning: Series.__getitem__ treating keys as positions is deprecated. In a future version, integer keys will always be treated as labels (consistent with DataFrame behavior). To access a value by position, use `ser.iloc[pos]`\n",
      "  lb = lb[-1]\n",
      "/home/jovyan/.pixi/envs/tensorqtl/lib/python3.12/site-packages/tensorqtl/post.py:63: FutureWarning: Series.__getitem__ treating keys as positions is deprecated. In a future version, integer keys will always be treated as labels (consistent with DataFrame behavior). To access a value by position, use `ser.iloc[pos]`\n",
      "  ub = ub[0]\n",
      "  * min p-value threshold @ FDR 0.05: 0.323081\n",
      "[Jun 25 07:19:40] Finished mapping\n",
      "Traceback (most recent call last):\n",
      "  File \"/home/jovyan/.pixi/envs/tensorqtl/bin/tensorqtl\", line 10, in <module>\n",
      "    sys.exit(__main__())\n",
      "             ^^^^^^^^^^\n",
      "TypeError: 'module' object is not callable\n",
      "\u001b[?25h\n"
     ]
    },
    {
     "ename": "",
     "evalue": "1",
     "output_type": "error",
     "traceback": []
    }
   ],
   "source": [
    "tensorqtl \\\n",
    "  --covariates data/lab6/GEUVADIS.445_samples.covariates.txt \\\n",
    "  --window 10000 \\\n",
    "  --mode cis \\\n",
    "  data/lab6/GEUVADIS.hg38.chr22 \\\n",
    "  data/lab6/GEUVADIS.chr22.expression.bed.gz \\\n",
    "\n",
    "  output_lab6/cis\n"
   ]
  },
  {
   "cell_type": "markdown",
   "id": "1dd2fcbd",
   "metadata": {
    "kernel": "SoS"
   },
   "source": [
    "The output is the gene-level statistics obtained from adaptive permutation where each row is for one gene (in txt.gz format).\n",
    "To obtain eGene as FDR 10%, we can collect all genes with `qval` smaller than 0.1. \n",
    "To obtain cis-eQTL for these eGenes, we can collect all variant/gene pairs with `pval_nominal` (reported in `cis_nominal` run) smaller than `pval_nominal_threshold`.\n",
    "\n",
    "*Problem 5*\n",
    "\n",
    "Which gene has the most significant q-value?\n",
    "\n",
    "Note, it is possible your own cis output file might lack the q-value column (column 18, called \"qval\") and pval_nominal_threshold information, if this is the case, simply use the pre-computed `pre_run.cis_qtl.txt` in the data folder.\n",
    "\n",
    "*Problem 6*\n",
    "\n",
    "Select a gene with q-value < 0.05, visualize its cis-eQTL results by plotting $-\\log(p)$\n",
    "on y-axis and distance to TSS on x-axis. And put a horizontal line indicating the corresponding `pval_nominal_threshold` of the gene.\n",
    "\n",
    "\n",
    "**References**:\n",
    "\n",
    "Ongen, Halit, Alfonso Buil, Andrew Anand Brown, Emmanouil T Dermitzakis, and Olivier Delaneau. 2016. “Fast and Efficient Qtl Mapper for Thousands of Molecular Phenotypes.” Bioinformatics 32 (10). Oxford University Press: 1479–85.\n",
    "\n",
    "Shabalin, Andrey A. 2012. “Matrix eQTL: Ultra Fast eQTL Analysis via Large Matrix Operations.” Bioinformatics 28 (10). Oxford University Press: 1353–8.\n",
    "\n",
    "Taylor-Weiner, Amaro, François Aguet, Nicholas J Haradhvala, Sager Gosai, Shankara Anand, Jaegil Kim, Kristin Ardlie, Eliezer M Van Allen, and Gad Getz. 2019. “Scaling Computational Genomics to Millions of Individuals with Gpus.” Genome Biology 20 (1). BioMed Central: 1–5."
   ]
  }
 ],
 "metadata": {
  "kernelspec": {
   "display_name": "SoS",
   "language": "sos",
   "name": "sos"
  },
  "language_info": {
   "codemirror_mode": "sos",
   "file_extension": ".sos",
   "mimetype": "text/x-sos",
   "name": "sos",
   "nbconvert_exporter": "sos_notebook.converter.SoS_Exporter",
   "pygments_lexer": "sos"
  },
  "sos": {
   "kernels": [
    [
     "Bash",
     "calysto_bash",
     "Bash",
     "#E6EEFF",
     "shell"
    ],
    [
     "Python3",
     "python3",
     "Python3",
     "#FFD91A",
     ""
    ]
   ],
   "panel": {
    "displayed": true,
    "height": 0
   },
   "version": "0.24.4"
  },
  "varInspector": {
   "cols": {
    "lenName": 16,
    "lenType": 16,
    "lenVar": 40
   },
   "kernels_config": {
    "python": {
     "delete_cmd_postfix": "",
     "delete_cmd_prefix": "del ",
     "library": "var_list.py",
     "varRefreshCmd": "print(var_dic_list())"
    },
    "r": {
     "delete_cmd_postfix": ") ",
     "delete_cmd_prefix": "rm(",
     "library": "var_list.r",
     "varRefreshCmd": "cat(var_dic_list()) "
    }
   },
   "types_to_exclude": [
    "module",
    "function",
    "builtin_function_or_method",
    "instance",
    "_Feature"
   ],
   "window_display": false
  }
 },
 "nbformat": 4,
 "nbformat_minor": 5
}
