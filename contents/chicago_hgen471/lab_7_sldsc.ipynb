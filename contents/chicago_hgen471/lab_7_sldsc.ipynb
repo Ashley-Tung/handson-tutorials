{
 "cells": [
  {
   "cell_type": "markdown",
   "id": "d56d6851",
   "metadata": {
    "kernel": "SoS"
   },
   "source": [
    "# Lab 7: S-LDSC\n",
    "\n",
    "## Introduction\n",
    "\n",
    "In this exercise, you will use stratified LD score regression (S-LDSC) to partition heritability for GWAS phenotypes from UK Biobank.\n",
    "\n",
    "Below is a step by step guide on setting up and running the analysis. \n"
   ]
  },
  {
   "cell_type": "markdown",
   "id": "858fce84",
   "metadata": {
    "kernel": "SoS"
   },
   "source": [
    "## Installing LDSC\n",
    "\n",
    "We start by installing LDSC. Detailed instructions can be found [here](https://github.com/bulik/ldsc)."
   ]
  },
  {
   "cell_type": "code",
   "execution_count": null,
   "id": "2c95dc7d-02da-479d-9b1a-2dfeff8c4d14",
   "metadata": {
    "attributes": {
     "classes": [],
     "eval": "FALSE",
     "id": ""
    },
    "kernel": "Bash"
   },
   "outputs": [],
   "source": [
    "git clone https://github.com/bulik/ldsc.git\n",
    "\n",
    "# test if set up is done\n",
    "ldsc/ldsc.py -h\n",
    "ldsc/munge_sumstats.py -h\n"
   ]
  },
  {
   "cell_type": "markdown",
   "id": "32f10472-ea6c-492a-b0fd-e6b3a437029d",
   "metadata": {
    "kernel": "SoS"
   },
   "source": [
    "* If these commands fail with an error, then something has gone wrong during the installation process."
   ]
  },
  {
   "cell_type": "markdown",
   "id": "f3c73eb5",
   "metadata": {
    "kernel": "SoS"
   },
   "source": [
    "\n",
    "## Format summary statistics\n",
    "\n",
    "Before running analysis with LDSC, we need to first reformat input summary statistics. This step is sometimes called munging."
   ]
  },
  {
   "cell_type": "code",
   "execution_count": null,
   "id": "f0dbd13e",
   "metadata": {
    "attributes": {
     "classes": [],
     "eval": "FALSE",
     "id": ""
    },
    "kernel": "Bash"
   },
   "outputs": [],
   "source": [
    "mkdir output\n",
    "\n",
    "# make sure you use the right paths; I don't know beforehand where you might have installed the ldsc software\n",
    "ldsc/munge_sumstats.py \\\n",
    "--sumstats /project/hgen47100/class_2024/data/lab7/GIANT_BMI_Speliotes2010_publicrelease_HapMapCeuFreq.txt \\\n",
    "--merge-alleles /project/hgen47100/class_2024/data/lab7/w_hm3.snplist \\\n",
    "--chunksize 50000 \\\n",
    "--out ./output/BMI \\\n",
    "--a1-inc\n"
   ]
  },
  {
   "cell_type": "markdown",
   "id": "751c1629",
   "metadata": {
    "kernel": "SoS"
   },
   "source": [
    "## Partition heritability\n",
    "\n",
    "S-LDSC partition heritability into different annotation categories by fitting the following model:\n",
    "\n",
    "$$\\Large E \\left [X_{j}^{2} \\right] = \\Large N \\sum_{C}\\tau_{C} \\ell(j,C) + Na + 1 \\tag{1}$$\n",
    "\n",
    "Here, $N$ is the sample size; $C$ indexes annotation categories; $\\ell(j,C)$ is the LD score of SNP $j$ with respect to category $C$, defined as $\\ell(j,C) = \\sum_{k \\in C} r_{jk}^2$; $a$ is a term that measures the contribution of confounding biases; $\\tau_{C}$ represents the per-SNP contribution to heritability of category $C$.\n",
    "\n",
    "Unlike the original LDSC, where ld score is calculated using all the SNPs and the regression has a single predictor, in stratified LDSC we regress against ld scores from multiple categories and that helps us estimate the contribution to heritability from each category.\n",
    "\n",
    "S-LDSC is implemented as part of the `ldsc` software. To run S-LDSC, we need to provide the following infomation through command line arguments:\n",
    "\n",
    "* **--w-ld-chr**: the sum of LD scores over all input SNPs (i.e., the SNPs for which you have Z-scores). The total LD scores are just used for weighting the regression (hence the \"w\") and generally do not have a huge impact on the results.\n",
    "\n",
    "* **--ref-ld-chr**: a list of LD scores, one for each annotation category. The developers of S-LDSC also provide a baseline model that contains 53 (overlapping) functional categories.\n",
    "\n",
    "* **--frqfile-chr**: allele frequency information. `ldsc` only uses SNPs with MAF > 5%.\n",
    "\n",
    "* **--overlap-annot**: a flag that tells `ldsc` the input annotation categories overlap with each other."
   ]
  },
  {
   "cell_type": "code",
   "execution_count": null,
   "id": "13bf5bff",
   "metadata": {
    "attributes": {
     "classes": [],
     "eval": "FALSE",
     "id": ""
    },
    "kernel": "Bash",
    "scrolled": true
   },
   "outputs": [],
   "source": [
    "# make sure you use the right paths; I don't know beforehand where you might have installed the ldsc software\n",
    "\n",
    "ldsc/ldsc.py \\\n",
    "    --h2 /project/hgen47100/class_2024/data/lab7/BMI.sumstats.gz \\\n",
    "    --ref-ld-chr /project/hgen47100/class_2024/data/lab7/baseline/baseline. \\\n",
    "    --w-ld-chr /project/hgen47100/class_2024/data/lab7/weights_hm3_no_hla/weights. \\\n",
    "    --overlap-annot \\\n",
    "    --frqfile-chr /project/hgen47100/class_2024/data/lab7/1000G_frq/1000G.mac5eur. \\\n",
    "    --out ./output/BMI_baseline\n"
   ]
  },
  {
   "cell_type": "markdown",
   "id": "2f214a1e",
   "metadata": {
    "kernel": "SoS"
   },
   "source": [
    "## Visualize the partitioned heritability\n",
    "\n",
    "We can use the following code to visualize the results. **Move BMI_baseline.results to your local machine and run the following R code.**"
   ]
  },
  {
   "cell_type": "code",
   "execution_count": null,
   "id": "10884ef6",
   "metadata": {
    "attributes": {
     "classes": [],
     "eval": "FALSE",
     "id": ""
    },
    "kernel": "R"
   },
   "outputs": [],
   "source": [
    "library(data.table)\n",
    "library(tidyverse)\n",
    "\n",
    "dir <- \"\"  # specify your own directory\n",
    "\n",
    "h2 <- paste0(dir, '/BMI_baseline.results')\n",
    "\n",
    "h2 <- fread(h2)\n",
    "\n",
    "# barplot\n",
    "h2 %>% arrange(desc(Prop._h2)) %>% \n",
    "  mutate(Category = str_remove(Category, \"_0\")) %>% \n",
    "  mutate(Category = factor(Category, level = Category)) %>% \n",
    "  pivot_longer(.,cols = c(Prop._SNPs,Prop._h2),names_to = \"Proportion\") %>% \n",
    "  ggplot(., aes(x=Category, y=value)) + \n",
    "  geom_bar(aes(fill = Proportion),stat = \"identity\",position = \"dodge\") +\n",
    "  theme(axis.text.x = element_text(angle = 90, vjust = 0.5, hjust=1)) +\n",
    "  ggtitle(\"Proportion of h2 explained and snps used by each category\") +\n",
    "  ylab(\"proportion\") + xlab(\"Category\")\n",
    "\n",
    "# enrichment plot\n",
    "h2 %>% mutate(Category = str_remove(Category, \"_0\")) %>% \n",
    "  ggplot(., aes(x=Category, y=-log10(Enrichment_p))) +\n",
    "  geom_hline(yintercept=-log10(0.05/nrow(h2)),linetype=2) +\n",
    "  geom_bar(stat = \"identity\",position = \"dodge\") +\n",
    "  theme(axis.text.x = element_text(angle = 90, vjust = 0.5, hjust=1)) + \n",
    "  ggtitle(\"Enrichment of different categories\") +\n",
    "  ylab(\"-log10(p)\") + xlab(\"Category\") +\n",
    "  coord_flip() \n",
    "  \n"
   ]
  },
  {
   "cell_type": "markdown",
   "id": "6ffdbd65",
   "metadata": {
    "kernel": "SoS"
   },
   "source": [
    "The dotted line shows the Bonferonni significance at $\\alpha$ cut off of 0.05.\n",
    "\n",
    "## Estimating proportion of heritability by cell-type group\n",
    "\n",
    "Now we run a cell type specific analysis to prioritize relevant cell types and estimate proportion of heritability attribute to different cell types. We will run three cell type groups: CNS, Skeletal Muscle, and Immune."
   ]
  },
  {
   "cell_type": "code",
   "execution_count": null,
   "id": "a867f3a4",
   "metadata": {
    "attributes": {
     "classes": [],
     "eval": "FALSE",
     "id": ""
    },
    "kernel": "Bash"
   },
   "outputs": [],
   "source": [
    "# CNS\n",
    "ldsc/ldsc.py \\\n",
    "    --h2 /project/hgen47100/class_2024/data/lab7/BMI.sumstats.gz \\\n",
    "    --ref-ld-chr /project/hgen47100/class_2024/data/lab7/cell_type_groups/CNS.,/project/hgen47100/class_2024/data/lab7/baseline/baseline. \\\n",
    "    --w-ld-chr /project/hgen47100/class_2024/data/lab7/weights_hm3_no_hla/weights. \\\n",
    "    --overlap-annot \\\n",
    "    --print-coefficients \\\n",
    "    --frqfile-chr /project/hgen47100/class_2024/data/lab7/1000G_frq/1000G.mac5eur. \\\n",
    "    --out ./output/BMI_CNS\n",
    "\n",
    "# Skeletal Muscle\n",
    "ldsc/ldsc.py \\\n",
    "    --h2 /project/hgen47100/class_2024/data/lab7/BMI.sumstats.gz \\\n",
    "    --ref-ld-chr /project/hgen47100/class_2024/data/lab7/cell_type_groups/SkeletalMuscle.,project/hgen47100/class_2024/data/lab7/baseline/baseline. \\\n",
    "    --w-ld-chr project/hgen47100/class_2024/data/lab7/weights_hm3_no_hla/weights. \\\n",
    "    --overlap-annot \\\n",
    "    --print-coefficients \\\n",
    "    --frqfile-chr project/hgen47100/class_2024/data/lab7/1000G_frq/1000G.mac5eur. \\\n",
    "    --out ./output/BMI_SkeletalMuscle\n",
    "\n",
    "# Immune\n",
    "ldsc/ldsc.py \\\n",
    "    --h2 project/hgen47100/class_2024/data/lab7/BMI.sumstats.gz \\\n",
    "    --ref-ld-chr project/hgen47100/class_2024/data/lab7/cell_type_groups/Immune.,project/hgen47100/class_2024/data/lab7/baseline/baseline. \\\n",
    "    --w-ld-chr project/hgen47100/class_2024/data/lab7/weights_hm3_no_hla/weights. \\\n",
    "    --overlap-annot \\\n",
    "    --print-coefficients \\\n",
    "    --frqfile-chr project/hgen47100/class_2024/data/lab7/1000G_frq/1000G.mac5eur. \\\n",
    "    --out ./output/BMI_Immune\n"
   ]
  },
  {
   "cell_type": "markdown",
   "id": "82506005",
   "metadata": {
    "kernel": "SoS"
   },
   "source": [
    "## Visualize h2 estimate by cell type"
   ]
  },
  {
   "cell_type": "code",
   "execution_count": null,
   "id": "4b8cc456",
   "metadata": {
    "attributes": {
     "classes": [],
     "eval": "FALSE",
     "id": ""
    },
    "kernel": "R"
   },
   "outputs": [],
   "source": [
    "dir <- \"\"\n",
    "\n",
    "cns <- paste0(dir, '/BMI_CNS.results')\n",
    "ske <- paste0(dir, '/BMI_SkeletalMuscle.results')\n",
    "immune <- paste0(dir, '/BMI_Immune.results')\n",
    "\n",
    "cns <- fread(cns)\n",
    "ske <- fread(ske)\n",
    "immune <- fread(immune)\n",
    "\n",
    "cns %>% dplyr::filter(Category == \"CNS_0\") %>% mutate(Cell_type = \"CNS\") %>% \n",
    "  bind_rows(ske %>% dplyr::filter(Category == \"SkeletalMuscle_0\") %>% \n",
    "              mutate(Cell_type = \"SkeletalMuscle\")) %>% \n",
    "  bind_rows(immune %>% dplyr::filter(Category == \"Immune_0\") %>% \n",
    "              mutate(Cell_type = \"Immune\")) %>% \n",
    "  #mutate(Category = factor(Category, level = Category)) %>% \n",
    "  ggplot(., aes(x=Category, y=Prop._h2)) + \n",
    "  geom_bar(aes(fill = Cell_type),stat = \"identity\",position = \"dodge\") + \n",
    "  theme(axis.text.x = element_text(angle = 90, vjust = 0.5, hjust=1))\n"
   ]
  },
  {
   "cell_type": "markdown",
   "id": "941c91ca",
   "metadata": {
    "kernel": "SoS"
   },
   "source": [
    "## Cell type-specific analysis\n",
    "\n",
    "A more efficient way to do cell type-specific analysis is using the `--h2-cts` flag."
   ]
  },
  {
   "cell_type": "code",
   "execution_count": null,
   "id": "6eb80bf0",
   "metadata": {
    "attributes": {
     "classes": [],
     "eval": "FALSE",
     "id": ""
    },
    "kernel": "Bash"
   },
   "outputs": [],
   "source": [
    "# Reference: https://www.jneurosci.org/content/28/1/264\n",
    "ldsc/ldsc.py \\\n",
    "  --h2-cts project/hgen47100/class_2024/data/lab7/BMI.sumstats.gz \\\n",
    "  --ref-ld-chr project/hgen47100/class_2024/data/lab7/1000G_EUR_Phase3_baseline/baseline. \\\n",
    "  --out ./output/BMI_Cahoy \\\n",
    "  --ref-ld-chr-cts project/hgen47100/class_2024/data/lab7/Cahoy.ldcts \\\n",
    "  --w-ld-chr project/hgen47100/class_2024/data/lab7/weights_hm3_no_hla/weights.\n"
   ]
  },
  {
   "cell_type": "markdown",
   "id": "5b73a026",
   "metadata": {
    "kernel": "SoS"
   },
   "source": [
    "## Visualize the cell specific analyses results"
   ]
  },
  {
   "cell_type": "code",
   "execution_count": null,
   "id": "9c2c2e2e",
   "metadata": {
    "attributes": {
     "classes": [],
     "eval": "FALSE",
     "id": ""
    },
    "kernel": "R"
   },
   "outputs": [],
   "source": [
    "dir <- \"\"\n",
    "\n",
    "cts <- paste0(dir, '/BMI_Cahoy.cell_type_results.txt')\n",
    "\n",
    "cts <- fread(cts)\n",
    "cts\n",
    "ggplot(data = cts, aes(x = Name, y = -log10(Coefficient_P_value))) + \n",
    "  geom_point(aes(color = Name))"
   ]
  },
  {
   "cell_type": "markdown",
   "id": "0f36d3eb",
   "metadata": {
    "kernel": "SoS"
   },
   "source": [
    "## Assignment\n",
    "\n",
    "Select a brain-related phenotype from this [list](https://nealelab.github.io/UKBB_ldsc/downloads.html#ldsc_sumstat_files) and download the pre-processed GWAS summary statistics. Run the following analysis:\n",
    "\n",
    "  1. Partition heritability using the baseline model.\\\n",
    "  2. Estimating proportion of heritability explained by the three cell types above.\\\n",
    "  3. Run cell type-specific analysis using the Cahoy dataset.\\\n",
    "  4. Visualize results for analysis 1 - 3."
   ]
  }
 ],
 "metadata": {
  "kernelspec": {
   "display_name": "SoS",
   "language": "sos",
   "name": "sos"
  },
  "language_info": {
   "codemirror_mode": "sos",
   "file_extension": ".sos",
   "mimetype": "text/x-sos",
   "name": "sos",
   "nbconvert_exporter": "sos_notebook.converter.SoS_Exporter",
   "pygments_lexer": "sos"
  },
  "sos": {
   "kernels": [
    [
     "Bash",
     "bash",
     "Bash",
     "#E6EEFF",
     "shell"
    ],
    [
     "R",
     "ir",
     "R",
     "",
     ""
    ]
   ],
   "panel": {
    "displayed": true,
    "height": 0
   },
   "version": "0.24.4"
  },
  "varInspector": {
   "cols": {
    "lenName": 16,
    "lenType": 16,
    "lenVar": 40
   },
   "kernels_config": {
    "python": {
     "delete_cmd_postfix": "",
     "delete_cmd_prefix": "del ",
     "library": "var_list.py",
     "varRefreshCmd": "print(var_dic_list())"
    },
    "r": {
     "delete_cmd_postfix": ") ",
     "delete_cmd_prefix": "rm(",
     "library": "var_list.r",
     "varRefreshCmd": "cat(var_dic_list()) "
    }
   },
   "types_to_exclude": [
    "module",
    "function",
    "builtin_function_or_method",
    "instance",
    "_Feature"
   ],
   "window_display": false
  }
 },
 "nbformat": 4,
 "nbformat_minor": 5
}
