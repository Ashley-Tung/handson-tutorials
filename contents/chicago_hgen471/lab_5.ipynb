{
 "cells": [
  {
   "cell_type": "markdown",
   "id": "c08c025e",
   "metadata": {
    "kernel": "SoS"
   },
   "source": [
    "# Lab 5: Calculating the Heritability of Complex Traits with GCTA\n",
    "\n",
    "[Genome-wide Complex Trait Analysis](https://yanglab.westlake.edu.cn/software/gcta/#Overview) (GCTA) was originally designed to estimate the heritability of complex traits using genome-wide SNPs, but has now been extended for numerous other functionalities to better understand the genetic architecture of these traits ([Yang et al., 2011](https://www.cell.com/ajhg/fulltext/S0002-9297(10)00598-7)). Generally, GCTA estimates heritability using the proportion of phenotypic variance explained by the a genetic relationship matrix (GRM), which is calculated using the genome-wide SNP data. In today's lab we will become familiar with the GCTA software and some of its capabilities, as well as explore some of the conceptual issues dealt with in class with a large SNP dataset provided by Brandon Pierce. By the end of the lab you should be able to:\n",
    "\n",
    "- **Setup an interactive job on an RCC compute node**  \n",
    "- **Construct GRMs given BED, FAM, and BIM files**  \n",
    "- **Run standard analysis in GCTA on large datasets (univariate REML)**  \n",
    "- **Run bivariate REML analysis in GCTA**\n",
    "- **Relate how increasing density of markers affects heritability estimate**\n",
    "- **Relate how subsetting markers may affect heritability estimate**\n",
    "\n",
    "# Setup an interactive job\n",
    "\n",
    "When you first login to RCC, you will be on the \"login node.\" While you can technically run computations with low resource requirements on this node, it is better to run jobs on a \"compute node\" (also, if you demand too much of the login node it will boot you off). Running jobs on a compute node can either be as a batch job (precode your commands in a script, submit-and-forget) or interactive (enter your commands manually in real time, while utilizing the resources of the compute node). [See the RCC Midway User Guide for more information](https://rcc.uchicago.edu/docs/). \n",
    "\n",
    "When you run jobs on a compute node, you are using computing resources, or Service Units (SUs). We have been allocated SUs by RCC to use for this class, and you can draw from them using the \\--account command. You can also specify the number of cores, memory, block of time, and other parameters (see the Midway guide for more details). Note that your interactive session has a default \"wall time\" of 2 hours after which it will automatically end (you can adjust this using \\--time, but it won't be necessary for our labs). Also,  if the resources you requested for a job are too low, you may see something like \"bus error\" and you should increase the number of cores or RAM.\n",
    "\n"
   ]
  },
  {
   "cell_type": "markdown",
   "id": "5a4d6da3",
   "metadata": {
    "kernel": "SoS"
   },
   "source": [
    "We will be using interactive session for our lab today. **Start an interactive session using 1 core and 8GB of RAM (using our class account) with the following command**:"
   ]
  },
  {
   "cell_type": "code",
   "execution_count": null,
   "id": "5eda0068",
   "metadata": {
    "attributes": {
     "classes": [],
     "eval": "FALSE",
     "id": ""
    },
    "kernel": "SoS"
   },
   "outputs": [],
   "source": [
    "sinteractive --partition=broadwl --account=hgen47100 --nodes=1 --mem=8G --time=2:00:00"
   ]
  },
  {
   "cell_type": "markdown",
   "id": "e14324d5",
   "metadata": {
    "kernel": "SoS"
   },
   "source": [
    "Now you can proceed with working on Midway as we've done in previous labs, but you will have more computational power at your disposal.\n",
    "\n",
    "# Basics of GCTA\n",
    "\n",
    "## Standard GCTA options  \n",
    "\n",
    "option                        |     Description\n",
    "----------                    |   ---------------------------------------------------------\n",
    "**make-grm**                  |   Generates GRM from SNP data (BED, FAM, BIM files).\n",
    "**make-grm-bin**              |   Generates binary GRM from SNP data (BED, FAM, BIM files).\n",
    "**bfile**                     |   Specifies stem name from BED file for analysis.\n",
    "**out**                       |   Specifies output stem name.\n",
    "**pheno**                     |   Specifies file containing phenotypic information.\n",
    "**mpheno**                    |   Gives the column number within phenotype file to use for analysis.\n",
    "**reml**                      |   Runs univariate restricted maximum likelihood (REML) analysis.\n",
    "**grm**                       |   Specifies GRM file for analysis.\n",
    "**grm-bin**                   |   Specifies binary GRM file for analysis.\n",
    "**reml-bivar**                |   Runs bivariate restricted maximum likelihood (REML) analysis.\n",
    "**reml-maxit**                |   Sets the maximum number of iterations to run (Default: 100).\n",
    "\n",
    "There is a lot of overlap between PLINK options and GCTA options. For example, the maf option does the same thing in GCTA as it does in PLINK.\n",
    "\n",
    "## Basic GCTA syntax\n",
    "\n"
   ]
  },
  {
   "cell_type": "markdown",
   "id": "82529b57",
   "metadata": {
    "kernel": "SoS"
   },
   "source": [
    "Running GCTA is nice because it prints lots of useful information to the screen as it runs, and when it concludes. However, due to the computation required for creating a GRM, and the large size of the some of the input and output files, running it can take a bit of time. Depending on what you're doing for this lab, you can expect some processes to take up to 3 minutes, and of course, with bigger files, it would take even more time. The syntax used to run GCTA is similar to other pipelines we have used on the command line: GCTA is called and modified with option flags (see Section 2.1). For example, one of the first things you will usually need to do is take your SNP data (BED, FAM, BIM formats-just like in PLINK!) and make a GRM. **Try this with the following command and the \"test\" files:**"
   ]
  },
  {
   "cell_type": "code",
   "execution_count": null,
   "id": "568c1995",
   "metadata": {
    "attributes": {
     "classes": [],
     "eval": "FALSE",
     "id": ""
    },
    "kernel": "SoS"
   },
   "outputs": [],
   "source": [
    "mkdir output  # create a folder to store output files\n",
    "gcta --bfile test --autosome --maf 0.01 --make-grm --out output/test"
   ]
  },
  {
   "cell_type": "markdown",
   "id": "11eb5c54",
   "metadata": {
    "kernel": "SoS"
   },
   "source": [
    "*Problem 1*\n",
    "\n",
    "How many individuals are there in the test dataset?\n",
    "\n",
    "## Basic REML run\n",
    "\n",
    "GCTA employs a restricted maximum likelihood (REML) method to estimate the proportion of phenotypic variance explained by SNP data ([Yang et al., 2010](https://www.nature.com/articles/ng.608)). **Run a basic REML analysis on the \"test\" GRM you created with the following command:**"
   ]
  },
  {
   "cell_type": "code",
   "execution_count": null,
   "id": "dc31d143",
   "metadata": {
    "attributes": {
     "classes": [],
     "eval": "FALSE",
     "id": ""
    },
    "kernel": "SoS"
   },
   "outputs": [],
   "source": [
    "gcta --grm output/test --pheno test.phen --reml --out output/test"
   ]
  },
  {
   "cell_type": "markdown",
   "id": "60303490",
   "metadata": {
    "kernel": "SoS"
   },
   "source": [
    "Results can be found in the **test.hsq** file. **Open this file in your preferred text editor.** Recall from lecture that narrow-sense heritability is additive genetic variance over phenotypic variance.\n",
    "\n",
    "*Problem 2*\n",
    "\n",
    "Is this phenotype heritable (i.e., is the heritability estimate statistically significant)?\n",
    "\n",
    "*Problem 3*\n",
    "\n",
    "What is the heritability estimate? What is the standard error of this estimate?\n",
    "\n",
    "# Manipulating GRMs for a Robust Assessment of Heritability\n",
    "\n",
    "## Effect of SNP Density on Heritability Estimation\n",
    "\n",
    "The density at which SNPs are sampled throughout the genome can have an important effect on heritability estimates of complex traits. In order to illustrate this point, you have been provided two large SNP datasets (250k and 500k markers) of 1,000 individuals and a file with two phenotypes (named \"two_phenotypes.txt\"). \n",
    "\n",
    "*Problem 4*\n",
    "\n",
    "For phenotype 1, create a GRM based on the 250,000 whole-genome SNPs (250k.bed, 250k.fam, 250k.bim) and estimate the heritability (Hints: Making a binary GRM may save you major time, and don't forget to specify you want column 1 in the phenotype file to be used for REML analysis). Provide the command.\n",
    "\n",
    "*Problem 5*\n",
    "\n",
    "Now, create a GRM based on the 500,000 whole-genome SNPs (500k.bed, 500k.fam, 500k.bim) and estimate the heritability. Provide the command.\n",
    "\n",
    "*Problem 6*\n",
    "\n",
    "When increasing the number of SNPs from 250k to 500k, how did the heritability estimate and/or SE change and why? What might this say about the relationship between SNP density and estimating heritability more generally?\n",
    "\n",
    "## Effect of Subsetting a GRM to Causal Variants on Heritability Estimation\n",
    "\n",
    "Some time-traveling scientists who have conducted GWAS of all humans on earth from all times deliver you a dataset containing only causal variants (causal.bed, causal.fam, causal.bim). Let's explore how using this set of causal variants may change our estimation of heritability.\n",
    "\n",
    "*Problem 7*\n",
    "\n",
    "Create a GRM based only on the causal variants and estimate the heritability. Provide the command.\n",
    "\n",
    "*Problem 8*\n",
    "\n",
    "How did the estimate and/or SE change compared to the REML analysis with the 500k GRM? Why might this be?\n",
    "\n",
    "\n",
    "## Estimating Genetic Correlation of Multiple Phenotypes\n",
    "\n",
    "*Problem 9*\n",
    "\n",
    "Using the GRM generated from 500k SNPs, estimate the genetic correlation between phenotype 1 and 2 using a bivariate, rather than a univariate, REML run. Provide the command. (hint: `--reml-bivar` and [documentation on bivariate REML analysis](https://yanglab.westlake.edu.cn/software/gcta/#BivariateGREMLanalysis))\n",
    "\n",
    "*Problem 10*\n",
    "\n",
    "Which line in the output file `*.hsq` is genetic correlation? What does this \"genetic correlation\" mean?"
   ]
  }
 ],
 "metadata": {
  "kernelspec": {
   "display_name": "SoS",
   "language": "sos",
   "name": "sos"
  },
  "language_info": {
   "codemirror_mode": "sos",
   "file_extension": ".sos",
   "mimetype": "text/x-sos",
   "name": "sos",
   "nbconvert_exporter": "sos_notebook.converter.SoS_Exporter",
   "pygments_lexer": "sos"
  },
  "sos": {
   "kernels": [
    [
     "SoS",
     "sos",
     "",
     ""
    ]
   ],
   "version": ""
  },
  "varInspector": {
   "cols": {
    "lenName": 16,
    "lenType": 16,
    "lenVar": 40
   },
   "kernels_config": {
    "python": {
     "delete_cmd_postfix": "",
     "delete_cmd_prefix": "del ",
     "library": "var_list.py",
     "varRefreshCmd": "print(var_dic_list())"
    },
    "r": {
     "delete_cmd_postfix": ") ",
     "delete_cmd_prefix": "rm(",
     "library": "var_list.r",
     "varRefreshCmd": "cat(var_dic_list()) "
    }
   },
   "types_to_exclude": [
    "module",
    "function",
    "builtin_function_or_method",
    "instance",
    "_Feature"
   ],
   "window_display": false
  }
 },
 "nbformat": 4,
 "nbformat_minor": 5
}
