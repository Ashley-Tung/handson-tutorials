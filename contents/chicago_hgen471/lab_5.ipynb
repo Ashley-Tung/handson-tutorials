{
 "cells": [
  {
   "cell_type": "markdown",
   "id": "c08c025e",
   "metadata": {
    "kernel": "SoS"
   },
   "source": [
    "# Lab 5: Calculating the Heritability of Complex Traits with GCTA\n",
    "\n",
    "[Genome-wide Complex Trait Analysis](https://yanglab.westlake.edu.cn/software/gcta/#Overview) (GCTA) was originally designed to estimate the heritability of complex traits using genome-wide SNPs, but has now been extended for numerous other functionalities to better understand the genetic architecture of these traits ([Yang et al., 2011](https://www.cell.com/ajhg/fulltext/S0002-9297(10)00598-7)). Generally, GCTA estimates heritability using the proportion of phenotypic variance explained by the a genetic relationship matrix (GRM), which is calculated using the genome-wide SNP data. In today's lab we will become familiar with the GCTA software and some of its capabilities, as well as explore some of the conceptual issues dealt with in class with a large SNP dataset provided by Brandon Pierce. By the end of the lab you should be able to:\n",
    "\n",
    "- **Setup an interactive job on an RCC compute node**  \n",
    "- **Construct GRMs given BED, FAM, and BIM files**  \n",
    "- **Run standard analysis in GCTA on large datasets (univariate REML)**  \n",
    "- **Run bivariate REML analysis in GCTA**\n",
    "- **Relate how increasing density of markers affects heritability estimate**\n",
    "- **Relate how subsetting markers may affect heritability estimate**\n",
    "\n"
   ]
  },
  {
   "cell_type": "markdown",
   "id": "e14324d5",
   "metadata": {
    "kernel": "SoS"
   },
   "source": [
    "Now you can proceed with working on Midway as we've done in previous labs, but you will have more computational power at your disposal.\n",
    "\n",
    "# Basics of GCTA\n",
    "\n",
    "## Standard GCTA options  \n",
    "\n",
    "option                        |     Description\n",
    "----------                    |   ---------------------------------------------------------\n",
    "**make-grm**                  |   Generates GRM from SNP data (BED, FAM, BIM files).\n",
    "**make-grm-bin**              |   Generates binary GRM from SNP data (BED, FAM, BIM files).\n",
    "**bfile**                     |   Specifies stem name from BED file for analysis.\n",
    "**out**                       |   Specifies output stem name.\n",
    "**pheno**                     |   Specifies file containing phenotypic information.\n",
    "**mpheno**                    |   Gives the column number within phenotype file to use for analysis.\n",
    "**reml**                      |   Runs univariate restricted maximum likelihood (REML) analysis.\n",
    "**grm**                       |   Specifies GRM file for analysis.\n",
    "**grm-bin**                   |   Specifies binary GRM file for analysis.\n",
    "**reml-bivar**                |   Runs bivariate restricted maximum likelihood (REML) analysis.\n",
    "**reml-maxit**                |   Sets the maximum number of iterations to run (Default: 100).\n",
    "\n",
    "There is a lot of overlap between PLINK options and GCTA options. For example, the maf option does the same thing in GCTA as it does in PLINK.\n",
    "\n",
    "## Basic GCTA syntax\n",
    "\n"
   ]
  },
  {
   "cell_type": "markdown",
   "id": "82529b57",
   "metadata": {
    "kernel": "SoS"
   },
   "source": [
    "Running GCTA is nice because it prints lots of useful information to the screen as it runs, and when it concludes. However, due to the computation required for creating a GRM, and the large size of the some of the input and output files, running it can take a bit of time. Depending on what you're doing for this lab, you can expect some processes to take up to 3 minutes, and of course, with bigger files, it would take even more time. The syntax used to run GCTA is similar to other pipelines we have used on the command line: GCTA is called and modified with option flags (see Section 2.1). For example, one of the first things you will usually need to do is take your SNP data (BED, FAM, BIM formats-just like in PLINK!) and make a GRM. **Try this with the following command and the \"test\" files:**"
   ]
  },
  {
   "cell_type": "code",
   "execution_count": 8,
   "id": "568c1995",
   "metadata": {
    "attributes": {
     "classes": [],
     "eval": "FALSE",
     "id": ""
    },
    "kernel": "Bash"
   },
   "outputs": [
    {
     "name": "stdout",
     "output_type": "stream",
     "text": [
      "\u001b[0;32m\u001b[0m*******************************************************************\n",
      "\u001b[0;32m\u001b[0m* Genome-wide Complex Trait Analysis (GCTA)\n",
      "\u001b[0;32m\u001b[0m* version v1.94.1 Linux\n",
      "\u001b[0;32m\u001b[0m* Built at Nov 15 2022 21:14:25, by GCC 8.5\n",
      "\u001b[0;32m\u001b[0m* (C) 2010-present, Yang Lab, Westlake University\n",
      "\u001b[0;32m\u001b[0m* Please report bugs to Jian Yang <jian.yang@westlake.edu.cn>\n",
      "\u001b[0;32m\u001b[0m*******************************************************************\n",
      "\u001b[0;32mAnalysis started \u001b[0mat 07:01:56 UTC on Tue Jun 25 2024.\n",
      "\u001b[0;32m\u001b[0mHostname: ad9e328539dd\n",
      "\u001b[0;32m\u001b[0m\n",
      "\u001b[0;32m\u001b[0mOptions: \n",
      "\u001b[0;32m\u001b[0m \n",
      "--bfile data/lab5/test \n",
      "--autosome \n",
      "--maf 0.01 \n",
      "--make-grm \n",
      "--out output_lab5/test \n",
      "\u001b[0;32m\u001b[0m\n",
      "\u001b[0;32m\u001b[0mNote: GRM is computed using the SNPs on the autosomes.\n",
      "\u001b[0;32m\u001b[0mReading PLINK FAM file from [data/lab5/test.fam]...\n",
      "\u001b[0;32m\u001b[0m3925 individuals to be included from FAM file.\n",
      "3925 individuals to be included. 1643 males, 2282 females, 0 unknown.\n",
      "\u001b[0;32m\u001b[0mReading PLINK BIM file from [data/lab5/test.bim]...\n",
      "\u001b[0;32m\u001b[0m1000 SNPs to be included from BIM file(s).\n",
      "Threshold to filter variants: MAF > 0.010000.\n",
      "\u001b[0;32m\u001b[0mComputing the genetic relationship matrix (GRM) v2 ...\n",
      "\u001b[0;32m\u001b[0mSubset 1/1, no. subject 1-3925\n",
      "  \u001b[0;32m\u001b[0m3925 samples, 1000 markers, 7704775 GRM elements\n",
      "\u001b[0;32m\u001b[0mIDs for the GRM file have been saved in the file [output_lab5/test.grm.id]\n",
      "Computing GRM...\n",
      "  \u001b[0;32m\u001b[0m100% finished in 0.9 sec\n",
      "1000 SNPs have been processed.\n",
      "  Used 1000 valid SNPs.\n",
      "\u001b[0;32m\u001b[0mThe GRM computation is completed.\n",
      "\u001b[0;32m\u001b[0mSaving GRM...\n",
      "\u001b[0;32m\u001b[0mGRM has been saved in the file [output_lab5/test.grm.bin]\n",
      "\u001b[0;32m\u001b[0mNumber of SNPs in each pair of individuals has been saved in the file [output_lab5/test.grm.N.bin]\n",
      "\u001b[0;32m\u001b[0m\n",
      "\u001b[0;32mAnalysis finished \u001b[0mat 07:01:57 UTC on Tue Jun 25 2024\n",
      "Overall computational time: 1.32 sec.\n"
     ]
    }
   ],
   "source": [
    "mkdir output_lab5\n",
    "# create a folder to store output files\n",
    "\n",
    "gcta --bfile data/lab5/test --autosome --maf 0.01 --make-grm --out output_lab5/test"
   ]
  },
  {
   "cell_type": "markdown",
   "id": "11eb5c54",
   "metadata": {
    "kernel": "SoS"
   },
   "source": [
    "*Problem 1*\n",
    "\n",
    "How many individuals are there in the test dataset?\n",
    "\n",
    "## Basic REML run\n",
    "\n",
    "GCTA employs a restricted maximum likelihood (REML) method to estimate the proportion of phenotypic variance explained by SNP data ([Yang et al., 2010](https://www.nature.com/articles/ng.608)). **Run a basic REML analysis on the \"test\" GRM you created with the following command:**"
   ]
  },
  {
   "cell_type": "code",
   "execution_count": 9,
   "id": "dc31d143",
   "metadata": {
    "attributes": {
     "classes": [],
     "eval": "FALSE",
     "id": ""
    },
    "kernel": "Bash"
   },
   "outputs": [
    {
     "name": "stdout",
     "output_type": "stream",
     "text": [
      "\u001b[0;32m\u001b[0m*******************************************************************\n",
      "\u001b[0;32m\u001b[0m* Genome-wide Complex Trait Analysis (GCTA)\n",
      "\u001b[0;32m\u001b[0m* version v1.94.1 Linux\n",
      "\u001b[0;32m\u001b[0m* Built at Nov 15 2022 21:14:25, by GCC 8.5\n",
      "\u001b[0;32m\u001b[0m* (C) 2010-present, Yang Lab, Westlake University\n",
      "\u001b[0;32m\u001b[0m* Please report bugs to Jian Yang <jian.yang@westlake.edu.cn>\n",
      "\u001b[0;32m\u001b[0m*******************************************************************\n",
      "\u001b[0;32mAnalysis started \u001b[0mat 07:02:27 UTC on Tue Jun 25 2024.\n",
      "\u001b[0;32m\u001b[0mHostname: ad9e328539dd\n",
      "\u001b[0;32m\u001b[0m\n",
      "Accepted options:\n",
      "--grm output_lab5/test\n",
      "--pheno data/lab5/test.phen\n",
      "--reml\n",
      "--out output_lab5/test\n",
      "\n",
      "Note: This is a multi-thread program. You could specify the number of threads by the --thread-num option to speed up the computation if there are multiple processors in your machine.\n",
      "\n",
      "Reading IDs of the GRM from [output_lab5/test.grm.id].\n",
      "3925 IDs are read from [output_lab5/test.grm.id].\n",
      "Reading the GRM from [output_lab5/test.grm.bin].\n",
      "GRM for 3925 individuals are included from [output_lab5/test.grm.bin].\n",
      "Reading phenotypes from [data/lab5/test.phen].\n",
      "Non-missing phenotypes of 3925 individuals are included from [data/lab5/test.phen].\n",
      "\n",
      "3925 individuals are in common in these files.\n",
      "\n",
      "Performing  REML analysis ... (Note: may take hours depending on sample size).\n",
      "3925 observations, 1 fixed effect(s), and 2 variance component(s)(including residual variance).\n",
      "Calculating prior values of variance components by EM-REML ...\n",
      "Updated prior values: 0.462455 0.889944\n",
      "logL: -2529.14\n",
      "Running AI-REML algorithm ...\n",
      "Iter.\tlogL\tV(G)\tV(e)\t\n",
      "1\t-2074.82\t0.02389\t0.91928\t\n",
      "2\t-1945.84\t0.02343\t0.93419\t\n",
      "3\t-1944.49\t0.02309\t0.94480\t\n",
      "4\t-1943.84\t0.02283\t0.95228\t\n",
      "5\t-1943.53\t0.02223\t0.96878\t\n",
      "6\t-1943.25\t0.02216\t0.96911\t\n",
      "7\t-1943.24\t0.02215\t0.96912\t\n",
      "8\t-1943.24\t0.02215\t0.96912\t\n",
      "Log-likelihood ratio converged.\n",
      "\n",
      "Calculating the logLikelihood for the reduced model ...\n",
      "(variance component 1 is dropped from the model)\n",
      "Calculating prior values of variance components by EM-REML ...\n",
      "Updated prior values: 0.99065\n",
      "logL: -1947.71500\n",
      "Running AI-REML algorithm ...\n",
      "Iter.\tlogL\tV(e)\t\n",
      "1\t-1947.71\t0.99065\t\n",
      "Log-likelihood ratio converged.\n",
      "\n",
      "Summary result of REML analysis:\n",
      "Source\tVariance\tSE\n",
      "V(G)\t0.022152\t0.008751\n",
      "V(e)\t0.969117\t0.022896\n",
      "Vp\t0.991269\t0.022467\n",
      "V(G)/Vp\t0.022347\t0.008769\n",
      "\n",
      "Sampling variance/covariance of the estimates of variance components:\n",
      "7.657779e-05\t-4.800941e-05\t\n",
      "-4.800941e-05\t5.242193e-04\t\n",
      "\n",
      "Summary result of REML analysis has been saved in the file [output_lab5/test.hsq].\n",
      "\u001b[0;32m\u001b[0m\n",
      "\u001b[0;32mAnalysis finished \u001b[0mat 07:02:56 UTC on Tue Jun 25 2024\n",
      "Overall computational time: 29.27 sec.\n"
     ]
    }
   ],
   "source": [
    "gcta --grm output_lab5/test --pheno data/lab5/test.phen --reml --out output_lab5/test"
   ]
  },
  {
   "cell_type": "markdown",
   "id": "60303490",
   "metadata": {
    "kernel": "SoS"
   },
   "source": [
    "Results can be found in the **test.hsq** file. **Open this file in your preferred text editor.** Recall from lecture that narrow-sense heritability is additive genetic variance over phenotypic variance.\n",
    "\n",
    "*Problem 2*\n",
    "\n",
    "Is this phenotype heritable (i.e., is the heritability estimate statistically significant)?\n",
    "\n",
    "*Problem 3*\n",
    "\n",
    "What is the heritability estimate? What is the standard error of this estimate?\n",
    "\n",
    "# Manipulating GRMs for a Robust Assessment of Heritability\n",
    "\n",
    "## Effect of SNP Density on Heritability Estimation\n",
    "\n",
    "The density at which SNPs are sampled throughout the genome can have an important effect on heritability estimates of complex traits. In order to illustrate this point, you have been provided two large SNP datasets (250k and 500k markers) of 1,000 individuals and a file with two phenotypes (named \"two_phenotypes.txt\"). \n",
    "\n",
    "*Problem 4*\n",
    "\n",
    "For phenotype 1, create a GRM based on the 250,000 whole-genome SNPs (250k.bed, 250k.fam, 250k.bim) and estimate the heritability (Hints: Making a binary GRM may save you major time, and don't forget to specify you want column 1 in the phenotype file to be used for REML analysis). Provide the command.\n",
    "\n",
    "*Problem 5*\n",
    "\n",
    "Now, create a GRM based on the 500,000 whole-genome SNPs (500k.bed, 500k.fam, 500k.bim) and estimate the heritability. Provide the command.\n",
    "\n",
    "*Problem 6*\n",
    "\n",
    "When increasing the number of SNPs from 250k to 500k, how did the heritability estimate and/or SE change and why? What might this say about the relationship between SNP density and estimating heritability more generally?\n",
    "\n",
    "## Effect of Subsetting a GRM to Causal Variants on Heritability Estimation\n",
    "\n",
    "Some time-traveling scientists who have conducted GWAS of all humans on earth from all times deliver you a dataset containing only causal variants (causal.bed, causal.fam, causal.bim). Let's explore how using this set of causal variants may change our estimation of heritability.\n",
    "\n",
    "*Problem 7*\n",
    "\n",
    "Create a GRM based only on the causal variants and estimate the heritability. Provide the command.\n",
    "\n",
    "*Problem 8*\n",
    "\n",
    "How did the estimate and/or SE change compared to the REML analysis with the 500k GRM? Why might this be?\n",
    "\n",
    "\n",
    "## Estimating Genetic Correlation of Multiple Phenotypes\n",
    "\n",
    "*Problem 9*\n",
    "\n",
    "Using the GRM generated from 500k SNPs, estimate the genetic correlation between phenotype 1 and 2 using a bivariate, rather than a univariate, REML run. Provide the command. (hint: `--reml-bivar` and [documentation on bivariate REML analysis](https://yanglab.westlake.edu.cn/software/gcta/#BivariateGREMLanalysis))\n",
    "\n",
    "*Problem 10*\n",
    "\n",
    "Which line in the output file `*.hsq` is genetic correlation? What does this \"genetic correlation\" mean?"
   ]
  }
 ],
 "metadata": {
  "kernelspec": {
   "display_name": "SoS",
   "language": "sos",
   "name": "sos"
  },
  "language_info": {
   "codemirror_mode": "sos",
   "file_extension": ".sos",
   "mimetype": "text/x-sos",
   "name": "sos",
   "nbconvert_exporter": "sos_notebook.converter.SoS_Exporter",
   "pygments_lexer": "sos"
  },
  "sos": {
   "kernels": [
    [
     "Bash",
     "calysto_bash",
     "Bash",
     "#E6EEFF",
     "shell"
    ]
   ],
   "version": ""
  },
  "varInspector": {
   "cols": {
    "lenName": 16,
    "lenType": 16,
    "lenVar": 40
   },
   "kernels_config": {
    "python": {
     "delete_cmd_postfix": "",
     "delete_cmd_prefix": "del ",
     "library": "var_list.py",
     "varRefreshCmd": "print(var_dic_list())"
    },
    "r": {
     "delete_cmd_postfix": ") ",
     "delete_cmd_prefix": "rm(",
     "library": "var_list.r",
     "varRefreshCmd": "cat(var_dic_list()) "
    }
   },
   "types_to_exclude": [
    "module",
    "function",
    "builtin_function_or_method",
    "instance",
    "_Feature"
   ],
   "window_display": false
  }
 },
 "nbformat": 4,
 "nbformat_minor": 5
}
