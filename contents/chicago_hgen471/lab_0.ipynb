{
 "cells": [
  {
   "cell_type": "markdown",
   "id": "007879ee",
   "metadata": {
    "kernel": "SoS"
   },
   "source": [
    "# Lab 0: Introduction to Statistical Computing Languages\n",
    "\n",
    "\n",
    "## Introduction\n",
    "\n",
    "This class is designed to introduce a variety of concepts, methods, and tools utilized in statistical genetics. \n",
    "The majority of tools used to employ these methods and concepts require knowledge of computing languages, specifically Unix and R.\n",
    "Some of you may be familiar with many of these concepts. If so, please stay behind to help you classmates.\n",
    "\n",
    "In this lab, we will cover the basic syntax of these languages and some basic commands necessary for operating statistical genetics programs. Here are some additional resources for your reference - \n",
    "\n",
    "Unix: \\\n",
    "http://www.ee.surrey.ac.uk/Teaching/Unix/ \\\n",
    "https://programminghistorian.org/en/lessons/intro-to-bash \\\n",
    "\n",
    "R: \\\n",
    "https://datasciencebook.ca/ \\\n",
    "http://rafalab.dfci.harvard.edu/dsbook/ \\\n",
    "https://r4ds.hadley.nz/ \\\n",
    "\n",
    "By the end of this lab, you should understand how to perform the following: \n",
    "\n",
    "- **Navigate in R and Unix**\n",
    "- **Download and install software packages in Unix**\n",
    "- **Write looped bash commands to run in Unix**\n",
    "- **Manipulate large text files in Unix**\n",
    "- **Import data files into R**\n",
    "- **Manipulate and visualize files in R**\n",
    "\n"
   ]
  },
  {
   "cell_type": "markdown",
   "id": "b0fbfc50",
   "metadata": {
    "kernel": "SoS"
   },
   "source": [
    "# Commonly used commands in Unix\n",
    "\n",
    "## List of Basic Commands\n",
    "\n",
    "Command       |       Description\n",
    "-----------   |   ---------------------------------------------------------\n",
    "**pwd**       |   Print working directory (tells you where you are)\n",
    "**cd**        |   Change directory\n",
    "**mkdir**     |   Make directory\n",
    "**ls**        |   List information about files\n",
    "**mv**        |   Moves or renames files or directories\n",
    "**rm**        |   Deletes files (can remove directories with -rf)\n",
    "**cp**        |   Copy a file to a new location (can copy directories with -r)\n",
    "**scp**       |   Secure copy a file (for transferring files between a remote server and local system)\n",
    "**cat**       |   Concatenate and print the content of files to screen\n",
    "**sed**       |   Stream editor (for searching, finding, and replacing text)\n",
    "**\"pipe\"**    |   Uses the output of one command as the input for another\n",
    "**>**         |   Writes output into file (must enter file name after, will overwrite)\n",
    "**>>**        |   Writes output into file (must enter file name, will append, not overwrite)\n",
    "**curl**      |   Transfer a URL (downloads something from the Internet)\n",
    "**wget**      |   Transfer a URL (downloads something from the Internet)\n",
    "**tar**       |   Creates tape archives and adds or extracts files\n",
    "**ssh**       |   Remote log-in command (Secure Shell client)\n",
    "**emacs**     |   Opens emacs text editor\n",
    "**vim**       |   Opens vim text editor\n",
    "**nano**      |   Opens nano text editor\n",
    "**man**       |   Access manual for any command (exit = q)\n",
    "**top**       |   Observe computer's tasks\n",
    "**sort**      |   Sorts a file (extensive options to direct this command)\n",
    "**head**      |   Look at the first ten lines of file (useful for large files)\n",
    "**tail**      |   Look at the last ten lines of file (useful for large files)\n",
    "**./**        |   Existing directory (not a command)\n",
    "**../**       |   Directory contaiing existing directory (not a command)\n",
    "**grep**      |   Prints lines matching a pattern (helpful for manipulating large files)\n",
    "\n",
    "\n",
    "### Tab-Completion\n",
    "\n",
    "Tab completion is helpful for both speed and accuracy. The following exercise will demonstrate this:\n",
    "\n",
    "- 1) **Make a directory with a really long name.**\n",
    "- 2) **Start typing the name of the directory.**\n",
    "- 3) **Hit tab.** The directory should complete itself.\n",
    "- 4) **Move back into the previous directory.**\n",
    "- 5) **Start typing the name of the directory, intentionally introducing an error.**\n",
    "- 6) **Hit tab.** Notice nothing happens, this indicates you've made an error.\n",
    "- 7) **Remove this directory using tab completion.** DO NOT use rm -r unless you are 100% confident with what you are doing."
   ]
  },
  {
   "cell_type": "code",
   "execution_count": null,
   "id": "b790dc80",
   "metadata": {
    "attributes": {
     "classes": [],
     "eval": "FALSE",
     "id": ""
    },
    "kernel": "SoS"
   },
   "outputs": [],
   "source": [
    "mkdir never_create_a_directory_like_this/                       ##Step 1\n",
    "cd never_                                                       ##Step 2\n",
    "[tab, then enter]                                               ##Step 3\n",
    "cd ..                                                           ##Step 4\n",
    "cd nver_                                                        ##Step 5\n",
    "[tab]                                                           ##Step 6\n",
    "rm -r never_[tab, then enter]                                   ##Step 7"
   ]
  },
  {
   "cell_type": "markdown",
   "id": "20f49fc5",
   "metadata": {
    "kernel": "SoS"
   },
   "source": [
    "## Downloading and unpacking files and programs\n",
    "\n",
    "Frequently, you may need files or programs that are not already installed on your computer or server. Often these files are compressed, and often these files are in 'tarballs', which have the extension .tgz. IMPUTE2 is a program we'll use later in the quarter, so let's download and unpack it:\n",
    "\n",
    "- 1) **Download the IMPUTE2 tarball from the internet**. Here we download the tarball and write it into the *impute2.tgz* file\n",
    "- 2) **Unpack the tarball**."
   ]
  },
  {
   "cell_type": "code",
   "execution_count": 1,
   "id": "cbe79777-b393-486c-ab9c-f849205d2612",
   "metadata": {
    "kernel": "Bash"
   },
   "outputs": [
    {
     "name": "stdout",
     "output_type": "stream",
     "text": [
      "/home/jovyan/handson-tutorials/contents/chicago_hgen471\n"
     ]
    }
   ],
   "source": [
    "pwd "
   ]
  },
  {
   "cell_type": "code",
   "execution_count": 2,
   "id": "ddc7bc4b-05a6-40af-b80e-070cdcafa128",
   "metadata": {
    "kernel": "Bash"
   },
   "outputs": [],
   "source": [
    "#cd / <your_directory> /chicago_hgen471  # you should change this \n",
    "cd /home/jovyan/handson-tutorials/contents/chicago_hgen471  # you could change this\n",
    "PATHa=`pwd` "
   ]
  },
  {
   "cell_type": "code",
   "execution_count": 4,
   "id": "0ae66895",
   "metadata": {
    "attributes": {
     "classes": [],
     "eval": "FALSE",
     "id": ""
    },
    "kernel": "Bash",
    "scrolled": true
   },
   "outputs": [
    {
     "name": "stdout",
     "output_type": "stream",
     "text": [
      "  % Total    % Received % Xferd  Average Speed   Time    Time     Time  Current\n",
      "                                 Dload  Upload   Total   Spent    Left  Speed\n",
      "100 1464k  100 1464k    0     0  1439k      0  0:00:01  0:00:01 --:--:-- 1440k\n",
      "impute_v2.3.2_x86_64_static/\n",
      "impute_v2.3.2_x86_64_static/Example/\n",
      "impute_v2.3.2_x86_64_static/Example/example.chr22.1kG.annot.legend\n",
      "impute_v2.3.2_x86_64_static/Example/example.chr22.1kG.haps\n",
      "impute_v2.3.2_x86_64_static/Example/example.chr22.1kG.legend\n",
      "impute_v2.3.2_x86_64_static/Example/example.chr22.hm3.haps\n",
      "impute_v2.3.2_x86_64_static/Example/example.chr22.hm3.legend\n",
      "impute_v2.3.2_x86_64_static/Example/example.chr22.map\n",
      "impute_v2.3.2_x86_64_static/Example/example.chr22.one.phased.impute2\n",
      "impute_v2.3.2_x86_64_static/Example/example.chr22.one.phased.impute2_info\n",
      "impute_v2.3.2_x86_64_static/Example/example.chr22.one.phased.impute2_info_by_sample\n",
      "impute_v2.3.2_x86_64_static/Example/example.chr22.one.phased.impute2_summary\n",
      "impute_v2.3.2_x86_64_static/Example/example.chr22.one.phased.impute2_warnings\n",
      "impute_v2.3.2_x86_64_static/Example/example.chr22.reference.gens\n",
      "impute_v2.3.2_x86_64_static/Example/example.chr22.reference.snp.exclusions\n",
      "impute_v2.3.2_x86_64_static/Example/example.chr22.reference.strand\n",
      "impute_v2.3.2_x86_64_static/Example/example.chr22.study.gens\n",
      "impute_v2.3.2_x86_64_static/Example/example.chr22.study.strand\n",
      "impute_v2.3.2_x86_64_static/Example/example.study.sample.exclusions\n",
      "impute_v2.3.2_x86_64_static/Example/example.study.samples\n",
      "impute_v2.3.2_x86_64_static/impute2\n",
      "impute_v2.3.2_x86_64_static/LICENCE\n"
     ]
    }
   ],
   "source": [
    "##Step 1\n",
    "#cd /home/jovyan/handson-tutorials/contents/chicago_hgen471/data/lab0/  # you should change this\n",
    "#Or\n",
    "cd $PATHa/data/lab0/\n",
    "\n",
    "curl https://mathgen.stats.ox.ac.uk/impute/impute_v2.3.2_x86_64_static.tgz > impute2.tgz   \n",
    "#Or\n",
    "#wget -c -O impute2.tgz https://mathgen.stats.ox.ac.uk/impute/impute_v2.3.2_x86_64_static.tgz    \n",
    "\n",
    "##Step 2\n",
    "tar -zxvf impute2.tgz                                                                                 "
   ]
  },
  {
   "cell_type": "markdown",
   "id": "90a5de59",
   "metadata": {
    "kernel": "SoS"
   },
   "source": [
    "Once a program is unpacked, generally there is a README file that you can open with a text editor command (emacs/nano/vim/etc.), however, every program is different, and reading the manual is the only sure way to install the program correctly.\n",
    "\n",
    "## Manipulating text files\n",
    "\n",
    "Often you may have a large text file that you want to manipulate in some way. Using a variety of commands in combination is usually the most effective way to do this, and the \"pipe\" command allows for a more condense syntax where you use the output of one command as the input for the next.\n",
    "\n",
    "As a quick example, we will use a file from the IMPUTE2 directory. Specifically, the mapping file provides a fine-scale recombination map with three columns: (1) physical position (in base pairs), (2) recombination rate between current position and next position in map (in cM/Mb), (3) and genetic map position (in cM). Since you may be interested in the physical positions with the greatest recombination rates, we can easily get a list of the top ten using the following:\n",
    "\n",
    "- 1) **Change to the Example directory.**\n",
    "- 2) **Manipulate the mapping file to create top ten list.** We will name this *\"top_ten.map\"*.\n",
    "- 3) **Rename the file.**  *\"top_ten.map\"* is not as informative as *\"top_ten_recomb.map\"*."
   ]
  },
  {
   "cell_type": "code",
   "execution_count": 5,
   "id": "2e664952",
   "metadata": {
    "attributes": {
     "classes": [],
     "eval": "FALSE",
     "id": ""
    },
    "kernel": "Bash"
   },
   "outputs": [],
   "source": [
    "cd impute_v2.3.2_x86_64_static/Example/                       ##Step 1\n",
    "cat example.chr22.map | sort -k2nr | head > top_ten.map       ##Step 2\n",
    "mv top_ten.map top_ten_recomb.map                             ##Step 3"
   ]
  },
  {
   "cell_type": "code",
   "execution_count": 6,
   "id": "e748aaa4-86f5-4787-bf00-734f882f058f",
   "metadata": {
    "kernel": "Bash"
   },
   "outputs": [
    {
     "name": "stdout",
     "output_type": "stream",
     "text": [
      "20411664 13.0226407446 15.1507605716\n",
      "20411573 12.9982855897 15.1495777276\n",
      "20330596 5.9037962273 15.0846261117\n",
      "20328509 5.890630061 15.0723323668\n",
      "20412603 5.5761478002 15.1629888312\n",
      "20428687 4.5688678893 15.1822320092\n",
      "20313260 4.5049001587 15.0118962266\n",
      "20327574 4.322304291 15.0682910123\n",
      "20315094 4.0878035112 15.0201582135\n",
      "20327070 3.9760607519 15.0662870777\n"
     ]
    }
   ],
   "source": [
    "cd $PATHa/data/lab0/impute_v2.3.2_x86_64_static/Example/  ##Step 1\n",
    "cat example.chr22.map | sort -k2nr | head > top_ten.map       ##Step 2\n",
    "mv top_ten.map top_ten_recomb.map  ##Step 3\n",
    "cat top_ten_recomb.map"
   ]
  },
  {
   "cell_type": "markdown",
   "id": "0d9660d1",
   "metadata": {
    "kernel": "SoS"
   },
   "source": [
    "## Writing bash scripts\n",
    "\n",
    "Having the capability to write bash scripts which can be run in the Unix environment is critical, especially for running replicates or collating results from a command-line program. We will write a bash script using the vim text editor, and then run it. Alternatively, feel free to use your own text editor (emacs, textwrangler, etc.) to write the script below. Please start with the following: \n",
    "\n",
    "- 1) **Create a new script file** We will name ours test.sh\n",
    "- 2) **Add path to bash interpreter at the top of the file**\n",
    "- 3) **Write a for-loop to append 5 numbers under top_ten_recomb.map**\n",
    "- 4) **Save and exit**\n",
    "- 5) **Run script**"
   ]
  },
  {
   "cell_type": "code",
   "execution_count": 7,
   "id": "6c8f3064",
   "metadata": {
    "attributes": {
     "classes": [],
     "eval": "FALSE",
     "id": ""
    },
    "kernel": "Bash"
   },
   "outputs": [
    {
     "name": "stdout",
     "output_type": "stream",
     "text": [
      "20411664 13.0226407446 15.1507605716\n",
      "20411573 12.9982855897 15.1495777276\n",
      "20330596 5.9037962273 15.0846261117\n",
      "20328509 5.890630061 15.0723323668\n",
      "20412603 5.5761478002 15.1629888312\n",
      "20428687 4.5688678893 15.1822320092\n",
      "20313260 4.5049001587 15.0118962266\n",
      "20327574 4.322304291 15.0682910123\n",
      "20315094 4.0878035112 15.0201582135\n",
      "20327070 3.9760607519 15.0662870777\n",
      "1\n",
      "2\n",
      "3\n",
      "4\n",
      "5\n"
     ]
    }
   ],
   "source": [
    "#vim test.sh                                                       ##Step 1  \n",
    "\n",
    "#[now in vim, type \"i\" to allow you to insert text]  \n",
    "\n",
    "##!/bin/bash                                                       ##Step 2\n",
    "\n",
    "for j in {1..5}                                                   ##Step 3\n",
    "do                                                                ##Step 3\n",
    "    echo $j >> top_ten_recomb.map                                 ##Step 3\n",
    "done                                                              ##Step 3\n",
    "\n",
    "                                                                  ##Step 4\n",
    "#[exit vim by first pressing \"Esc\" and then \":wq\" to save and quit (use :q! to quit without saving any changes you made)]\n",
    "\n",
    "#bash test.sh                                                      ##Step 5\n",
    "cat top_ten_recomb.map "
   ]
  },
  {
   "cell_type": "markdown",
   "id": "feb1cd06",
   "metadata": {
    "kernel": "SoS"
   },
   "source": [
    "# Basic commands in R\n",
    "\n",
    "R is used widely for scientific computing, however, the syntax is notably different than Unix. Specifically, two of the most visible differences are that variables are usually assigned with the assignment operator (<-) operator, although you can use the equal to (=) also, and functions are applied using parentheses. While R can be accessed and R scripts can be run within the Unix environment, it is often preferable to operate R within the graphical user interface (GUI) known as RStudio. Unlike many poorly made GUIs that offer little advantage to a Unix environment, RStudio offers many organizational and functional benefits.\n",
    "\n",
    "## Paths in R\n",
    "Paths are very important; they tell the computer where to look for files or folders. Usually, we will have to tell the computer where to look for files. We do this by giving it a path. Paths can be relative or absolute:\n",
    "\n",
    "- relative paths go from where your script is located i.e. the current directory, and from there finds its way to other locations.\n",
    "- absolute paths go from the root directory of the computer to other locations. \n",
    "\n",
    "For reproducibility, especially when sharing scripts with friends or collaborators, relative paths are preferred. \n",
    "\n",
    "In R, you can check your current working directory (to figure out where you are) by doing"
   ]
  },
  {
   "cell_type": "code",
   "execution_count": 10,
   "id": "e5ee4e31-885e-461e-8102-3a59b39b26f7",
   "metadata": {
    "kernel": "Bash",
    "scrolled": true,
    "tags": []
   },
   "outputs": [],
   "source": [
    "cd $PATHa"
   ]
  },
  {
   "cell_type": "code",
   "execution_count": 11,
   "id": "47e19f84-444b-49c7-9fa0-8cea6e85d866",
   "metadata": {
    "kernel": "Bash",
    "scrolled": true
   },
   "outputs": [
    {
     "name": "stdout",
     "output_type": "stream",
     "text": [
      "Rscript (R) version 4.3.3 (2024-02-29)\n"
     ]
    }
   ],
   "source": [
    "Rscript  --version "
   ]
  },
  {
   "cell_type": "code",
   "execution_count": 13,
   "id": "5dd529b0",
   "metadata": {
    "attributes": {
     "classes": [],
     "eval": "FALSE",
     "id": ""
    },
    "kernel": "R"
   },
   "outputs": [
    {
     "data": {
      "text/html": [
       "'/home/jovyan/handson-tutorials/contents/chicago_hgen471'"
      ],
      "text/latex": [
       "'/home/jovyan/handson-tutorials/contents/chicago\\_hgen471'"
      ],
      "text/markdown": [
       "'/home/jovyan/handson-tutorials/contents/chicago_hgen471'"
      ],
      "text/plain": [
       "[1] \"/home/jovyan/handson-tutorials/contents/chicago_hgen471\""
      ]
     },
     "metadata": {},
     "output_type": "display_data"
    }
   ],
   "source": [
    "getwd()"
   ]
  },
  {
   "cell_type": "markdown",
   "id": "a10fe065",
   "metadata": {
    "kernel": "SoS"
   },
   "source": [
    "Then you can set or change your location"
   ]
  },
  {
   "cell_type": "code",
   "execution_count": 14,
   "id": "31c3afd5",
   "metadata": {
    "attributes": {
     "classes": [],
     "eval": "FALSE",
     "id": ""
    },
    "kernel": "R"
   },
   "outputs": [
    {
     "data": {
      "text/html": [
       "'/home/jovyan/handson-tutorials/contents/chicago_hgen471'"
      ],
      "text/latex": [
       "'/home/jovyan/handson-tutorials/contents/chicago\\_hgen471'"
      ],
      "text/markdown": [
       "'/home/jovyan/handson-tutorials/contents/chicago_hgen471'"
      ],
      "text/plain": [
       "[1] \"/home/jovyan/handson-tutorials/contents/chicago_hgen471\""
      ]
     },
     "metadata": {},
     "output_type": "display_data"
    }
   ],
   "source": [
    "# you should change this\n",
    "setwd('/home/jovyan/handson-tutorials/contents/chicago_hgen471') # you could change this\n",
    "getwd() "
   ]
  },
  {
   "cell_type": "markdown",
   "id": "703a3d8e",
   "metadata": {
    "kernel": "SoS"
   },
   "source": [
    "Alternatively, you can define a variable that you will consistently use as a path."
   ]
  },
  {
   "cell_type": "code",
   "execution_count": 15,
   "id": "067b4a6c",
   "metadata": {
    "attributes": {
     "classes": [],
     "eval": "FALSE",
     "id": ""
    },
    "kernel": "R"
   },
   "outputs": [],
   "source": [
    "#myWorkingFolder <- '/ <your_directory> /HGEN471-class' # you should change this\n",
    "#Or\n",
    "myWorkingFolder <- getwd()"
   ]
  },
  {
   "cell_type": "markdown",
   "id": "3de94c79",
   "metadata": {
    "kernel": "SoS"
   },
   "source": [
    "Then you can use this to navigate to different locations relatively e.g."
   ]
  },
  {
   "cell_type": "code",
   "execution_count": 16,
   "id": "ce6870ff",
   "metadata": {
    "attributes": {
     "": "",
     "classes": [],
     "id": ""
    },
    "kernel": "R"
   },
   "outputs": [
    {
     "data": {
      "text/html": [
       "'/home/jovyan/handson-tutorials/contents/chicago_hgen471/data/lab0//lab_0'"
      ],
      "text/latex": [
       "'/home/jovyan/handson-tutorials/contents/chicago\\_hgen471/data/lab0//lab\\_0'"
      ],
      "text/markdown": [
       "'/home/jovyan/handson-tutorials/contents/chicago_hgen471/data/lab0//lab_0'"
      ],
      "text/plain": [
       "[1] \"/home/jovyan/handson-tutorials/contents/chicago_hgen471/data/lab0//lab_0\""
      ]
     },
     "metadata": {},
     "output_type": "display_data"
    }
   ],
   "source": [
    "file.path(myWorkingFolder, 'data/lab0/', 'lab_0')"
   ]
  },
  {
   "cell_type": "markdown",
   "id": "ccdd6b15",
   "metadata": {
    "kernel": "SoS"
   },
   "source": [
    "The idea here is that we construct the string to the path such that every argument is a directory until the last one, which may be a file, or directory.\n",
    "\n",
    "## Pipes in R\n",
    "Let us assume want to migrate to a folder, and count the number of files in the folder. In R, you would do something such as"
   ]
  },
  {
   "cell_type": "code",
   "execution_count": 17,
   "id": "782d704b",
   "metadata": {
    "kernel": "R"
   },
   "outputs": [
    {
     "data": {
      "text/html": [
       "7"
      ],
      "text/latex": [
       "7"
      ],
      "text/markdown": [
       "7"
      ],
      "text/plain": [
       "[1] 7"
      ]
     },
     "metadata": {},
     "output_type": "display_data"
    }
   ],
   "source": [
    "#Run this to see what it returns.\n",
    "length(list.files(file.path(myWorkingFolder, 'data', 'lab0')))"
   ]
  },
  {
   "cell_type": "markdown",
   "id": "c4a0da16",
   "metadata": {
    "kernel": "SoS"
   },
   "source": [
    "If you intend to do many more complex processes, you may lose sight of what parameters or parenthesis go where. In this case, you may pipe the output of one function into the next by using the native R's `|>`."
   ]
  },
  {
   "cell_type": "code",
   "execution_count": 18,
   "id": "32359c37",
   "metadata": {
    "attributes": {
     "classes": [],
     "eval": "FALSE",
     "id": ""
    },
    "kernel": "R"
   },
   "outputs": [
    {
     "data": {
      "text/html": [
       "7"
      ],
      "text/latex": [
       "7"
      ],
      "text/markdown": [
       "7"
      ],
      "text/plain": [
       "[1] 7"
      ]
     },
     "metadata": {},
     "output_type": "display_data"
    }
   ],
   "source": [
    "file.path(myWorkingFolder, 'data', 'lab0') |> list.files() |> length()"
   ]
  },
  {
   "cell_type": "markdown",
   "id": "f48bec08",
   "metadata": {
    "kernel": "SoS"
   },
   "source": [
    "There is another more sophisticated pipe, the {magrittr} pipe `%>%`, which is much better and easier to use. This is [a great blog to read](https://ivelasq.rbind.io/blog/understanding-the-r-pipe/) on the pipe operators in general.\n",
    "\n",
    "## Reading in data files\n",
    "\n",
    "Although data can be simulated, generated, and analyzed all within R, often we may want to visualize or analyze data from some other source. We can learn R syntax by learning how to import new data.\n",
    "\n",
    "There are a number of packages and functions that help with reading data in R including `utils::read.csv`, `utils::read.table`, `data.table::fread`, e.t.c.\n",
    "\n",
    "The functions from utils are fine for small files. When the size of a file gets big, some packages such as data.table offer more sophisticated functions that can read the data very fast."
   ]
  },
  {
   "cell_type": "code",
   "execution_count": 19,
   "id": "62b521cb",
   "metadata": {
    "attributes": {
     "classes": [],
     "eval": "FALSE",
     "id": ""
    },
    "kernel": "R"
   },
   "outputs": [],
   "source": [
    "# remember that we need to tell R where to look for the data\n",
    "new_data <- read.table(file.path(myWorkingFolder, 'data/lab0/', 'lab_0_r_data.txt'), header = T)"
   ]
  },
  {
   "cell_type": "markdown",
   "id": "adc0c5d0",
   "metadata": {
    "kernel": "SoS"
   },
   "source": [
    "As a side note, when importing large genetic dataset into R, we rarely use read.table (too slow!). Instead, we use fread from data.table library. We will also time the different code blocks."
   ]
  },
  {
   "cell_type": "code",
   "execution_count": 20,
   "id": "2fb98e3a",
   "metadata": {
    "attributes": {
     "classes": [],
     "eval": "FALSE",
     "id": ""
    },
    "kernel": "R"
   },
   "outputs": [],
   "source": [
    "# install.packages(c(\"data.table\", \"R.utils\"))\n",
    "library(data.table)"
   ]
  },
  {
   "cell_type": "markdown",
   "id": "6401f736",
   "metadata": {
    "kernel": "SoS"
   },
   "source": [
    "- using utils::read.table"
   ]
  },
  {
   "cell_type": "code",
   "execution_count": 21,
   "id": "0f18818d",
   "metadata": {
    "attributes": {
     "classes": [],
     "eval": "FALSE",
     "id": ""
    },
    "kernel": "R"
   },
   "outputs": [
    {
     "data": {
      "text/html": [
       "<table class=\"dataframe\">\n",
       "<caption>A matrix: 2 × 6 of type dbl</caption>\n",
       "<thead>\n",
       "\t<tr><th></th><th scope=col>used</th><th scope=col>(Mb)</th><th scope=col>gc trigger</th><th scope=col>(Mb)</th><th scope=col>max used</th><th scope=col>(Mb)</th></tr>\n",
       "</thead>\n",
       "<tbody>\n",
       "\t<tr><th scope=row>Ncells</th><td> 657253</td><td>35.2</td><td> 4515540</td><td>241.2</td><td> 3419987</td><td>182.7</td></tr>\n",
       "\t<tr><th scope=row>Vcells</th><td>3260483</td><td>24.9</td><td>37564100</td><td>286.6</td><td>42420519</td><td>323.7</td></tr>\n",
       "</tbody>\n",
       "</table>\n"
      ],
      "text/latex": [
       "A matrix: 2 × 6 of type dbl\n",
       "\\begin{tabular}{r|llllll}\n",
       "  & used & (Mb) & gc trigger & (Mb) & max used & (Mb)\\\\\n",
       "\\hline\n",
       "\tNcells &  657253 & 35.2 &  4515540 & 241.2 &  3419987 & 182.7\\\\\n",
       "\tVcells & 3260483 & 24.9 & 37564100 & 286.6 & 42420519 & 323.7\\\\\n",
       "\\end{tabular}\n"
      ],
      "text/markdown": [
       "\n",
       "A matrix: 2 × 6 of type dbl\n",
       "\n",
       "| <!--/--> | used | (Mb) | gc trigger | (Mb) | max used | (Mb) |\n",
       "|---|---|---|---|---|---|---|\n",
       "| Ncells |  657253 | 35.2 |  4515540 | 241.2 |  3419987 | 182.7 |\n",
       "| Vcells | 3260483 | 24.9 | 37564100 | 286.6 | 42420519 | 323.7 |\n",
       "\n"
      ],
      "text/plain": [
       "       used    (Mb) gc trigger (Mb)  max used (Mb) \n",
       "Ncells  657253 35.2  4515540   241.2  3419987 182.7\n",
       "Vcells 3260483 24.9 37564100   286.6 42420519 323.7"
      ]
     },
     "metadata": {},
     "output_type": "display_data"
    },
    {
     "data": {
      "text/plain": [
       "Time difference of 10.80216 secs"
      ]
     },
     "metadata": {},
     "output_type": "display_data"
    }
   ],
   "source": [
    "start_time <- Sys.time()\n",
    "temp <- read.table(file.path(myWorkingFolder, 'data/lab0/', 'gwas_chr1_chr2.txt.gz'), header = T)\n",
    "end_time <- Sys.time()\n",
    "rm(temp)\n",
    "gc()\n",
    "\n",
    "end_time - start_time"
   ]
  },
  {
   "cell_type": "markdown",
   "id": "e9823660",
   "metadata": {
    "kernel": "SoS"
   },
   "source": [
    "- using data.table::fread"
   ]
  },
  {
   "cell_type": "code",
   "execution_count": 22,
   "id": "3b6b50b3",
   "metadata": {
    "attributes": {
     "classes": [],
     "eval": "FALSE",
     "id": ""
    },
    "kernel": "R"
   },
   "outputs": [
    {
     "data": {
      "text/html": [
       "<table class=\"dataframe\">\n",
       "<caption>A matrix: 2 × 6 of type dbl</caption>\n",
       "<thead>\n",
       "\t<tr><th></th><th scope=col>used</th><th scope=col>(Mb)</th><th scope=col>gc trigger</th><th scope=col>(Mb)</th><th scope=col>max used</th><th scope=col>(Mb)</th></tr>\n",
       "</thead>\n",
       "<tbody>\n",
       "\t<tr><th scope=row>Ncells</th><td> 716942</td><td>38.3</td><td> 3612432</td><td>193.0</td><td> 3419987</td><td>182.7</td></tr>\n",
       "\t<tr><th scope=row>Vcells</th><td>3370304</td><td>25.8</td><td>30051280</td><td>229.3</td><td>42420519</td><td>323.7</td></tr>\n",
       "</tbody>\n",
       "</table>\n"
      ],
      "text/latex": [
       "A matrix: 2 × 6 of type dbl\n",
       "\\begin{tabular}{r|llllll}\n",
       "  & used & (Mb) & gc trigger & (Mb) & max used & (Mb)\\\\\n",
       "\\hline\n",
       "\tNcells &  716942 & 38.3 &  3612432 & 193.0 &  3419987 & 182.7\\\\\n",
       "\tVcells & 3370304 & 25.8 & 30051280 & 229.3 & 42420519 & 323.7\\\\\n",
       "\\end{tabular}\n"
      ],
      "text/markdown": [
       "\n",
       "A matrix: 2 × 6 of type dbl\n",
       "\n",
       "| <!--/--> | used | (Mb) | gc trigger | (Mb) | max used | (Mb) |\n",
       "|---|---|---|---|---|---|---|\n",
       "| Ncells |  716942 | 38.3 |  3612432 | 193.0 |  3419987 | 182.7 |\n",
       "| Vcells | 3370304 | 25.8 | 30051280 | 229.3 | 42420519 | 323.7 |\n",
       "\n"
      ],
      "text/plain": [
       "       used    (Mb) gc trigger (Mb)  max used (Mb) \n",
       "Ncells  716942 38.3  3612432   193.0  3419987 182.7\n",
       "Vcells 3370304 25.8 30051280   229.3 42420519 323.7"
      ]
     },
     "metadata": {},
     "output_type": "display_data"
    },
    {
     "data": {
      "text/plain": [
       "Time difference of 1.175093 secs"
      ]
     },
     "metadata": {},
     "output_type": "display_data"
    }
   ],
   "source": [
    "start_time <- Sys.time()\n",
    "temp <- fread(file.path(myWorkingFolder, 'data/lab0/', 'gwas_chr1_chr2.txt.gz'), header = T)\n",
    "end_time <- Sys.time()\n",
    "rm(temp)\n",
    "gc()\n",
    "\n",
    "end_time - start_time"
   ]
  },
  {
   "cell_type": "markdown",
   "id": "5532859b",
   "metadata": {
    "kernel": "SoS"
   },
   "source": [
    "## Exploring objects, functions, and packages"
   ]
  },
  {
   "cell_type": "code",
   "execution_count": 23,
   "id": "a1885730",
   "metadata": {
    "attributes": {
     "classes": [],
     "eval": "FALSE",
     "id": ""
    },
    "kernel": "R"
   },
   "outputs": [
    {
     "data": {
      "text/html": [
       "<style>\n",
       ".list-inline {list-style: none; margin:0; padding: 0}\n",
       ".list-inline>li {display: inline-block}\n",
       ".list-inline>li:not(:last-child)::after {content: \"\\00b7\"; padding: 0 .5ex}\n",
       "</style>\n",
       "<ol class=list-inline><li>16</li><li>2</li></ol>\n"
      ],
      "text/latex": [
       "\\begin{enumerate*}\n",
       "\\item 16\n",
       "\\item 2\n",
       "\\end{enumerate*}\n"
      ],
      "text/markdown": [
       "1. 16\n",
       "2. 2\n",
       "\n",
       "\n"
      ],
      "text/plain": [
       "[1] 16  2"
      ]
     },
     "metadata": {},
     "output_type": "display_data"
    }
   ],
   "source": [
    "dim(new_data)"
   ]
  },
  {
   "cell_type": "code",
   "execution_count": 24,
   "id": "dab8ee17",
   "metadata": {
    "attributes": {
     "classes": [],
     "eval": "FALSE",
     "id": ""
    },
    "kernel": "R"
   },
   "outputs": [
    {
     "data": {
      "text/html": [
       "'data.frame'"
      ],
      "text/latex": [
       "'data.frame'"
      ],
      "text/markdown": [
       "'data.frame'"
      ],
      "text/plain": [
       "[1] \"data.frame\""
      ]
     },
     "metadata": {},
     "output_type": "display_data"
    }
   ],
   "source": [
    "class(new_data)"
   ]
  },
  {
   "cell_type": "markdown",
   "id": "355deb85",
   "metadata": {
    "kernel": "SoS"
   },
   "source": [
    "Here we can see that the dimensions of new_data are 16 rows and 2 columns, and that it is in data frame format. This is important to know since different functions apply differently to different classes, which may cause errors. While dim and class can be used to explore objects, you may want to explore these functions themselves. This is done by this simple syntax:"
   ]
  },
  {
   "cell_type": "code",
   "execution_count": 25,
   "id": "67f7d894",
   "metadata": {
    "attributes": {
     "classes": [],
     "eval": "FALSE",
     "id": ""
    },
    "kernel": "R"
   },
   "outputs": [
    {
     "data": {
      "text/html": [
       "\n",
       "<table style=\"width: 100%;\"><tr><td>dim {base}</td><td style=\"text-align: right;\">R Documentation</td></tr></table>\n",
       "\n",
       "<h2 id='dim'>Dimensions of an Object</h2>\n",
       "\n",
       "<h3>Description</h3>\n",
       "\n",
       "<p>Retrieve or set the dimension of an object.\n",
       "</p>\n",
       "\n",
       "\n",
       "<h3>Usage</h3>\n",
       "\n",
       "<pre><code class='language-R'>dim(x)\n",
       "dim(x) &lt;- value\n",
       "</code></pre>\n",
       "\n",
       "\n",
       "<h3>Arguments</h3>\n",
       "\n",
       "<table>\n",
       "<tr><td><code id=\"dim_:_x\">x</code></td>\n",
       "<td>\n",
       "<p>an <span class=\"rlang\"><b>R</b></span> object, for example a matrix, array or data frame.</p>\n",
       "</td></tr>\n",
       "<tr><td><code id=\"dim_:_value\">value</code></td>\n",
       "<td>\n",
       "<p>For the default method, either <code>NULL</code> or\n",
       "a numeric vector, which is coerced to integer (by truncation).</p>\n",
       "</td></tr>\n",
       "</table>\n",
       "\n",
       "\n",
       "<h3>Details</h3>\n",
       "\n",
       "<p>The functions <code>dim</code> and <code>dim&lt;-</code> are internal generic\n",
       "primitive functions.\n",
       "</p>\n",
       "<p><code>dim</code> has a method for <code>data.frame</code>s, which returns\n",
       "the lengths of the <code>row.names</code> attribute of <code>x</code> and\n",
       "of <code>x</code> (as the numbers of rows and columns respectively).\n",
       "</p>\n",
       "\n",
       "\n",
       "<h3>Value</h3>\n",
       "\n",
       "<p>For an array (and hence in particular, for a matrix) <code>dim</code> retrieves\n",
       "the <code>dim</code> attribute of the object.  It is <code>NULL</code> or a vector\n",
       "of mode <code>integer</code>.\n",
       "</p>\n",
       "<p>The replacement method changes the <code>\"dim\"</code> attribute (provided the\n",
       "new value is compatible) and removes any <code>\"dimnames\"</code> <em>and</em>\n",
       "<code>\"names\"</code> attributes.\n",
       "</p>\n",
       "\n",
       "\n",
       "<h3>References</h3>\n",
       "\n",
       "<p>Becker, R. A., Chambers, J. M. and Wilks, A. R. (1988)\n",
       "<em>The New S Language</em>.\n",
       "Wadsworth &amp; Brooks/Cole.\n",
       "</p>\n",
       "\n",
       "\n",
       "<h3>See Also</h3>\n",
       "\n",
       "<p><code>ncol</code>, <code>nrow</code> and <code>dimnames</code>.\n",
       "</p>\n",
       "\n",
       "\n",
       "<h3>Examples</h3>\n",
       "\n",
       "<pre><code class='language-R'>x &lt;- 1:12 ; dim(x) &lt;- c(3,4)\n",
       "x\n",
       "\n",
       "# simple versions of nrow and ncol could be defined as follows\n",
       "nrow0 &lt;- function(x) dim(x)[1]\n",
       "ncol0 &lt;- function(x) dim(x)[2]\n",
       "</code></pre>\n",
       "\n",
       "<hr /><div style=\"text-align: center;\">[Package <em>base</em> version 4.3.3 ]</div>\n",
       "</div>"
      ],
      "text/latex": [
       "\\inputencoding{utf8}\n",
       "\\HeaderA{dim}{Dimensions of an Object}{dim}\n",
       "\\methaliasA{dim.data.frame}{dim}{dim.data.frame}\n",
       "\\aliasA{dim<\\Rdash{}}{dim}{dim<.Rdash.}\n",
       "\\keyword{array}{dim}\n",
       "%\n",
       "\\begin{Description}\n",
       "Retrieve or set the dimension of an object.\n",
       "\\end{Description}\n",
       "%\n",
       "\\begin{Usage}\n",
       "\\begin{verbatim}\n",
       "dim(x)\n",
       "dim(x) <- value\n",
       "\\end{verbatim}\n",
       "\\end{Usage}\n",
       "%\n",
       "\\begin{Arguments}\n",
       "\\begin{ldescription}\n",
       "\\item[\\code{x}] an \\R{} object, for example a matrix, array or data frame.\n",
       "\\item[\\code{value}] For the default method, either \\code{NULL} or\n",
       "a numeric vector, which is coerced to integer (by truncation).\n",
       "\\end{ldescription}\n",
       "\\end{Arguments}\n",
       "%\n",
       "\\begin{Details}\n",
       "The functions \\code{dim} and \\code{dim<-} are \\LinkA{internal generic}{internal generic}\n",
       "\\LinkA{primitive}{primitive} functions.\n",
       "\n",
       "\\code{dim} has a method for \\code{\\LinkA{data.frame}{data.frame}}s, which returns\n",
       "the lengths of the \\code{row.names} attribute of \\code{x} and\n",
       "of \\code{x} (as the numbers of rows and columns respectively).\n",
       "\\end{Details}\n",
       "%\n",
       "\\begin{Value}\n",
       "For an array (and hence in particular, for a matrix) \\code{dim} retrieves\n",
       "the \\code{dim} attribute of the object.  It is \\code{NULL} or a vector\n",
       "of mode \\code{\\LinkA{integer}{integer}}.\n",
       "\n",
       "The replacement method changes the \\code{\"dim\"} attribute (provided the\n",
       "new value is compatible) and removes any \\code{\"dimnames\"} \\emph{and}\n",
       "\\code{\"names\"} attributes.\n",
       "\\end{Value}\n",
       "%\n",
       "\\begin{References}\n",
       "Becker, R. A., Chambers, J. M. and Wilks, A. R. (1988)\n",
       "\\emph{The New S Language}.\n",
       "Wadsworth \\& Brooks/Cole.\n",
       "\\end{References}\n",
       "%\n",
       "\\begin{SeeAlso}\n",
       "\\code{\\LinkA{ncol}{ncol}}, \\code{\\LinkA{nrow}{nrow}} and \\code{\\LinkA{dimnames}{dimnames}}.\n",
       "\\end{SeeAlso}\n",
       "%\n",
       "\\begin{Examples}\n",
       "\\begin{ExampleCode}\n",
       "x <- 1:12 ; dim(x) <- c(3,4)\n",
       "x\n",
       "\n",
       "# simple versions of nrow and ncol could be defined as follows\n",
       "nrow0 <- function(x) dim(x)[1]\n",
       "ncol0 <- function(x) dim(x)[2]\n",
       "\\end{ExampleCode}\n",
       "\\end{Examples}"
      ],
      "text/plain": [
       "dim                    package:base                    R Documentation\n",
       "\n",
       "_\bD_\bi_\bm_\be_\bn_\bs_\bi_\bo_\bn_\bs _\bo_\bf _\ba_\bn _\bO_\bb_\bj_\be_\bc_\bt\n",
       "\n",
       "_\bD_\be_\bs_\bc_\br_\bi_\bp_\bt_\bi_\bo_\bn:\n",
       "\n",
       "     Retrieve or set the dimension of an object.\n",
       "\n",
       "_\bU_\bs_\ba_\bg_\be:\n",
       "\n",
       "     dim(x)\n",
       "     dim(x) <- value\n",
       "     \n",
       "_\bA_\br_\bg_\bu_\bm_\be_\bn_\bt_\bs:\n",
       "\n",
       "       x: an R object, for example a matrix, array or data frame.\n",
       "\n",
       "   value: For the default method, either ‘NULL’ or a numeric vector,\n",
       "          which is coerced to integer (by truncation).\n",
       "\n",
       "_\bD_\be_\bt_\ba_\bi_\bl_\bs:\n",
       "\n",
       "     The functions ‘dim’ and ‘dim<-’ are internal generic primitive\n",
       "     functions.\n",
       "\n",
       "     ‘dim’ has a method for ‘data.frame’s, which returns the lengths of\n",
       "     the ‘row.names’ attribute of ‘x’ and of ‘x’ (as the numbers of\n",
       "     rows and columns respectively).\n",
       "\n",
       "_\bV_\ba_\bl_\bu_\be:\n",
       "\n",
       "     For an array (and hence in particular, for a matrix) ‘dim’\n",
       "     retrieves the ‘dim’ attribute of the object.  It is ‘NULL’ or a\n",
       "     vector of mode ‘integer’.\n",
       "\n",
       "     The replacement method changes the ‘\"dim\"’ attribute (provided the\n",
       "     new value is compatible) and removes any ‘\"dimnames\"’ _and_\n",
       "     ‘\"names\"’ attributes.\n",
       "\n",
       "_\bR_\be_\bf_\be_\br_\be_\bn_\bc_\be_\bs:\n",
       "\n",
       "     Becker, R. A., Chambers, J. M. and Wilks, A. R. (1988) _The New S\n",
       "     Language_.  Wadsworth & Brooks/Cole.\n",
       "\n",
       "_\bS_\be_\be _\bA_\bl_\bs_\bo:\n",
       "\n",
       "     ‘ncol’, ‘nrow’ and ‘dimnames’.\n",
       "\n",
       "_\bE_\bx_\ba_\bm_\bp_\bl_\be_\bs:\n",
       "\n",
       "     x <- 1:12 ; dim(x) <- c(3,4)\n",
       "     x\n",
       "     \n",
       "     # simple versions of nrow and ncol could be defined as follows\n",
       "     nrow0 <- function(x) dim(x)[1]\n",
       "     ncol0 <- function(x) dim(x)[2]\n",
       "     "
      ]
     },
     "metadata": {},
     "output_type": "display_data"
    }
   ],
   "source": [
    "?dim\n",
    "?class"
   ]
  },
  {
   "cell_type": "markdown",
   "id": "69cde9a0",
   "metadata": {
    "kernel": "SoS"
   },
   "source": [
    "Notice that both dim and class are relatively simple functions with few arguments, so you probably won't have to read the documentation much for either function. As you start invoking more complicated functions (which is inevitable in statistical genetics research), you will spend a lot of time reading the documentation.\n",
    "\n",
    "## List of basic classes and functions\n",
    "\n",
    "Class          |       Description\n",
    "-----------    |   ---------------------------------------------------------\n",
    "**numeric**    |   Object is numeric (interger or double)\n",
    "**integer**    |   Object is integer (not double)\n",
    "**double**     |   Object is double\n",
    "**character**  |   Object is not numeric, composed of characters\n",
    "**vector**     |   One-dimensional, can contain numeric or characters\n",
    "**matrix**     |   Two-dimensional, can contain numeric or characters\n",
    "**array**      |   Multi-dimensional, can contain numeric or characters\n",
    "**data frame** |   A list of vectors of equal lenght, each vector contains same class\n",
    "**list**       |   A list of various generic vectors\n",
    "\n",
    "Functions are how you execute your commands and write your scripts. It is critical to ensure the arguments are of the correct class (read documentation), as most user-errors originate from providing data in the inappropriate class or dimension. \n",
    "\n",
    "Function                |       Description\n",
    "-----------             |   ---------------------------------------------------------\n",
    "**c(1,2,3)**            |   Concatenate *numbers* into a vector\n",
    "**c(1:10**              |   Concatenate from *number* 1 to *number* 10 in a vector\n",
    "**c(\"a\",\"b\",\"c\")**      |   Concatenate *characters* into a vector\n",
    "**cbind(x,y,z)**        |   Binds *vectors x,y,z* into matrix by columns\n",
    "**rbind(x,y,z)**        |   Binds *vectors x,y,z* into matrix by rows\n",
    "**matrix(x,nrow,ncol)** |   Creates matrix from *vector x* with *nrow* rows and *ncol* columns\n",
    "**array(x,dim=y)**      |   Creates array from *vector x* with dimensions of *vector y*\n",
    "**rep(x,y)**            |   Creates vector repeats *vector x interger y* times\n",
    "**length(x)**           |   Returns length of object *x*\n",
    "**sample(x,size=n)**    |   Samples number of items (*n*) from elemetns of *object x*\n",
    "**subset(x,subset)**    |   Subsets *object x* by conditions of *subset*\n",
    "**mean(x)**             |   Returns arithmetic mena of *numeric object x*\n",
    "**sd(x)**               |   Returns standard deviation of *numeric object x*\n",
    "**max(x)**              |   Returns maximum value of *numeric object x*\n",
    "**min(x)**              |   Returns minimum value of *numeric object x*\n",
    "**t(x)**                |   Transposes *matrix x*\n",
    "**plot(x,y)**           |   Plots elements of *vector x* agains elements of *vector y*\n",
    "**boxplot(x~y)**        |   Generates boxplots for values of *numeric vector x* by grouping *vector y*\n",
    "**lm(x~y)**             |   Generates a linear model for response *vector x* by predictor *vector y*\n",
    "**density(x)**          |   Estimates density distributions of univariate observations\n",
    "**table(x)**            |   Returns summary of frequencies of all values in R object\n",
    "\n",
    "\n",
    "## Simple Plotting\n",
    "\n",
    "Sometimes the first thing you want to do is generate a really quick plot of your data before anything else. This is one of the advantages of R, in that visualizing data is very intuitive and easy because it is object-oriented. For example, if you want to plot the first column versus the second column of data from your object, use the following command:"
   ]
  },
  {
   "cell_type": "code",
   "execution_count": 26,
   "id": "4ba0596a",
   "metadata": {
    "attributes": {
     "classes": [],
     "eval": "FALSE",
     "id": ""
    },
    "kernel": "R"
   },
   "outputs": [
    {
     "data": {
      "image/png": "[encoded data removed]",
      "text/plain": [
       "plot without title"
      ]
     },
     "metadata": {
      "image/png": {
       "height": 420,
       "width": 420
      }
     },
     "output_type": "display_data"
    }
   ],
   "source": [
    "plot(new_data$Bob, new_data$Steve)"
   ]
  },
  {
   "cell_type": "markdown",
   "id": "13727d18",
   "metadata": {
    "kernel": "SoS"
   },
   "source": [
    "While we do get to see the data quickly, it's kind of messy. To give the same plot a title and label the axes, you can do this easily by adding the following arguments to the command:"
   ]
  },
  {
   "cell_type": "code",
   "execution_count": 27,
   "id": "e0e1fc65",
   "metadata": {
    "attributes": {
     "classes": [],
     "eval": "FALSE",
     "id": ""
    },
    "kernel": "R"
   },
   "outputs": [
    {
     "data": {
      "image/png": "[encoded data removed]",
      "text/plain": [
       "Plot with title “Cheeseburgers Eaten”"
      ]
     },
     "metadata": {
      "image/png": {
       "height": 420,
       "width": 420
      }
     },
     "output_type": "display_data"
    }
   ],
   "source": [
    "plot(new_data$Bob, new_data$Steve, main = \"Cheeseburgers Eaten\", xlab = \"Bob\", ylab = \"Steve\")"
   ]
  },
  {
   "cell_type": "markdown",
   "id": "929485b4",
   "metadata": {
    "kernel": "SoS"
   },
   "source": [
    "## Subsetting and targeting elements of R objects using indices\n",
    "\n",
    "Although the function *subset* is useful to subset R objects by particular values, objects of classes *vector, matrix, array, and data frame* are designed for quick manipulation using indices. To illustrate this clearly, use the following commands to create a 3x4 matrix and look at it."
   ]
  },
  {
   "cell_type": "code",
   "execution_count": 28,
   "id": "ccb780be",
   "metadata": {
    "attributes": {
     "classes": [],
     "eval": "FALSE",
     "id": ""
    },
    "kernel": "R"
   },
   "outputs": [
    {
     "data": {
      "text/html": [
       "<table class=\"dataframe\">\n",
       "<caption>A matrix: 3 × 4 of type int</caption>\n",
       "<tbody>\n",
       "\t<tr><td>1</td><td> 2</td><td> 3</td><td> 4</td></tr>\n",
       "\t<tr><td>5</td><td> 6</td><td> 7</td><td> 8</td></tr>\n",
       "\t<tr><td>9</td><td>10</td><td>11</td><td>12</td></tr>\n",
       "</tbody>\n",
       "</table>\n"
      ],
      "text/latex": [
       "A matrix: 3 × 4 of type int\n",
       "\\begin{tabular}{llll}\n",
       "\t 1 &  2 &  3 &  4\\\\\n",
       "\t 5 &  6 &  7 &  8\\\\\n",
       "\t 9 & 10 & 11 & 12\\\\\n",
       "\\end{tabular}\n"
      ],
      "text/markdown": [
       "\n",
       "A matrix: 3 × 4 of type int\n",
       "\n",
       "| 1 |  2 |  3 |  4 |\n",
       "| 5 |  6 |  7 |  8 |\n",
       "| 9 | 10 | 11 | 12 |\n",
       "\n"
      ],
      "text/plain": [
       "     [,1] [,2] [,3] [,4]\n",
       "[1,] 1     2    3    4  \n",
       "[2,] 5     6    7    8  \n",
       "[3,] 9    10   11   12  "
      ]
     },
     "metadata": {},
     "output_type": "display_data"
    },
    {
     "data": {
      "text/html": [
       "\n",
       "<table style=\"width: 100%;\"><tr><td>matrix {base}</td><td style=\"text-align: right;\">R Documentation</td></tr></table>\n",
       "\n",
       "<h2 id='matrix'>Matrices</h2>\n",
       "\n",
       "<h3>Description</h3>\n",
       "\n",
       "<p><code>matrix</code> creates a matrix from the given set of values.\n",
       "</p>\n",
       "<p><code>as.matrix</code> attempts to turn its argument into a matrix.\n",
       "</p>\n",
       "<p><code>is.matrix</code> tests if its argument is a (strict) matrix.\n",
       "</p>\n",
       "\n",
       "\n",
       "<h3>Usage</h3>\n",
       "\n",
       "<pre><code class='language-R'>matrix(data = NA, nrow = 1, ncol = 1, byrow = FALSE,\n",
       "       dimnames = NULL)\n",
       "\n",
       "as.matrix(x, ...)\n",
       "## S3 method for class 'data.frame'\n",
       "as.matrix(x, rownames.force = NA, ...)\n",
       "\n",
       "is.matrix(x)\n",
       "</code></pre>\n",
       "\n",
       "\n",
       "<h3>Arguments</h3>\n",
       "\n",
       "<table>\n",
       "<tr><td><code id=\"matrix_:_data\">data</code></td>\n",
       "<td>\n",
       "<p>an optional data vector (including a list or\n",
       "<code>expression</code> vector).  Non-atomic classed <span class=\"rlang\"><b>R</b></span> objects are\n",
       "coerced by <code>as.vector</code> and all attributes discarded.</p>\n",
       "</td></tr>\n",
       "<tr><td><code id=\"matrix_:_nrow\">nrow</code></td>\n",
       "<td>\n",
       "<p>the desired number of rows.</p>\n",
       "</td></tr>\n",
       "<tr><td><code id=\"matrix_:_ncol\">ncol</code></td>\n",
       "<td>\n",
       "<p>the desired number of columns.</p>\n",
       "</td></tr>\n",
       "<tr><td><code id=\"matrix_:_byrow\">byrow</code></td>\n",
       "<td>\n",
       "<p>logical. If <code>FALSE</code> (the default) the matrix is\n",
       "filled by columns, otherwise the matrix is filled by rows.</p>\n",
       "</td></tr>\n",
       "<tr><td><code id=\"matrix_:_dimnames\">dimnames</code></td>\n",
       "<td>\n",
       "<p>A <code>dimnames</code> attribute for the matrix:\n",
       "<code>NULL</code> or a <code>list</code> of length 2 giving the row and column\n",
       "names respectively.  An empty list is treated as <code>NULL</code>, and a\n",
       "list of length one as row names.  The list can be named, and the\n",
       "list names will be used as names for the dimensions.</p>\n",
       "</td></tr>\n",
       "<tr><td><code id=\"matrix_:_x\">x</code></td>\n",
       "<td>\n",
       "<p>an <span class=\"rlang\"><b>R</b></span> object.</p>\n",
       "</td></tr>\n",
       "<tr><td><code id=\"matrix_:_...\">...</code></td>\n",
       "<td>\n",
       "<p>additional arguments to be passed to or from methods.</p>\n",
       "</td></tr>\n",
       "<tr><td><code id=\"matrix_:_rownames.force\">rownames.force</code></td>\n",
       "<td>\n",
       "<p>logical indicating if the resulting matrix\n",
       "should have character (rather than <code>NULL</code>)\n",
       "<code>rownames</code>.  The default, <code>NA</code>, uses <code>NULL</code>\n",
       "rownames if the data frame has &lsquo;automatic&rsquo; row.names or for a\n",
       "zero-row data frame.</p>\n",
       "</td></tr>\n",
       "</table>\n",
       "\n",
       "\n",
       "<h3>Details</h3>\n",
       "\n",
       "<p>If one of <code>nrow</code> or <code>ncol</code> is not given, an attempt is\n",
       "made to infer it from the length of <code>data</code> and the other\n",
       "parameter.  If neither is given, a one-column matrix is returned.\n",
       "</p>\n",
       "<p>If there are too few elements in <code>data</code> to fill the matrix,\n",
       "then the elements in <code>data</code> are recycled.  If <code>data</code> has\n",
       "length zero, <code>NA</code> of an appropriate type is used for atomic\n",
       "vectors (<code>0</code> for raw vectors) and <code>NULL</code> for lists.\n",
       "</p>\n",
       "<p><code>is.matrix</code> returns <code>TRUE</code> if <code>x</code> is a vector and has a\n",
       "<code>\"dim\"</code> attribute of length 2 and <code>FALSE</code> otherwise.\n",
       "Note that a <code>data.frame</code> is <strong>not</strong> a matrix by this\n",
       "test.  The function is generic: you can write methods to handle\n",
       "specific classes of objects, see InternalMethods.\n",
       "</p>\n",
       "<p><code>as.matrix</code> is a generic function.  The method for data frames\n",
       "will return a character matrix if there is only atomic columns and any\n",
       "non-(numeric/logical/complex) column, applying <code>as.vector</code>\n",
       "to factors and <code>format</code> to other non-character columns.\n",
       "Otherwise, the usual coercion hierarchy (logical &lt; integer &lt; double &lt;\n",
       "complex) will be used, e.g., all-logical data frames will be coerced\n",
       "to a logical matrix, mixed logical-integer will give a integer matrix,\n",
       "etc.\n",
       "</p>\n",
       "<p>The default method for <code>as.matrix</code> calls <code>as.vector(x)</code>, and\n",
       "hence e.g. coerces factors to character vectors.\n",
       "</p>\n",
       "<p>When coercing a vector, it produces a one-column matrix, and\n",
       "promotes the names (if any) of the vector to the rownames of the matrix.\n",
       "</p>\n",
       "<p><code>is.matrix</code> is a primitive function.\n",
       "</p>\n",
       "<p>The <code>print</code> method for a matrix gives a rectangular layout with\n",
       "dimnames or indices.  For a list matrix, the entries of length not\n",
       "one are printed in  the form &lsquo;<span class=\"samp\">&#8288;integer,7&#8288;</span>&rsquo; indicating the type\n",
       "and length.\n",
       "</p>\n",
       "\n",
       "\n",
       "<h3>Note</h3>\n",
       "\n",
       "<p>If you just want to convert a vector to a matrix, something like\n",
       "</p>\n",
       "<pre>  dim(x) &lt;- c(nx, ny)\n",
       "  dimnames(x) &lt;- list(row_names, col_names)\n",
       "</pre>\n",
       "<p>will avoid duplicating <code>x</code> <em>and</em> preserve\n",
       "<code>class(x)</code> which may be useful, e.g.,\n",
       "for <code>Date</code> objects.\n",
       "</p>\n",
       "\n",
       "\n",
       "<h3>References</h3>\n",
       "\n",
       "<p>Becker, R. A., Chambers, J. M. and Wilks, A. R. (1988)\n",
       "<em>The New S Language</em>.\n",
       "Wadsworth &amp; Brooks/Cole.\n",
       "</p>\n",
       "\n",
       "\n",
       "<h3>See Also</h3>\n",
       "\n",
       "<p><code>data.matrix</code>, which attempts to convert to a numeric\n",
       "matrix.\n",
       "</p>\n",
       "<p>A matrix is the special case of a two-dimensional <code>array</code>.\n",
       "<code>inherits(m, \"array\")</code> is true for a <code>matrix</code> <code>m</code>.\n",
       "</p>\n",
       "\n",
       "\n",
       "<h3>Examples</h3>\n",
       "\n",
       "<pre><code class='language-R'>is.matrix(as.matrix(1:10))\n",
       "!is.matrix(warpbreaks)  # data.frame, NOT matrix!\n",
       "warpbreaks[1:10,]\n",
       "as.matrix(warpbreaks[1:10,])  # using as.matrix.data.frame(.) method\n",
       "\n",
       "## Example of setting row and column names\n",
       "mdat &lt;- matrix(c(1,2,3, 11,12,13), nrow = 2, ncol = 3, byrow = TRUE,\n",
       "               dimnames = list(c(\"row1\", \"row2\"),\n",
       "                               c(\"C.1\", \"C.2\", \"C.3\")))\n",
       "mdat\n",
       "</code></pre>\n",
       "\n",
       "<hr /><div style=\"text-align: center;\">[Package <em>base</em> version 4.3.3 ]</div>\n",
       "</div>"
      ],
      "text/latex": [
       "\\inputencoding{utf8}\n",
       "\\HeaderA{matrix}{Matrices}{matrix}\n",
       "\\aliasA{as.matrix}{matrix}{as.matrix}\n",
       "\\methaliasA{as.matrix.data.frame}{matrix}{as.matrix.data.frame}\n",
       "\\methaliasA{as.matrix.default}{matrix}{as.matrix.default}\n",
       "\\aliasA{is.matrix}{matrix}{is.matrix}\n",
       "\\keyword{array}{matrix}\n",
       "\\keyword{algebra}{matrix}\n",
       "%\n",
       "\\begin{Description}\n",
       "\\code{matrix} creates a matrix from the given set of values.\n",
       "\n",
       "\\code{as.matrix} attempts to turn its argument into a matrix.\n",
       "\n",
       "\\code{is.matrix} tests if its argument is a (strict) matrix.\n",
       "\\end{Description}\n",
       "%\n",
       "\\begin{Usage}\n",
       "\\begin{verbatim}\n",
       "matrix(data = NA, nrow = 1, ncol = 1, byrow = FALSE,\n",
       "       dimnames = NULL)\n",
       "\n",
       "as.matrix(x, ...)\n",
       "## S3 method for class 'data.frame'\n",
       "as.matrix(x, rownames.force = NA, ...)\n",
       "\n",
       "is.matrix(x)\n",
       "\\end{verbatim}\n",
       "\\end{Usage}\n",
       "%\n",
       "\\begin{Arguments}\n",
       "\\begin{ldescription}\n",
       "\\item[\\code{data}] an optional data vector (including a list or\n",
       "\\code{\\LinkA{expression}{expression}} vector).  Non-atomic classed \\R{} objects are\n",
       "coerced by \\code{\\LinkA{as.vector}{as.vector}} and all attributes discarded.\n",
       "\\item[\\code{nrow}] the desired number of rows.\n",
       "\\item[\\code{ncol}] the desired number of columns.\n",
       "\\item[\\code{byrow}] logical. If \\code{FALSE} (the default) the matrix is\n",
       "filled by columns, otherwise the matrix is filled by rows.\n",
       "\\item[\\code{dimnames}] A \\code{\\LinkA{dimnames}{dimnames}} attribute for the matrix:\n",
       "\\code{NULL} or a \\code{list} of length 2 giving the row and column\n",
       "names respectively.  An empty list is treated as \\code{NULL}, and a\n",
       "list of length one as row names.  The list can be named, and the\n",
       "list names will be used as names for the dimensions.\n",
       "\\item[\\code{x}] an \\R{} object.\n",
       "\\item[\\code{...}] additional arguments to be passed to or from methods.\n",
       "\\item[\\code{rownames.force}] logical indicating if the resulting matrix\n",
       "should have character (rather than \\code{NULL})\n",
       "\\code{\\LinkA{rownames}{rownames}}.  The default, \\code{NA}, uses \\code{NULL}\n",
       "rownames if the data frame has `automatic' row.names or for a\n",
       "zero-row data frame.\n",
       "\\end{ldescription}\n",
       "\\end{Arguments}\n",
       "%\n",
       "\\begin{Details}\n",
       "If one of \\code{nrow} or \\code{ncol} is not given, an attempt is\n",
       "made to infer it from the length of \\code{data} and the other\n",
       "parameter.  If neither is given, a one-column matrix is returned.\n",
       "\n",
       "If there are too few elements in \\code{data} to fill the matrix,\n",
       "then the elements in \\code{data} are recycled.  If \\code{data} has\n",
       "length zero, \\code{NA} of an appropriate type is used for atomic\n",
       "vectors (\\code{0} for raw vectors) and \\code{NULL} for lists.\n",
       "\n",
       "\\code{is.matrix} returns \\code{TRUE} if \\code{x} is a vector and has a\n",
       "\\code{\"\\LinkA{dim}{dim}\"} attribute of length 2 and \\code{FALSE} otherwise.\n",
       "Note that a \\code{\\LinkA{data.frame}{data.frame}} is \\strong{not} a matrix by this\n",
       "test.  The function is generic: you can write methods to handle\n",
       "specific classes of objects, see \\LinkA{InternalMethods}{InternalMethods}.\n",
       "\n",
       "\\code{as.matrix} is a generic function.  The method for data frames\n",
       "will return a character matrix if there is only atomic columns and any\n",
       "non-(numeric/logical/complex) column, applying \\code{\\LinkA{as.vector}{as.vector}}\n",
       "to factors and \\code{\\LinkA{format}{format}} to other non-character columns.\n",
       "Otherwise, the usual coercion hierarchy (logical < integer < double <\n",
       "complex) will be used, e.g., all-logical data frames will be coerced\n",
       "to a logical matrix, mixed logical-integer will give a integer matrix,\n",
       "etc.\n",
       "\n",
       "The default method for \\code{as.matrix} calls \\code{as.vector(x)}, and\n",
       "hence e.g.~coerces factors to character vectors.\n",
       "\n",
       "When coercing a vector, it produces a one-column matrix, and\n",
       "promotes the names (if any) of the vector to the rownames of the matrix.\n",
       "\n",
       "\\code{is.matrix} is a \\LinkA{primitive}{primitive} function.\n",
       "\n",
       "The \\code{print} method for a matrix gives a rectangular layout with\n",
       "dimnames or indices.  For a list matrix, the entries of length not\n",
       "one are printed in  the form \\samp{integer,7} indicating the type\n",
       "and length.\n",
       "\\end{Details}\n",
       "%\n",
       "\\begin{Note}\n",
       "If you just want to convert a vector to a matrix, something like\n",
       "\\begin{alltt}  dim(x) <- c(nx, ny)\n",
       "  dimnames(x) <- list(row_names, col_names)\n",
       "\\end{alltt}\n",
       "\n",
       "will avoid duplicating \\code{x} \\emph{and} preserve\n",
       "\\code{\\LinkA{class}{class}(x)} which may be useful, e.g.,\n",
       "for \\code{\\LinkA{Date}{Date}} objects.\n",
       "\\end{Note}\n",
       "%\n",
       "\\begin{References}\n",
       "Becker, R. A., Chambers, J. M. and Wilks, A. R. (1988)\n",
       "\\emph{The New S Language}.\n",
       "Wadsworth \\& Brooks/Cole.\n",
       "\\end{References}\n",
       "%\n",
       "\\begin{SeeAlso}\n",
       "\\code{\\LinkA{data.matrix}{data.matrix}}, which attempts to convert to a numeric\n",
       "matrix.\n",
       "\n",
       "A matrix is the special case of a two-dimensional \\code{\\LinkA{array}{array}}.\n",
       "\\code{\\LinkA{inherits}{inherits}(m, \"array\")} is true for a \\code{matrix} \\code{m}.\n",
       "\\end{SeeAlso}\n",
       "%\n",
       "\\begin{Examples}\n",
       "\\begin{ExampleCode}\n",
       "is.matrix(as.matrix(1:10))\n",
       "!is.matrix(warpbreaks)  # data.frame, NOT matrix!\n",
       "warpbreaks[1:10,]\n",
       "as.matrix(warpbreaks[1:10,])  # using as.matrix.data.frame(.) method\n",
       "\n",
       "## Example of setting row and column names\n",
       "mdat <- matrix(c(1,2,3, 11,12,13), nrow = 2, ncol = 3, byrow = TRUE,\n",
       "               dimnames = list(c(\"row1\", \"row2\"),\n",
       "                               c(\"C.1\", \"C.2\", \"C.3\")))\n",
       "mdat\n",
       "\\end{ExampleCode}\n",
       "\\end{Examples}"
      ],
      "text/plain": [
       "matrix                  package:base                   R Documentation\n",
       "\n",
       "_\bM_\ba_\bt_\br_\bi_\bc_\be_\bs\n",
       "\n",
       "_\bD_\be_\bs_\bc_\br_\bi_\bp_\bt_\bi_\bo_\bn:\n",
       "\n",
       "     ‘matrix’ creates a matrix from the given set of values.\n",
       "\n",
       "     ‘as.matrix’ attempts to turn its argument into a matrix.\n",
       "\n",
       "     ‘is.matrix’ tests if its argument is a (strict) matrix.\n",
       "\n",
       "_\bU_\bs_\ba_\bg_\be:\n",
       "\n",
       "     matrix(data = NA, nrow = 1, ncol = 1, byrow = FALSE,\n",
       "            dimnames = NULL)\n",
       "     \n",
       "     as.matrix(x, ...)\n",
       "     ## S3 method for class 'data.frame'\n",
       "     as.matrix(x, rownames.force = NA, ...)\n",
       "     \n",
       "     is.matrix(x)\n",
       "     \n",
       "_\bA_\br_\bg_\bu_\bm_\be_\bn_\bt_\bs:\n",
       "\n",
       "    data: an optional data vector (including a list or ‘expression’\n",
       "          vector).  Non-atomic classed R objects are coerced by\n",
       "          ‘as.vector’ and all attributes discarded.\n",
       "\n",
       "    nrow: the desired number of rows.\n",
       "\n",
       "    ncol: the desired number of columns.\n",
       "\n",
       "   byrow: logical. If ‘FALSE’ (the default) the matrix is filled by\n",
       "          columns, otherwise the matrix is filled by rows.\n",
       "\n",
       "dimnames: A ‘dimnames’ attribute for the matrix: ‘NULL’ or a ‘list’ of\n",
       "          length 2 giving the row and column names respectively.  An\n",
       "          empty list is treated as ‘NULL’, and a list of length one as\n",
       "          row names.  The list can be named, and the list names will be\n",
       "          used as names for the dimensions.\n",
       "\n",
       "       x: an R object.\n",
       "\n",
       "     ...: additional arguments to be passed to or from methods.\n",
       "\n",
       "rownames.force: logical indicating if the resulting matrix should have\n",
       "          character (rather than ‘NULL’) ‘rownames’.  The default,\n",
       "          ‘NA’, uses ‘NULL’ rownames if the data frame has ‘automatic’\n",
       "          row.names or for a zero-row data frame.\n",
       "\n",
       "_\bD_\be_\bt_\ba_\bi_\bl_\bs:\n",
       "\n",
       "     If one of ‘nrow’ or ‘ncol’ is not given, an attempt is made to\n",
       "     infer it from the length of ‘data’ and the other parameter.  If\n",
       "     neither is given, a one-column matrix is returned.\n",
       "\n",
       "     If there are too few elements in ‘data’ to fill the matrix, then\n",
       "     the elements in ‘data’ are recycled.  If ‘data’ has length zero,\n",
       "     ‘NA’ of an appropriate type is used for atomic vectors (‘0’ for\n",
       "     raw vectors) and ‘NULL’ for lists.\n",
       "\n",
       "     ‘is.matrix’ returns ‘TRUE’ if ‘x’ is a vector and has a ‘\"dim\"’\n",
       "     attribute of length 2 and ‘FALSE’ otherwise.  Note that a\n",
       "     ‘data.frame’ is *not* a matrix by this test.  The function is\n",
       "     generic: you can write methods to handle specific classes of\n",
       "     objects, see InternalMethods.\n",
       "\n",
       "     ‘as.matrix’ is a generic function.  The method for data frames\n",
       "     will return a character matrix if there is only atomic columns and\n",
       "     any non-(numeric/logical/complex) column, applying ‘as.vector’ to\n",
       "     factors and ‘format’ to other non-character columns.  Otherwise,\n",
       "     the usual coercion hierarchy (logical < integer < double <\n",
       "     complex) will be used, e.g., all-logical data frames will be\n",
       "     coerced to a logical matrix, mixed logical-integer will give a\n",
       "     integer matrix, etc.\n",
       "\n",
       "     The default method for ‘as.matrix’ calls ‘as.vector(x)’, and hence\n",
       "     e.g. coerces factors to character vectors.\n",
       "\n",
       "     When coercing a vector, it produces a one-column matrix, and\n",
       "     promotes the names (if any) of the vector to the rownames of the\n",
       "     matrix.\n",
       "\n",
       "     ‘is.matrix’ is a primitive function.\n",
       "\n",
       "     The ‘print’ method for a matrix gives a rectangular layout with\n",
       "     dimnames or indices.  For a list matrix, the entries of length not\n",
       "     one are printed in the form ‘integer,7’ indicating the type and\n",
       "     length.\n",
       "\n",
       "_\bN_\bo_\bt_\be:\n",
       "\n",
       "     If you just want to convert a vector to a matrix, something like\n",
       "\n",
       "       dim(x) <- c(nx, ny)\n",
       "       dimnames(x) <- list(row_names, col_names)\n",
       "     \n",
       "     will avoid duplicating ‘x’ _and_ preserve ‘class(x)’ which may be\n",
       "     useful, e.g., for ‘Date’ objects.\n",
       "\n",
       "_\bR_\be_\bf_\be_\br_\be_\bn_\bc_\be_\bs:\n",
       "\n",
       "     Becker, R. A., Chambers, J. M. and Wilks, A. R. (1988) _The New S\n",
       "     Language_.  Wadsworth & Brooks/Cole.\n",
       "\n",
       "_\bS_\be_\be _\bA_\bl_\bs_\bo:\n",
       "\n",
       "     ‘data.matrix’, which attempts to convert to a numeric matrix.\n",
       "\n",
       "     A matrix is the special case of a two-dimensional ‘array’.\n",
       "     ‘inherits(m, \"array\")’ is true for a ‘matrix’ ‘m’.\n",
       "\n",
       "_\bE_\bx_\ba_\bm_\bp_\bl_\be_\bs:\n",
       "\n",
       "     is.matrix(as.matrix(1:10))\n",
       "     !is.matrix(warpbreaks)  # data.frame, NOT matrix!\n",
       "     warpbreaks[1:10,]\n",
       "     as.matrix(warpbreaks[1:10,])  # using as.matrix.data.frame(.) method\n",
       "     \n",
       "     ## Example of setting row and column names\n",
       "     mdat <- matrix(c(1,2,3, 11,12,13), nrow = 2, ncol = 3, byrow = TRUE,\n",
       "                    dimnames = list(c(\"row1\", \"row2\"),\n",
       "                                    c(\"C.1\", \"C.2\", \"C.3\")))\n",
       "     mdat\n",
       "     "
      ]
     },
     "metadata": {},
     "output_type": "display_data"
    }
   ],
   "source": [
    "?matrix\n",
    "mat <- matrix(1:12, nrow = 3, ncol = 4, byrow = TRUE)\n",
    "mat"
   ]
  },
  {
   "cell_type": "markdown",
   "id": "cee1bc5d",
   "metadata": {
    "kernel": "SoS"
   },
   "source": [
    "Notice that above each column R displays the index for that column, and likewise for each row. **Follow the steps below to create a new matrix based on the matrix \"mat\"**:\n",
    "\n",
    "- 1) **Make column 1 a vector named \"A\"**\n",
    "- 2) **Add columns 2 and 4 together to make a vector \"B\"**\n",
    "- 3) **Multiply column 1 by 3 to make a vector \"C\"**\n",
    "- 4) **Make a matrix named \"new_mat\" by binding vectors \"A\",\"B\",\"C\" by column**\n",
    "- 5) **Look at matrix \"new_mat\"**\n",
    "- 6) **Multiply the entire matrix \"new_mat\" by 2 to obtain \"final_mat\"**\n",
    "- 7) **Look at matrix \"final_mat\"**"
   ]
  },
  {
   "cell_type": "code",
   "execution_count": 29,
   "id": "57a8d613",
   "metadata": {
    "attributes": {
     "classes": [],
     "eval": "FALSE",
     "id": ""
    },
    "kernel": "R"
   },
   "outputs": [
    {
     "data": {
      "text/html": [
       "<table class=\"dataframe\">\n",
       "<caption>A matrix: 3 × 3 of type dbl</caption>\n",
       "<thead>\n",
       "\t<tr><th scope=col>A</th><th scope=col>B</th><th scope=col>C</th></tr>\n",
       "</thead>\n",
       "<tbody>\n",
       "\t<tr><td>1</td><td> 6</td><td> 3</td></tr>\n",
       "\t<tr><td>5</td><td>14</td><td>15</td></tr>\n",
       "\t<tr><td>9</td><td>22</td><td>27</td></tr>\n",
       "</tbody>\n",
       "</table>\n"
      ],
      "text/latex": [
       "A matrix: 3 × 3 of type dbl\n",
       "\\begin{tabular}{lll}\n",
       " A & B & C\\\\\n",
       "\\hline\n",
       "\t 1 &  6 &  3\\\\\n",
       "\t 5 & 14 & 15\\\\\n",
       "\t 9 & 22 & 27\\\\\n",
       "\\end{tabular}\n"
      ],
      "text/markdown": [
       "\n",
       "A matrix: 3 × 3 of type dbl\n",
       "\n",
       "| A | B | C |\n",
       "|---|---|---|\n",
       "| 1 |  6 |  3 |\n",
       "| 5 | 14 | 15 |\n",
       "| 9 | 22 | 27 |\n",
       "\n"
      ],
      "text/plain": [
       "     A B  C \n",
       "[1,] 1  6  3\n",
       "[2,] 5 14 15\n",
       "[3,] 9 22 27"
      ]
     },
     "metadata": {},
     "output_type": "display_data"
    }
   ],
   "source": [
    "A <- mat[,1]                       # Step 1\n",
    "B <- mat[,2] + mat[,4]             # Step 2\n",
    "C <- mat[,1] * 3                   # Step 3\n",
    "new_mat <- cbind(A,B,C)            # Step 4\n",
    "new_mat                            # Step 5"
   ]
  },
  {
   "cell_type": "code",
   "execution_count": 30,
   "id": "00612148",
   "metadata": {
    "attributes": {
     "classes": [],
     "eval": "FALSE",
     "id": ""
    },
    "kernel": "R"
   },
   "outputs": [
    {
     "data": {
      "text/html": [
       "<table class=\"dataframe\">\n",
       "<caption>A matrix: 3 × 3 of type dbl</caption>\n",
       "<thead>\n",
       "\t<tr><th scope=col>A</th><th scope=col>B</th><th scope=col>C</th></tr>\n",
       "</thead>\n",
       "<tbody>\n",
       "\t<tr><td> 2</td><td>12</td><td> 6</td></tr>\n",
       "\t<tr><td>10</td><td>28</td><td>30</td></tr>\n",
       "\t<tr><td>18</td><td>44</td><td>54</td></tr>\n",
       "</tbody>\n",
       "</table>\n"
      ],
      "text/latex": [
       "A matrix: 3 × 3 of type dbl\n",
       "\\begin{tabular}{lll}\n",
       " A & B & C\\\\\n",
       "\\hline\n",
       "\t  2 & 12 &  6\\\\\n",
       "\t 10 & 28 & 30\\\\\n",
       "\t 18 & 44 & 54\\\\\n",
       "\\end{tabular}\n"
      ],
      "text/markdown": [
       "\n",
       "A matrix: 3 × 3 of type dbl\n",
       "\n",
       "| A | B | C |\n",
       "|---|---|---|\n",
       "|  2 | 12 |  6 |\n",
       "| 10 | 28 | 30 |\n",
       "| 18 | 44 | 54 |\n",
       "\n"
      ],
      "text/plain": [
       "     A  B  C \n",
       "[1,]  2 12  6\n",
       "[2,] 10 28 30\n",
       "[3,] 18 44 54"
      ]
     },
     "metadata": {},
     "output_type": "display_data"
    }
   ],
   "source": [
    "final_mat <- new_mat * 2           # Step 6\n",
    "final_mat                          # Step 7"
   ]
  },
  {
   "cell_type": "markdown",
   "id": "ccefda33",
   "metadata": {
    "kernel": "SoS"
   },
   "source": [
    "One important note for plotting is that the syntax is different between data frames and matrices. Where data frames use the $ to extract vectors to plot against each other, matrices use the indices used above to create vectors. For example, we can plot the first and third columns of our new matrix \"final_mat\" against each other. **Run the following two lines of code together**:"
   ]
  },
  {
   "cell_type": "code",
   "execution_count": 31,
   "id": "15064258",
   "metadata": {
    "attributes": {
     "classes": [],
     "eval": "FALSE",
     "id": ""
    },
    "kernel": "R"
   },
   "outputs": [
    {
     "data": {
      "image/png": "[encoded data removed]",
      "text/plain": [
       "plot without title"
      ]
     },
     "metadata": {
      "image/png": {
       "height": 420,
       "width": 420
      }
     },
     "output_type": "display_data"
    }
   ],
   "source": [
    "plot(final_mat[,1], final_mat[,3])\n",
    "abline(a = 0, b = 3, col = \"red\", lty = \"dashed\")"
   ]
  },
  {
   "cell_type": "markdown",
   "id": "25e79dd3",
   "metadata": {
    "kernel": "SoS"
   },
   "source": [
    "You should see a red dashed line going through all three points.\n",
    "\n",
    "## For-loops\n",
    "\n",
    "Often in statistical genetics you may need to repeat something several times. For example, collating results over several replicates may require a for-loop that stores the results in an array. \n",
    "\n",
    "To illustrate the point, let's consider a simple example. \n",
    "Suppose we'd like to learn how the sample mean ($\\bar{X}$) of 50 iid standard normal random variables, $X_1, \\cdots, X_{50} \\sim N(0, 1)$, behaves by simulation.\n",
    "To obtain one sample mean, we need to first draw 50 samples, $X_1, \\cdots, X_{50}$, from standard normal, and then calculate the sample mean as $\\bar{X} = \\frac{1}{n} \\sum_i X_i$.\n",
    "So, to obtain multiple copies of the sample mean, we need to repeat the above procedure multiple times.\n",
    "Let's look at how we could implement it in R using for-loop (here we intent to obtain 1000 copies of sample mean). \n",
    "\n",
    "- 1) **Create an empty vector of length 1000 named \"sample_means\"**. We will fill this with sample means obtained in each replication.\n",
    "- 2) **For each replication**\n",
    "    - 2.1) **Draw 50 samples**\n",
    "    - 2.2) **And calculate sample mean**\n",
    "- 3) **Look at \"sample_means\" using `summary` function**"
   ]
  },
  {
   "cell_type": "code",
   "execution_count": 32,
   "id": "fd7d7b1b",
   "metadata": {
    "attributes": {
     "classes": [],
     "eval": "FALSE",
     "id": ""
    },
    "kernel": "R"
   },
   "outputs": [
    {
     "data": {
      "text/plain": [
       "     Min.   1st Qu.    Median      Mean   3rd Qu.      Max. \n",
       "-0.432031 -0.101489 -0.002243 -0.005156  0.090015  0.470665 "
      ]
     },
     "metadata": {},
     "output_type": "display_data"
    }
   ],
   "source": [
    "nrepeat = 1000\n",
    "nsample = 50\n",
    "sample_means <- rep(NA, nrepeat)                # Step 1\n",
    "\n",
    "set.seed(999)  # a good practice is to set seed for your simulations\n",
    "for (i in 1:nrepeat){\n",
    "  samples_i = rnorm(nsample, mean = 0, sd = 1)  # Step 2.1\n",
    "  sample_means[i] = mean(samples_i)             # Step 2.2\n",
    "}\n",
    "summary(sample_means)                           # Step 3"
   ]
  },
  {
   "cell_type": "markdown",
   "id": "6be51d73",
   "metadata": {
    "kernel": "SoS"
   },
   "source": [
    "## Introduction to ggplot2\n",
    "\n",
    "Although the standard plotting introduced in Section 2.4 will accomplish all of your plotting needs, many people prefer the aesthetics and functionality of plotting in ggplot2. We will do a basic introduction here, mainly to demonstrate the syntax.\n",
    "\n",
    "First install and library the ggplot2."
   ]
  },
  {
   "cell_type": "code",
   "execution_count": 33,
   "id": "53d7aa69",
   "metadata": {
    "attributes": {
     "classes": [],
     "eval": "FALSE",
     "id": ""
    },
    "kernel": "R"
   },
   "outputs": [],
   "source": [
    "# install.packages(\"ggplot2\")\n",
    "library(ggplot2)"
   ]
  },
  {
   "cell_type": "markdown",
   "id": "1291bc72",
   "metadata": {
    "kernel": "SoS"
   },
   "source": [
    "Let's use the dataset in lab_0_ggplot_data.txt."
   ]
  },
  {
   "cell_type": "code",
   "execution_count": 34,
   "id": "24f0fd79",
   "metadata": {
    "attributes": {
     "classes": [],
     "eval": "FALSE",
     "id": ""
    },
    "kernel": "R"
   },
   "outputs": [
    {
     "data": {
      "text/html": [
       "<table class=\"dataframe\">\n",
       "<caption>A data.frame: 6 × 3</caption>\n",
       "<thead>\n",
       "\t<tr><th></th><th scope=col>cell_type</th><th scope=col>status</th><th scope=col>count</th></tr>\n",
       "\t<tr><th></th><th scope=col>&lt;chr&gt;</th><th scope=col>&lt;chr&gt;</th><th scope=col>&lt;dbl&gt;</th></tr>\n",
       "</thead>\n",
       "<tbody>\n",
       "\t<tr><th scope=row>1</th><td>Alveolar1</td><td>untreated</td><td> 6.289308</td></tr>\n",
       "\t<tr><th scope=row>2</th><td>Alveolar1</td><td>treated  </td><td>10.827468</td></tr>\n",
       "\t<tr><th scope=row>3</th><td>Alveolar2</td><td>untreated</td><td> 7.452884</td></tr>\n",
       "\t<tr><th scope=row>4</th><td>Alveolar2</td><td>treated  </td><td>13.600728</td></tr>\n",
       "\t<tr><th scope=row>5</th><td>Basal    </td><td>untreated</td><td> 3.091082</td></tr>\n",
       "\t<tr><th scope=row>6</th><td>Basal    </td><td>treated  </td><td> 8.191246</td></tr>\n",
       "</tbody>\n",
       "</table>\n"
      ],
      "text/latex": [
       "A data.frame: 6 × 3\n",
       "\\begin{tabular}{r|lll}\n",
       "  & cell\\_type & status & count\\\\\n",
       "  & <chr> & <chr> & <dbl>\\\\\n",
       "\\hline\n",
       "\t1 & Alveolar1 & untreated &  6.289308\\\\\n",
       "\t2 & Alveolar1 & treated   & 10.827468\\\\\n",
       "\t3 & Alveolar2 & untreated &  7.452884\\\\\n",
       "\t4 & Alveolar2 & treated   & 13.600728\\\\\n",
       "\t5 & Basal     & untreated &  3.091082\\\\\n",
       "\t6 & Basal     & treated   &  8.191246\\\\\n",
       "\\end{tabular}\n"
      ],
      "text/markdown": [
       "\n",
       "A data.frame: 6 × 3\n",
       "\n",
       "| <!--/--> | cell_type &lt;chr&gt; | status &lt;chr&gt; | count &lt;dbl&gt; |\n",
       "|---|---|---|---|\n",
       "| 1 | Alveolar1 | untreated |  6.289308 |\n",
       "| 2 | Alveolar1 | treated   | 10.827468 |\n",
       "| 3 | Alveolar2 | untreated |  7.452884 |\n",
       "| 4 | Alveolar2 | treated   | 13.600728 |\n",
       "| 5 | Basal     | untreated |  3.091082 |\n",
       "| 6 | Basal     | treated   |  8.191246 |\n",
       "\n"
      ],
      "text/plain": [
       "  cell_type status    count    \n",
       "1 Alveolar1 untreated  6.289308\n",
       "2 Alveolar1 treated   10.827468\n",
       "3 Alveolar2 untreated  7.452884\n",
       "4 Alveolar2 treated   13.600728\n",
       "5 Basal     untreated  3.091082\n",
       "6 Basal     treated    8.191246"
      ]
     },
     "metadata": {},
     "output_type": "display_data"
    }
   ],
   "source": [
    "df <- read.table(file.path(myWorkingFolder, 'data/lab0/', 'lab_0_ggplot_data.txt'), header = T)\n",
    "head(df)"
   ]
  },
  {
   "cell_type": "markdown",
   "id": "f6f56b7c",
   "metadata": {
    "kernel": "SoS"
   },
   "source": [
    "It contains the average number of different cells in lung tissue samples before and after certain treatment procedures. Our plan is to draw a barplot to compare the cell counts (in million) before and after treatment. Instead of trying to create the \"perfect\" plot in a single attempt, we can will refine one layer at a time. This approach is called incremental development and can be especially useful for generating plots with complex features.\n",
    "\n",
    "Create an empty canvas first. Do both axes represent what you are looking for?"
   ]
  },
  {
   "cell_type": "code",
   "execution_count": 35,
   "id": "83545865",
   "metadata": {
    "attributes": {
     "classes": [],
     "eval": "FALSE",
     "id": ""
    },
    "kernel": "R"
   },
   "outputs": [
    {
     "data": {
      "image/png": "[encoded data removed]",
      "text/plain": [
       "plot without title"
      ]
     },
     "metadata": {
      "image/png": {
       "height": 420,
       "width": 420
      }
     },
     "output_type": "display_data"
    }
   ],
   "source": [
    "gg <- ggplot(df, aes(x = factor(cell_type), y = count, fill = status))\n",
    "gg"
   ]
  },
  {
   "cell_type": "markdown",
   "id": "52763bfe",
   "metadata": {
    "kernel": "SoS"
   },
   "source": [
    "It does, but the x-axis doesn't look pretty! We will deal with that later. Now we add bars that represent cell counts to the plot."
   ]
  },
  {
   "cell_type": "code",
   "execution_count": 36,
   "id": "8bdb7b96",
   "metadata": {
    "attributes": {
     "classes": [],
     "eval": "FALSE",
     "id": ""
    },
    "kernel": "R"
   },
   "outputs": [
    {
     "data": {
      "image/png": "[encoded data removed]",
      "text/plain": [
       "plot without title"
      ]
     },
     "metadata": {
      "image/png": {
       "height": 420,
       "width": 420
      }
     },
     "output_type": "display_data"
    }
   ],
   "source": [
    "gg <- gg + geom_bar(stat = \"identity\", position = \"dodge\")\n",
    "gg"
   ]
  },
  {
   "cell_type": "markdown",
   "id": "18af93d8",
   "metadata": {
    "kernel": "SoS"
   },
   "source": [
    "Note that the label of y-axis is not very precise. What's the unit of measurement?"
   ]
  },
  {
   "cell_type": "code",
   "execution_count": 37,
   "id": "813eed94",
   "metadata": {
    "attributes": {
     "classes": [],
     "eval": "FALSE",
     "id": ""
    },
    "kernel": "R"
   },
   "outputs": [
    {
     "data": {
      "image/png": "[encoded data removed]",
      "text/plain": [
       "plot without title"
      ]
     },
     "metadata": {
      "image/png": {
       "height": 420,
       "width": 420
      }
     },
     "output_type": "display_data"
    }
   ],
   "source": [
    "gg <- gg + labs(x = \"Cell type\" , y = \"Count (in million)\")\n",
    "gg"
   ]
  },
  {
   "cell_type": "markdown",
   "id": "2626db6a",
   "metadata": {
    "kernel": "SoS"
   },
   "source": [
    "About 8 percent of males and 0.5 percent of females are color blind, so it's likely that some of your audience will be among them. We need to pick from more accessible palettes (check https://davidmathlogic.com/colorblind/#%23FFC20A-%230C7BDC for more safe color choices)."
   ]
  },
  {
   "cell_type": "code",
   "execution_count": 38,
   "id": "737143f9",
   "metadata": {
    "attributes": {
     "classes": [],
     "eval": "FALSE",
     "id": ""
    },
    "kernel": "R"
   },
   "outputs": [
    {
     "data": {
      "image/png": "[encoded data removed]",
      "text/plain": [
       "plot without title"
      ]
     },
     "metadata": {
      "image/png": {
       "height": 420,
       "width": 420
      }
     },
     "output_type": "display_data"
    }
   ],
   "source": [
    "gg <- gg + scale_fill_manual(values = c(\"#FFC20A\", \"#0C7BDC\"))\n",
    "gg"
   ]
  },
  {
   "cell_type": "markdown",
   "id": "4ae47f42",
   "metadata": {
    "kernel": "SoS"
   },
   "source": [
    "The grids in the background seems kind of redundant, let's remove them."
   ]
  },
  {
   "cell_type": "code",
   "execution_count": 39,
   "id": "32de8bc4",
   "metadata": {
    "attributes": {
     "classes": [],
     "eval": "FALSE",
     "id": ""
    },
    "kernel": "R"
   },
   "outputs": [
    {
     "data": {
      "image/png": "[encoded data removed]",
      "text/plain": [
       "plot without title"
      ]
     },
     "metadata": {
      "image/png": {
       "height": 420,
       "width": 420
      }
     },
     "output_type": "display_data"
    }
   ],
   "source": [
    "gg <- gg + theme(axis.line = element_line(color = 'black'), \n",
    "                 panel.background = element_blank(), \n",
    "                 panel.grid.major = element_blank(), \n",
    "                 panel.grid.minor = element_blank())\n",
    "gg"
   ]
  },
  {
   "cell_type": "markdown",
   "id": "e30a8f83",
   "metadata": {
    "kernel": "SoS"
   },
   "source": [
    "Now we can turn to fix the overlapping labels on x-axis."
   ]
  },
  {
   "cell_type": "code",
   "execution_count": 40,
   "id": "5cfbf005",
   "metadata": {
    "attributes": {
     "classes": [],
     "eval": "FALSE",
     "id": ""
    },
    "kernel": "R"
   },
   "outputs": [
    {
     "data": {
      "image/png": "[encoded data removed]",
      "text/plain": [
       "plot without title"
      ]
     },
     "metadata": {
      "image/png": {
       "height": 420,
       "width": 420
      }
     },
     "output_type": "display_data"
    }
   ],
   "source": [
    "gg <- gg + theme(axis.text.x = element_text(angle = 60, vjust = 0.5))\n",
    "gg"
   ]
  },
  {
   "cell_type": "markdown",
   "id": "654ef703-4634-4aab-b9ad-395dbfbf26ad",
   "metadata": {
    "kernel": "SoS"
   },
   "source": [
    "Finally, let's bring the bars right atop of the x-axis. We can also adjust the limits and breaks on the y-axis."
   ]
  },
  {
   "cell_type": "code",
   "execution_count": 41,
   "id": "6f4b9b69-9476-4742-be71-6076487fdea1",
   "metadata": {
    "kernel": "R"
   },
   "outputs": [
    {
     "data": {
      "image/png": "[encoded data removed]",
      "text/plain": [
       "plot without title"
      ]
     },
     "metadata": {
      "image/png": {
       "height": 420,
       "width": 420
      }
     },
     "output_type": "display_data"
    }
   ],
   "source": [
    "gg <- gg + scale_y_continuous(limits = c(0, 18), breaks = seq(0, 18, 3), expand = c(0,0))\n",
    "gg"
   ]
  },
  {
   "cell_type": "code",
   "execution_count": null,
   "id": "e39e2257-bdf0-4c65-8658-44b00f619776",
   "metadata": {
    "kernel": "R"
   },
   "outputs": [],
   "source": []
  }
 ],
 "metadata": {
  "kernelspec": {
   "display_name": "SoS",
   "language": "sos",
   "name": "sos"
  },
  "language_info": {
   "codemirror_mode": "sos",
   "file_extension": ".sos",
   "mimetype": "text/x-sos",
   "name": "sos",
   "nbconvert_exporter": "sos_notebook.converter.SoS_Exporter",
   "pygments_lexer": "sos"
  },
  "sos": {
   "kernels": [
    [
     "Bash",
     "calysto_bash",
     "Bash",
     "#E6EEFF",
     "shell"
    ],
    [
     "R",
     "ir",
     "R",
     "",
     "r"
    ],
    [
     "SoS",
     "sos",
     "",
     "",
     "sos"
    ]
   ],
   "panel": {
    "displayed": true,
    "height": 0
   },
   "version": "0.24.4"
  }
 },
 "nbformat": 4,
 "nbformat_minor": 5
}
