{
 "cells": [
  {
   "cell_type": "code",
   "execution_count": 1,
   "id": "b280e148-dc53-43ea-8bd8-b66a5c81a924",
   "metadata": {},
   "outputs": [
    {
     "data": {
      "text/plain": [
       "   Min. 1st Qu.  Median    Mean 3rd Qu.    Max. \n",
       "  0.000   0.000   0.000   0.446   1.000   1.000 "
      ]
     },
     "metadata": {},
     "output_type": "display_data"
    },
    {
     "data": {
      "text/plain": [
       "   Min. 1st Qu.  Median    Mean 3rd Qu.    Max. \n",
       " 0.0000  0.2000  0.5050  0.4903  0.7250  1.0000 "
      ]
     },
     "metadata": {},
     "output_type": "display_data"
    },
    {
     "data": {
      "text/plain": [
       "   Min. 1st Qu.  Median    Mean 3rd Qu.    Max. \n",
       "  0.244   0.421   0.503   0.497   0.583   0.717 "
      ]
     },
     "metadata": {},
     "output_type": "display_data"
    },
    {
     "data": {
      "text/plain": [
       "   Min. 1st Qu.  Median    Mean 3rd Qu.    Max. \n",
       " 0.4262  0.4738  0.4990  0.4971  0.5171  0.5778 "
      ]
     },
     "metadata": {},
     "output_type": "display_data"
    },
    {
     "data": {
      "text/html": [
       "<style>\n",
       ".list-inline {list-style: none; margin:0; padding: 0}\n",
       ".list-inline>li {display: inline-block}\n",
       ".list-inline>li:not(:last-child)::after {content: \"\\00b7\"; padding: 0 .5ex}\n",
       "</style>\n",
       "<ol class=list-inline><li>1</li><li>2</li><li>3</li><li>4</li></ol>\n"
      ],
      "text/latex": [
       "\\begin{enumerate*}\n",
       "\\item 1\n",
       "\\item 2\n",
       "\\item 3\n",
       "\\item 4\n",
       "\\end{enumerate*}\n"
      ],
      "text/markdown": [
       "1. 1\n",
       "2. 2\n",
       "3. 3\n",
       "4. 4\n",
       "\n",
       "\n"
      ],
      "text/plain": [
       "[1] 1 2 3 4"
      ]
     },
     "metadata": {},
     "output_type": "display_data"
    },
    {
     "data": {
      "text/html": [
       "<strong>png:</strong> 2"
      ],
      "text/latex": [
       "\\textbf{png:} 2"
      ],
      "text/markdown": [
       "**png:** 2"
      ],
      "text/plain": [
       "png \n",
       "  2 "
      ]
     },
     "metadata": {},
     "output_type": "display_data"
    },
    {
     "data": {
      "text/html": [
       "<style>\n",
       ".list-inline {list-style: none; margin:0; padding: 0}\n",
       ".list-inline>li {display: inline-block}\n",
       ".list-inline>li:not(:last-child)::after {content: \"\\00b7\"; padding: 0 .5ex}\n",
       "</style>\n",
       "<ol class=list-inline><li>1</li><li>2</li><li>3</li><li>4</li></ol>\n"
      ],
      "text/latex": [
       "\\begin{enumerate*}\n",
       "\\item 1\n",
       "\\item 2\n",
       "\\item 3\n",
       "\\item 4\n",
       "\\end{enumerate*}\n"
      ],
      "text/markdown": [
       "1. 1\n",
       "2. 2\n",
       "3. 3\n",
       "4. 4\n",
       "\n",
       "\n"
      ],
      "text/plain": [
       "[1] 1 2 3 4"
      ]
     },
     "metadata": {},
     "output_type": "display_data"
    },
    {
     "data": {
      "text/html": [
       "<strong>png:</strong> 2"
      ],
      "text/latex": [
       "\\textbf{png:} 2"
      ],
      "text/markdown": [
       "**png:** 2"
      ],
      "text/plain": [
       "png \n",
       "  2 "
      ]
     },
     "metadata": {},
     "output_type": "display_data"
    }
   ],
   "source": [
    "#############################################################\n",
    "### Michael Nothnagel, michael.nothnagel@uni-koeln.de     ###\n",
    "### Simulating genetic drift                              ###\n",
    "#############################################################\n",
    "\n",
    "\n",
    "N.s   = c(10, 100, 1000, 10000)\n",
    "n.gen =  50\n",
    "n.rep = 100\n",
    "\n",
    "# === Simulate genetic drift === #\n",
    "for (n in N.s) {\n",
    "  freqs = matrix(NA, ncol=n.gen+1, nrow=n.rep)\n",
    "  for (i in 1:n.rep) {\n",
    "    alleles = c(rep(0,n/2), rep(1,n/2))\n",
    "    freqs[i,1] = sum(alleles==1) / length(alleles)\n",
    "    for (j in 1:n.gen) {\n",
    "      alleles = sample (alleles, length(alleles), replace=T)\n",
    "      freqs[i,j+1] = sum(alleles==1) / length(alleles)\n",
    "     }\n",
    "   }\n",
    "  assign (paste(\"freqs.n\", n, sep=\"\"), freqs)\n",
    " }\n",
    "\n",
    "summary(freqs.n10   [,n.gen+1])\n",
    "summary(freqs.n100  [,n.gen+1])\n",
    "summary(freqs.n1000 [,n.gen+1])\n",
    "summary(freqs.n10000[,n.gen+1])\n",
    "\n",
    "# === Graph allele frequency changes === #\n",
    "pdf(\"drift_plot.pdf\", paper=\"special\", height=4*2, width=4*2, onefile=F)\n",
    "  split.screen(c(2,2))\n",
    "    screen(1)\n",
    "      plot(x=0, y=0, type=\"n\", xlim=c(0,n.gen), ylim=c(0,1), xlab=\"Generation\", ylab=\"Allele frequency\", main=\"N=10\")\n",
    "        lines (c(0,n.gen), rep(0.5, 2), lty=3, col=\"#AAAAAA\")\n",
    "        freqs = get(paste(\"freqs.n\", 10   , sep=\"\"))\n",
    "        for (i in 1:n.rep) {\n",
    "          lines(0:n.gen,freqs[i,], col=\"#44AAAA\")\n",
    "         }\n",
    "    screen(2)\n",
    "      plot(x=0, y=0, type=\"n\", xlim=c(0,n.gen), ylim=c(0,1), xlab=\"Generation\", ylab=\"Allele frequency\", main=\"N=100\")\n",
    "        lines (c(0,n.gen), rep(0.5, 2), lty=3, col=\"#AAAAAA\")\n",
    "        freqs = get(paste(\"freqs.n\", 100  , sep=\"\"))\n",
    "        for (i in 1:n.rep) {\n",
    "          lines(0:n.gen,freqs[i,], col=\"#44AAAA\")\n",
    "         }\n",
    "    screen(3)\n",
    "      plot(x=0, y=0, type=\"n\", xlim=c(0,n.gen), ylim=c(0,1), xlab=\"Generation\", ylab=\"Allele frequency\", main=\"N=1000\")\n",
    "        lines (c(0,n.gen), rep(0.5, 2), lty=3, col=\"#AAAAAA\")\n",
    "        freqs = get(paste(\"freqs.n\", 1000 , sep=\"\"))\n",
    "        for (i in 1:n.rep) {\n",
    "          lines(0:n.gen,freqs[i,], col=\"#44AAAA\")\n",
    "         }\n",
    "    screen(4)\n",
    "      plot(x=0, y=0, type=\"n\", xlim=c(0,n.gen), ylim=c(0,1), xlab=\"Generation\", ylab=\"Allele frequency\", main=\"N=10000\")\n",
    "        lines (c(0,n.gen), rep(0.5, 2), lty=3, col=\"#AAAAAA\")\n",
    "        freqs = get(paste(\"freqs.n\", 10000, sep=\"\"))\n",
    "        for (i in 1:n.rep) {\n",
    "          lines(0:n.gen,freqs[i,], col=\"#44AAAA\")\n",
    "         }\n",
    "  close.screen(all.screens=T)\n",
    "dev.off()\n",
    "\n",
    "# === Graph allele frequency after 50 generations === #\n",
    "pdf(\"drift_hist.pdf\", paper=\"special\", height=4*2, width=4*2, onefile=F)\n",
    "  split.screen(c(2,2))\n",
    "    screen(1)\n",
    "      hist(freqs.n10   [,n.gen+1], main=\"N=10\", xlab=\"Allele frequency\", xlim=c(0,1))\n",
    "    screen(2)\n",
    "      hist(freqs.n100  [,n.gen+1], main=\"N=100\", xlab=\"Allele frequency\", xlim=c(0,1))\n",
    "    screen(3)\n",
    "      hist(freqs.n1000 [,n.gen+1], main=\"N=1000\", xlab=\"Allele frequency\", xlim=c(0,1))\n",
    "    screen(4)\n",
    "      hist(freqs.n10000[,n.gen+1], main=\"N=10000\", xlab=\"Allele frequency\", xlim=c(0,1))\n",
    "  close.screen(all.screens=T)\n",
    "dev.off()\n",
    "\n",
    "\n",
    "#############################################################\n",
    "###########################################################"
   ]
  },
  {
   "cell_type": "code",
   "execution_count": null,
   "id": "b4cae7ba-84bd-43ea-b4e4-f24305edd750",
   "metadata": {},
   "outputs": [],
   "source": [
    "#############################################################\n",
    "### Michael Nothnagel, michael.nothnagel@uni-koeln.de     ###\n",
    "### Calculation allele frequency changes due to selection ###\n",
    "#############################################################\n",
    "\n",
    "\n",
    "s.s   = c(0.001, 0.01, 0.1)\n",
    "h     = 0.5\n",
    "n.gen = 100\n",
    "\n",
    "# === Calculate allele frequency changes === #\n",
    "for (s in s.s) {\n",
    "  freqs = rep(NA, n.gen+1)\n",
    "  af = 0.5\n",
    "  freqs[1] = 1-af\n",
    "  for (j in 1:n.gen) {\n",
    "    omega = 1 - 2*af*(1-af)*h*s - (1-af)*(1-af)*s\n",
    "    f.het = (1-h*s)*2*af*(1-af)/omega\n",
    "    f.hom = af*af/omega\n",
    "    af = f.hom + f.het/2\n",
    "    freqs[j+1] = 1-af\n",
    "   }\n",
    "  assign (paste(\"freqs.s\", s, sep=\"\"), freqs)\n",
    " }\n",
    "\n",
    "# === Report allele frequencies after 100 generations === #\n",
    "for (s in s.s) {\n",
    "  cat(\"s=\") ;  cat(s) ;  cat(\":  \")\n",
    "  freqs = get(paste(\"freqs.s\", s, sep=\"\"))\n",
    "  cat(freqs[n.gen+1]) ;  cat(\"\\n\")\n",
    " }\n",
    "\n",
    "# === Graph allele frequency changes === #\n",
    "pdf(\"selection_plot.pdf\", paper=\"special\", height=4*2, width=4*2, onefile=F)\n",
    "  plot(x=0, y=0, type=\"n\", xlim=c(0,n.gen), ylim=c(0,1), xlab=\"Generation\", ylab=\"Allele frequency\")\n",
    "    lines (c(0,n.gen), rep(0.5, 2), lty=3, col=\"#AAAAAA\")\n",
    "    for (s in s.s) {\n",
    "      freqs = get(paste(\"freqs.s\", s, sep=\"\"))\n",
    "      lines(0:n.gen,freqs, col=\"#44AAAA\")\n",
    "     }\n",
    "dev.off()\n",
    "\n",
    "#############################################################\n",
    "#############################################################\n"
   ]
  }
 ],
 "metadata": {
  "kernelspec": {
   "display_name": "R",
   "language": "R",
   "name": "ir"
  },
  "language_info": {
   "codemirror_mode": "r",
   "file_extension": ".r",
   "mimetype": "text/x-r-source",
   "name": "R",
   "pygments_lexer": "r",
   "version": "4.3.3"
  }
 },
 "nbformat": 4,
 "nbformat_minor": 5
}
