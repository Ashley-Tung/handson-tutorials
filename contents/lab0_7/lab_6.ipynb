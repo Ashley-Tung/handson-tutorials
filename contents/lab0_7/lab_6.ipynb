{
 "cells": [
  {
   "cell_type": "markdown",
   "id": "ae3546f4",
   "metadata": {
    "kernel": "SoS"
   },
   "source": [
    "# Lab 6: TensorQTL\n",
    "\n",
    "In eQTL analysis, we test association for each gene in transcriptome against a set of variants.\n",
    "Typically, for cis-eQTL analysis, one gene could have thousands of variants to test against. \n",
    "Matrix eQTL @matrixqtl was developed to create a computationally less burdensome analysis for eQTL identification. \n",
    "Compared to other existing tools for QTL analysis, Matrix eQTL is **orders of magnitude faster** in analysis due to specific preprocessing and its use of large matrix operations for the computationally difficult aspects of the system. \n",
    "\n",
    "To compare between genes which habor different LD structures and different number of testing variants, the statistical test underlying cis-eQTL requires permutation.\n",
    "So it is computationally intensive even with matrixQTL. \n",
    "To overcome the computational burden of permutation, FastQTL @fastqtl proposed an approximate simulation scheme which is efficient for large-scale transcriptome-wide analysis, *i.e.* Geuvadis & GTEx.\n",
    "\n",
    "In the past few years, GPU has been widely adapted for many computations. \n",
    "TensorQTL @tensorqtl was recently developed which is capable of running on both CPU and GPU. \n",
    "And when GPU is enabled, it runs 100 times faster than CPU. \n",
    "Today, we will learn to use `tensorqtl` with CPU. (And to run on GPU needs only few more setup steps with the same command!)\n",
    "By the end of the lab you should be able to:\n",
    "\n",
    "- **Understand the types of files required for tensorQTL**  \n",
    "- **Interpret the results of tensorQTL**  \n"
   ]
  },
  {
   "cell_type": "markdown",
   "id": "e28f8a5b",
   "metadata": {
    "kernel": "SoS"
   },
   "source": [
    "# tensorQTL\n",
    "\n",
    "## Input files for eQTL analysis\n",
    "\n",
    "* **Phenotype**: a matrix representing gene expression levels in each individual (gene x individual)\n",
    "* **Covariate**: a matrix representing value of covariate values in each individual (covariate x individual)\n",
    "* **Genotype**: a matrix representing genotype dosage (effect allele) for each variant and individual (in plink format)\n",
    "\n",
    "Note that we need to know the genomic position of the gene (say the position of transcription start site, TSS) since we test cis-eQTL for nearby variants only. The example data for this lab is at `lab6`:"
   ]
  },
  {
   "cell_type": "markdown",
   "id": "fd335a8b",
   "metadata": {
    "kernel": "Markdown"
   },
   "source": [
    "## Input files description"
   ]
  },
  {
   "cell_type": "markdown",
   "id": "6f0073e9",
   "metadata": {
    "kernel": "SoS"
   },
   "source": [
    "* **Phenotype**: `GEUVADIS.chr22.expression.bed.gz`\n",
    "* **Covariate**: `GEUVADIS.445_samples.covariates.txt`\n",
    "* **Genotype**: `GEUVADIS.hg38.chr22.*`\n",
    "\n",
    "*Problem 1*\n",
    "\n",
    "How many covariates are in the example data?\n",
    "\n",
    "## Compute nominal p-value in cis-eQTL analysis\n",
    "\n",
    "Nominal p-value is the observed p-value under linear model $\\tilde{Y} \\sim X$, where $\\tilde{Y}$ is residual expression level after regressing out covariates and $X$ is the genotype dosage of a variant of interest.\n",
    "\n",
    "Let's compute nomimal p-value for all cis-eQTL candidates. \n",
    "Here we define cis-window as 10kb surrounding TSS (both sides)."
   ]
  },
  {
   "cell_type": "code",
   "execution_count": 1,
   "id": "fc959f59",
   "metadata": {
    "attributes": {
     "classes": [],
     "eval": "FALSE",
     "id": ""
    },
    "kernel": "Bash",
    "scrolled": true
   },
   "outputs": [
    {
     "name": "stdout",
     "output_type": "stream",
     "text": [
      "[Jun 24 19:08:37] Running TensorQTL: cis-QTL mapping\n",
      "  * WARNING: using CPU!\n",
      "  * reading phenotypes (data/GEUVADIS.chr22.expression.bed.gz)\n",
      "  * cis-window detected as position ± 10,000\n",
      "  * reading covariates (data/GEUVADIS.445_samples.covariates.txt)\n",
      "  * loading genotypes\n",
      "Mapping files:   0%|                                      | 0/3 [00:00<?, ?it/s]/home/wangchao/miniconda3/envs/cumc_statgen/lib/python3.12/site-packages/tensorqtl/genotypeio.py:147: FutureWarning: The 'delim_whitespace' keyword in pd.read_csv is deprecated and will be removed in a future version. Use ``sep='\\s+'`` instead\n",
      "  self.bim, self.fam, self.bed = read_plink(plink_prefix_path, verbose=verbose)\n",
      "Mapping files:  33%|██████████                    | 1/3 [00:00<00:00,  5.17it/s]/home/wangchao/miniconda3/envs/cumc_statgen/lib/python3.12/site-packages/tensorqtl/genotypeio.py:147: FutureWarning: The 'delim_whitespace' keyword in pd.read_csv is deprecated and will be removed in a future version. Use ``sep='\\s+'`` instead\n",
      "  self.bim, self.fam, self.bed = read_plink(plink_prefix_path, verbose=verbose)\n",
      "Mapping files: 100%|██████████████████████████████| 3/3 [00:00<00:00, 12.24it/s]\n",
      "cis-QTL mapping: nominal associations for all variant-phenotype pairs\n",
      "  * 445 samples\n",
      "  * 555 phenotypes\n",
      "  * 26 covariates\n",
      "  * 182851 variants\n",
      "  * cis-window: ±10,000\n",
      "  * checking phenotypes: 555/555\n",
      "  * Computing associations\n",
      "    Mapping chromosome chr22\n",
      "    processing phenotype 57/555Traceback (most recent call last):\n",
      "  File \"/home/wangchao/miniconda3/envs/cumc_statgen/bin/tensorqtl\", line 6, in <module>\n",
      "    from tensorqtl import __main__\n",
      "  File \"/home/wangchao/miniconda3/envs/cumc_statgen/lib/python3.12/site-packages/tensorqtl/__main__.py\", line 2, in <module>\n",
      "    tensorqtl.main()\n",
      "  File \"/home/wangchao/miniconda3/envs/cumc_statgen/lib/python3.12/site-packages/tensorqtl/tensorqtl.py\", line 146, in main\n",
      "    cis.map_nominal(genotype_df, variant_df, phenotype_df, phenotype_pos_df, args.prefix, covariates_df=covariates_df,\n",
      "  File \"/home/wangchao/miniconda3/envs/cumc_statgen/lib/python3.12/site-packages/tensorqtl/cis.py\", line 285, in map_nominal\n",
      "    res = calculate_cis_nominal(genotypes_t, phenotype_t, residualizer=iresidualizer)\n",
      "          ^^^^^^^^^^^^^^^^^^^^^^^^^^^^^^^^^^^^^^^^^^^^^^^^^^^^^^^^^^^^^^^^^^^^^^^^^^^\n",
      "  File \"/home/wangchao/miniconda3/envs/cumc_statgen/lib/python3.12/site-packages/tensorqtl/cis.py\", line 24, in calculate_cis_nominal\n",
      "    r_nominal_t, genotype_var_t, phenotype_var_t = calculate_corr(genotypes_t, p, residualizer=residualizer, return_var=True)\n",
      "                                                   ^^^^^^^^^^^^^^^^^^^^^^^^^^^^^^^^^^^^^^^^^^^^^^^^^^^^^^^^^^^^^^^^^^^^^^^^^^\n",
      "  File \"/home/wangchao/miniconda3/envs/cumc_statgen/lib/python3.12/site-packages/tensorqtl/core.py\", line 134, in calculate_corr\n",
      "    genotype_res_t = residualizer.transform(genotype_t)  # variants x samples\n",
      "                     ^^^^^^^^^^^^^^^^^^^^^^^^^^^^^^^^^^\n",
      "  File \"/home/wangchao/miniconda3/envs/cumc_statgen/lib/python3.12/site-packages/tensorqtl/core.py\", line 60, in transform\n",
      "    M0_t = M0_t - torch.mm(torch.mm(M0_t, self.Q_t), self.Q_t.t())\n",
      "                           ^^^^^^^^^^^^^^^^^^^^^^^^\n",
      "  File \"/home/wangchao/miniconda3/envs/cumc_statgen/lib/python3.12/site-packages/rpy2/rinterface.py\", line 94, in _sigint_handler\n",
      "    raise KeyboardInterrupt()\n",
      "KeyboardInterrupt\n",
      "\n"
     ]
    }
   ],
   "source": [
    "mkdir -p output\n",
    "conda activate cumc_statgen\n",
    "tensorqtl \\\n",
    "  --covariates data/GEUVADIS.445_samples.covariates.txt \\\n",
    "  --window 10000 \\\n",
    "  --mode cis_nominal \\\n",
    "  data/GEUVADIS.hg38.chr22 \\\n",
    "  data/GEUVADIS.chr22.expression.bed.gz \\\n",
    "  output/cis_nominal\n"
   ]
  },
  {
   "cell_type": "markdown",
   "id": "709374c1",
   "metadata": {
    "kernel": "SoS"
   },
   "source": [
    "*Problem 2*\n",
    "\n",
    "From the logging message of tensorqtl run, how many genes are being analyzed? \n",
    "\n",
    "The output contains all variant/gene pairs being test regardless of significance. \n",
    "So, it will be huge amount of data in practice. \n",
    "The output file is in `parquet` format, which is a binary format but it gives better I/O performance as comparing to human-readable text file. \n",
    "We've provided a tiny python script to convert `parquet` file to text table in `txt.gz`."
   ]
  },
  {
   "cell_type": "code",
   "execution_count": 2,
   "id": "61c1c621",
   "metadata": {
    "attributes": {
     "classes": [],
     "eval": "FALSE",
     "id": ""
    },
    "kernel": "Bash"
   },
   "outputs": [
    {
     "name": "stdout",
     "output_type": "stream",
     "text": [
      "bash: parquet2table.py: command not found...\n"
     ]
    },
    {
     "ename": "",
     "evalue": "127",
     "output_type": "error",
     "traceback": []
    }
   ],
   "source": [
    "parquet2table.py \\\n",
    "  --parquet output/cis_nominal.cis_qtl_pairs.chr22.parquet \\\n",
    "  --output  data/lab6/output/cis_nominal.cis_qtl_pairs.chr22.txt.gz  # 这个脚本是作者自己撰写的脚本"
   ]
  },
  {
   "cell_type": "markdown",
   "id": "e3998f73",
   "metadata": {
    "kernel": "SoS"
   },
   "source": [
    "*Problem 3*\n",
    "\n",
    "How many variant/gene pairs are being tested and reported?\n",
    "\n",
    "*Problem 4*\n",
    "\n",
    "Which genes has the strongest association?\n",
    "\n",
    "\n",
    "## Perform cis-eQTL analysis with adaptive permutation\n",
    "\n",
    "If we'd like to identify eGene (gene that is significantly regulated by genetic variation), like we've mentioned above, we need to perform permutation to obtain gene-level p-value. \n",
    "Here is how it can be done using `tensorqtl`."
   ]
  },
  {
   "cell_type": "code",
   "execution_count": null,
   "id": "b13dca1a",
   "metadata": {
    "kernel": "Bash"
   },
   "outputs": [],
   "source": [
    "\n",
    "# R -e 'if (!requireNamespace(\"BiocManager\", quietly = TRUE)) install.packages(\"BiocManager\"); BiocManager::install(c(\"qvalue\", \"beachmat\", \"curl\", \"data.table\", \"dqrng\", \"ebnm\", \"GBJ\", \"ieugwasr\", \"lava\", \"mashr\", \"MendelianRandomization\", \"pgenlibr\", \"RcppParallel\", \"S4Arrays\", \"SparseArray\", \"zlibbioc\"), force = TRUE)'\n"
   ]
  },
  {
   "cell_type": "code",
   "execution_count": null,
   "id": "e1a19389",
   "metadata": {
    "attributes": {
     "classes": [],
     "eval": "FALSE",
     "id": ""
    },
    "kernel": "Bash",
    "scrolled": true
   },
   "outputs": [
    {
     "name": "stdout",
     "output_type": "stream",
     "text": [
      "[Jun 24 19:10:06] Running TensorQTL: cis-QTL mapping\n",
      "  * WARNING: using CPU!\n",
      "  * reading phenotypes (data/GEUVADIS.chr22.expression.bed.gz)\n",
      "  * cis-window detected as position ± 10,000\n",
      "  * reading covariates (data/GEUVADIS.445_samples.covariates.txt)\n",
      "  * loading genotypes\n",
      "Mapping files:   0%|                                      | 0/3 [00:00<?, ?it/s]/home/wangchao/miniconda3/envs/cumc_statgen/lib/python3.12/site-packages/tensorqtl/genotypeio.py:147: FutureWarning: The 'delim_whitespace' keyword in pd.read_csv is deprecated and will be removed in a future version. Use ``sep='\\s+'`` instead\n",
      "  self.bim, self.fam, self.bed = read_plink(plink_prefix_path, verbose=verbose)\n",
      "Mapping files:  33%|██████████                    | 1/3 [00:00<00:00,  5.20it/s]/home/wangchao/miniconda3/envs/cumc_statgen/lib/python3.12/site-packages/tensorqtl/genotypeio.py:147: FutureWarning: The 'delim_whitespace' keyword in pd.read_csv is deprecated and will be removed in a future version. Use ``sep='\\s+'`` instead\n",
      "  self.bim, self.fam, self.bed = read_plink(plink_prefix_path, verbose=verbose)\n",
      "Mapping files: 100%|██████████████████████████████| 3/3 [00:00<00:00, 12.42it/s]\n",
      "cis-QTL mapping: empirical p-values for phenotypes\n",
      "  * 445 samples\n",
      "  * 555 phenotypes\n",
      "  * 26 covariates\n",
      "  * 182851 variants\n",
      "  * cis-window: ±10,000\n",
      "  * checking phenotypes: 555/555\n",
      "  * computing permutations\n",
      "    processing phenotype 33/555\r"
     ]
    }
   ],
   "source": [
    "#cd lab6\n",
    "tensorqtl \\\n",
    "  --covariates data/GEUVADIS.445_samples.covariates.txt \\\n",
    "  --window 10000 \\\n",
    "  --mode cis \\\n",
    "  data/GEUVADIS.hg38.chr22 \\\n",
    "  data/GEUVADIS.chr22.expression.bed.gz \\\n",
    "  output/cis"
   ]
  },
  {
   "cell_type": "markdown",
   "id": "1dd2fcbd",
   "metadata": {
    "kernel": "SoS"
   },
   "source": [
    "The output is the gene-level statistics obtained from adaptive permutation where each row is for one gene (in txt.gz format).\n",
    "To obtain eGene as FDR 10%, we can collect all genes with `qval` smaller than 0.1. \n",
    "To obtain cis-eQTL for these eGenes, we can collect all variant/gene pairs with `pval_nominal` (reported in `cis_nominal` run) smaller than `pval_nominal_threshold`.\n",
    "\n",
    "*Problem 5*\n",
    "\n",
    "Which gene has the most significant q-value?\n",
    "\n",
    "Note, it is possible your own cis output file might lack the q-value column (column 18, called \"qval\") and pval_nominal_threshold information, if this is the case, simply use the pre-computed `pre_run.cis_qtl.txt` in the data folder.\n",
    "\n",
    "*Problem 6*\n",
    "\n",
    "Select a gene with q-value < 0.05, visualize its cis-eQTL results by plotting $-\\log(p)$\n",
    "on y-axis and distance to TSS on x-axis. And put a horizontal line indicating the corresponding `pval_nominal_threshold` of the gene.\n",
    "\n",
    "\n",
    "**References**:\n",
    "\n",
    "Ongen, Halit, Alfonso Buil, Andrew Anand Brown, Emmanouil T Dermitzakis, and Olivier Delaneau. 2016. “Fast and Efficient Qtl Mapper for Thousands of Molecular Phenotypes.” Bioinformatics 32 (10). Oxford University Press: 1479–85.\n",
    "\n",
    "Shabalin, Andrey A. 2012. “Matrix eQTL: Ultra Fast eQTL Analysis via Large Matrix Operations.” Bioinformatics 28 (10). Oxford University Press: 1353–8.\n",
    "\n",
    "Taylor-Weiner, Amaro, François Aguet, Nicholas J Haradhvala, Sager Gosai, Shankara Anand, Jaegil Kim, Kristin Ardlie, Eliezer M Van Allen, and Gad Getz. 2019. “Scaling Computational Genomics to Millions of Individuals with Gpus.” Genome Biology 20 (1). BioMed Central: 1–5."
   ]
  }
 ],
 "metadata": {
  "kernelspec": {
   "display_name": "SoS",
   "language": "sos",
   "name": "sos"
  },
  "language_info": {
   "codemirror_mode": "sos",
   "file_extension": ".sos",
   "mimetype": "text/x-sos",
   "name": "sos",
   "nbconvert_exporter": "sos_notebook.converter.SoS_Exporter",
   "pygments_lexer": "sos"
  },
  "sos": {
   "kernels": [
    [
     "Bash",
     "calysto_bash",
     "Bash",
     "#E6EEFF",
     "shell"
    ],
    [
     "SoS",
     "sos",
     "",
     "",
     "sos"
    ]
   ],
   "panel": {
    "displayed": true,
    "height": 0
   },
   "version": "0.23.4"
  },
  "varInspector": {
   "cols": {
    "lenName": 16,
    "lenType": 16,
    "lenVar": 40
   },
   "kernels_config": {
    "python": {
     "delete_cmd_postfix": "",
     "delete_cmd_prefix": "del ",
     "library": "var_list.py",
     "varRefreshCmd": "print(var_dic_list())"
    },
    "r": {
     "delete_cmd_postfix": ") ",
     "delete_cmd_prefix": "rm(",
     "library": "var_list.r",
     "varRefreshCmd": "cat(var_dic_list()) "
    }
   },
   "types_to_exclude": [
    "module",
    "function",
    "builtin_function_or_method",
    "instance",
    "_Feature"
   ],
   "window_display": false
  }
 },
 "nbformat": 4,
 "nbformat_minor": 5
}
