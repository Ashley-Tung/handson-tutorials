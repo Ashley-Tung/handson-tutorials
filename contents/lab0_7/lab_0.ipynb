{
 "cells": [
  {
   "cell_type": "markdown",
   "id": "007879ee",
   "metadata": {
    "kernel": "SoS"
   },
   "source": [
    "# Lab 0: Introduction to Statistical Computing Languages\n",
    "\n",
    "\n",
    "## Introduction\n",
    "\n",
    "This class is designed to introduce a variety of concepts, methods, and tools utilized in statistical genetics. \n",
    "The majority of tools used to employ these methods and concepts require knowledge of computing languages, specifically Unix and R.\n",
    "Some of you may be familiar with many of these concepts. If so, please stay behind to help you classmates. You will get participation credit :) \n",
    "\n",
    "In today's lab, we will cover the basic syntax of these languages and some basic commands necessary for operating statistical genetics programs. Here are some additional resources for your reference - \n",
    "\n",
    "Unix: \\\n",
    "http://www.ee.surrey.ac.uk/Teaching/Unix/ \\\n",
    "https://programminghistorian.org/en/lessons/intro-to-bash \\\n",
    "\n",
    "R: \\\n",
    "https://datasciencebook.ca/ \\\n",
    "http://rafalab.dfci.harvard.edu/dsbook/ \\\n",
    "https://r4ds.hadley.nz/ \\\n",
    "\n",
    "By the end of this lab, you should understand how to perform the following: \n",
    "\n",
    "- **Navigate in R and Unix**\n",
    "- **Download and install software packages in Unix**\n",
    "- **Write looped bash commands to run in Unix**\n",
    "- **Manipulate large text files in Unix**\n",
    "- **Import data files into R**\n",
    "- **Manipulate and visualize files in R**\n",
    "\n"
   ]
  },
  {
   "cell_type": "markdown",
   "id": "b0fbfc50",
   "metadata": {
    "kernel": "SoS"
   },
   "source": [
    "# Commonly used commands in Unix\n",
    "\n",
    "## List of Basic Commands\n",
    "\n",
    "Command       |       Description\n",
    "-----------   |   ---------------------------------------------------------\n",
    "**pwd**       |   Print working directory (tells you where you are)\n",
    "**cd**        |   Change directory\n",
    "**mkdir**     |   Make directory\n",
    "**ls**        |   List information about files\n",
    "**mv**        |   Moves or renames files or directories\n",
    "**rm**        |   Deletes files (can remove directories with -rf)\n",
    "**cp**        |   Copy a file to a new location (can copy directories with -r)\n",
    "**scp**       |   Secure copy a file (for transferring files between a remote server and local system)\n",
    "**cat**       |   Concatenate and print the content of files to screen\n",
    "**sed**       |   Stream editor (for searching, finding, and replacing text)\n",
    "**\"pipe\"**    |   Uses the output of one command as the input for another\n",
    "**>**         |   Writes output into file (must enter file name after, will overwrite)\n",
    "**>>**        |   Writes output into file (must enter file name, will append, not overwrite)\n",
    "**curl**      |   Transfer a URL (downloads something from the Internet)\n",
    "**wget**      |   Transfer a URL (downloads something from the Internet)\n",
    "**tar**       |   Creates tape archives and adds or extracts files\n",
    "**ssh**       |   Remote log-in command (Secure Shell client)\n",
    "**emacs**     |   Opens emacs text editor\n",
    "**vim**       |   Opens vim text editor\n",
    "**nano**      |   Opens nano text editor\n",
    "**man**       |   Access manual for any command (exit = q)\n",
    "**top**       |   Observe computer's tasks\n",
    "**sort**      |   Sorts a file (extensive options to direct this command)\n",
    "**head**      |   Look at the first ten lines of file (useful for large files)\n",
    "**tail**      |   Look at the last ten lines of file (useful for large files)\n",
    "**./**        |   Existing directory (not a command)\n",
    "**../**       |   Directory contaiing existing directory (not a command)\n",
    "**grep**      |   Prints lines matching a pattern (helpful for manipulating large files)\n",
    "\n",
    "SLURM specifics       |       Description\n",
    "-------------------   |   ---------------------------------------------------------\n",
    "**sbatch**            |   Submits a job to the server \n",
    "**sinterative**       |   Submits an interactive job to the server (Our labs will use it a lot)\n",
    "**squeue**            |   Status of a job you've submitted to the server\n",
    "\n",
    "SLURM is the job scheduler for Midway server. Check out the Midway User Guide for more information: https://rcc.uchicago.edu/docs/using-midway/index.html. We won't get on Midway for today's lab.\n",
    "\n",
    "### Tab-Completion\n",
    "\n",
    "Tab completion is helpful for both speed and accuracy. The following exercise will demonstrate this:\n",
    "\n",
    "- 1) **Make a directory with a really long name.**\n",
    "- 2) **Start typing the name of the directory.**\n",
    "- 3) **Hit tab.** The directory should complete itself.\n",
    "- 4) **Move back into the previous directory.**\n",
    "- 5) **Start typing the name of the directory, intentionally introducing an error.**\n",
    "- 6) **Hit tab.** Notice nothing happens, this indicates you've made an error.\n",
    "- 7) **Remove this directory using tab completion.** DO NOT use rm -r unless you are 100% confident with what you are doing."
   ]
  },
  {
   "cell_type": "code",
   "execution_count": null,
   "id": "b790dc80",
   "metadata": {
    "attributes": {
     "classes": [],
     "eval": "FALSE",
     "id": ""
    },
    "kernel": "SoS"
   },
   "outputs": [],
   "source": [
    "mkdir never_create_a_directory_like_this/                       ##Step 1\n",
    "cd never_                                                       ##Step 2\n",
    "[tab, then enter]                                               ##Step 3\n",
    "cd ..                                                           ##Step 4\n",
    "cd nver_                                                        ##Step 5\n",
    "[tab]                                                           ##Step 6\n",
    "rm -r never_[tab, then enter]                                   ##Step 7"
   ]
  },
  {
   "cell_type": "markdown",
   "id": "20f49fc5",
   "metadata": {
    "kernel": "SoS"
   },
   "source": [
    "## Downloading and unpacking files and programs\n",
    "\n",
    "Frequently, you may need files or programs that are not already installed on your computer or server. Often these files are compressed, and often these files are in 'tarballs', which have the extension .tgz. IMPUTE2 is a program we'll use later in the quarter, so let's download and unpack it:\n",
    "\n",
    "- 1) **Download the IMPUTE2 tarball from the internet**. Here we download the tarball and write it into the *impute2.tgz* file\n",
    "- 2) **Unpack the tarball**."
   ]
  },
  {
   "cell_type": "code",
   "execution_count": null,
   "id": "0ae66895",
   "metadata": {
    "attributes": {
     "classes": [],
     "eval": "FALSE",
     "id": ""
    },
    "kernel": "Bash"
   },
   "outputs": [],
   "source": [
    "##Step 1\n",
    "curl https://mathgen.stats.ox.ac.uk/impute/impute_v2.3.2_x86_64_static.tgz > impute2.tgz     \n",
    "\n",
    "##Step 2\n",
    "tar -zxvf impute2.tgz                                                                                 "
   ]
  },
  {
   "cell_type": "markdown",
   "id": "90a5de59",
   "metadata": {
    "kernel": "SoS"
   },
   "source": [
    "Once a program is unpacked, generally there is a README file that you can open with a text editor command (emacs/nano/vim/etc.), however, every program is different, and reading the manual is the only sure way to install the program correctly.\n",
    "\n",
    "## Manipulating text files\n",
    "\n",
    "Often you may have a large text file that you want to manipulate in some way. Using a variety of commands in combination is usually the most effective way to do this, and the \"pipe\" command allows for a more condense syntax where you use the output of one command as the input for the next.\n",
    "\n",
    "As a quick example, we will use a file from the IMPUTE2 directory. Specifically, the mapping file provides a fine-scale recombination map with three columns: (1) physical position (in base pairs), (2) recombination rate between current position and next position in map (in cM/Mb), (3) and genetic map position (in cM). Since you may be interested in the physical positions with the greatest recombination rates, we can easily get a list of the top ten using the following:\n",
    "\n",
    "- 1) **Change to the Example directory.**\n",
    "- 2) **Manipulate the mapping file to create top ten list.** We will name this *\"top_ten.map\"*.\n",
    "- 3) **Rename the file.**  *\"top_ten.map\"* is not as informative as *\"top_ten_recomb.map\"*."
   ]
  },
  {
   "cell_type": "code",
   "execution_count": null,
   "id": "2e664952",
   "metadata": {
    "attributes": {
     "classes": [],
     "eval": "FALSE",
     "id": ""
    },
    "kernel": "Bash"
   },
   "outputs": [],
   "source": [
    "cd impute_v2.3.2_x86_64_static/Example/                       ##Step 1\n",
    "cat example.chr22.map | sort -k2nr | head > top_ten.map       ##Step 2\n",
    "mv top_ten.map top_ten_recomb.map                             ##Step 3"
   ]
  },
  {
   "cell_type": "markdown",
   "id": "0d9660d1",
   "metadata": {
    "kernel": "SoS"
   },
   "source": [
    "## Writing bash scripts\n",
    "\n",
    "Having the capability to write bash scripts which can be run in the Unix environment is critical, especially for running replicates or collating results from a command-line program. We will write a bash script using the vim text editor, and then run it. Alternatively, feel free to use your own text editor (emacs, textwrangler, etc.) to write the script below. Please start with the following: \n",
    "\n",
    "- 1) **Create a new script file** We will name ours test.sh\n",
    "- 2) **Add path to bash interpreter at the top of the file**\n",
    "- 3) **Write a for-loop to append 5 numbers under top_ten_recomb.map**\n",
    "- 4) **Save and exit**\n",
    "- 5) **Run script**"
   ]
  },
  {
   "cell_type": "code",
   "execution_count": null,
   "id": "6c8f3064",
   "metadata": {
    "attributes": {
     "classes": [],
     "eval": "FALSE",
     "id": ""
    },
    "kernel": "Bash"
   },
   "outputs": [],
   "source": [
    "vim test.sh                                                       ##Step 1  \n",
    "\n",
    "[now in vim, type \"i\" to allow you to insert text]  \n",
    "\n",
    "#!/bin/bash                                                       ##Step 2\n",
    "\n",
    "for j in {1..5}                                                   ##Step 3\n",
    "do                                                                ##Step 3\n",
    "    echo $j >> top_ten_recomb.map                                 ##Step 3\n",
    "done                                                              ##Step 3\n",
    "\n",
    "                                                                  ##Step 4\n",
    "[exit vim by first pressing \"Esc\" and then \":wq\" to save and quit (use :q! to quit without saving any changes you made)]\n",
    "\n",
    "bash test.sh                                                      ##Step 5"
   ]
  },
  {
   "cell_type": "markdown",
   "id": "feb1cd06",
   "metadata": {
    "kernel": "SoS"
   },
   "source": [
    "# Basic commands in R\n",
    "\n",
    "R is used widely for scientific computing, however, the syntax is notably different than Unix. Specifically, two of the most visible differences are that variables are usually assigned with the assignment operator (<-) operator, although you can use the equal to (=) also, and functions are applied using parentheses. While R can be accessed and R scripts can be run within the Unix environment, it is often preferable to operate R within the graphical user interface (GUI) known as RStudio. Unlike many poorly made GUIs that offer little advantage to a Unix environment, RStudio offers many organizational and functional benefits.\n",
    "\n",
    "## Paths in R\n",
    "Paths are very important; they tell the computer where to look for files or folders. Usually, we will have to tell the computer where to look for files. We do this by giving it a path. Paths can be relative or absolute:\n",
    "\n",
    "- relative paths go from where your script is located i.e. the current directory, and from there finds its way to other locations.\n",
    "- absolute paths go from the root directory of the computer to other locations. \n",
    "\n",
    "For reproducibility, especially when sharing scripts with friends or collaborators, relative paths are preferred. \n",
    "\n",
    "In R, you can check your current working directory (to figure out where you are) by doing"
   ]
  },
  {
   "cell_type": "code",
   "execution_count": null,
   "id": "5dd529b0",
   "metadata": {
    "attributes": {
     "classes": [],
     "eval": "FALSE",
     "id": ""
    },
    "kernel": "Bash"
   },
   "outputs": [],
   "source": [
    "getwd()"
   ]
  },
  {
   "cell_type": "markdown",
   "id": "a10fe065",
   "metadata": {
    "kernel": "SoS"
   },
   "source": [
    "Then you can set or change your location"
   ]
  },
  {
   "cell_type": "code",
   "execution_count": null,
   "id": "31c3afd5",
   "metadata": {
    "attributes": {
     "classes": [],
     "eval": "FALSE",
     "id": ""
    },
    "kernel": "Bash"
   },
   "outputs": [],
   "source": [
    "# you should change this\n",
    "setwd('/Users/temidayoadeluwa/Dropbox/phd_journey/Year-three/HGEN471-class')"
   ]
  },
  {
   "cell_type": "markdown",
   "id": "703a3d8e",
   "metadata": {
    "kernel": "SoS"
   },
   "source": [
    "Alternatively, you can define a variable that you will consistently use as a path."
   ]
  },
  {
   "cell_type": "code",
   "execution_count": null,
   "id": "067b4a6c",
   "metadata": {
    "attributes": {
     "classes": [],
     "eval": "FALSE",
     "id": ""
    },
    "kernel": "Bash"
   },
   "outputs": [],
   "source": [
    "myWorkingFolder <- '/Users/temidayoadeluwa/Dropbox/phd_journey/Year-three/HGEN471-class'"
   ]
  },
  {
   "cell_type": "markdown",
   "id": "3de94c79",
   "metadata": {
    "kernel": "SoS"
   },
   "source": [
    "Then you can use this to navigate to different locations relatively e.g."
   ]
  },
  {
   "cell_type": "code",
   "execution_count": null,
   "id": "ce6870ff",
   "metadata": {
    "attributes": {
     "": "",
     "classes": [],
     "id": ""
    },
    "kernel": "Bash"
   },
   "outputs": [],
   "source": [
    "file.path(myWorkingFolder, 'data', 'lab_0')"
   ]
  },
  {
   "cell_type": "markdown",
   "id": "ccdd6b15",
   "metadata": {
    "kernel": "SoS"
   },
   "source": [
    "The idea here is that we construct the string to the path such that every argument is a directory until the last one, which may be a file, or directory.\n",
    "\n",
    "## Pipes in R\n",
    "Let us assume want to migrate to a folder, and count the number of files in the folder. In R, you would do something such as"
   ]
  },
  {
   "cell_type": "code",
   "execution_count": null,
   "id": "782d704b",
   "metadata": {
    "kernel": "SoS"
   },
   "outputs": [],
   "source": [
    "\n",
    "Run this to see what it returns.\n",
    "```{r, eval=FALSE}\n",
    "length(list.files(file.path(myWorkingFolder, 'data', 'lab_0')))"
   ]
  },
  {
   "cell_type": "markdown",
   "id": "c4a0da16",
   "metadata": {
    "kernel": "SoS"
   },
   "source": [
    "If you intend to do many more complex processes, you may lose sight of what parameters or parenthesis go where. In this case, you may pipe the output of one function into the next by using the native R's `|>`."
   ]
  },
  {
   "cell_type": "code",
   "execution_count": null,
   "id": "32359c37",
   "metadata": {
    "attributes": {
     "classes": [],
     "eval": "FALSE",
     "id": ""
    },
    "kernel": "SoS"
   },
   "outputs": [],
   "source": [
    "file.path(myWorkingFolder, 'data', 'lab_0') |> list.files() |> length()"
   ]
  },
  {
   "cell_type": "markdown",
   "id": "f48bec08",
   "metadata": {
    "kernel": "SoS"
   },
   "source": [
    "There is another more sophisticated pipe, the {magrittr} pipe `%>%`, which is much better and easier to use. This is [a great blog to read](https://ivelasq.rbind.io/blog/understanding-the-r-pipe/) on the pipe operators in general.\n",
    "\n",
    "## Reading in data files\n",
    "\n",
    "Although data can be simulated, generated, and analyzed all within R, often we may want to visualize or analyze data from some other source. We can learn R syntax by learning how to import new data.\n",
    "\n",
    "There are a number of packages and functions that help with reading data in R including `utils::read.csv`, `utils::read.table`, `data.table::fread`, e.t.c.\n",
    "\n",
    "The functions from utils are fine for small files. When the size of a file gets big, some packages such as data.table offer more sophisticated functions that can read the data very fast."
   ]
  },
  {
   "cell_type": "code",
   "execution_count": null,
   "id": "62b521cb",
   "metadata": {
    "attributes": {
     "classes": [],
     "eval": "FALSE",
     "id": ""
    },
    "kernel": "SoS"
   },
   "outputs": [],
   "source": [
    "# remember that we need to tell R where to look for the data\n",
    "new_data <- read.table(file.path(myWorkingFolder, 'data', 'lab_0_r_data.txt'), header = T)"
   ]
  },
  {
   "cell_type": "markdown",
   "id": "adc0c5d0",
   "metadata": {
    "kernel": "SoS"
   },
   "source": [
    "As a side note, when importing large genetic dataset into R, we rarely use read.table (too slow!). Instead, we use fread from data.table library. We will also time the different code blocks."
   ]
  },
  {
   "cell_type": "code",
   "execution_count": null,
   "id": "2fb98e3a",
   "metadata": {
    "attributes": {
     "classes": [],
     "eval": "FALSE",
     "id": ""
    },
    "kernel": "R"
   },
   "outputs": [],
   "source": [
    "# install.packages(c(\"data.table\", \"R.utils\"))\n",
    "library(data.table)"
   ]
  },
  {
   "cell_type": "markdown",
   "id": "6401f736",
   "metadata": {
    "kernel": "SoS"
   },
   "source": [
    "- using utils::read.table"
   ]
  },
  {
   "cell_type": "code",
   "execution_count": null,
   "id": "0f18818d",
   "metadata": {
    "attributes": {
     "classes": [],
     "eval": "FALSE",
     "id": ""
    },
    "kernel": "R"
   },
   "outputs": [],
   "source": [
    "start_time <- Sys.time()\n",
    "temp <- read.table(file.path(myWorkingFolder, 'data', 'gwas_chr1_chr2.txt.gz'), header = T)\n",
    "end_time <- Sys.time()\n",
    "rm(temp)\n",
    "gc()\n",
    "\n",
    "end_time - start_time"
   ]
  },
  {
   "cell_type": "markdown",
   "id": "e9823660",
   "metadata": {
    "kernel": "SoS"
   },
   "source": [
    "- using data.table::fread"
   ]
  },
  {
   "cell_type": "code",
   "execution_count": null,
   "id": "3b6b50b3",
   "metadata": {
    "attributes": {
     "classes": [],
     "eval": "FALSE",
     "id": ""
    },
    "kernel": "R"
   },
   "outputs": [],
   "source": [
    "start_time <- Sys.time()\n",
    "temp <- fread(file.path(myWorkingFolder, 'data', 'gwas_chr1_chr2.txt.gz'), header = T)\n",
    "end_time <- Sys.time()\n",
    "rm(temp)\n",
    "gc()\n",
    "\n",
    "end_time - start_time"
   ]
  },
  {
   "cell_type": "markdown",
   "id": "5532859b",
   "metadata": {
    "kernel": "SoS"
   },
   "source": [
    "## Exploring objects, functions, and packages"
   ]
  },
  {
   "cell_type": "code",
   "execution_count": null,
   "id": "a1885730",
   "metadata": {
    "attributes": {
     "classes": [],
     "eval": "FALSE",
     "id": ""
    },
    "kernel": "R"
   },
   "outputs": [],
   "source": [
    "dim(new_data)"
   ]
  },
  {
   "cell_type": "code",
   "execution_count": null,
   "id": "dab8ee17",
   "metadata": {
    "attributes": {
     "classes": [],
     "eval": "FALSE",
     "id": ""
    },
    "kernel": "R"
   },
   "outputs": [],
   "source": [
    "class(new_data)"
   ]
  },
  {
   "cell_type": "markdown",
   "id": "355deb85",
   "metadata": {
    "kernel": "SoS"
   },
   "source": [
    "Here we can see that the dimensions of new_data are 16 rows and 2 columns, and that it is in data frame format. This is important to know since different functions apply differently to different classes, which may cause errors. While dim and class can be used to explore objects, you may want to explore these functions themselves. This is done by this simple syntax:"
   ]
  },
  {
   "cell_type": "code",
   "execution_count": null,
   "id": "67f7d894",
   "metadata": {
    "attributes": {
     "classes": [],
     "eval": "FALSE",
     "id": ""
    },
    "kernel": "R"
   },
   "outputs": [],
   "source": [
    "?dim\n",
    "?class"
   ]
  },
  {
   "cell_type": "markdown",
   "id": "69cde9a0",
   "metadata": {
    "kernel": "SoS"
   },
   "source": [
    "Notice that both dim and class are relatively simple functions with few arguments, so you probably won't have to read the documentation much for either function. As you start invoking more complicated functions (which is inevitable in statistical genetics research), you will spend a lot of time reading the documentation.\n",
    "\n",
    "## List of basic classes and functions\n",
    "\n",
    "Class          |       Description\n",
    "-----------    |   ---------------------------------------------------------\n",
    "**numeric**    |   Object is numeric (interger or double)\n",
    "**integer**    |   Object is integer (not double)\n",
    "**double**     |   Object is double\n",
    "**character**  |   Object is not numeric, composed of characters\n",
    "**vector**     |   One-dimensional, can contain numeric or characters\n",
    "**matrix**     |   Two-dimensional, can contain numeric or characters\n",
    "**array**      |   Multi-dimensional, can contain numeric or characters\n",
    "**data frame** |   A list of vectors of equal lenght, each vector contains same class\n",
    "**list**       |   A list of various generic vectors\n",
    "\n",
    "Functions are how you execute your commands and write your scripts. It is critical to ensure the arguments are of the correct class (read documentation), as most user-errors originate from providing data in the inappropriate class or dimension. \n",
    "\n",
    "Function                |       Description\n",
    "-----------             |   ---------------------------------------------------------\n",
    "**c(1,2,3)**            |   Concatenate *numbers* into a vector\n",
    "**c(1:10**              |   Concatenate from *number* 1 to *number* 10 in a vector\n",
    "**c(\"a\",\"b\",\"c\")**      |   Concatenate *characters* into a vector\n",
    "**cbind(x,y,z)**        |   Binds *vectors x,y,z* into matrix by columns\n",
    "**rbind(x,y,z)**        |   Binds *vectors x,y,z* into matrix by rows\n",
    "**matrix(x,nrow,ncol)** |   Creates matrix from *vector x* with *nrow* rows and *ncol* columns\n",
    "**array(x,dim=y)**      |   Creates array from *vector x* with dimensions of *vector y*\n",
    "**rep(x,y)**            |   Creates vector repeats *vector x interger y* times\n",
    "**length(x)**           |   Returns length of object *x*\n",
    "**sample(x,size=n)**    |   Samples number of items (*n*) from elemetns of *object x*\n",
    "**subset(x,subset)**    |   Subsets *object x* by conditions of *subset*\n",
    "**mean(x)**             |   Returns arithmetic mena of *numeric object x*\n",
    "**sd(x)**               |   Returns standard deviation of *numeric object x*\n",
    "**max(x)**              |   Returns maximum value of *numeric object x*\n",
    "**min(x)**              |   Returns minimum value of *numeric object x*\n",
    "**t(x)**                |   Transposes *matrix x*\n",
    "**plot(x,y)**           |   Plots elements of *vector x* agains elements of *vector y*\n",
    "**boxplot(x~y)**        |   Generates boxplots for values of *numeric vector x* by grouping *vector y*\n",
    "**lm(x~y)**             |   Generates a linear model for response *vector x* by predictor *vector y*\n",
    "**density(x)**          |   Estimates density distributions of univariate observations\n",
    "**table(x)**            |   Returns summary of frequencies of all values in R object\n",
    "\n",
    "\n",
    "## Simple Plotting\n",
    "\n",
    "Sometimes the first thing you want to do is generate a really quick plot of your data before anything else. This is one of the advantages of R, in that visualizing data is very intuitive and easy because it is object-oriented. For example, if you want to plot the first column versus the second column of data from your object, use the following command:"
   ]
  },
  {
   "cell_type": "code",
   "execution_count": null,
   "id": "4ba0596a",
   "metadata": {
    "attributes": {
     "classes": [],
     "eval": "FALSE",
     "id": ""
    },
    "kernel": "R"
   },
   "outputs": [],
   "source": [
    "plot(new_data$Bob, new_data$Steve)"
   ]
  },
  {
   "cell_type": "markdown",
   "id": "13727d18",
   "metadata": {
    "kernel": "SoS"
   },
   "source": [
    "While we do get to see the data quickly, it's kind of messy. To give the same plot a title and label the axes, you can do this easily by adding the following arguments to the command:"
   ]
  },
  {
   "cell_type": "code",
   "execution_count": null,
   "id": "e0e1fc65",
   "metadata": {
    "attributes": {
     "classes": [],
     "eval": "FALSE",
     "id": ""
    },
    "kernel": "R"
   },
   "outputs": [],
   "source": [
    "plot(new_data$Bob, new_data$Steve, main = \"Cheeseburgers Eaten\", xlab = \"Bob\", ylab = \"Steve\")"
   ]
  },
  {
   "cell_type": "markdown",
   "id": "929485b4",
   "metadata": {
    "kernel": "SoS"
   },
   "source": [
    "## Subsetting and targeting elements of R objects using indices\n",
    "\n",
    "Although the function *subset* is useful to subset R objects by particular values, objects of classes *vector, matrix, array, and data frame* are designed for quick manipulation using indices. To illustrate this clearly, use the following commands to create a 3x4 matrix and look at it."
   ]
  },
  {
   "cell_type": "code",
   "execution_count": null,
   "id": "ccb780be",
   "metadata": {
    "attributes": {
     "classes": [],
     "eval": "FALSE",
     "id": ""
    },
    "kernel": "R"
   },
   "outputs": [],
   "source": [
    "?matrix\n",
    "mat <- matrix(1:12, nrow = 3, ncol = 4, byrow = TRUE)\n",
    "mat"
   ]
  },
  {
   "cell_type": "markdown",
   "id": "cee1bc5d",
   "metadata": {
    "kernel": "SoS"
   },
   "source": [
    "Notice that above each column R displays the index for that column, and likewise for each row. **Follow the steps below to create a new matrix based on the matrix \"mat\"**:\n",
    "\n",
    "- 1) **Make column 1 a vector named \"A\"**\n",
    "- 2) **Add columns 2 and 4 together to make a vector \"B\"**\n",
    "- 3) **Multiply column 1 by 3 to make a vector \"C\"**\n",
    "- 4) **Make a matrix named \"new_mat\" by binding vectors \"A\",\"B\",\"C\" by column**\n",
    "- 5) **Look at matrix \"new_mat\"**\n",
    "- 6) **Multiply the entire matrix \"new_mat\" by 2 to obtain \"final_mat\"**\n",
    "- 7) **Look at matrix \"final_mat\"**"
   ]
  },
  {
   "cell_type": "code",
   "execution_count": null,
   "id": "57a8d613",
   "metadata": {
    "attributes": {
     "classes": [],
     "eval": "FALSE",
     "id": ""
    },
    "kernel": "R"
   },
   "outputs": [],
   "source": [
    "A <- mat[,1]                       # Step 1\n",
    "B <- mat[,2] + mat[,4]             # Step 2\n",
    "C <- mat[,1] * 3                   # Step 3\n",
    "new_mat <- cbind(A,B,C)            # Step 4\n",
    "new_mat                            # Step 5"
   ]
  },
  {
   "cell_type": "code",
   "execution_count": null,
   "id": "00612148",
   "metadata": {
    "attributes": {
     "classes": [],
     "eval": "FALSE",
     "id": ""
    },
    "kernel": "R"
   },
   "outputs": [],
   "source": [
    "final_mat <- new_mat * 2           # Step 6\n",
    "final_mat                          # Step 7"
   ]
  },
  {
   "cell_type": "markdown",
   "id": "ccefda33",
   "metadata": {
    "kernel": "SoS"
   },
   "source": [
    "One important note for plotting is that the syntax is different between data frames and matrices. Where data frames use the $ to extract vectors to plot against each other, matrices use the indices used above to create vectors. For example, we can plot the first and third columns of our new matrix \"final_mat\" against each other. **Run the following two lines of code together**:"
   ]
  },
  {
   "cell_type": "code",
   "execution_count": null,
   "id": "15064258",
   "metadata": {
    "attributes": {
     "classes": [],
     "eval": "FALSE",
     "id": ""
    },
    "kernel": "R"
   },
   "outputs": [],
   "source": [
    "plot(final_mat[,1], final_mat[,3])\n",
    "abline(a = 0, b = 3, col = \"red\", lty = \"dashed\")"
   ]
  },
  {
   "cell_type": "markdown",
   "id": "25e79dd3",
   "metadata": {
    "kernel": "SoS"
   },
   "source": [
    "You should see a red dashed line going through all three points.\n",
    "\n",
    "## For-loops\n",
    "\n",
    "Often in statistical genetics you may need to repeat something several times. For example, collating results over several replicates may require a for-loop that stores the results in an array. \n",
    "\n",
    "To illustrate the point, let's consider a simple example. \n",
    "Suppose we'd like to learn how the sample mean ($\\bar{X}$) of 50 iid standard normal random variables, $X_1, \\cdots, X_{50} \\sim N(0, 1)$, behaves by simulation.\n",
    "To obtain one sample mean, we need to first draw 50 samples, $X_1, \\cdots, X_{50}$, from standard normal, and then calculate the sample mean as $\\bar{X} = \\frac{1}{n} \\sum_i X_i$.\n",
    "So, to obtain multiple copies of the sample mean, we need to repeat the above procedure multiple times.\n",
    "Let's look at how we could implement it in R using for-loop (here we intent to obtain 1000 copies of sample mean). \n",
    "\n",
    "- 1) **Create an empty vector of length 1000 named \"sample_means\"**. We will fill this with sample means obtained in each replication.\n",
    "- 2) **For each replication**\n",
    "    - 2.1) **Draw 50 samples**\n",
    "    - 2.2) **And calculate sample mean**\n",
    "- 3) **Look at \"sample_means\" using `summary` function**"
   ]
  },
  {
   "cell_type": "code",
   "execution_count": null,
   "id": "fd7d7b1b",
   "metadata": {
    "attributes": {
     "classes": [],
     "eval": "FALSE",
     "id": ""
    },
    "kernel": "R"
   },
   "outputs": [],
   "source": [
    "nrepeat = 1000\n",
    "nsample = 50\n",
    "sample_means <- rep(NA, nrepeat)                # Step 1\n",
    "\n",
    "set.seed(999)  # a good practice is to set seed for your simulations\n",
    "for (i in 1:nrepeat){\n",
    "  samples_i = rnorm(nsample, mean = 0, sd = 1)  # Step 2.1\n",
    "  sample_means[i] = mean(samples_i)             # Step 2.2\n",
    "}\n",
    "summary(sample_means)                           # Step 3"
   ]
  },
  {
   "cell_type": "markdown",
   "id": "6be51d73",
   "metadata": {
    "kernel": "SoS"
   },
   "source": [
    "## Introduction to ggplot2\n",
    "\n",
    "Although the standard plotting introduced in Section 2.4 will accomplish all of your plotting needs, many people prefer the aesthetics and functionality of plotting in ggplot2. We will do a basic introduction here, mainly to demonstrate the syntax.\n",
    "\n",
    "First install and library the ggplot2."
   ]
  },
  {
   "cell_type": "code",
   "execution_count": null,
   "id": "53d7aa69",
   "metadata": {
    "attributes": {
     "classes": [],
     "eval": "FALSE",
     "id": ""
    },
    "kernel": "R"
   },
   "outputs": [],
   "source": [
    "# install.packages(\"ggplot2\")\n",
    "library(ggplot2)"
   ]
  },
  {
   "cell_type": "markdown",
   "id": "1291bc72",
   "metadata": {
    "kernel": "SoS"
   },
   "source": [
    "Let's use the dataset in lab_0_ggplot_data.txt."
   ]
  },
  {
   "cell_type": "code",
   "execution_count": null,
   "id": "24f0fd79",
   "metadata": {
    "attributes": {
     "classes": [],
     "eval": "FALSE",
     "id": ""
    },
    "kernel": "R"
   },
   "outputs": [],
   "source": [
    "df <- read.table(file.path(myWorkingFolder, 'data', 'lab_0_ggplot_data.txt'), header = T)\n",
    "head(df)"
   ]
  },
  {
   "cell_type": "markdown",
   "id": "f6f56b7c",
   "metadata": {
    "kernel": "SoS"
   },
   "source": [
    "It contains the average number of different cells in lung tissue samples before and after certain treatment procedures. Our plan is to draw a barplot to compare the cell counts (in million) before and after treatment. Instead of trying to create the \"perfect\" plot in a single attempt, we can will refine one layer at a time. This approach is called incremental development and can be especially useful for generating plots with complex features.\n",
    "\n",
    "Create an empty canvas first. Do both axes represent what you are looking for?"
   ]
  },
  {
   "cell_type": "code",
   "execution_count": null,
   "id": "83545865",
   "metadata": {
    "attributes": {
     "classes": [],
     "eval": "FALSE",
     "id": ""
    },
    "kernel": "R"
   },
   "outputs": [],
   "source": [
    "gg <- ggplot(df, aes(x = factor(cell_type), y = count, fill = status))\n",
    "gg"
   ]
  },
  {
   "cell_type": "markdown",
   "id": "52763bfe",
   "metadata": {
    "kernel": "SoS"
   },
   "source": [
    "It does, but the x-axis doesn't look pretty! We will deal with that later. Now we add bars that represent cell counts to the plot."
   ]
  },
  {
   "cell_type": "code",
   "execution_count": null,
   "id": "8bdb7b96",
   "metadata": {
    "attributes": {
     "classes": [],
     "eval": "FALSE",
     "id": ""
    },
    "kernel": "R"
   },
   "outputs": [],
   "source": [
    "gg <- gg + geom_bar(stat = \"identity\", position = \"dodge\")\n",
    "gg"
   ]
  },
  {
   "cell_type": "markdown",
   "id": "18af93d8",
   "metadata": {
    "kernel": "SoS"
   },
   "source": [
    "Note that the label of y-axis is not very precise. What's the unit of measurement?"
   ]
  },
  {
   "cell_type": "code",
   "execution_count": null,
   "id": "813eed94",
   "metadata": {
    "attributes": {
     "classes": [],
     "eval": "FALSE",
     "id": ""
    },
    "kernel": "R"
   },
   "outputs": [],
   "source": [
    "gg <- gg + labs(x = \"Cell type\" , y = \"Count (in million)\")\n",
    "gg"
   ]
  },
  {
   "cell_type": "markdown",
   "id": "2626db6a",
   "metadata": {
    "kernel": "SoS"
   },
   "source": [
    "About 8 percent of males and 0.5 percent of females are color blind, so it's likely that some of your audience will be among them. We need to pick from more accessible palettes (check https://davidmathlogic.com/colorblind/#%23FFC20A-%230C7BDC for more safe color choices)."
   ]
  },
  {
   "cell_type": "code",
   "execution_count": null,
   "id": "737143f9",
   "metadata": {
    "attributes": {
     "classes": [],
     "eval": "FALSE",
     "id": ""
    },
    "kernel": "R"
   },
   "outputs": [],
   "source": [
    "gg <- gg + scale_fill_manual(values = c(\"#FFC20A\", \"#0C7BDC\"))\n",
    "gg"
   ]
  },
  {
   "cell_type": "markdown",
   "id": "4ae47f42",
   "metadata": {
    "kernel": "SoS"
   },
   "source": [
    "The grids in the background seems kind of redundant, let's remove them."
   ]
  },
  {
   "cell_type": "code",
   "execution_count": null,
   "id": "32de8bc4",
   "metadata": {
    "attributes": {
     "classes": [],
     "eval": "FALSE",
     "id": ""
    },
    "kernel": "R"
   },
   "outputs": [],
   "source": [
    "gg <- gg + theme(axis.line = element_line(color = 'black'), \n",
    "                 panel.background = element_blank(), \n",
    "                 panel.grid.major = element_blank(), \n",
    "                 panel.grid.minor = element_blank())\n",
    "gg"
   ]
  },
  {
   "cell_type": "markdown",
   "id": "e30a8f83",
   "metadata": {
    "kernel": "SoS"
   },
   "source": [
    "Now we can turn to fix the overlapping labels on x-axis."
   ]
  },
  {
   "cell_type": "code",
   "execution_count": null,
   "id": "5cfbf005",
   "metadata": {
    "attributes": {
     "classes": [],
     "eval": "FALSE",
     "id": ""
    },
    "kernel": "R"
   },
   "outputs": [],
   "source": [
    "gg <- gg + theme(axis.text.x = element_text(angle = 60, vjust = 0.5))\n",
    "gg"
   ]
  },
  {
   "cell_type": "markdown",
   "id": "04ee1e25",
   "metadata": {
    "kernel": "SoS"
   },
   "source": [
    "Finally, let's bring the bars right atop of the x-axis. We can also adjust the limits and breaks on the y-axis.\n",
    "```{r, eval=FALSE}\n",
    "gg <- gg + scale_y_continuous(limits = c(0, 18), breaks = seq(0, 18, 3), expand = c(0,0))\n",
    "gg\n",
    "```"
   ]
  }
 ],
 "metadata": {
  "kernelspec": {
   "display_name": "SoS [conda env:cumc_statgen] *",
   "language": "sos",
   "name": "conda-env-cumc_statgen-sos"
  },
  "language_info": {
   "codemirror_mode": "sos",
   "file_extension": ".sos",
   "mimetype": "text/x-sos",
   "name": "sos",
   "nbconvert_exporter": "sos_notebook.converter.SoS_Exporter",
   "pygments_lexer": "sos"
  },
  "sos": {
   "kernels": [
    [
     "Bash",
     "bash",
     "bash",
     "",
     ""
    ],
    [
     "R",
     "ir",
     "R",
     "",
     ""
    ],
    [
     "SoS",
     "sos",
     "",
     "",
     "sos"
    ]
   ],
   "panel": {
    "displayed": true,
    "height": 0
   },
   "version": "0.24.4"
  }
 },
 "nbformat": 4,
 "nbformat_minor": 5
}
