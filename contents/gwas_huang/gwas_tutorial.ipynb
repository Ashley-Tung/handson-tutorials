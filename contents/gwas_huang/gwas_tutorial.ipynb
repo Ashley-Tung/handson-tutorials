{
 "cells": [
  {
   "cell_type": "markdown",
   "id": "c1243d35-a2f3-4784-b65d-0eba5a2186e5",
   "metadata": {
    "kernel": "SoS"
   },
   "source": [
    "# GWAS Tutorial\n",
    "\n",
    "This tutorial is originally available at: https://github.com/hailianghuang/gwas-tutorial\n",
    "\n",
    "- contact: Hailiang Huang (hhuang@broadinstitute.org)\n",
    "\n",
    "The tutorial requires [PLINK2](https://www.cog-genomics.org/plink2), [R](https://www.r-project.org) and the `qqman` package in R.\n",
    "\n",
    "## Data inspection"
   ]
  },
  {
   "cell_type": "code",
   "execution_count": 1,
   "id": "1f661441-9e04-48af-90cf-e61d593c583e",
   "metadata": {
    "kernel": "Bash"
   },
   "outputs": [
    {
     "name": "stdout",
     "output_type": "stream",
     "text": [
      "NA20505 NA20505 0 0 2 1 0 0 A A A C T T G G C T T T T T A A G G C C A A C C A A G G T T C C G G G G \n",
      "NA20504 NA20504 0 0 2 2 G G A A C C T T G G T T T T T T A A G G C C A A C C A A G G T T 0 0 G G G G \n",
      "NA20506 NA20506 0 0 2 2 G G A A A C T T G G T T T T C T A A A G C C C A C C A A A G T T C C G G G G \n",
      "NA20502 NA20502 0 0 2 1 G G A A C C T T G G T T T T C T A A A G C C C A C C A A A G T T T C G G G G \n",
      "NA20528 NA20528 0 0 1 2 G G A A C C G T G G C T G T C C G A A G C C C C C C A A A G T T C C G G G G \n",
      "NA20531 NA20531 0 0 2 1 G G A A A C G T G G C T T T C T G A G G C C C A T C A A G G T T C C G G G G \n",
      "NA20534 NA20534 0 0 1 1 C G G A C C G G G G C T G G C C G A A G C C C C C C A A G G T T C C G G A G \n",
      "NA20535 NA20535 0 0 2 1 G G A A A C G T G G C C T T C C G A A G C C C C C C C A A G T T C C G G G G \n",
      "NA20586 NA20586 0 0 1 2 G G A A A C G T G G T T G T C T A A A G C C C A T C C A A G T T C C G G G G \n",
      "NA20756 NA20756 0 0 2 1 G G A A A C G G G G C C T T C C G G G G C C A A C C A A G G C T T C G G G G \n",
      "1\trs12565286\t0\t711153\n",
      "1\trs12124819\t0\t766409\n",
      "1\trs4970383\t0\t828418\n",
      "1\trs13303118\t0\t908247\n",
      "1\trs35940137\t0\t930066\n",
      "1\trs2465136\t0\t980280\n",
      "1\trs2488991\t0\t984254\n",
      "1\trs3766192\t0\t1007060\n",
      "1\trs10907177\t0\t1011209\n",
      "1\trs9442398\t0\t1011558\n"
     ]
    }
   ],
   "source": [
    "head gwas_example.ped | cut -c 1-100 \n",
    "head gwas_example.map"
   ]
  },
  {
   "cell_type": "markdown",
   "id": "07854d14-2f68-4b21-a3c0-1b07cc9294bd",
   "metadata": {
    "kernel": "SoS"
   },
   "source": [
    "## Convert to binary files"
   ]
  },
  {
   "cell_type": "code",
   "execution_count": 2,
   "id": "7e7d3115-426f-40dd-8fa6-b6e44fe1b7d5",
   "metadata": {
    "kernel": "Bash"
   },
   "outputs": [
    {
     "name": "stdout",
     "output_type": "stream",
     "text": [
      "PLINK v1.90p 64-bit (11 Dec 2023)              www.cog-genomics.org/plink/1.9/\n",
      "(C) 2005-2023 Shaun Purcell, Christopher Chang   GNU General Public License v3\n",
      "Logging to gwas_example.log.\n",
      "Options in effect:\n",
      "  --file gwas_example\n",
      "  --make-bed\n",
      "  --out gwas_example\n",
      "\n",
      "32768 MB RAM detected; reserving 16384 MB for main workspace.\n",
      ".ped scan complete (for binary autoconversion).61617171818191920202121222223232424252526262727282829293030313132323333343435353636373738383939404041414242434344444545464647474848494950505151525253535454555556565757585859596060616162626363646465656666676768686969707071717272737374747575767677777878797980808181828283838484858586868787888889899090919192929393949495959696979798989999100%\n",
      "Performing single-pass .bed write (100310 variants, 200 people).\n",
      "--file: gwas_example-temporary.bed + gwas_example-temporary.bim +243444546474849505152535455565758596061626364656667686970717273747576777879808182838485868788899091929394%\n",
      "gwas_example-temporary.fam written.\n",
      "100310 variants loaded from .bim file.\n",
      "200 people (101 males, 99 females) loaded from .fam.\n",
      "200 phenotype values loaded from .fam.\n",
      "Using 1 thread (no multithreaded calculations invoked).\n",
      "Before main variant filters, 200 founders and 0 nonfounders present.\n",
      "Calculating allele frequencies... 10111213141516171819202122232425262728293031323334353637383940414243444546474849505152535455565758596061626364656667686970717273747576777879808182838485868788899091929394959697989 done.\n",
      "Total genotyping rate is 0.996374.\n",
      "100310 variants and 200 people pass filters and QC.\n",
      "Among remaining phenotypes, 39 are cases and 161 are controls.\n",
      "--make-bed to gwas_example.bed + gwas_example.bim + gwas_example.fam ... 101112131415161718192021222324252627282930313233343536373839404142434445464748495051525354555657585960616263646566676869707172737475767778798081828384858687888990919293949596979899done.\n",
      "total 216304\n",
      "-rw-r--r-- 1 gw2411 staff     1071 Jun  3 08:22  LICENSE\n",
      "-rw-r--r-- 1 gw2411 staff     7550 Jun  3 08:34  _example.ped\n",
      "-rw-r--r-- 1 gw2411 staff  4813275 Jun  3 08:37  assoc_adj_final.manhattan.pdf\n",
      "-rw-r--r-- 1 gw2411 staff   650541 Jun  3 08:37  assoc_adj_final.qq.pdf\n",
      "-rw-r--r-- 1 gw2411 staff        0 Jun  3 08:31 'cript gwas_make_figure.R'\n",
      "-rw-r--r-- 1 gw2411 staff  5015503 Jun  3 09:04  gwas_example.bed\n",
      "-rw-r--r-- 1 gw2411 staff  2795442 Jun  3 09:04  gwas_example.bim\n",
      "-rw-r--r-- 1 gw2411 staff     4472 Jun  3 09:04  gwas_example.fam\n",
      "-rw-r--r-- 1 gw2411 staff    14472 Jun  3 08:36  gwas_example.het\n",
      "-rw-r--r-- 1 gw2411 staff    11672 Jun  3 08:29  gwas_example.imiss\n",
      "-rw-r--r-- 1 gw2411 staff       94 Jun  3 08:36  gwas_example.imiss-vs-het.remove\n",
      "-rw-r--r-- 1 gw2411 staff  6319593 Jun  3 08:29  gwas_example.lmiss\n",
      "-rw-r--r-- 1 gw2411 staff      247 Jun  3 08:36  gwas_example.lmiss.exclude\n",
      "-rw-r--r-- 1 gw2411 staff     1108 Jun  3 09:04  gwas_example.log\n",
      "-rw-r--r-- 1 gw2411 staff  2394202 Jun  3 08:22  gwas_example.map\n",
      "-rw-r--r-- 1 gw2411 staff 80252472 Jun  3 08:22  gwas_example.ped\n",
      "-rw-r--r-- 1 gw2411 staff     7688 Jun  3 08:35  gwas_example.smiss\n",
      "-rw-r--r-- 1 gw2411 staff  2196477 Jun  3 08:35  gwas_example.vmiss\n",
      "-rw-r--r-- 1 gw2411 staff 13561245 Jun  3 08:37  gwas_example_final.assoc.logistic\n",
      "-rw-r--r-- 1 gw2411 staff  4786179 Jun  3 08:36  gwas_example_final.bed\n",
      "-rw-r--r-- 1 gw2411 staff  2778757 Jun  3 08:36  gwas_example_final.bim\n",
      "-rw-r--r-- 1 gw2411 staff     4300 Jun  3 08:36  gwas_example_final.fam\n",
      "-rw-r--r-- 1 gw2411 staff     1052 Jun  3 08:37  gwas_example_final.log\n",
      "-rw-r--r-- 1 gw2411 staff   736845 Jun  3 08:36  gwas_example_final.prune.in\n",
      "-rw-r--r-- 1 gw2411 staff   282689 Jun  3 08:36  gwas_example_final.prune.out\n",
      "-rw-r--r-- 1 gw2411 staff  3459315 Jun  3 08:36  gwas_example_final_indep.bed\n",
      "-rw-r--r-- 1 gw2411 staff  2008767 Jun  3 08:36  gwas_example_final_indep.bim\n",
      "-rw-r--r-- 1 gw2411 staff     4300 Jun  3 08:36  gwas_example_final_indep.fam\n",
      "-rw-r--r-- 1 gw2411 staff      910 Jun  3 08:36  gwas_example_final_indep.log\n",
      "-rw-r--r-- 1 gw2411 staff       79 Jun  3 08:36  gwas_example_final_pca.eigenval\n",
      "-rw-r--r-- 1 gw2411 staff    23013 Jun  3 08:36  gwas_example_final_pca.eigenvec\n",
      "-rw-r--r-- 1 gw2411 staff      933 Jun  3 08:36  gwas_example_final_pca.log\n",
      "-rw-r--r-- 1 gw2411 staff  4915193 Jun  3 08:36  gwas_example_qc1.bed\n",
      "-rw-r--r-- 1 gw2411 staff  2795442 Jun  3 08:36  gwas_example_qc1.bim\n",
      "-rw-r--r-- 1 gw2411 staff     4322 Jun  3 08:36  gwas_example_qc1.fam\n",
      "-rw-r--r-- 1 gw2411 staff      952 Jun  3 08:36  gwas_example_qc1.log\n",
      "-rw-r--r-- 1 gw2411 staff  4914017 Jun  3 08:36  gwas_example_qc2.bed\n",
      "-rw-r--r-- 1 gw2411 staff  2794779 Jun  3 08:36  gwas_example_qc2.bim\n",
      "-rw-r--r-- 1 gw2411 staff     4322 Jun  3 08:36  gwas_example_qc2.fam\n",
      "-rw-r--r-- 1 gw2411 staff      424 Jun  3 08:36  gwas_example_qc2.log\n",
      "-rw-r--r-- 1 gw2411 staff  2252476 Jun  3 08:29  gwas_example_qc2.missing\n",
      "-rw-r--r-- 1 gw2411 staff     5771 Jun  3 08:36  gwas_example_qc2.missing.exclude\n",
      "-rw-r--r-- 1 gw2411 staff  4886528 Jun  3 08:36  gwas_example_qc3.bed\n",
      "-rw-r--r-- 1 gw2411 staff  2779117 Jun  3 08:36  gwas_example_qc3.bim\n",
      "-rw-r--r-- 1 gw2411 staff     4322 Jun  3 08:36  gwas_example_qc3.fam\n",
      "-rw-r--r-- 1 gw2411 staff  5041233 Jun  3 08:36  gwas_example_qc3.hardy\n",
      "-rw-r--r-- 1 gw2411 staff 32011833 Jun  3 08:29  gwas_example_qc3.hwe\n",
      "-rw-r--r-- 1 gw2411 staff      130 Jun  3 08:36  gwas_example_qc3.hwe.exclude\n",
      "-rw-r--r-- 1 gw2411 staff      763 Jun  3 08:36  gwas_example_qc3.log\n",
      "-rw-r--r-- 1 gw2411 staff  4885891 Jun  3 08:36  gwas_example_qc4.bed\n",
      "-rw-r--r-- 1 gw2411 staff  2778757 Jun  3 08:36  gwas_example_qc4.bim\n",
      "-rw-r--r-- 1 gw2411 staff     4322 Jun  3 08:36  gwas_example_qc4.fam\n",
      "-rw-r--r-- 1 gw2411 staff      841 Jun  3 08:36  gwas_example_qc4.log\n",
      "-rw-r--r-- 1 gw2411 staff   736486 Jun  3 08:36  gwas_example_qc4.prune.in\n",
      "-rw-r--r-- 1 gw2411 staff   283048 Jun  3 08:36  gwas_example_qc4.prune.out\n",
      "-rw-r--r-- 1 gw2411 staff  3529620 Jun  3 08:36  gwas_example_qc4_indep.bed\n",
      "-rw-r--r-- 1 gw2411 staff  2007774 Jun  3 08:36  gwas_example_qc4_indep.bim\n",
      "-rw-r--r-- 1 gw2411 staff     4322 Jun  3 08:36  gwas_example_qc4_indep.fam\n",
      "-rw-r--r-- 1 gw2411 staff  2001132 Jun  3 08:29  gwas_example_qc4_indep.genome\n",
      "-rw-r--r-- 1 gw2411 staff       14 Jun  3 08:36  gwas_example_qc4_indep.genome.remove\n",
      "-rw-r--r-- 1 gw2411 staff      424 Jun  3 08:36  gwas_example_qc4_indep.log\n",
      "-rw-r--r-- 1 gw2411 staff      670 Sep 10  2021  gwas_make_figure.R\n",
      "-rw-r--r-- 1 gw2411 staff      553 Sep 10  2021  gwas_remove_imiss_het.R\n",
      "-rw-r--r-- 1 gw2411 staff   127546 Jun  3 09:04  gwas_tutorial.ipynb\n",
      "1\trs12565286\t0\t711153\tC\tG\n",
      "1\trs12124819\t0\t766409\tG\tA\n",
      "1\trs4970383\t0\t828418\tA\tC\n",
      "1\trs13303118\t0\t908247\tG\tT\n",
      "1\trs35940137\t0\t930066\tA\tG\n",
      "1\trs2465136\t0\t980280\tC\tT\n",
      "1\trs2488991\t0\t984254\tG\tT\n",
      "1\trs3766192\t0\t1007060\tC\tT\n",
      "1\trs10907177\t0\t1011209\tG\tA\n",
      "1\trs9442398\t0\t1011558\tA\tG\n",
      "NA20505 NA20505 0 0 2 1\n",
      "NA20504 NA20504 0 0 2 2\n",
      "NA20506 NA20506 0 0 2 2\n",
      "NA20502 NA20502 0 0 2 1\n",
      "NA20528 NA20528 0 0 1 2\n",
      "NA20531 NA20531 0 0 2 1\n",
      "NA20534 NA20534 0 0 1 1\n",
      "NA20535 NA20535 0 0 2 1\n",
      "NA20586 NA20586 0 0 1 2\n",
      "NA20756 NA20756 0 0 2 1\n",
      "-rw-r--r-- 1 gw2411 staff 4.8M Jun  3 09:04 gwas_example.bed\n",
      "-rw-r--r-- 1 gw2411 staff 77M Jun  3 08:22 gwas_example.ped\n"
     ]
    }
   ],
   "source": [
    "plink --file gwas_example --make-bed --out gwas_example\n",
    "ls -l \n",
    "head gwas_example.bim \n",
    "head gwas_example.fam\n",
    "\n",
    "ls -rlth gwas_example.bed\n",
    "ls -rlth gwas_example.ped"
   ]
  },
  {
   "cell_type": "markdown",
   "id": "25d5f1e6-e452-4d48-88e8-d903356d3bf8",
   "metadata": {
    "kernel": "SoS"
   },
   "source": [
    "## Calculate missing rate"
   ]
  },
  {
   "cell_type": "code",
   "execution_count": 3,
   "id": "2306fefc-781d-466b-915f-21394fab4a77",
   "metadata": {
    "kernel": "Bash"
   },
   "outputs": [
    {
     "name": "stdout",
     "output_type": "stream",
     "text": [
      "PLINK v2.00a6 M1 (18 Mar 2024)                 www.cog-genomics.org/plink/2.0/\n",
      "(C) 2005-2024 Shaun Purcell, Christopher Chang   GNU General Public License v3\n",
      "Logging to gwas_example.log.\n",
      "Options in effect:\n",
      "  --bfile gwas_example\n",
      "  --missing\n",
      "  --out gwas_example\n",
      "\n",
      "Start time: Mon Jun  3 09:04:23 2024\n",
      "32768 MiB RAM detected; reserving 16384 MiB for main workspace.\n",
      "Using up to 10 threads (change this with --threads).\n",
      "200 samples (99 females, 101 males; 200 founders) loaded from gwas_example.fam.\n",
      "100310 variants loaded from gwas_example.bim.\n",
      "1 binary phenotype loaded (39 cases, 161 controls).\n",
      "Calculating sample missingness rates... 65done.\n",
      "Calculating allele frequencies... 65done.\n",
      "--missing: Sample missing data report written to gwas_example.smiss .\n",
      "--missing: Variant missing data report written to gwas_example.vmiss .2122222323242425252626272728282930303131323233333434353536363737383839404041414242434344444545464647474848495050515152525353545455555656575758585960606161626263636464656566666767686869707071717272737374747575767677777878798080818182828383848485858686878788888990909191929293939494959596969797989899%\n",
      "End time: Mon Jun  3 09:04:23 2024\n",
      "      FID       IID MISS_PHENO   N_MISS   N_GENO   F_MISS\n",
      "  NA20505   NA20505          N      122   100310 0.001216\n",
      "  NA20504   NA20504          N     1406   100310  0.01402\n",
      "  NA20506   NA20506          N      204   100310 0.002034\n",
      "  NA20502   NA20502          N      847   100310 0.008444\n",
      "  NA20528   NA20528          N      219   100310 0.002183\n",
      "  NA20531   NA20531          N       96   100310 0.000957\n",
      "  NA20534   NA20534          N      338   100310  0.00337\n",
      "  NA20535   NA20535          N      182   100310 0.001814\n",
      "  NA20586   NA20586          N      214   100310 0.002133\n",
      "      FID       IID MISS_PHENO   N_MISS   N_GENO   F_MISS\n",
      "  NA20515   NA20515          N     2065   100310  0.02059\n",
      "     1458   NA12843          N     2025   100310  0.02019\n"
     ]
    }
   ],
   "source": [
    "plink2 --bfile gwas_example --missing --out gwas_example\n",
    "head gwas_example.imiss\n",
    "awk '$6 > 0.02' gwas_example.imiss"
   ]
  },
  {
   "cell_type": "markdown",
   "id": "1e910c0c-dc89-42d7-81ca-7fcedc0ba138",
   "metadata": {
    "kernel": "SoS"
   },
   "source": [
    "## Calculate heterozygosity rate"
   ]
  },
  {
   "cell_type": "code",
   "execution_count": 4,
   "id": "60f1d305-af15-4e96-8647-153a8b16d9e3",
   "metadata": {
    "kernel": "Bash"
   },
   "outputs": [
    {
     "name": "stdout",
     "output_type": "stream",
     "text": [
      "PLINK v1.90p 64-bit (11 Dec 2023)              www.cog-genomics.org/plink/1.9/\n",
      "(C) 2005-2023 Shaun Purcell, Christopher Chang   GNU General Public License v3\n",
      "Logging to gwas_example.log.\n",
      "Options in effect:\n",
      "  --bfile gwas_example\n",
      "  --het\n",
      "  --out gwas_example\n",
      "\n",
      "32768 MB RAM detected; reserving 16384 MB for main workspace.\n",
      "100310 variants loaded from .bim file.\n",
      "200 people (101 males, 99 females) loaded from .fam.\n",
      "200 phenotype values loaded from .fam.\n",
      "Using 1 thread (no multithreaded calculations invoked).\n",
      "Before main variant filters, 200 founders and 0 nonfounders present.\n",
      "Calculating allele frequencies... 10111213141516171819202122232425262728293031323334353637383940414243444546474849505152535455565758596061626364656667686970717273747576777879808182838485868788899091929394959697989 done.\n",
      "Total genotyping rate is 0.996374.\n",
      "100310 variants and 200 people pass filters and QC.\n",
      "Among remaining phenotypes, 39 are cases and 161 are controls.\n",
      "--het: 100310 variants scanned, report written to gwas_example.het .\n",
      "      FID       IID       O(HOM)       E(HOM)        N(NM)            F\n",
      "  NA20505   NA20505        71394    7.124e+04       100188     0.005246\n",
      "  NA20504   NA20504        69260    7.027e+04        98904     -0.03512\n",
      "  NA20506   NA20506        71344    7.118e+04       100106     0.005509\n",
      "  NA20502   NA20502        71086    7.068e+04        99463      0.01405\n",
      "  NA20528   NA20528        70901    7.117e+04       100091    -0.009297\n",
      "  NA20531   NA20531        71064    7.126e+04       100214     -0.00685\n",
      "  NA20534   NA20534        71197    7.108e+04        99972     0.003942\n",
      "  NA20535   NA20535        71263     7.12e+04       100128     0.002156\n",
      "  NA20586   NA20586        71089    7.119e+04       100096    -0.003495\n"
     ]
    }
   ],
   "source": [
    "plink --bfile gwas_example --het --out gwas_example\n",
    "head gwas_example.het"
   ]
  },
  {
   "cell_type": "markdown",
   "id": "6d30c04b-2f8d-45c5-b512-0989ee7ee7aa",
   "metadata": {
    "kernel": "SoS"
   },
   "source": [
    "## Generate a list of IDs failing the missing rate and heterozygosity test\n",
    "\n",
    "Call the R code,"
   ]
  },
  {
   "cell_type": "code",
   "execution_count": 5,
   "id": "34460636-71aa-4327-938c-f1228abc53f8",
   "metadata": {
    "kernel": "Bash"
   },
   "outputs": [
    {
     "name": "stdout",
     "output_type": "stream",
     "text": [
      "[1] \"wrote IDs to remove to gwas_example.imiss-vs-het.remove\"\n"
     ]
    }
   ],
   "source": [
    "Rscript gwas_remove_imiss_het.R"
   ]
  },
  {
   "cell_type": "code",
   "execution_count": 6,
   "id": "9bb02011-3c60-4cc8-88af-7e6c03a7ca8c",
   "metadata": {
    "kernel": "Bash"
   },
   "outputs": [
    {
     "name": "stdout",
     "output_type": "stream",
     "text": [
      "1421 NA12282\n",
      "1330 NA12342\n",
      "1459 NA12874\n",
      "1420 NA12003\n",
      "1340 NA06994\n",
      "NA20515 NA20515\n",
      "1458 NA12843\n"
     ]
    }
   ],
   "source": [
    "head gwas_example.imiss-vs-het.remove"
   ]
  },
  {
   "cell_type": "markdown",
   "id": "6da2a1f2-01a3-4bcd-be20-5e9cc7bab647",
   "metadata": {
    "kernel": "SoS"
   },
   "source": [
    "## Remove the individuals in the list"
   ]
  },
  {
   "cell_type": "code",
   "execution_count": 7,
   "id": "e38a630e-5435-42f5-8f41-317f56c7dd29",
   "metadata": {
    "kernel": "Bash"
   },
   "outputs": [
    {
     "name": "stdout",
     "output_type": "stream",
     "text": [
      "PLINK v2.00a6 M1 (18 Mar 2024)                 www.cog-genomics.org/plink/2.0/\n",
      "(C) 2005-2024 Shaun Purcell, Christopher Chang   GNU General Public License v3\n",
      "Logging to gwas_example_qc1.log.\n",
      "Options in effect:\n",
      "  --bfile gwas_example\n",
      "  --make-bed\n",
      "  --out gwas_example_qc1\n",
      "  --remove gwas_example.imiss-vs-het.remove\n",
      "\n",
      "Start time: Mon Jun  3 09:04:26 2024\n",
      "32768 MiB RAM detected; reserving 16384 MiB for main workspace.\n",
      "Using up to 10 threads (change this with --threads).\n",
      "200 samples (99 females, 101 males; 200 founders) loaded from gwas_example.fam.\n",
      "100310 variants loaded from gwas_example.bim.\n",
      "1 binary phenotype loaded (39 cases, 161 controls).\n",
      "--remove: 193 samples remaining.\n",
      "193 samples (98 females, 95 males; 193 founders) remaining after main filters.\n",
      "39 cases and 154 controls remaining after main filters.\n",
      "Writing gwas_example_qc1.fam ... done.\n",
      "Writing gwas_example_qc1.bim ... done.\n",
      "Writing gwas_example_qc1.bed ... 65done.\n",
      "End time: Mon Jun  3 09:04:26 2024\n"
     ]
    }
   ],
   "source": [
    "plink2 --bfile gwas_example --remove gwas_example.imiss-vs-het.remove  --make-bed --out gwas_example_qc1"
   ]
  },
  {
   "cell_type": "markdown",
   "id": "46039be1-aaac-48ef-a79b-8de7d4c23f8f",
   "metadata": {
    "kernel": "SoS"
   },
   "source": [
    "## Variants failing the missing rate test"
   ]
  },
  {
   "cell_type": "code",
   "execution_count": 8,
   "id": "d16b63d0-346c-4bbb-be3a-c302cd8bf6db",
   "metadata": {
    "kernel": "Bash"
   },
   "outputs": [
    {
     "name": "stdout",
     "output_type": "stream",
     "text": [
      " CHR                            SNP   N_MISS   N_GENO   F_MISS\n",
      "   1                     rs12565286        6      200     0.03\n",
      "   1                     rs12124819        8      200     0.04\n",
      "   1                      rs4970383        0      200        0\n",
      "   1                     rs13303118        0      200        0\n",
      "   1                     rs35940137        0      200        0\n",
      "   1                      rs2465136        1      200    0.005\n",
      "   1                      rs2488991        0      200        0\n",
      "   1                      rs3766192        0      200        0\n",
      "   1                     rs10907177        0      200        0\n",
      "PLINK v2.00a6 M1 (18 Mar 2024)                 www.cog-genomics.org/plink/2.0/\n",
      "(C) 2005-2024 Shaun Purcell, Christopher Chang   GNU General Public License v3\n",
      "Logging to gwas_example_qc2.log.\n",
      "Options in effect:\n",
      "  --bfile gwas_example_qc1\n",
      "  --exclude gwas_example.lmiss.exclude\n",
      "  --make-bed\n",
      "  --out gwas_example_qc2\n",
      "\n",
      "Start time: Mon Jun  3 09:04:27 2024\n",
      "32768 MiB RAM detected; reserving 16384 MiB for main workspace.\n",
      "Using up to 10 threads (change this with --threads).\n",
      "193 samples (98 females, 95 males; 193 founders) loaded from\n",
      "gwas_example_qc1.fam.\n",
      "100310 variants loaded from gwas_example_qc1.bim.\n",
      "1 binary phenotype loaded (39 cases, 154 controls).\n",
      "--exclude: 100286 variants remaining.\n",
      "100286 variants remaining after main filters.\n",
      "Writing gwas_example_qc2.fam ... done.\n",
      "Writing gwas_example_qc2.bim ... done.\n",
      "Writing gwas_example_qc2.bed ... 65done.\n",
      "End time: Mon Jun  3 09:04:27 2024\n"
     ]
    }
   ],
   "source": [
    "head gwas_example.lmiss\n",
    "awk 'NR>1 && $5 > 0.05 {print $2} ' gwas_example.lmiss > gwas_example.lmiss.exclude\n",
    "plink2 --bfile gwas_example_qc1 --make-bed --exclude gwas_example.lmiss.exclude --out gwas_example_qc2"
   ]
  },
  {
   "cell_type": "markdown",
   "id": "91a19ad7-e1bc-4a81-b61a-c72e40d12ba2",
   "metadata": {
    "kernel": "SoS"
   },
   "source": [
    "## Variants failing the differential missing rate test"
   ]
  },
  {
   "cell_type": "code",
   "execution_count": 9,
   "id": "d94aa33c-53aa-4ee3-be3c-573986dec3b6",
   "metadata": {
    "kernel": "Bash"
   },
   "outputs": [
    {
     "name": "stdout",
     "output_type": "stream",
     "text": [
      "PLINK v1.90p 64-bit (11 Dec 2023)              www.cog-genomics.org/plink/1.9/\n",
      "(C) 2005-2023 Shaun Purcell, Christopher Chang   GNU General Public License v3\n",
      "Logging to gwas_example_qc2.log.\n",
      "Options in effect:\n",
      "  --bfile gwas_example_qc2\n",
      "  --out gwas_example_qc2\n",
      "  --test-missing\n",
      "\n",
      "32768 MB RAM detected; reserving 16384 MB for main workspace.\n",
      "100286 variants loaded from .bim file.\n",
      "193 people (95 males, 98 females) loaded from .fam.\n",
      "193 phenotype values loaded from .fam.\n",
      "Using 1 thread (no multithreaded calculations invoked).\n",
      "Before main variant filters, 193 founders and 0 nonfounders present.\n",
      "Calculating allele frequencies... 10111213141516171819202122232425262728293031323334353637383940414243444546474849505152535455565758596061626364656667686970717273747576777879808182838485868788899091929394959697989 done.\n",
      "Total genotyping rate is 0.996711.\n",
      "100286 variants and 193 people pass filters and QC.\n",
      "Among remaining phenotypes, 39 are cases and 154 are controls.\n",
      "Writing --test-missing report to gwas_example_qc2.missing ... done.\n",
      " CHR                            SNP     F_MISS_A     F_MISS_U            P \n",
      "   1                     rs12565286      0.02564      0.03247            1\n",
      "   1                     rs12124819            0      0.05195       0.3624\n",
      "   1                      rs2465136            0     0.006494            1\n",
      "   1                      rs4970357      0.02564     0.006494       0.3642\n",
      "   1                     rs11466691            0     0.006494            1\n",
      "   1                     rs11466681      0.02564      0.01948            1\n",
      "   1                     rs34945898      0.02564      0.01299        0.494\n",
      "   1                       rs715643      0.02564      0.04545            1\n",
      "   1                     rs13306651      0.02564      0.01948            1\n",
      "PLINK v2.00a6 M1 (18 Mar 2024)                 www.cog-genomics.org/plink/2.0/\n",
      "(C) 2005-2024 Shaun Purcell, Christopher Chang   GNU General Public License v3\n",
      "Logging to gwas_example_qc3.log.\n",
      "Options in effect:\n",
      "  --bfile gwas_example_qc2\n",
      "  --exclude gwas_example_qc2.missing.exclude\n",
      "  --make-bed\n",
      "  --out gwas_example_qc3\n",
      "\n",
      "Start time: Mon Jun  3 09:04:28 2024\n",
      "32768 MiB RAM detected; reserving 16384 MiB for main workspace.\n",
      "Using up to 10 threads (change this with --threads).\n",
      "193 samples (98 females, 95 males; 193 founders) loaded from\n",
      "gwas_example_qc2.fam.\n",
      "100286 variants loaded from gwas_example_qc2.bim.\n",
      "1 binary phenotype loaded (39 cases, 154 controls).\n",
      "--exclude: 99725 variants remaining.\n",
      "99725 variants remaining after main filters.\n",
      "Writing gwas_example_qc3.fam ... done.\n",
      "Writing gwas_example_qc3.bim ... done.\n",
      "Writing gwas_example_qc3.bed ... 65done.\n",
      "End time: Mon Jun  3 09:04:28 2024\n"
     ]
    }
   ],
   "source": [
    "plink --bfile gwas_example_qc2 --test-missing --out gwas_example_qc2\n",
    "head gwas_example_qc2.missing\n",
    "awk '$3-$4 > 0.05 || $3-$4 < -0.05 {print $2}' gwas_example_qc2.missing > gwas_example_qc2.missing.exclude\n",
    "plink2 --bfile gwas_example_qc2 --exclude gwas_example_qc2.missing.exclude --make-bed --out gwas_example_qc3"
   ]
  },
  {
   "cell_type": "markdown",
   "id": "4c15508c-6ac9-4884-8339-bb60580b57d4",
   "metadata": {
    "kernel": "SoS"
   },
   "source": [
    "## Variants failing the HWE test"
   ]
  },
  {
   "cell_type": "code",
   "execution_count": 10,
   "id": "8450d962-ecc0-4864-acfc-6f953f2cf210",
   "metadata": {
    "kernel": "Bash"
   },
   "outputs": [
    {
     "name": "stdout",
     "output_type": "stream",
     "text": [
      "PLINK v2.00a6 M1 (18 Mar 2024)                 www.cog-genomics.org/plink/2.0/\n",
      "(C) 2005-2024 Shaun Purcell, Christopher Chang   GNU General Public License v3\n",
      "Logging to gwas_example_qc3.log.\n",
      "Options in effect:\n",
      "  --bfile gwas_example_qc3\n",
      "  --hardy\n",
      "  --out gwas_example_qc3\n",
      "\n",
      "Start time: Mon Jun  3 09:04:28 2024\n",
      "32768 MiB RAM detected; reserving 16384 MiB for main workspace.\n",
      "Using up to 10 threads (change this with --threads).\n",
      "193 samples (98 females, 95 males; 193 founders) loaded from\n",
      "gwas_example_qc3.fam.\n",
      "99725 variants loaded from gwas_example_qc3.bim.\n",
      "1 binary phenotype loaded (39 cases, 154 controls).\n",
      "Calculating allele frequencies... 65done.\n",
      "--hardy: Autosomal Hardy-Weinberg report (founders only) written to2627282829293030313232333334343536363737383839404041414242434444454546464748484949505051525253535454555656575758585960606161626263646465656666676868696970707172727373747475767677777878798080818182828384848585868687888889899090919292939394949596969797989899%\n",
      "gwas_example_qc3.hardy .\n",
      "End time: Mon Jun  3 09:04:28 2024\n",
      " CHR                            SNP     TEST   A1   A2                 GENO   O(HET)   E(HET)            P \n",
      "   1                     rs12565286      ALL    C    G             0/17/170  0.09091  0.08678            1\n",
      "   1                     rs12565286      AFF    C    G               0/4/34   0.1053  0.09972            1\n",
      "   1                     rs12565286    UNAFF    C    G             0/13/136  0.08725  0.08344            1\n",
      "   1                      rs4970383      ALL    A    C            10/67/116   0.3472   0.3492            1\n",
      "   1                      rs4970383      AFF    A    C              2/12/25   0.3077   0.3261       0.6408\n",
      "   1                      rs4970383    UNAFF    A    C              8/55/91   0.3571   0.3548            1\n",
      "   1                     rs13303118      ALL    G    T             36/85/72   0.4404   0.4826       0.2338\n",
      "   1                     rs13303118      AFF    G    T              6/17/16   0.4359   0.4671       0.7339\n",
      "   1                     rs13303118    UNAFF    G    T             30/68/56   0.4416   0.4857       0.2503\n",
      "PLINK v2.00a6 M1 (18 Mar 2024)                 www.cog-genomics.org/plink/2.0/\n",
      "(C) 2005-2024 Shaun Purcell, Christopher Chang   GNU General Public License v3\n",
      "Logging to gwas_example_qc4.log.\n",
      "Options in effect:\n",
      "  --bfile gwas_example_qc3\n",
      "  --exclude gwas_example_qc3.hwe.exclude\n",
      "  --make-bed\n",
      "  --out gwas_example_qc4\n",
      "\n",
      "Start time: Mon Jun  3 09:04:29 2024\n",
      "32768 MiB RAM detected; reserving 16384 MiB for main workspace.\n",
      "Using up to 10 threads (change this with --threads).\n",
      "193 samples (98 females, 95 males; 193 founders) loaded from\n",
      "gwas_example_qc3.fam.\n",
      "99725 variants loaded from gwas_example_qc3.bim.\n",
      "1 binary phenotype loaded (39 cases, 154 controls).\n",
      "--exclude: 99712 variants remaining.\n",
      "99712 variants remaining after main filters.\n",
      "Writing gwas_example_qc4.fam ... done.\n",
      "Writing gwas_example_qc4.bim ... done.\n",
      "Writing gwas_example_qc4.bed ... 65done.\n",
      "End time: Mon Jun  3 09:04:29 2024\n"
     ]
    }
   ],
   "source": [
    "plink2 --bfile gwas_example_qc3 --hardy --out gwas_example_qc3 \n",
    "head gwas_example_qc3.hwe\n",
    "awk '$3==\"UNAFF\" && $9 < 0.000001 {print $2}' gwas_example_qc3.hwe > gwas_example_qc3.hwe.exclude\n",
    "plink2 --bfile gwas_example_qc3 --exclude gwas_example_qc3.hwe.exclude --make-bed --out gwas_example_qc4"
   ]
  },
  {
   "cell_type": "markdown",
   "id": "1c448832-1367-422c-9587-e5300dafc7b2",
   "metadata": {
    "kernel": "SoS"
   },
   "source": [
    "## LD pruning for removing related individuals"
   ]
  },
  {
   "cell_type": "code",
   "execution_count": 11,
   "id": "5e0358a8-60d0-448b-b07c-7573aef4dd15",
   "metadata": {
    "kernel": "Bash"
   },
   "outputs": [
    {
     "name": "stdout",
     "output_type": "stream",
     "text": [
      "PLINK v2.00a6 M1 (18 Mar 2024)                 www.cog-genomics.org/plink/2.0/\n",
      "(C) 2005-2024 Shaun Purcell, Christopher Chang   GNU General Public License v3\n",
      "Logging to gwas_example_qc4.log.\n",
      "Options in effect:\n",
      "  --bfile gwas_example_qc4\n",
      "  --indep-pairwise 200 5 0.2\n",
      "  --out gwas_example_qc4\n",
      "\n",
      "Start time: Mon Jun  3 09:04:29 2024\n",
      "32768 MiB RAM detected; reserving 16384 MiB for main workspace.\n",
      "Using up to 10 threads (change this with --threads).\n",
      "193 samples (98 females, 95 males; 193 founders) loaded from\n",
      "gwas_example_qc4.fam.\n",
      "99712 variants loaded from gwas_example_qc4.bim.\n",
      "1 binary phenotype loaded (39 cases, 154 controls).\n",
      "Calculating allele frequencies... 65done.\n",
      "--indep-pairwise (9 compute threads): 5027679/99712 variants removed.\n",
      "Variant lists written to gwas_example_qc4.prune.in and\n",
      "gwas_example_qc4.prune.out .\n",
      "End time: Mon Jun  3 09:04:29 2024\n",
      "rs12565286\n",
      "rs4970383\n",
      "rs35940137\n",
      "rs2488991\n",
      "rs3766192\n",
      "rs11260595\n",
      "rs9442373\n",
      "rs2298217\n",
      "rs4970357\n",
      "rs4970362\n",
      "PLINK v2.00a6 M1 (18 Mar 2024)                 www.cog-genomics.org/plink/2.0/\n",
      "(C) 2005-2024 Shaun Purcell, Christopher Chang   GNU General Public License v3\n",
      "Logging to gwas_example_qc4_indep.log.\n",
      "Options in effect:\n",
      "  --bfile gwas_example_qc4\n",
      "  --extract gwas_example_qc4.prune.in\n",
      "  --make-bed\n",
      "  --out gwas_example_qc4_indep\n",
      "\n",
      "Start time: Mon Jun  3 09:04:30 2024\n",
      "32768 MiB RAM detected; reserving 16384 MiB for main workspace.\n",
      "Using up to 10 threads (change this with --threads).\n",
      "193 samples (98 females, 95 males; 193 founders) loaded from\n",
      "gwas_example_qc4.fam.\n",
      "99712 variants loaded from gwas_example_qc4.bim.\n",
      "1 binary phenotype loaded (39 cases, 154 controls).\n",
      "--extract: 72033 variants remaining.\n",
      "72033 variants remaining after main filters.\n",
      "Writing gwas_example_qc4_indep.fam ... done.\n",
      "Writing gwas_example_qc4_indep.bim ... done.\n",
      "Writing gwas_example_qc4_indep.bed ... 65done.\n",
      "End time: Mon Jun  3 09:04:30 2024\n",
      "PLINK v1.90p 64-bit (11 Dec 2023)              www.cog-genomics.org/plink/1.9/\n",
      "(C) 2005-2023 Shaun Purcell, Christopher Chang   GNU General Public License v3\n",
      "Logging to gwas_example_qc4_indep.log.\n",
      "Options in effect:\n",
      "  --bfile gwas_example_qc4_indep\n",
      "  --genome\n",
      "  --out gwas_example_qc4_indep\n",
      "\n",
      "32768 MB RAM detected; reserving 16384 MB for main workspace.\n",
      "72033 variants loaded from .bim file.\n",
      "193 people (95 males, 98 females) loaded from .fam.\n",
      "193 phenotype values loaded from .fam.\n",
      "Using up to 9 threads (change this with --threads).\n",
      "Before main variant filters, 193 founders and 0 nonfounders present.\n",
      "Calculating allele frequencies... 10111213141516171819202122232425262728293031323334353637383940414243444546474849505152535455565758596061626364656667686970717273747576777879808182838485868788899091929394959697989 done.\n",
      "Total genotyping rate is 0.996804.\n",
      "72033 variants and 193 people pass filters and QC.\n",
      "Among remaining phenotypes, 39 are cases and 154 are controls.\n",
      "IBD calculations complete.  \n",
      "Finished writing gwas_example_qc4_indep.genome .\n",
      "     FID1     IID1     FID2     IID2 RT    EZ      Z0      Z1      Z2  PI_HAT PHE       DST     PPC   RATIO\n",
      "  NA20505  NA20505  NA20504  NA20504 UN    NA  0.9575  0.0425  0.0000  0.0213   0  0.768043  0.9826  2.1620\n",
      "  NA20505  NA20505  NA20506  NA20506 UN    NA  0.9878  0.0000  0.0122  0.0122   0  0.770581  0.3134  1.9649\n",
      "  NA20505  NA20505  NA20502  NA20502 UN    NA  0.9882  0.0095  0.0023  0.0071  -1  0.769402  0.4422  1.9894\n",
      "  NA20505  NA20505  NA20528  NA20528 UN    NA  0.9772  0.0228  0.0000  0.0114   0  0.768711  0.5000  2.0000\n",
      "  NA20505  NA20505  NA20531  NA20531 UN    NA  0.9850  0.0096  0.0054  0.0102  -1  0.770114  0.4323  1.9876\n",
      "  NA20505  NA20505  NA20534  NA20534 UN    NA  0.9624  0.0354  0.0022  0.0199  -1  0.771662  0.3850  1.9788\n",
      "  NA20505  NA20505  NA20535  NA20535 UN    NA  0.9617  0.0383  0.0000  0.0192  -1  0.770151  0.6515  2.0287\n",
      "  NA20505  NA20505  NA20586  NA20586 UN    NA  0.9740  0.0260  0.0000  0.0130   0  0.769601  0.3141  1.9652\n",
      "  NA20505  NA20505  NA20756  NA20756 UN    NA  0.9692  0.0308  0.0000  0.0154  -1  0.770075  0.5194  2.0035\n",
      "PLINK v2.00a6 M1 (18 Mar 2024)                 www.cog-genomics.org/plink/2.0/\n",
      "(C) 2005-2024 Shaun Purcell, Christopher Chang   GNU General Public License v3\n",
      "Logging to gwas_example_final.log.\n",
      "Options in effect:\n",
      "  --bfile gwas_example_qc4\n",
      "  --make-bed\n",
      "  --out gwas_example_final\n",
      "  --remove gwas_example_qc4_indep.genome.remove\n",
      "\n",
      "Start time: Mon Jun  3 09:04:30 2024\n",
      "32768 MiB RAM detected; reserving 16384 MiB for main workspace.\n",
      "Using up to 10 threads (change this with --threads).\n",
      "193 samples (98 females, 95 males; 193 founders) loaded from\n",
      "gwas_example_qc4.fam.\n",
      "99712 variants loaded from gwas_example_qc4.bim.\n",
      "1 binary phenotype loaded (39 cases, 154 controls).\n",
      "--remove: 192 samples remaining.\n",
      "192 samples (97 females, 95 males; 192 founders) remaining after main filters.\n",
      "39 cases and 153 controls remaining after main filters.\n",
      "Writing gwas_example_final.fam ... done.\n",
      "Writing gwas_example_final.bim ... done.\n",
      "Writing gwas_example_final.bed ... 65done.\n",
      "End time: Mon Jun  3 09:04:30 2024\n",
      "100310 gwas_example.bim\n",
      "200 gwas_example.fam\n",
      "99712 gwas_example_final.bim\n",
      "192 gwas_example_final.fam\n"
     ]
    }
   ],
   "source": [
    "plink2 --bfile gwas_example_qc4 --indep-pairwise 200 5 0.2 --out gwas_example_qc4\n",
    "head gwas_example_qc4.prune.in\n",
    "plink2 --bfile gwas_example_qc4 --extract gwas_example_qc4.prune.in --make-bed --out gwas_example_qc4_indep\n",
    "plink --bfile gwas_example_qc4_indep --genome --out gwas_example_qc4_indep\n",
    "head gwas_example_qc4_indep.genome\n",
    "awk 'NR>1&& $10 > 0.2 {print $1\"\\t\"$2}' gwas_example_qc4_indep.genome > gwas_example_qc4_indep.genome.remove\n",
    "plink2 --bfile gwas_example_qc4 --remove gwas_example_qc4_indep.genome.remove --make-bed --out gwas_example_final\n",
    "\n",
    "wc -l gwas_example.bim \n",
    "wc -l gwas_example.fam\n",
    "\n",
    "wc -l gwas_example_final.bim \n",
    "wc -l gwas_example_final.fam"
   ]
  },
  {
   "cell_type": "markdown",
   "id": "01b02ed8-2255-4e2a-b2b9-ac5454264c2b",
   "metadata": {
    "kernel": "SoS"
   },
   "source": [
    "## Generate PC for population structure \n",
    "\n",
    "using the new dataset without related individuals"
   ]
  },
  {
   "cell_type": "code",
   "execution_count": 12,
   "id": "631e3b98-1810-4f82-a414-7f42b3a2f0b9",
   "metadata": {
    "kernel": "Bash"
   },
   "outputs": [
    {
     "name": "stdout",
     "output_type": "stream",
     "text": [
      "PLINK v2.00a6 M1 (18 Mar 2024)                 www.cog-genomics.org/plink/2.0/\n",
      "(C) 2005-2024 Shaun Purcell, Christopher Chang   GNU General Public License v3\n",
      "Logging to gwas_example_final.log.\n",
      "Options in effect:\n",
      "  --bfile gwas_example_final\n",
      "  --indep-pairwise 200 5 0.2\n",
      "  --out gwas_example_final\n",
      "\n",
      "Start time: Mon Jun  3 09:04:31 2024\n",
      "32768 MiB RAM detected; reserving 16384 MiB for main workspace.\n",
      "Using up to 10 threads (change this with --threads).\n",
      "192 samples (97 females, 95 males; 192 founders) loaded from\n",
      "gwas_example_final.fam.\n",
      "99712 variants loaded from gwas_example_final.bim.\n",
      "1 binary phenotype loaded (39 cases, 153 controls).\n",
      "Calculating allele frequencies... 65done.\n",
      "--indep-pairwise (9 compute threads): 5027643/99712 variants removed.\n",
      "Variant lists written to gwas_example_final.prune.in and\n",
      "gwas_example_final.prune.out .\n",
      "End time: Mon Jun  3 09:04:31 2024\n",
      "PLINK v2.00a6 M1 (18 Mar 2024)                 www.cog-genomics.org/plink/2.0/\n",
      "(C) 2005-2024 Shaun Purcell, Christopher Chang   GNU General Public License v3\n",
      "Logging to gwas_example_final_indep.log.\n",
      "Options in effect:\n",
      "  --bfile gwas_example_final\n",
      "  --extract gwas_example_final.prune.in\n",
      "  --make-bed\n",
      "  --out gwas_example_final_indep\n",
      "\n",
      "Start time: Mon Jun  3 09:04:31 2024\n",
      "32768 MiB RAM detected; reserving 16384 MiB for main workspace.\n",
      "Using up to 10 threads (change this with --threads).\n",
      "192 samples (97 females, 95 males; 192 founders) loaded from\n",
      "gwas_example_final.fam.\n",
      "99712 variants loaded from gwas_example_final.bim.\n",
      "1 binary phenotype loaded (39 cases, 153 controls).\n",
      "--extract: 72069 variants remaining.\n",
      "72069 variants remaining after main filters.\n",
      "Writing gwas_example_final_indep.fam ... done.\n",
      "Writing gwas_example_final_indep.bim ... done.\n",
      "Writing gwas_example_final_indep.bed ... 65done.\n",
      "End time: Mon Jun  3 09:04:31 2024\n"
     ]
    }
   ],
   "source": [
    "plink2 --bfile gwas_example_final --indep-pairwise 200 5 0.2 --out gwas_example_final\n",
    "plink2 --bfile gwas_example_final --extract gwas_example_final.prune.in --make-bed --out gwas_example_final_indep"
   ]
  },
  {
   "cell_type": "code",
   "execution_count": 13,
   "id": "191ad87b-ec5b-4d75-8b37-03002c4eca14",
   "metadata": {
    "kernel": "Bash"
   },
   "outputs": [
    {
     "name": "stdout",
     "output_type": "stream",
     "text": [
      "PLINK v2.00a6 M1 (18 Mar 2024)                 www.cog-genomics.org/plink/2.0/\n",
      "(C) 2005-2024 Shaun Purcell, Christopher Chang   GNU General Public License v3\n",
      "Logging to gwas_example_final_pca.log.\n",
      "Options in effect:\n",
      "  --bfile gwas_example_final_indep\n",
      "  --out gwas_example_final_pca\n",
      "  --pca\n",
      "\n",
      "Start time: Mon Jun  3 09:04:31 2024\n",
      "32768 MiB RAM detected; reserving 16384 MiB for main workspace.\n",
      "Using up to 10 threads (change this with --threads).\n",
      "192 samples (97 females, 95 males; 192 founders) loaded from\n",
      "gwas_example_final_indep.fam.\n",
      "72069 variants loaded from gwas_example_final_indep.bim.\n",
      "1 binary phenotype loaded (39 cases, 153 controls).\n",
      "Calculating allele frequencies... 90done.\n",
      "Constructing GRM: 101112131415161718192021222324252627282930313233343536373839404142434445464748495051525354555657585960616263646566676869707172737475767778798081828384858687888990919293949596979899done.\n",
      "Correcting for missingness... 101112131415161718192021222324252627282930313233343536373839404142434445464748495051525354555657585960616263646566676869707172737475767778798081828384858687888990919293949596979899done.\n",
      "Extracting eigenvalues and eigenvectors... done.\n",
      "--pca: Eigenvectors written to gwas_example_final_pca.eigenvec , and\n",
      "eigenvalues written to gwas_example_final_pca.eigenval .\n",
      "End time: Mon Jun  3 09:04:31 2024\n"
     ]
    }
   ],
   "source": [
    "plink2 --bfile gwas_example_final_indep --pca --out gwas_example_final_pca"
   ]
  },
  {
   "cell_type": "code",
   "execution_count": 14,
   "id": "5fab7093-9309-49b4-9019-451a1bcade0b",
   "metadata": {
    "kernel": "Bash"
   },
   "outputs": [
    {
     "name": "stdout",
     "output_type": "stream",
     "text": [
      "#FID     IID      PC1         PC2           PC3           PC4          PC5           PC6           PC7          PC8           PC9           PC10\n",
      "NA20505  NA20505  0.0759171   -0.0270536    0.0137622     -0.0260409   -0.00119295   -0.0169404    -0.0697225   -0.0313012    -0.0151018    0.0293851\n",
      "NA20504  NA20504  0.0685016   0.193548      -0.0257652    -0.454993    -0.217651     0.0429826     0.268843     -0.0324108    0.060053      0.14403\n",
      "NA20506  NA20506  0.0716815   -0.0203592    -0.0232249    0.0283524    0.00908788    -0.0616668    0.0517622    0.0520527     0.0778081     -0.0343959\n",
      "NA20502  NA20502  0.0866669   0.14499       0.00110179    -0.283728    -0.145551     0.072314      -0.0455896   -0.0798176    -0.264215     -0.0519169\n",
      "NA20528  NA20528  0.0766064   -0.0234027    0.0143086     -0.0173832   -0.0297954    0.0415565     -0.00848306  0.0624245     -0.029047     0.0821273\n",
      "NA20531  NA20531  0.0822026   -0.0317801    0.0275257     0.00350855   -0.0159458    -0.0359218    -0.044313    -0.0452472    0.054597      -0.231331\n",
      "NA20534  NA20534  0.0794745   -0.0387126    -0.016376     0.0889393    -0.01125      0.0198059     -0.0149515   -0.0312492    0.0567753     0.11139\n",
      "NA20535  NA20535  0.0588197   -0.00249968   0.0345597     0.0109579    -0.086308     -0.0112213    -0.0675037   -0.0445266    -0.0269925    0.013\n",
      "NA20586  NA20586  0.0926341   -0.0010596    0.0235825     -0.0179145   0.00992694    0.0171136     -0.0121896   0.0752302     0.0197849     -0.0899162\n"
     ]
    }
   ],
   "source": [
    "column -t gwas_example_final_pca.eigenvec | head -10"
   ]
  },
  {
   "cell_type": "markdown",
   "id": "e11d4d17-6ef5-41ee-9654-bd61d66659bb",
   "metadata": {
    "kernel": "SoS"
   },
   "source": [
    "## Perform GWAS tests"
   ]
  },
  {
   "cell_type": "code",
   "execution_count": 15,
   "id": "f4e5d0dc-56e1-4313-ae5d-69612683c75f",
   "metadata": {
    "kernel": "Bash"
   },
   "outputs": [
    {
     "name": "stdout",
     "output_type": "stream",
     "text": [
      "PLINK v1.90p 64-bit (11 Dec 2023)              www.cog-genomics.org/plink/1.9/\n",
      "(C) 2005-2023 Shaun Purcell, Christopher Chang   GNU General Public License v3\n",
      "Logging to gwas_example_final.log.\n",
      "Options in effect:\n",
      "  --bfile gwas_example_final\n",
      "  --ci 0.95\n",
      "  --covar gwas_example_final_pca.eigenvec\n",
      "  --covar-number 1-10\n",
      "  --logistic hide-covar\n",
      "  --out gwas_example_final\n",
      "\n",
      "32768 MB RAM detected; reserving 16384 MB for main workspace.\n",
      "99712 variants loaded from .bim file.\n",
      "192 people (95 males, 97 females) loaded from .fam.\n",
      "192 phenotype values loaded from .fam.\n",
      "Using 1 thread (no multithreaded calculations invoked).\n",
      "--covar: 10 covariates loaded.\n",
      "Before main variant filters, 192 founders and 0 nonfounders present.\n",
      "Calculating allele frequencies... 10111213141516171819202122232425262728293031323334353637383940414243444546474849505152535455565758596061626364656667686970717273747576777879808182838485868788899091929394959697989 done.\n",
      "Total genotyping rate is 0.996823.\n",
      "99712 variants and 192 people pass filters and QC.\n",
      "Among remaining phenotypes, 39 are cases and 153 are controls.\n",
      "Writing logistic model association results to gwas_example_final.assoc.logistic\n",
      "... 101112131415161718192021222324252627282930313233343536373839404142434445464748495051525354555657585960616263646566676869707172737475767778798081828384858687888990919293949596979899done.\n"
     ]
    }
   ],
   "source": [
    "plink --bfile gwas_example_final --logistic hide-covar --covar gwas_example_final_pca.eigenvec --covar-number 1-10 --out gwas_example_final --ci 0.95"
   ]
  },
  {
   "cell_type": "code",
   "execution_count": 16,
   "id": "80d869a5-f7ef-47d6-be5f-5bc4b4c30ca0",
   "metadata": {
    "kernel": "Bash"
   },
   "outputs": [
    {
     "name": "stdout",
     "output_type": "stream",
     "text": [
      " CHR                            SNP         BP   A1       TEST    NMISS         OR       SE      L95      U95         STAT            P \n",
      "   1                     rs12565286     711153    C        ADD      186     0.9403   0.6701   0.2529    3.497     -0.09182       0.9268\n",
      "   1                      rs4970383     828418    A        ADD      192     0.7268   0.3334   0.3781    1.397      -0.9569       0.3386\n",
      "   1                     rs13303118     908247    G        ADD      192     0.7568   0.2885   0.4299    1.332      -0.9658       0.3341\n",
      "   1                     rs35940137     930066    A        ADD      192      1.052   0.8342   0.2051    5.396      0.06075       0.9516\n",
      "   1                      rs2465136     980280    C        ADD      191     0.8703   0.3098   0.4742    1.597      -0.4485       0.6538\n",
      "   1                      rs2488991     984254    G        ADD      192     0.9181   0.3951   0.4232    1.992      -0.2162       0.8288\n",
      "   1                      rs3766192    1007060    C        ADD      192      0.925   0.2837   0.5305    1.613      -0.2746       0.7836\n",
      "   1                     rs10907177    1011209    G        ADD      192     0.6671   0.4054   0.3014    1.477      -0.9986        0.318\n",
      "   1                      rs9442398    1011558    A        ADD      192       1.13    0.324   0.5989    2.133       0.3777       0.7057\n"
     ]
    }
   ],
   "source": [
    "head gwas_example_final.assoc.logistic"
   ]
  },
  {
   "cell_type": "markdown",
   "id": "8b071e14-b4db-47c5-a6f1-2c6562f95ca7",
   "metadata": {
    "kernel": "SoS"
   },
   "source": [
    "## Make GWAS relevant plots"
   ]
  },
  {
   "cell_type": "code",
   "execution_count": 17,
   "id": "f975c566-c292-4d12-ae2c-f79c9e5dbf58",
   "metadata": {
    "kernel": "Bash"
   },
   "outputs": [
    {
     "name": "stdout",
     "output_type": "stream",
     "text": [
      " [1] CHR   SNP   BP    A1    TEST  NMISS OR    SE    L95   U95   STAT  P    \n",
      "<0 rows> (or 0-length row.names)\n",
      "\n",
      "For example usage please run: vignette('qqman')\n",
      "\n",
      "Citation appreciated but not required:\n",
      "Turner, (2018). qqman: an R package for visualizing GWAS results using Q-Q and manhattan plots. Journal of Open Source Software, 3(25), 731, https://doi.org/10.21105/joss.00731.\n",
      "\n",
      "null device \n",
      "          1 \n",
      "null device \n",
      "          1 \n",
      "[1] \"lambd gc: 1.06143624792399\"\n"
     ]
    }
   ],
   "source": [
    "Rscript gwas_make_figure.R"
   ]
  },
  {
   "cell_type": "code",
   "execution_count": 18,
   "id": "a533d11e-5711-4c3c-a3c3-ac11f7c63f88",
   "metadata": {
    "kernel": "SoS"
   },
   "outputs": [
    {
     "data": {
      "text/html": [
       "<div class=\"sos_hint\">> assoc_adj_final.qq.pdf (635.3 KiB):</div>"
      ],
      "text/plain": [
       "\n",
       "> assoc_adj_final.qq.pdf (635.3 KiB):"
      ]
     },
     "metadata": {},
     "output_type": "display_data"
    },
    {
     "data": {
      "image/png": "[encoded data removed]"
     },
     "metadata": {},
     "output_type": "display_data"
    }
   ],
   "source": [
    "%preview -n assoc_adj_final.qq.pdf -s png"
   ]
  },
  {
   "cell_type": "code",
   "execution_count": 19,
   "id": "4133f967-d494-4b07-8105-ac2e983b091a",
   "metadata": {
    "kernel": "SoS"
   },
   "outputs": [
    {
     "data": {
      "text/html": [
       "<div class=\"sos_hint\">> assoc_adj_final.manhattan.pdf (4.6 MiB):</div>"
      ],
      "text/plain": [
       "\n",
       "> assoc_adj_final.manhattan.pdf (4.6 MiB):"
      ]
     },
     "metadata": {},
     "output_type": "display_data"
    },
    {
     "data": {
      "image/png": "[encoded data removed]"
     },
     "metadata": {},
     "output_type": "display_data"
    }
   ],
   "source": [
    "%preview -n assoc_adj_final.manhattan.pdf -s png"
   ]
  }
 ],
 "metadata": {
  "kernelspec": {
   "display_name": "SoS",
   "language": "sos",
   "name": "sos"
  },
  "language_info": {
   "codemirror_mode": "sos",
   "file_extension": ".sos",
   "mimetype": "text/x-sos",
   "name": "sos",
   "nbconvert_exporter": "sos_notebook.converter.SoS_Exporter",
   "pygments_lexer": "sos"
  },
  "sos": {
   "kernels": [
    [
     "Bash",
     "bash",
     "bash",
     "",
     ""
    ],
    [
     "SoS",
     "sos",
     "",
     "",
     "sos"
    ]
   ],
   "version": ""
  }
 },
 "nbformat": 4,
 "nbformat_minor": 5
}
