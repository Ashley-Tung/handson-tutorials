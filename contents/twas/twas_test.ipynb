{
 "cells": [
  {
   "cell_type": "markdown",
   "metadata": {},
   "source": [
    "# Transcriptome-Wide Association Study (TWAS) using High-dimensional Regression Methods\n",
    "\n",
    "This notebook demonstrates how to perform Transcriptome-Wide Association Studies (TWAS) using weights derived from various high-dimensional regression methods including SuSiE, mvSuSiE and mr.mash. TWAS integrates eQTL data with GWAS summary statistics to identify gene-trait associations. The key idea is that if genetic variants affect both gene expression (eQTL effects) and trait (GWAS effects), we can aggregate these effects using learned weights from expression data to test for gene-trait associations.\n",
    "\n",
    "For details on high-dimensional regression methods used to obtain weights, please refer to:\n",
    "- `finemapping.ipynb`\n",
    "- `multivariate_finemapping.ipynb`\n",
    "- `mr_mash.ipynb`\n",
    "\n",
    "Although we simulate expression data in 5 tissues to demonstrate multivariate methods capabilities, for simplicity in this TWAS exercise we will focus on using weights from the first tissue context to perform TWAS test."
   ]
  },
  {
   "cell_type": "code",
   "execution_count": 2,
   "metadata": {},
   "outputs": [
    {
     "name": "stderr",
     "output_type": "stream",
     "text": [
      "Loading required package: mashr\n",
      "\n",
      "Loading required package: ashr\n",
      "\n"
     ]
    }
   ],
   "source": [
    "library(susieR)\n",
    "library(mvsusieR)\n",
    "library(mr.mash.alpha)\n",
    "set.seed(1)"
   ]
  },
  {
   "cell_type": "markdown",
   "metadata": {},
   "source": [
    "## TWAS Test Definition\n",
    "\n",
    "The goal of this exercise is to demonstrate how to compute TWAS (Transcriptome-Wide Association Study) test statistics using weights learned from various high-dimensional regression methods. Before we proceed with model fitting, we first introduce the TWAS test statistic.\n",
    "\n",
    "The TWAS test combines eQTL weights with GWAS z-scores to compute a gene-level association statistic. The test statistic is computed as:\n",
    "\n",
    "$$Z_{\\text{TWAS}} = \\frac{w^T z}{\\sqrt{w^T R w}}$$\n",
    "\n",
    "where $w$ is the vector of weights, $z$ is the vector of GWAS z-scores, and $R$ is the LD matrix. This is implemented in the following function:"
   ]
  },
  {
   "cell_type": "code",
   "execution_count": 3,
   "metadata": {},
   "outputs": [],
   "source": [
    "twas_z <- function(weights, z, R = NULL, X = NULL) {\n",
    "  if (length(weights) != length(z)) {\n",
    "    stop(\"Weights and z-scores must have the same length.\")\n",
    "  }\n",
    "  if (is.null(R)) R <- cor(X)\n",
    "  stat <- t(weights) %*% z\n",
    "  denom <- t(weights) %*% R %*% weights\n",
    "  zscore <- stat / sqrt(denom)\n",
    "  pval <- pchisq(zscore * zscore, 1, lower.tail = FALSE)\n",
    "  return(list(z = zscore, pval = pval))\n",
    "}"
   ]
  },
  {
   "cell_type": "markdown",
   "metadata": {},
   "source": [
    "## Simulate molecular trait data\n",
    "\n",
    "We'll use the same simulation setup as in the mr.mash tutorial, simulating expression of a gene across 5 tissues:"
   ]
  },
  {
   "cell_type": "code",
   "execution_count": 4,
   "metadata": {},
   "outputs": [],
   "source": [
    "dat <- simulate_mr_mash_data(n = 300, p = 500, p_causal = 3, r = 5, pve = 0.25, V_cor = 0.25)\n",
    "# Split into training and test sets\n",
    "ntest <- 50\n",
    "Ytrain <- dat$Y[-(1:ntest),]\n",
    "Xtrain <- dat$X[-(1:ntest),]\n",
    "Ytest <- dat$Y[1:ntest,]\n",
    "Xtest <- dat$X[1:ntest,]"
   ]
  },
  {
   "cell_type": "markdown",
   "metadata": {},
   "source": [
    "## Obtain weights from different methods\n",
    "\n",
    "First, let's fit univariate SuSiE using the first tissue:"
   ]
  },
  {
   "cell_type": "code",
   "execution_count": 4,
   "metadata": {},
   "outputs": [],
   "source": [
    "fit_susie <- susie(Xtrain, Ytrain[,1], L=10)"
   ]
  },
  {
   "cell_type": "markdown",
   "metadata": {},
   "source": [
    "Next, we'll fit mr.mash, which will also provide residual variance estimates:"
   ]
  },
  {
   "cell_type": "code",
   "execution_count": 5,
   "metadata": {},
   "outputs": [
    {
     "name": "stdout",
     "output_type": "stream",
     "text": [
      "Processing the inputs... Done!\n",
      "Fitting the optimization algorithm using 12 RcppParallel threads... \n",
      " iter    mu1_max.diff     ELBO_diff               ELBO\n",
      "   1       2.38e-01            Inf      -1.59878145270982258808e+03\n",
      "   2       6.49e-02       1.90e+02      -1.40903793223060233686e+03\n",
      "   3       1.99e-02       3.50e+01      -1.37401598219291190617e+03\n",
      "   4       1.61e-02       1.25e+01      -1.36152035583163160481e+03\n",
      "   5       1.23e-02       6.01e+00      -1.35551340874110928780e+03\n",
      "   6       9.45e-03       3.50e+00      -1.35201135740664676632e+03\n",
      "   7       7.41e-03       2.29e+00      -1.34972612273548179473e+03\n",
      "   8       5.93e-03       1.60e+00      -1.34812392786327291105e+03\n",
      "   9       4.85e-03       1.18e+00      -1.34694206152203992133e+03\n",
      "  10       4.02e-03       9.06e-01      -1.34603592745314881540e+03\n",
      "  11       3.39e-03       7.16e-01      -1.34531951656050773636e+03\n",
      "  12       2.88e-03       5.81e-01      -1.34473864484809655551e+03\n",
      "  13       2.47e-03       4.81e-01      -1.34425762355292340544e+03\n",
      "  14       2.14e-03       4.06e-01      -1.34385208744231658784e+03\n",
      "  15       1.86e-03       3.47e-01      -1.34350489798900298410e+03\n",
      "  16       1.63e-03       3.01e-01      -1.34320368886790060969e+03\n",
      "  17       1.42e-03       2.64e-01      -1.34293933729211653372e+03\n",
      "  18       1.25e-03       2.34e-01      -1.34270498069625909920e+03\n",
      "  19       1.10e-03       2.10e-01      -1.34249536651275502663e+03\n",
      "  20       9.63e-04       1.89e-01      -1.34230641170970829990e+03\n",
      "  21       8.43e-04       1.72e-01      -1.34213489793543658379e+03\n",
      "  22       7.35e-04       1.57e-01      -1.34197825636849415787e+03\n",
      "  23       7.71e-04       1.44e-01      -1.34183441314084689111e+03\n",
      "  24       8.43e-04       1.33e-01      -1.34170167643658373891e+03\n",
      "  25       9.01e-04       1.23e-01      -1.34157865276874940719e+03\n",
      "  26       9.44e-04       1.14e-01      -1.34146418402463064012e+03\n",
      "  27       9.75e-04       1.07e-01      -1.34135729952928522835e+03\n",
      "  28       9.93e-04       1.00e-01      -1.34125717913507173762e+03\n",
      "  29       1.00e-03       9.41e-02      -1.34116312452352167384e+03\n",
      "  30       1.00e-03       8.86e-02      -1.34107453670591917216e+03\n",
      "  31       9.91e-04       8.36e-02      -1.34099089825874102644e+03\n",
      "  32       9.75e-04       7.91e-02      -1.34091175921267108606e+03\n",
      "  33       9.54e-04       7.50e-02      -1.34083672578401160536e+03\n",
      "  34       9.28e-04       7.13e-02      -1.34076545133119952879e+03\n",
      "  35       8.98e-04       6.78e-02      -1.34069762906095502331e+03\n",
      "  36       8.65e-04       6.46e-02      -1.34063298611439881824e+03\n",
      "  37       8.31e-04       6.17e-02      -1.34057127874392176636e+03\n",
      "  38       7.95e-04       5.90e-02      -1.34051228835375172821e+03\n",
      "  39       7.59e-04       5.65e-02      -1.34045581822574831676e+03\n",
      "  40       7.22e-04       5.41e-02      -1.34040169079022302867e+03\n",
      "  41       6.86e-04       5.19e-02      -1.34034974533177637568e+03\n",
      "  42       6.51e-04       4.99e-02      -1.34029983604396534247e+03\n",
      "  43       6.16e-04       4.80e-02      -1.34025183036535190695e+03\n",
      "  44       5.82e-04       4.62e-02      -1.34020560754416851523e+03\n",
      "  45       5.50e-04       4.46e-02      -1.34016105739027648269e+03\n",
      "  46       5.34e-04       4.30e-02      -1.34011807918203749068e+03\n",
      "  47       5.58e-04       4.15e-02      -1.34007658070262073124e+03\n",
      "  48       5.79e-04       4.01e-02      -1.34003647738567110537e+03\n",
      "  49       5.98e-04       3.88e-02      -1.33999769155441867952e+03\n",
      "  50       6.14e-04       3.75e-02      -1.33996015174156264038e+03\n",
      "  51       6.28e-04       3.64e-02      -1.33992379207977774058e+03\n",
      "  52       6.39e-04       3.52e-02      -1.33988855175462208535e+03\n",
      "  53       6.48e-04       3.42e-02      -1.33985437451311008772e+03\n",
      "  54       6.54e-04       3.32e-02      -1.33982120822235356172e+03\n",
      "  55       6.59e-04       3.22e-02      -1.33978900447351043113e+03\n",
      "  56       6.61e-04       3.13e-02      -1.33975771822689262081e+03\n",
      "  57       6.61e-04       3.04e-02      -1.33972730749455786281e+03\n",
      "  58       6.59e-04       2.96e-02      -1.33969773305700141464e+03\n",
      "  59       6.55e-04       2.88e-02      -1.33966895821083949158e+03\n",
      "  60       6.50e-04       2.80e-02      -1.33964094854451104766e+03\n",
      "  61       6.43e-04       2.73e-02      -1.33961367173921485119e+03\n",
      "  62       6.35e-04       2.66e-02      -1.33958709739240794079e+03\n",
      "  63       6.26e-04       2.59e-02      -1.33956119686134229596e+03\n",
      "  64       6.15e-04       2.53e-02      -1.33953594312427549085e+03\n",
      "  65       6.04e-04       2.46e-02      -1.33951131065714162105e+03\n",
      "  66       5.92e-04       2.40e-02      -1.33948727532366183368e+03\n",
      "  67       5.79e-04       2.35e-02      -1.33946381427706410250e+03\n",
      "  68       5.66e-04       2.29e-02      -1.33944090587177538509e+03\n",
      "  69       5.53e-04       2.24e-02      -1.33941852958365188897e+03\n",
      "  70       5.39e-04       2.19e-02      -1.33939666593751030632e+03\n",
      "  71       5.25e-04       2.14e-02      -1.33937529644090477632e+03\n",
      "  72       5.11e-04       2.09e-02      -1.33935440352326145330e+03\n",
      "  73       4.97e-04       2.04e-02      -1.33933397047964740523e+03\n",
      "  74       4.84e-04       2.00e-02      -1.33931398141857607698e+03\n",
      "  75       4.70e-04       1.96e-02      -1.33929442121337001481e+03\n",
      "  76       4.57e-04       1.91e-02      -1.33927527545670295694e+03\n",
      "  77       4.44e-04       1.87e-02      -1.33925653041801388099e+03\n",
      "  78       4.31e-04       1.84e-02      -1.33923817300356222404e+03\n",
      "  79       4.19e-04       1.80e-02      -1.33922019071892350439e+03\n",
      "  80       4.07e-04       1.76e-02      -1.33920257163377459619e+03\n",
      "  81       3.95e-04       1.73e-02      -1.33918530434884610258e+03\n",
      "  82       3.84e-04       1.69e-02      -1.33916837796492154666e+03\n",
      "  83       3.73e-04       1.66e-02      -1.33915178205378947496e+03\n",
      "  84       3.63e-04       1.63e-02      -1.33913550663105479543e+03\n",
      "  85       3.53e-04       1.60e-02      -1.33911954213072249331e+03\n",
      "  86       3.50e-04       1.57e-02      -1.33910387938146664055e+03\n",
      "  87       3.48e-04       1.54e-02      -1.33908850958449261270e+03\n",
      "  88       3.47e-04       1.51e-02      -1.33907342429291520602e+03\n",
      "  89       3.45e-04       1.48e-02      -1.33905861539255465686e+03\n",
      "  90       3.42e-04       1.45e-02      -1.33904407508407302885e+03\n",
      "  91       3.40e-04       1.43e-02      -1.33902979586635615306e+03\n",
      "  92       3.37e-04       1.40e-02      -1.33901577052105835719e+03\n",
      "  93       3.34e-04       1.38e-02      -1.33900199209822972080e+03\n",
      "  94       3.31e-04       1.35e-02      -1.33898845390294036406e+03\n",
      "  95       3.28e-04       1.33e-02      -1.33897514948282355363e+03\n",
      "  96       3.25e-04       1.31e-02      -1.33896207261646736697e+03\n",
      "  97       3.21e-04       1.29e-02      -1.33894921730258170101e+03\n",
      "  98       3.17e-04       1.26e-02      -1.33893657774987923403e+03\n",
      "  99       3.14e-04       1.24e-02      -1.33892414836759962782e+03\n",
      " 100       3.10e-04       1.22e-02      -1.33891192375663467828e+03\n",
      " 101       3.06e-04       1.20e-02      -1.33889989870119188708e+03\n",
      " 102       3.02e-04       1.18e-02      -1.33888806816095325303e+03\n",
      " 103       2.98e-04       1.16e-02      -1.33887642726368835611e+03\n",
      " 104       2.94e-04       1.15e-02      -1.33886497129827967001e+03\n",
      " 105       2.90e-04       1.13e-02      -1.33885369570812804341e+03\n",
      " 106       2.86e-04       1.11e-02      -1.33884259608490810933e+03\n",
      " 107       2.81e-04       1.09e-02      -1.33883166816264201771e+03\n",
      " 108       2.77e-04       1.08e-02      -1.33882090781207057262e+03\n",
      " 109       2.73e-04       1.06e-02      -1.33881031103530335713e+03\n",
      " 110       2.69e-04       1.04e-02      -1.33879987396071373951e+03\n",
      " 111       2.65e-04       1.03e-02      -1.33878959283808285363e+03\n",
      " 112       2.61e-04       1.01e-02      -1.33877946403396003916e+03\n",
      " 113       2.57e-04       9.98e-03      -1.33876948402722860010e+03\n",
      " 114       2.53e-04       9.83e-03      -1.33875964940487801869e+03\n",
      " 115       2.49e-04       9.69e-03      -1.33874995685794829114e+03\n",
      " 116       2.46e-04       9.55e-03      -1.33874040317766002772e+03\n",
      " 117       2.42e-04       9.42e-03      -1.33873098525170325956e+03\n",
      " 118       2.38e-04       9.29e-03      -1.33872170006068836301e+03\n",
      " 119       2.35e-04       9.16e-03      -1.33871254467474091143e+03\n",
      " 120       2.31e-04       9.03e-03      -1.33870351625024568420e+03\n",
      " 121       2.27e-04       8.90e-03      -1.33869461202672073341e+03\n",
      " 122       2.24e-04       8.78e-03      -1.33868582932382514628e+03\n",
      " 123       2.20e-04       8.66e-03      -1.33867716553848777039e+03\n",
      " 124       2.17e-04       8.55e-03      -1.33866861814215599225e+03\n",
      " 125       2.14e-04       8.43e-03      -1.33866018467815752047e+03\n",
      " 126       2.11e-04       8.32e-03      -1.33865186275916653358e+03\n",
      " 127       2.07e-04       8.21e-03      -1.33864365006478033138e+03\n",
      " 128       2.04e-04       8.11e-03      -1.33863554433918898212e+03\n",
      " 129       2.01e-04       8.00e-03      -1.33862754338894069406e+03\n",
      " 130       1.98e-04       7.90e-03      -1.33861964508079790903e+03\n",
      " 131       1.95e-04       7.80e-03      -1.33861184733968275395e+03\n",
      " 132       1.92e-04       7.70e-03      -1.33860414814670025407e+03\n",
      " 133       1.90e-04       7.60e-03      -1.33859654553724294601e+03\n",
      " 134       1.87e-04       7.51e-03      -1.33858903759917325260e+03\n",
      " 135       1.84e-04       7.42e-03      -1.33858162247107293297e+03\n",
      " 136       1.81e-04       7.32e-03      -1.33857429834056870277e+03\n",
      " 137       1.79e-04       7.23e-03      -1.33856706344271492526e+03\n",
      " 138       1.76e-04       7.15e-03      -1.33855991605845019876e+03\n",
      " 139       1.74e-04       7.06e-03      -1.33855285451310464850e+03\n",
      " 140       1.71e-04       6.98e-03      -1.33854587717496929145e+03\n",
      " 141       1.69e-04       6.89e-03      -1.33853898245392224453e+03\n",
      " 142       1.67e-04       6.81e-03      -1.33853216880010336354e+03\n",
      " 143       1.64e-04       6.73e-03      -1.33852543470264436110e+03\n",
      " 144       1.62e-04       6.66e-03      -1.33851877868844053410e+03\n",
      " 145       1.60e-04       6.58e-03      -1.33851219932097706078e+03\n",
      " 146       1.57e-04       6.50e-03      -1.33850569519919122286e+03\n",
      " 147       1.55e-04       6.43e-03      -1.33849926495638328561e+03\n",
      " 148       1.53e-04       6.36e-03      -1.33849290725916080191e+03\n",
      " 149       1.51e-04       6.29e-03      -1.33848662080643111949e+03\n",
      " 150       1.49e-04       6.22e-03      -1.33848040432842185510e+03\n",
      " 151       1.47e-04       6.15e-03      -1.33847425658574115914e+03\n",
      " 152       1.45e-04       6.08e-03      -1.33846817636847185895e+03\n",
      " 153       1.43e-04       6.01e-03      -1.33846216249529629749e+03\n",
      " 154       1.41e-04       5.95e-03      -1.33845621381265482341e+03\n",
      " 155       1.39e-04       5.88e-03      -1.33845032919393042903e+03\n",
      " 156       1.38e-04       5.82e-03      -1.33844450753866635750e+03\n",
      " 157       1.36e-04       5.76e-03      -1.33843874777180781166e+03\n",
      " 158       1.34e-04       5.70e-03      -1.33843304884297117496e+03\n",
      " 159       1.32e-04       5.64e-03      -1.33842740972573869840e+03\n",
      " 160       1.31e-04       5.58e-03      -1.33842182941697637943e+03\n",
      " 161       1.29e-04       5.52e-03      -1.33841630693617616998e+03\n",
      " 162       1.27e-04       5.47e-03      -1.33841084132481978486e+03\n",
      " 163       1.26e-04       5.41e-03      -1.33840543164576388335e+03\n",
      " 164       1.24e-04       5.35e-03      -1.33840007698264707869e+03\n",
      " 165       1.23e-04       5.30e-03      -1.33839477643931354578e+03\n",
      " 166       1.21e-04       5.25e-03      -1.33838952913926050314e+03\n",
      " 167       1.20e-04       5.19e-03      -1.33838433422509820048e+03\n",
      " 168       1.18e-04       5.14e-03      -1.33837919085803332564e+03\n",
      " 169       1.17e-04       5.09e-03      -1.33837409821736378035e+03\n",
      " 170       1.15e-04       5.04e-03      -1.33836905549999369214e+03\n",
      " 171       1.14e-04       4.99e-03      -1.33836406191996297821e+03\n",
      " 172       1.12e-04       4.95e-03      -1.33835911670799032436e+03\n",
      " 173       1.11e-04       4.90e-03      -1.33835421911103253478e+03\n",
      " 174       1.10e-04       4.85e-03      -1.33834936839185638746e+03\n",
      " 175       1.08e-04       4.80e-03      -1.33834456382862799728e+03\n",
      " 176       1.07e-04       4.76e-03      -1.33833980471450695404e+03\n",
      " 177       1.06e-04       4.71e-03      -1.33833509035726069669e+03\n",
      " 178       1.05e-04       4.67e-03      -1.33833042007888866465e+03\n",
      " 179       1.03e-04       4.63e-03      -1.33832579321525417981e+03\n",
      " 180       1.02e-04       4.58e-03      -1.33832120911573429112e+03\n",
      " 181       1.01e-04       4.54e-03      -1.33831666714287462128e+03\n",
      " 182       9.97e-05       4.50e-03      -1.33831216667205717386e+03\n",
      "Done!\n",
      "Processing the outputs... Done!\n",
      "mr.mash successfully executed in 1.799165 minutes!\n"
     ]
    }
   ],
   "source": [
    "# Fit mr.mash\n",
    "S0 <- compute_canonical_covs(r=5, singletons=TRUE, hetgrid=seq(0,1,0.25))\n",
    "univ_sumstats <- compute_univariate_sumstats(Xtrain, Ytrain, standardize=TRUE)\n",
    "scaling_grid <- autoselect.mixsd(univ_sumstats, mult=sqrt(2))^2\n",
    "S0 <- expand_covs(S0, scaling_grid)\n",
    "fit_mrmash <- mr.mash(X=Xtrain, Y=Ytrain, S0=S0)"
   ]
  },
  {
   "cell_type": "markdown",
   "metadata": {},
   "source": [
    "Finally, we'll fit mvSuSiE using uniform mixture weights and canonical covariance matrices `S0`, removing the first component in `S0` which is the \"null\" effect. Note that for the residual variance, we can either use the estimate from mr.mash fit (as shown here) or directly use the covariance of Y. For prior specification, more sophisticated approaches exist, particularly the multivariate adaptive shrinkage (mash) model (Urbut et al. 2019, Nature Genetics) which can learn complex patterns of effect sharing across tissues."
   ]
  },
  {
   "cell_type": "code",
   "execution_count": 6,
   "metadata": {},
   "outputs": [
    {
     "name": "stderr",
     "output_type": "stream",
     "text": [
      "Initializing data object...\n",
      "\n",
      "Dimension of X matrix: 250 500\n",
      "\n",
      "Dimension of Y matrix: 250 5\n",
      "\n",
      "Initializing prior object ...\n",
      "\n",
      "Number of components in the mixture prior: 161\n",
      "\n",
      "Running IBSS algorithm...\n",
      "\n",
      "Iteration 1 delta = Inf\n",
      "\n",
      "Iteration 2 delta = 0.354293163260763\n",
      "\n",
      "Iteration 3 delta = 0.170515964272226\n",
      "\n",
      "Iteration 4 delta = 0.144597648487434\n",
      "\n",
      "Iteration 5 delta = 0.129188886864767\n",
      "\n",
      "Iteration 6 delta = 0.117506011440355\n",
      "\n",
      "Iteration 7 delta = 0.108246785269557\n",
      "\n",
      "Iteration 8 delta = 0.10062553753005\n",
      "\n",
      "Iteration 9 delta = 0.0941665951988853\n",
      "\n",
      "Iteration 10 delta = 0.0885703448248023\n",
      "\n",
      "Iteration 11 delta = 0.268079373159253\n",
      "\n",
      "Iteration 12 delta = 1.52372943924934\n",
      "\n",
      "Iteration 13 delta = 0.0122211395946579\n",
      "\n",
      "Iteration 14 delta = 0.0109349285389726\n",
      "\n",
      "Iteration 15 delta = 0.00984430061612329\n",
      "\n",
      "Iteration 16 delta = 0.00891164230961294\n",
      "\n",
      "Iteration 17 delta = 0.00810779021435337\n",
      "\n",
      "Iteration 18 delta = 0.00740973923893762\n",
      "\n",
      "Iteration 19 delta = 0.00679926625048211\n",
      "\n",
      "Iteration 20 delta = 0.00626194910455524\n",
      "\n",
      "Iteration 21 delta = 0.00578635947567818\n",
      "\n",
      "Iteration 22 delta = 0.00536336863888209\n",
      "\n",
      "Iteration 23 delta = 0.00498557318087478\n",
      "\n",
      "Iteration 24 delta = 0.00464685398333131\n",
      "\n",
      "Iteration 25 delta = 0.00434206355362221\n",
      "\n",
      "Iteration 26 delta = 0.00406681851245594\n",
      "\n",
      "Iteration 27 delta = 0.00381736582039593\n",
      "\n",
      "Iteration 28 delta = 0.00359049293456337\n",
      "\n",
      "Iteration 29 delta = 0.00338345960585684\n",
      "\n",
      "Iteration 30 delta = 0.00319393786321598\n",
      "\n",
      "Iteration 31 delta = 0.00301995431550495\n",
      "\n",
      "Iteration 32 delta = 0.00285983395065159\n",
      "\n",
      "Iteration 33 delta = 0.00271214714734924\n",
      "\n",
      "Iteration 34 delta = 0.00257566227014649\n",
      "\n",
      "Iteration 35 delta = 0.00244930567464507\n",
      "\n",
      "Iteration 36 delta = 0.00233212988905507\n",
      "\n",
      "Iteration 37 delta = 0.00222328972859032\n",
      "\n",
      "Iteration 38 delta = 0.0021220252783678\n",
      "\n",
      "Iteration 39 delta = 0.00202765027029272\n",
      "\n",
      "Iteration 40 delta = 0.00193954428732468\n",
      "\n",
      "Iteration 41 delta = 0.00185714735289366\n",
      "\n",
      "Iteration 42 delta = 0.00177995577178081\n",
      "\n",
      "Iteration 43 delta = 0.00170751840778394\n",
      "\n",
      "Iteration 44 delta = 0.00163943289931012\n",
      "\n",
      "Iteration 45 delta = 0.00157534159893657\n",
      "\n",
      "Iteration 46 delta = 0.0015149272128383\n",
      "\n",
      "Iteration 47 delta = 0.0014579082196633\n",
      "\n",
      "Iteration 48 delta = 0.0014040342791759\n",
      "\n",
      "Iteration 49 delta = 0.00135308178982996\n",
      "\n",
      "Iteration 50 delta = 0.00130484975056788\n",
      "\n",
      "Iteration 51 delta = 0.00125915610919947\n",
      "\n",
      "Iteration 52 delta = 0.00121583460327201\n",
      "\n",
      "Iteration 53 delta = 0.00117473218028863\n",
      "\n",
      "Iteration 54 delta = 0.00113570695316412\n",
      "\n",
      "Iteration 55 delta = 0.00109862664862703\n",
      "\n",
      "Iteration 56 delta = 0.00106336748194735\n",
      "\n",
      "Iteration 57 delta = 0.00102981337954589\n",
      "\n",
      "Iteration 58 delta = 0.000997855453761076\n",
      "\n"
     ]
    }
   ],
   "source": [
    "# Get uniform weights\n",
    "n_comp <- length(S0[-1])\n",
    "w0 <- rep(1/n_comp, n_comp)\n",
    "\n",
    "# Create prior\n",
    "prior <- create_mixture_prior(list(matrices = S0[-1],\n",
    "                                  weights = w0),\n",
    "                              null_weight = 0)\n",
    "\n",
    "# Fit mvSuSiE using mr.mash residual variance\n",
    "fit_mvsusie <- mvsusie(Xtrain, Ytrain, standardize = TRUE,\n",
    "                       prior_variance = prior,\n",
    "                       residual_variance = fit_mrmash$V,\n",
    "                       estimate_prior_variance = TRUE)"
   ]
  },
  {
   "cell_type": "markdown",
   "metadata": {},
   "source": [
    "## Extract and compare weights\n",
    "\n",
    "Let's visualize the weights (coefficients) from different methods for the first tissue:"
   ]
  },
  {
   "cell_type": "code",
   "execution_count": 7,
   "metadata": {},
   "outputs": [
    {
     "data": {
      "image/png": "[encoded data removed]",
      "text/plain": [
       "Plot with title “mr.mash weights”"
      ]
     },
     "metadata": {
      "image/png": {
       "height": 420,
       "width": 420
      }
     },
     "output_type": "display_data"
    }
   ],
   "source": [
    "par(mfrow=c(1,3))\n",
    "plot(dat$B[,1], coef(fit_susie)[-1], main=\"SuSiE weights\", \n",
    "     xlab=\"True\", ylab=\"Estimated\")\n",
    "abline(0,1,col='red',lty=2)\n",
    "\n",
    "plot(dat$B[,1], coef(fit_mvsusie)[,1][-1], \n",
    "     main=\"mvSuSiE weights\", xlab=\"True\", ylab=\"Estimated\")\n",
    "abline(0,1,col='red',lty=2)\n",
    "\n",
    "plot(dat$B[,1], fit_mrmash$mu1[,1], \n",
    "     main=\"mr.mash weights\", xlab=\"True\", ylab=\"Estimated\")\n",
    "abline(0,1,col='red',lty=2)"
   ]
  },
  {
   "cell_type": "markdown",
   "metadata": {},
   "source": [
    "It seems all the 3 methods perform similarly, correctly captured two out of the 3 simulated effects."
   ]
  },
  {
   "cell_type": "markdown",
   "metadata": {},
   "source": [
    "## Simulate GWAS z-scores\n",
    "\n",
    "We'll simulate GWAS z-scores taking into account the LD structure (R). The z-scores are generated under the assumption that variants affecting gene expression in the first tissue also affect the trait with correlated effect sizes:"
   ]
  },
  {
   "cell_type": "code",
   "execution_count": 8,
   "metadata": {},
   "outputs": [
    {
     "data": {
      "image/png": "[encoded data removed]",
      "text/plain": [
       "plot without title"
      ]
     },
     "metadata": {
      "image/png": {
       "height": 420,
       "width": 420
      }
     },
     "output_type": "display_data"
    }
   ],
   "source": [
    "# Compute LD matrix\n",
    "R <- cor(Xtrain)\n",
    "# Simulate z-scores\n",
    "set.seed(1)\n",
    "true_effects <- sign(dat$B[,1]) * rnorm(length(dat$B[,1]), sd=3)\n",
    "z <- R %*% true_effects\n",
    "plot(z)"
   ]
  },
  {
   "cell_type": "markdown",
   "metadata": {},
   "source": [
    "## Perform TWAS\n",
    "\n",
    "Let's perform TWAS using weights from each method focusing on the first tissue:"
   ]
  },
  {
   "cell_type": "code",
   "execution_count": 9,
   "metadata": {},
   "outputs": [
    {
     "name": "stdout",
     "output_type": "stream",
     "text": [
      "   Method  Z_score      P_value\n",
      "1   SuSiE 5.106636 3.279447e-07\n",
      "2 mvSuSiE 5.104448 3.317613e-07\n",
      "3 mr.mash 5.099474 3.405982e-07\n"
     ]
    }
   ],
   "source": [
    "# Compute TWAS results using different weights\n",
    "twas_susie <- twas_z(coef(fit_susie)[-1], z, R)\n",
    "twas_mvsusie <- twas_z(coef(fit_mvsusie)[,1][-1], z, R)\n",
    "twas_mrmash <- twas_z(fit_mrmash$mu1[,1], z, R)\n",
    "\n",
    "# Display results\n",
    "results <- data.frame(\n",
    "  Method = c(\"SuSiE\", \"mvSuSiE\", \"mr.mash\"),\n",
    "  Z_score = c(twas_susie$z, twas_mvsusie$z, twas_mrmash$z),\n",
    "  P_value = c(twas_susie$pval, twas_mvsusie$pval, twas_mrmash$pval)\n",
    ")\n",
    "print(results)"
   ]
  },
  {
   "cell_type": "markdown",
   "metadata": {},
   "source": [
    "## Computing TWAS weights using additional regression methods\n",
    "\n",
    "The `pecotmr` package (https://github.com/cumc/pecotmr/) provides a unified interface for computing TWAS weights using various high-dimensional regression methods. Here's how to use them:\n"
   ]
  },
  {
   "cell_type": "code",
   "execution_count": 10,
   "metadata": {},
   "outputs": [
    {
     "name": "stderr",
     "output_type": "stream",
     "text": [
      "\n",
      "Attaching package: ‘pecotmr’\n",
      "\n",
      "\n",
      "The following object is masked _by_ ‘.GlobalEnv’:\n",
      "\n",
      "    twas_z\n",
      "\n",
      "\n"
     ]
    }
   ],
   "source": [
    "library(pecotmr)"
   ]
  },
  {
   "cell_type": "code",
   "execution_count": 9,
   "metadata": {},
   "outputs": [
    {
     "name": "stderr",
     "output_type": "stream",
     "text": [
      "Total time elapsed for susie_wrapper: 0.293999999999983\n",
      "\n"
     ]
    },
    {
     "name": "stdout",
     "output_type": "stream",
     "text": [
      "Mr.ASH terminated at iteration 1000.\n"
     ]
    },
    {
     "name": "stderr",
     "output_type": "stream",
     "text": [
      "Type of analysis performed: st-blr-individual-level-dense-ld\n",
      "\n",
      "Type of analysis performed: st-blr-individual-level-dense-ld\n",
      "\n",
      "Type of analysis performed: st-blr-individual-level-dense-ld\n",
      "\n",
      "Type of analysis performed: st-blr-individual-level-dense-ld\n",
      "\n",
      "Type of analysis performed: st-blr-individual-level-dense-ld\n",
      "\n"
     ]
    }
   ],
   "source": [
    "# Create a character vector of weight methods to use\n",
    "# Each method corresponds to a `*_weights()` function in pecotmr\n",
    "w_methods <- c(\"susie_weights\", \"enet_weights\", \"lasso_weights\", \"mrash_weights\", \n",
    "            \"bayes_n_weights\", \"bayes_l_weights\", \"bayes_a_weights\", \n",
    "            \"bayes_c_weights\", \"bayes_r_weights\")\n",
    "\n",
    "# Compute weights using all methods\n",
    "# Only using the first tissue for demonstration\n",
    "weights <- twas_weights(Xtrain, Ytrain[,1], \n",
    "                       weight_methods = w_methods)"
   ]
  },
  {
   "cell_type": "markdown",
   "metadata": {},
   "source": [
    "Vasualize weights from different methods against true effects,"
   ]
  },
  {
   "cell_type": "code",
   "execution_count": 10,
   "metadata": {},
   "outputs": [
    {
     "data": {
      "image/png": "[encoded data removed]",
      "text/plain": [
       "Plot with title “bayes_r_weights”"
      ]
     },
     "metadata": {
      "image/png": {
       "height": 420,
       "width": 420
      }
     },
     "output_type": "display_data"
    }
   ],
   "source": [
    "par(mfrow = c(3,3), mar = c(4,4,3,1))\n",
    "for (method in w_methods) {\n",
    "  plot(dat$B[,1], weights[[method]], \n",
    "       main = method,\n",
    "       xlab = \"True effects\", \n",
    "       ylab = \"Estimated weights\",\n",
    "       pch = 20)\n",
    "  abline(0, 1, col = 'red', lty = 2)\n",
    "}"
   ]
  },
  {
   "cell_type": "markdown",
   "metadata": {},
   "source": [
    "Performance of these method can be assessed using cross validation as one way to select the best model for TWAS test,"
   ]
  },
  {
   "cell_type": "code",
   "execution_count": 23,
   "metadata": {},
   "outputs": [
    {
     "name": "stderr",
     "output_type": "stream",
     "text": [
      "Y converted to matrix of 250 rows and 1 columns.\n",
      "\n",
      "0 out of 500 total variants dropped due to quality control on X matrix.\n",
      "\n",
      "Additional 0 variants dropped after considering missing data in Y matrix, with 500 variants left.\n",
      "\n",
      "Total time elapsed for susie_wrapper: 0.0910000000000082\n",
      "\n"
     ]
    },
    {
     "name": "stdout",
     "output_type": "stream",
     "text": [
      "Mr.ASH terminated at iteration 799.\n"
     ]
    },
    {
     "name": "stderr",
     "output_type": "stream",
     "text": [
      "Type of analysis performed: st-blr-individual-level-dense-ld\n",
      "\n",
      "Type of analysis performed: st-blr-individual-level-dense-ld\n",
      "\n",
      "Type of analysis performed: st-blr-individual-level-dense-ld\n",
      "\n",
      "Type of analysis performed: st-blr-individual-level-dense-ld\n",
      "\n",
      "Type of analysis performed: st-blr-individual-level-dense-ld\n",
      "\n",
      "0 out of 500 total variants dropped due to quality control on X matrix.\n",
      "\n",
      "Additional 0 variants dropped after considering missing data in Y matrix, with 500 variants left.\n",
      "\n",
      "Total time elapsed for susie_wrapper: 0.0610000000000355\n",
      "\n"
     ]
    },
    {
     "name": "stdout",
     "output_type": "stream",
     "text": [
      "Mr.ASH terminated at iteration 673.\n"
     ]
    },
    {
     "name": "stderr",
     "output_type": "stream",
     "text": [
      "Type of analysis performed: st-blr-individual-level-dense-ld\n",
      "\n",
      "Type of analysis performed: st-blr-individual-level-dense-ld\n",
      "\n",
      "Type of analysis performed: st-blr-individual-level-dense-ld\n",
      "\n",
      "Type of analysis performed: st-blr-individual-level-dense-ld\n",
      "\n",
      "Type of analysis performed: st-blr-individual-level-dense-ld\n",
      "\n",
      "0 out of 500 total variants dropped due to quality control on X matrix.\n",
      "\n",
      "Additional 0 variants dropped after considering missing data in Y matrix, with 500 variants left.\n",
      "\n",
      "Total time elapsed for susie_wrapper: 0.0449999999999591\n",
      "\n"
     ]
    },
    {
     "name": "stdout",
     "output_type": "stream",
     "text": [
      "Mr.ASH terminated at iteration 568.\n"
     ]
    },
    {
     "name": "stderr",
     "output_type": "stream",
     "text": [
      "Type of analysis performed: st-blr-individual-level-dense-ld\n",
      "\n",
      "Type of analysis performed: st-blr-individual-level-dense-ld\n",
      "\n",
      "Type of analysis performed: st-blr-individual-level-dense-ld\n",
      "\n",
      "Type of analysis performed: st-blr-individual-level-dense-ld\n",
      "\n",
      "Type of analysis performed: st-blr-individual-level-dense-ld\n",
      "\n",
      "0 out of 500 total variants dropped due to quality control on X matrix.\n",
      "\n",
      "Additional 0 variants dropped after considering missing data in Y matrix, with 500 variants left.\n",
      "\n",
      "Total time elapsed for susie_wrapper: 0.0670000000000073\n",
      "\n"
     ]
    },
    {
     "name": "stdout",
     "output_type": "stream",
     "text": [
      "Mr.ASH terminated at iteration 697.\n"
     ]
    },
    {
     "name": "stderr",
     "output_type": "stream",
     "text": [
      "Type of analysis performed: st-blr-individual-level-dense-ld\n",
      "\n",
      "Type of analysis performed: st-blr-individual-level-dense-ld\n",
      "\n",
      "Type of analysis performed: st-blr-individual-level-dense-ld\n",
      "\n",
      "Type of analysis performed: st-blr-individual-level-dense-ld\n",
      "\n",
      "Type of analysis performed: st-blr-individual-level-dense-ld\n",
      "\n",
      "0 out of 500 total variants dropped due to quality control on X matrix.\n",
      "\n",
      "Additional 0 variants dropped after considering missing data in Y matrix, with 500 variants left.\n",
      "\n",
      "Total time elapsed for susie_wrapper: 0.0299999999999727\n",
      "\n"
     ]
    },
    {
     "name": "stdout",
     "output_type": "stream",
     "text": [
      "Mr.ASH terminated at iteration 830.\n"
     ]
    },
    {
     "name": "stderr",
     "output_type": "stream",
     "text": [
      "Type of analysis performed: st-blr-individual-level-dense-ld\n",
      "\n",
      "Type of analysis performed: st-blr-individual-level-dense-ld\n",
      "\n",
      "Type of analysis performed: st-blr-individual-level-dense-ld\n",
      "\n",
      "Type of analysis performed: st-blr-individual-level-dense-ld\n",
      "\n",
      "Type of analysis performed: st-blr-individual-level-dense-ld\n",
      "\n"
     ]
    }
   ],
   "source": [
    "weights_cv <- twas_weights_cv(Xtrain, Ytrain[,1], \n",
    "                       weight_methods = w_methods, fold = 5)"
   ]
  },
  {
   "cell_type": "code",
   "execution_count": 24,
   "metadata": {},
   "outputs": [
    {
     "data": {
      "text/html": [
       "<dl>\n",
       "\t<dt>$susie_performance</dt>\n",
       "\t\t<dd><table class=\"dataframe\">\n",
       "<caption>A matrix: 1 × 6 of type dbl</caption>\n",
       "<thead>\n",
       "\t<tr><th></th><th scope=col>corr</th><th scope=col>rsq</th><th scope=col>adj_rsq</th><th scope=col>pval</th><th scope=col>RMSE</th><th scope=col>MAE</th></tr>\n",
       "</thead>\n",
       "<tbody>\n",
       "\t<tr><th scope=row>context_1</th><td>0.4839792</td><td>0.2342358</td><td>0.2311481</td><td>4.382576e-16</td><td>1.279873</td><td>1.085475</td></tr>\n",
       "</tbody>\n",
       "</table>\n",
       "</dd>\n",
       "\t<dt>$enet_performance</dt>\n",
       "\t\t<dd><table class=\"dataframe\">\n",
       "<caption>A matrix: 1 × 6 of type dbl</caption>\n",
       "<thead>\n",
       "\t<tr><th></th><th scope=col>corr</th><th scope=col>rsq</th><th scope=col>adj_rsq</th><th scope=col>pval</th><th scope=col>RMSE</th><th scope=col>MAE</th></tr>\n",
       "</thead>\n",
       "<tbody>\n",
       "\t<tr><th scope=row>context_1</th><td>0.4330276</td><td>0.1875129</td><td>0.1842367</td><td>7.547035e-13</td><td>1.297354</td><td>1.096022</td></tr>\n",
       "</tbody>\n",
       "</table>\n",
       "</dd>\n",
       "\t<dt>$lasso_performance</dt>\n",
       "\t\t<dd><table class=\"dataframe\">\n",
       "<caption>A matrix: 1 × 6 of type dbl</caption>\n",
       "<thead>\n",
       "\t<tr><th></th><th scope=col>corr</th><th scope=col>rsq</th><th scope=col>adj_rsq</th><th scope=col>pval</th><th scope=col>RMSE</th><th scope=col>MAE</th></tr>\n",
       "</thead>\n",
       "<tbody>\n",
       "\t<tr><th scope=row>context_1</th><td>0.454916</td><td>0.2069486</td><td>0.2037508</td><td>3.575133e-14</td><td>1.291538</td><td>1.093121</td></tr>\n",
       "</tbody>\n",
       "</table>\n",
       "</dd>\n",
       "\t<dt>$mrash_performance</dt>\n",
       "\t\t<dd><table class=\"dataframe\">\n",
       "<caption>A matrix: 1 × 6 of type dbl</caption>\n",
       "<thead>\n",
       "\t<tr><th></th><th scope=col>corr</th><th scope=col>rsq</th><th scope=col>adj_rsq</th><th scope=col>pval</th><th scope=col>RMSE</th><th scope=col>MAE</th></tr>\n",
       "</thead>\n",
       "<tbody>\n",
       "\t<tr><th scope=row>context_1</th><td>0.4744782</td><td>0.2251296</td><td>0.2220051</td><td>1.934996e-15</td><td>1.283819</td><td>1.087407</td></tr>\n",
       "</tbody>\n",
       "</table>\n",
       "</dd>\n",
       "\t<dt>$bayes_n_performance</dt>\n",
       "\t\t<dd><table class=\"dataframe\">\n",
       "<caption>A matrix: 1 × 6 of type dbl</caption>\n",
       "<thead>\n",
       "\t<tr><th></th><th scope=col>corr</th><th scope=col>rsq</th><th scope=col>adj_rsq</th><th scope=col>pval</th><th scope=col>RMSE</th><th scope=col>MAE</th></tr>\n",
       "</thead>\n",
       "<tbody>\n",
       "\t<tr><th scope=row>context_1</th><td>0.1366577</td><td>0.01867532</td><td>0.01471836</td><td>0.03076783</td><td>1.340607</td><td>1.119773</td></tr>\n",
       "</tbody>\n",
       "</table>\n",
       "</dd>\n",
       "\t<dt>$bayes_l_performance</dt>\n",
       "\t\t<dd><table class=\"dataframe\">\n",
       "<caption>A matrix: 1 × 6 of type dbl</caption>\n",
       "<thead>\n",
       "\t<tr><th></th><th scope=col>corr</th><th scope=col>rsq</th><th scope=col>adj_rsq</th><th scope=col>pval</th><th scope=col>RMSE</th><th scope=col>MAE</th></tr>\n",
       "</thead>\n",
       "<tbody>\n",
       "\t<tr><th scope=row>context_1</th><td>0.3168869</td><td>0.1004173</td><td>0.09678994</td><td>3.090957e-07</td><td>1.320318</td><td>1.107195</td></tr>\n",
       "</tbody>\n",
       "</table>\n",
       "</dd>\n",
       "\t<dt>$bayes_a_performance</dt>\n",
       "\t\t<dd><table class=\"dataframe\">\n",
       "<caption>A matrix: 1 × 6 of type dbl</caption>\n",
       "<thead>\n",
       "\t<tr><th></th><th scope=col>corr</th><th scope=col>rsq</th><th scope=col>adj_rsq</th><th scope=col>pval</th><th scope=col>RMSE</th><th scope=col>MAE</th></tr>\n",
       "</thead>\n",
       "<tbody>\n",
       "\t<tr><th scope=row>context_1</th><td>0.4244867</td><td>0.180189</td><td>0.1768833</td><td>2.340679e-12</td><td>1.300706</td><td>1.096176</td></tr>\n",
       "</tbody>\n",
       "</table>\n",
       "</dd>\n",
       "\t<dt>$bayes_c_performance</dt>\n",
       "\t\t<dd><table class=\"dataframe\">\n",
       "<caption>A matrix: 1 × 6 of type dbl</caption>\n",
       "<thead>\n",
       "\t<tr><th></th><th scope=col>corr</th><th scope=col>rsq</th><th scope=col>adj_rsq</th><th scope=col>pval</th><th scope=col>RMSE</th><th scope=col>MAE</th></tr>\n",
       "</thead>\n",
       "<tbody>\n",
       "\t<tr><th scope=row>context_1</th><td>0.4805811</td><td>0.2309582</td><td>0.2278572</td><td>7.493737e-16</td><td>1.287307</td><td>1.092066</td></tr>\n",
       "</tbody>\n",
       "</table>\n",
       "</dd>\n",
       "\t<dt>$bayes_r_performance</dt>\n",
       "\t\t<dd><table class=\"dataframe\">\n",
       "<caption>A matrix: 1 × 6 of type dbl</caption>\n",
       "<thead>\n",
       "\t<tr><th></th><th scope=col>corr</th><th scope=col>rsq</th><th scope=col>adj_rsq</th><th scope=col>pval</th><th scope=col>RMSE</th><th scope=col>MAE</th></tr>\n",
       "</thead>\n",
       "<tbody>\n",
       "\t<tr><th scope=row>context_1</th><td>0.4554303</td><td>0.2074167</td><td>0.2042208</td><td>3.319078e-14</td><td>1.287523</td><td>1.086394</td></tr>\n",
       "</tbody>\n",
       "</table>\n",
       "</dd>\n",
       "</dl>\n"
      ],
      "text/latex": [
       "\\begin{description}\n",
       "\\item[\\$susie\\_performance] A matrix: 1 × 6 of type dbl\n",
       "\\begin{tabular}{r|llllll}\n",
       "  & corr & rsq & adj\\_rsq & pval & RMSE & MAE\\\\\n",
       "\\hline\n",
       "\tcontext\\_1 & 0.4839792 & 0.2342358 & 0.2311481 & 4.382576e-16 & 1.279873 & 1.085475\\\\\n",
       "\\end{tabular}\n",
       "\n",
       "\\item[\\$enet\\_performance] A matrix: 1 × 6 of type dbl\n",
       "\\begin{tabular}{r|llllll}\n",
       "  & corr & rsq & adj\\_rsq & pval & RMSE & MAE\\\\\n",
       "\\hline\n",
       "\tcontext\\_1 & 0.4330276 & 0.1875129 & 0.1842367 & 7.547035e-13 & 1.297354 & 1.096022\\\\\n",
       "\\end{tabular}\n",
       "\n",
       "\\item[\\$lasso\\_performance] A matrix: 1 × 6 of type dbl\n",
       "\\begin{tabular}{r|llllll}\n",
       "  & corr & rsq & adj\\_rsq & pval & RMSE & MAE\\\\\n",
       "\\hline\n",
       "\tcontext\\_1 & 0.454916 & 0.2069486 & 0.2037508 & 3.575133e-14 & 1.291538 & 1.093121\\\\\n",
       "\\end{tabular}\n",
       "\n",
       "\\item[\\$mrash\\_performance] A matrix: 1 × 6 of type dbl\n",
       "\\begin{tabular}{r|llllll}\n",
       "  & corr & rsq & adj\\_rsq & pval & RMSE & MAE\\\\\n",
       "\\hline\n",
       "\tcontext\\_1 & 0.4744782 & 0.2251296 & 0.2220051 & 1.934996e-15 & 1.283819 & 1.087407\\\\\n",
       "\\end{tabular}\n",
       "\n",
       "\\item[\\$bayes\\_n\\_performance] A matrix: 1 × 6 of type dbl\n",
       "\\begin{tabular}{r|llllll}\n",
       "  & corr & rsq & adj\\_rsq & pval & RMSE & MAE\\\\\n",
       "\\hline\n",
       "\tcontext\\_1 & 0.1366577 & 0.01867532 & 0.01471836 & 0.03076783 & 1.340607 & 1.119773\\\\\n",
       "\\end{tabular}\n",
       "\n",
       "\\item[\\$bayes\\_l\\_performance] A matrix: 1 × 6 of type dbl\n",
       "\\begin{tabular}{r|llllll}\n",
       "  & corr & rsq & adj\\_rsq & pval & RMSE & MAE\\\\\n",
       "\\hline\n",
       "\tcontext\\_1 & 0.3168869 & 0.1004173 & 0.09678994 & 3.090957e-07 & 1.320318 & 1.107195\\\\\n",
       "\\end{tabular}\n",
       "\n",
       "\\item[\\$bayes\\_a\\_performance] A matrix: 1 × 6 of type dbl\n",
       "\\begin{tabular}{r|llllll}\n",
       "  & corr & rsq & adj\\_rsq & pval & RMSE & MAE\\\\\n",
       "\\hline\n",
       "\tcontext\\_1 & 0.4244867 & 0.180189 & 0.1768833 & 2.340679e-12 & 1.300706 & 1.096176\\\\\n",
       "\\end{tabular}\n",
       "\n",
       "\\item[\\$bayes\\_c\\_performance] A matrix: 1 × 6 of type dbl\n",
       "\\begin{tabular}{r|llllll}\n",
       "  & corr & rsq & adj\\_rsq & pval & RMSE & MAE\\\\\n",
       "\\hline\n",
       "\tcontext\\_1 & 0.4805811 & 0.2309582 & 0.2278572 & 7.493737e-16 & 1.287307 & 1.092066\\\\\n",
       "\\end{tabular}\n",
       "\n",
       "\\item[\\$bayes\\_r\\_performance] A matrix: 1 × 6 of type dbl\n",
       "\\begin{tabular}{r|llllll}\n",
       "  & corr & rsq & adj\\_rsq & pval & RMSE & MAE\\\\\n",
       "\\hline\n",
       "\tcontext\\_1 & 0.4554303 & 0.2074167 & 0.2042208 & 3.319078e-14 & 1.287523 & 1.086394\\\\\n",
       "\\end{tabular}\n",
       "\n",
       "\\end{description}\n"
      ],
      "text/markdown": [
       "$susie_performance\n",
       ":   \n",
       "A matrix: 1 × 6 of type dbl\n",
       "\n",
       "| <!--/--> | corr | rsq | adj_rsq | pval | RMSE | MAE |\n",
       "|---|---|---|---|---|---|---|\n",
       "| context_1 | 0.4839792 | 0.2342358 | 0.2311481 | 4.382576e-16 | 1.279873 | 1.085475 |\n",
       "\n",
       "\n",
       "$enet_performance\n",
       ":   \n",
       "A matrix: 1 × 6 of type dbl\n",
       "\n",
       "| <!--/--> | corr | rsq | adj_rsq | pval | RMSE | MAE |\n",
       "|---|---|---|---|---|---|---|\n",
       "| context_1 | 0.4330276 | 0.1875129 | 0.1842367 | 7.547035e-13 | 1.297354 | 1.096022 |\n",
       "\n",
       "\n",
       "$lasso_performance\n",
       ":   \n",
       "A matrix: 1 × 6 of type dbl\n",
       "\n",
       "| <!--/--> | corr | rsq | adj_rsq | pval | RMSE | MAE |\n",
       "|---|---|---|---|---|---|---|\n",
       "| context_1 | 0.454916 | 0.2069486 | 0.2037508 | 3.575133e-14 | 1.291538 | 1.093121 |\n",
       "\n",
       "\n",
       "$mrash_performance\n",
       ":   \n",
       "A matrix: 1 × 6 of type dbl\n",
       "\n",
       "| <!--/--> | corr | rsq | adj_rsq | pval | RMSE | MAE |\n",
       "|---|---|---|---|---|---|---|\n",
       "| context_1 | 0.4744782 | 0.2251296 | 0.2220051 | 1.934996e-15 | 1.283819 | 1.087407 |\n",
       "\n",
       "\n",
       "$bayes_n_performance\n",
       ":   \n",
       "A matrix: 1 × 6 of type dbl\n",
       "\n",
       "| <!--/--> | corr | rsq | adj_rsq | pval | RMSE | MAE |\n",
       "|---|---|---|---|---|---|---|\n",
       "| context_1 | 0.1366577 | 0.01867532 | 0.01471836 | 0.03076783 | 1.340607 | 1.119773 |\n",
       "\n",
       "\n",
       "$bayes_l_performance\n",
       ":   \n",
       "A matrix: 1 × 6 of type dbl\n",
       "\n",
       "| <!--/--> | corr | rsq | adj_rsq | pval | RMSE | MAE |\n",
       "|---|---|---|---|---|---|---|\n",
       "| context_1 | 0.3168869 | 0.1004173 | 0.09678994 | 3.090957e-07 | 1.320318 | 1.107195 |\n",
       "\n",
       "\n",
       "$bayes_a_performance\n",
       ":   \n",
       "A matrix: 1 × 6 of type dbl\n",
       "\n",
       "| <!--/--> | corr | rsq | adj_rsq | pval | RMSE | MAE |\n",
       "|---|---|---|---|---|---|---|\n",
       "| context_1 | 0.4244867 | 0.180189 | 0.1768833 | 2.340679e-12 | 1.300706 | 1.096176 |\n",
       "\n",
       "\n",
       "$bayes_c_performance\n",
       ":   \n",
       "A matrix: 1 × 6 of type dbl\n",
       "\n",
       "| <!--/--> | corr | rsq | adj_rsq | pval | RMSE | MAE |\n",
       "|---|---|---|---|---|---|---|\n",
       "| context_1 | 0.4805811 | 0.2309582 | 0.2278572 | 7.493737e-16 | 1.287307 | 1.092066 |\n",
       "\n",
       "\n",
       "$bayes_r_performance\n",
       ":   \n",
       "A matrix: 1 × 6 of type dbl\n",
       "\n",
       "| <!--/--> | corr | rsq | adj_rsq | pval | RMSE | MAE |\n",
       "|---|---|---|---|---|---|---|\n",
       "| context_1 | 0.4554303 | 0.2074167 | 0.2042208 | 3.319078e-14 | 1.287523 | 1.086394 |\n",
       "\n",
       "\n",
       "\n",
       "\n"
      ],
      "text/plain": [
       "$susie_performance\n",
       "               corr       rsq   adj_rsq         pval     RMSE      MAE\n",
       "context_1 0.4839792 0.2342358 0.2311481 4.382576e-16 1.279873 1.085475\n",
       "\n",
       "$enet_performance\n",
       "               corr       rsq   adj_rsq         pval     RMSE      MAE\n",
       "context_1 0.4330276 0.1875129 0.1842367 7.547035e-13 1.297354 1.096022\n",
       "\n",
       "$lasso_performance\n",
       "              corr       rsq   adj_rsq         pval     RMSE      MAE\n",
       "context_1 0.454916 0.2069486 0.2037508 3.575133e-14 1.291538 1.093121\n",
       "\n",
       "$mrash_performance\n",
       "               corr       rsq   adj_rsq         pval     RMSE      MAE\n",
       "context_1 0.4744782 0.2251296 0.2220051 1.934996e-15 1.283819 1.087407\n",
       "\n",
       "$bayes_n_performance\n",
       "               corr        rsq    adj_rsq       pval     RMSE      MAE\n",
       "context_1 0.1366577 0.01867532 0.01471836 0.03076783 1.340607 1.119773\n",
       "\n",
       "$bayes_l_performance\n",
       "               corr       rsq    adj_rsq         pval     RMSE      MAE\n",
       "context_1 0.3168869 0.1004173 0.09678994 3.090957e-07 1.320318 1.107195\n",
       "\n",
       "$bayes_a_performance\n",
       "               corr      rsq   adj_rsq         pval     RMSE      MAE\n",
       "context_1 0.4244867 0.180189 0.1768833 2.340679e-12 1.300706 1.096176\n",
       "\n",
       "$bayes_c_performance\n",
       "               corr       rsq   adj_rsq         pval     RMSE      MAE\n",
       "context_1 0.4805811 0.2309582 0.2278572 7.493737e-16 1.287307 1.092066\n",
       "\n",
       "$bayes_r_performance\n",
       "               corr       rsq   adj_rsq         pval     RMSE      MAE\n",
       "context_1 0.4554303 0.2074167 0.2042208 3.319078e-14 1.287523 1.086394\n"
      ]
     },
     "metadata": {},
     "output_type": "display_data"
    }
   ],
   "source": [
    "weights_cv$performance"
   ]
  },
  {
   "cell_type": "markdown",
   "metadata": {},
   "source": [
    "Based on cross validation performance the best model for this data-set is SuSiE, followed by BayesC. This is not suprising considering how the data was simulated (why?)."
   ]
  },
  {
   "cell_type": "markdown",
   "metadata": {},
   "source": [
    "Finally we demonstrate TWAS test using weights from each method,"
   ]
  },
  {
   "cell_type": "code",
   "execution_count": 13,
   "metadata": {},
   "outputs": [
    {
     "name": "stdout",
     "output_type": "stream",
     "text": [
      "           Method  Z_score      P_value\n",
      "1   susie_weights 5.109448 3.231006e-07\n",
      "2    enet_weights 4.964651 6.882460e-07\n",
      "3   lasso_weights 4.917999 8.743333e-07\n",
      "4   mrash_weights 5.048043 4.463589e-07\n",
      "5 bayes_n_weights 2.815987 4.862758e-03\n",
      "6 bayes_l_weights 3.410621 6.481514e-04\n",
      "7 bayes_a_weights 3.714835 2.033363e-04\n",
      "8 bayes_c_weights 5.080192 3.770535e-07\n",
      "9 bayes_r_weights 4.648334 3.346266e-06\n"
     ]
    }
   ],
   "source": [
    "twas_results <- data.frame(\n",
    "  Method = methods,\n",
    "  Z_score = NA,\n",
    "  P_value = NA\n",
    ")\n",
    "\n",
    "for (i in seq_along(methods)) {\n",
    "  method <- methods[i]\n",
    "  res <- twas_z(weights[[method]], z, R)\n",
    "  twas_results$Z_score[i] <- res$z\n",
    "  twas_results$P_value[i] <- res$pval\n",
    "}\n",
    "\n",
    "print(twas_results)"
   ]
  }
 ],
 "metadata": {
  "kernelspec": {
   "display_name": "R",
   "language": "R",
   "name": "ir"
  },
  "language_info": {
   "codemirror_mode": "r",
   "file_extension": ".r",
   "mimetype": "text/x-r-source",
   "name": "R",
   "pygments_lexer": "r",
   "version": "4.4.2"
  }
 },
 "nbformat": 4,
 "nbformat_minor": 4
}
