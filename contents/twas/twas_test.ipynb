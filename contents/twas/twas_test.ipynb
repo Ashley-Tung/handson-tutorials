{
 "cells": [
  {
   "cell_type": "markdown",
   "metadata": {},
   "source": [
    "# Transcriptome-Wide Association Study (TWAS) using High-dimensional Regression Methods\n",
    "\n",
    "This notebook demonstrates how to perform Transcriptome-Wide Association Studies (TWAS) using weights derived from various high-dimensional regression methods including SuSiE, mvSuSiE and mr.mash. TWAS integrates eQTL data with GWAS summary statistics to identify gene-trait associations. The key idea is that if genetic variants affect both gene expression (eQTL effects) and trait (GWAS effects), we can aggregate these effects using learned weights from expression data to test for gene-trait associations.\n",
    "\n",
    "For details on high-dimensional regression methods used to obtain weights, please refer to:\n",
    "- `finemapping.ipynb`\n",
    "- `multivariate_finemapping.ipynb`\n",
    "- `mr_mash.ipynb`\n",
    "\n",
    "Although we simulate expression data in 5 tissues to demonstrate multivariate methods capabilities, for simplicity in this TWAS exercise we will focus on using weights from the first tissue context to perform TWAS test."
   ]
  },
  {
   "cell_type": "code",
   "execution_count": null,
   "metadata": {},
   "outputs": [],
   "source": [
    "library(susieR)\n",
    "library(mvsusieR)\n",
    "library(mr.mash.alpha)\n",
    "set.seed(1)"
   ]
  },
  {
   "cell_type": "markdown",
   "metadata": {},
   "source": [
    "## TWAS Test Definition\n",
    "\n",
    "The goal of this exercise is to demonstrate how to compute TWAS (Transcriptome-Wide Association Study) test statistics using weights learned from various high-dimensional regression methods. Before we proceed with model fitting, we first introduce the TWAS test statistic.\n",
    "\n",
    "The TWAS test combines eQTL weights with GWAS z-scores to compute a gene-level association statistic. The test statistic is computed as:\n",
    "\n",
    "$$Z_{\\text{TWAS}} = \\frac{w^T z}{\\sqrt{w^T R w}}$$\n",
    "\n",
    "where $w$ is the vector of weights, $z$ is the vector of GWAS z-scores, and $R$ is the LD matrix. This is implemented in the following function:"
   ]
  },
  {
   "cell_type": "code",
   "execution_count": null,
   "metadata": {},
   "outputs": [],
   "source": [
    "twas_z <- function(weights, z, R = NULL, X = NULL) {\n",
    "  if (length(weights) != length(z)) {\n",
    "    stop(\"Weights and z-scores must have the same length.\")\n",
    "  }\n",
    "  if (is.null(R)) R <- cor(X)\n",
    "  stat <- t(weights) %*% z\n",
    "  denom <- t(weights) %*% R %*% weights\n",
    "  zscore <- stat / sqrt(denom)\n",
    "  pval <- pchisq(zscore * zscore, 1, lower.tail = FALSE)\n",
    "  return(list(z = zscore, pval = pval))\n",
    "}"
   ]
  },
  {
   "cell_type": "markdown",
   "metadata": {},
   "source": [
    "## Simulate molecular trait data\n",
    "\n",
    "We'll use the same simulation setup as in the mr.mash tutorial, simulating expression of a gene across 5 tissues:"
   ]
  },
  {
   "cell_type": "code",
   "execution_count": null,
   "metadata": {},
   "outputs": [],
   "source": [
    "dat <- simulate_mr_mash_data(n = 300, p = 500, p_causal = 3, r = 5, pve = 0.25, V_cor = 0.25)\n",
    "# Split into training and test sets\n",
    "ntest <- 50\n",
    "Ytrain <- dat$Y[-(1:ntest),]\n",
    "Xtrain <- dat$X[-(1:ntest),]\n",
    "Ytest <- dat$Y[1:ntest,]\n",
    "Xtest <- dat$X[1:ntest,]"
   ]
  },
  {
   "cell_type": "markdown",
   "metadata": {},
   "source": [
    "## Obtain weights from different methods\n",
    "\n",
    "First, let's fit univariate SuSiE using the first tissue:"
   ]
  },
  {
   "cell_type": "code",
   "execution_count": null,
   "metadata": {},
   "outputs": [],
   "source": [
    "fit_susie <- susie(Xtrain, Ytrain[,1], L=10)"
   ]
  },
  {
   "cell_type": "markdown",
   "metadata": {},
   "source": [
    "Next, we'll fit mr.mash, which will also provide residual variance estimates:"
   ]
  },
  {
   "cell_type": "code",
   "execution_count": null,
   "metadata": {},
   "outputs": [],
   "source": [
    "# Fit mr.mash\n",
    "S0 <- compute_canonical_covs(r=5, singletons=TRUE, hetgrid=seq(0,1,0.25))\n",
    "univ_sumstats <- compute_univariate_sumstats(Xtrain, Ytrain, standardize=TRUE)\n",
    "scaling_grid <- autoselect.mixsd(univ_sumstats, mult=sqrt(2))^2\n",
    "S0 <- expand_covs(S0, scaling_grid)\n",
    "fit_mrmash <- mr.mash(X=Xtrain, Y=Ytrain, S0=S0)"
   ]
  },
  {
   "cell_type": "markdown",
   "metadata": {},
   "source": [
    "Finally, we'll fit mvSuSiE using uniform mixture weights and canonical covariance matrices `S0`, removing the first component in `S0` which is the \"null\" effect. Note that for the residual variance, we can either use the estimate from mr.mash fit (as shown here) or directly use the covariance of Y. For prior specification, more sophisticated approaches exist, particularly the multivariate adaptive shrinkage (mash) model (Urbut et al. 2019, Nature Genetics) which can learn complex patterns of effect sharing across tissues."
   ]
  },
  {
   "cell_type": "code",
   "execution_count": null,
   "metadata": {},
   "outputs": [],
   "source": [
    "# Get uniform weights\n",
    "n_comp <- length(S0[-1])\n",
    "w0 <- rep(1/n_comp, n_comp)\n",
    "\n",
    "# Create prior\n",
    "prior <- create_mixture_prior(list(matrices = S0[-1],\n",
    "                                  weights = w0),\n",
    "                              null_weight = 0)\n",
    "\n",
    "# Fit mvSuSiE using mr.mash residual variance\n",
    "fit_mvsusie <- mvsusie(Xtrain, Ytrain, standardize = TRUE,\n",
    "                       prior_variance = prior,\n",
    "                       residual_variance = fit_mrmash$V,\n",
    "                       estimate_prior_variance = TRUE)"
   ]
  },
  {
   "cell_type": "markdown",
   "metadata": {},
   "source": [
    "## Extract and compare weights\n",
    "\n",
    "Let's visualize the weights (coefficients) from different methods for the first tissue:"
   ]
  },
  {
   "cell_type": "code",
   "execution_count": null,
   "metadata": {},
   "outputs": [],
   "source": [
    "par(mfrow=c(1,3))\n",
    "plot(dat$B[,1], coef(fit_susie)[-1], main=\"SuSiE weights\", \n",
    "     xlab=\"True\", ylab=\"Estimated\")\n",
    "abline(0,1,col='red',lty=2)\n",
    "\n",
    "plot(dat$B[,1], coef(fit_mvsusie)[,1][-1], \n",
    "     main=\"mvSuSiE weights\", xlab=\"True\", ylab=\"Estimated\")\n",
    "abline(0,1,col='red',lty=2)\n",
    "\n",
    "plot(dat$B[,1], fit_mrmash$mu1[,1], \n",
    "     main=\"mr.mash weights\", xlab=\"True\", ylab=\"Estimated\")\n",
    "abline(0,1,col='red',lty=2)"
   ]
  },
  {
   "cell_type": "markdown",
   "metadata": {},
   "source": [
    "It seems all the 3 methods perform similarly, correctly captured two out of the 3 simulated effects."
   ]
  },
  {
   "cell_type": "markdown",
   "metadata": {},
   "source": [
    "## Simulate GWAS z-scores\n",
    "\n",
    "We'll simulate GWAS z-scores taking into account the LD structure (R). The z-scores are generated under the assumption that variants affecting gene expression in the first tissue also affect the trait with correlated effect sizes:"
   ]
  },
  {
   "cell_type": "code",
   "execution_count": null,
   "metadata": {},
   "outputs": [],
   "source": [
    "# Compute LD matrix\n",
    "R <- cor(Xtrain)\n",
    "# Simulate z-scores\n",
    "set.seed(1)\n",
    "true_effects <- sign(dat$B[,1]) * rnorm(length(dat$B[,1]), sd=3)\n",
    "z <- R %*% true_effects\n",
    "plot(z)"
   ]
  },
  {
   "cell_type": "markdown",
   "metadata": {},
   "source": [
    "## Perform TWAS\n",
    "\n",
    "Let's perform TWAS using weights from each method focusing on the first tissue:"
   ]
  },
  {
   "cell_type": "code",
   "execution_count": null,
   "metadata": {},
   "outputs": [],
   "source": [
    "# Compute TWAS results using different weights\n",
    "twas_susie <- twas_z(coef(fit_susie)[-1], z, R)\n",
    "twas_mvsusie <- twas_z(coef(fit_mvsusie)[,1][-1], z, R)\n",
    "twas_mrmash <- twas_z(fit_mrmash$mu1[,1], z, R)\n",
    "\n",
    "# Display results\n",
    "results <- data.frame(\n",
    "  Method = c(\"SuSiE\", \"mvSuSiE\", \"mr.mash\"),\n",
    "  Z_score = c(twas_susie$z, twas_mvsusie$z, twas_mrmash$z),\n",
    "  P_value = c(twas_susie$pval, twas_mvsusie$pval, twas_mrmash$pval)\n",
    ")\n",
    "print(results)"
   ]
  },
  {
   "cell_type": "markdown",
   "metadata": {},
   "source": [
    "## Computing TWAS weights using additional regression methods\n",
    "\n",
    "The `pecotmr` package (https://github.com/cumc/pecotmr/) provides a unified interface for computing TWAS weights using various high-dimensional regression methods. Here's how to use them:\n"
   ]
  },
  {
   "cell_type": "code",
   "execution_count": null,
   "metadata": {},
   "outputs": [],
   "source": [
    "library(pecotmr)"
   ]
  },
  {
   "cell_type": "code",
   "execution_count": null,
   "metadata": {},
   "outputs": [],
   "source": [
    "# Create a character vector of weight methods to use\n",
    "# Each method corresponds to a `*_weights()` function in pecotmr\n",
    "w_methods <- c(\"susie_weights\", \"enet_weights\", \"lasso_weights\", \"mrash_weights\", \n",
    "            \"bayes_n_weights\", \"bayes_l_weights\", \"bayes_a_weights\", \n",
    "            \"bayes_c_weights\", \"bayes_r_weights\")\n",
    "\n",
    "# Compute weights using all methods\n",
    "# Only using the first tissue for demonstration\n",
    "weights <- twas_weights(Xtrain, Ytrain[,1], \n",
    "                       weight_methods = w_methods)"
   ]
  },
  {
   "cell_type": "markdown",
   "metadata": {},
   "source": [
    "Vasualize weights from different methods against true effects,"
   ]
  },
  {
   "cell_type": "code",
   "execution_count": null,
   "metadata": {},
   "outputs": [],
   "source": [
    "par(mfrow = c(3,3), mar = c(4,4,3,1))\n",
    "for (method in w_methods) {\n",
    "  plot(dat$B[,1], weights[[method]], \n",
    "       main = method,\n",
    "       xlab = \"True effects\", \n",
    "       ylab = \"Estimated weights\",\n",
    "       pch = 20)\n",
    "  abline(0, 1, col = 'red', lty = 2)\n",
    "}"
   ]
  },
  {
   "cell_type": "markdown",
   "metadata": {},
   "source": [
    "Performance of these method can be assessed using cross validation as one way to select the best model for TWAS test,"
   ]
  },
  {
   "cell_type": "code",
   "execution_count": null,
   "metadata": {},
   "outputs": [],
   "source": [
    "weights_cv <- twas_weights_cv(Xtrain, Ytrain[,1], \n",
    "                       weight_methods = w_methods, fold = 5)"
   ]
  },
  {
   "cell_type": "code",
   "execution_count": null,
   "metadata": {},
   "outputs": [],
   "source": [
    "weights_cv$performance"
   ]
  },
  {
   "cell_type": "markdown",
   "metadata": {},
   "source": [
    "Based on cross validation performance the best model for this data-set is SuSiE, followed by BayesC. This is not suprising considering how the data was simulated (why?)."
   ]
  },
  {
   "cell_type": "markdown",
   "metadata": {},
   "source": [
    "Finally we demonstrate TWAS test using weights from each method,"
   ]
  },
  {
   "cell_type": "code",
   "execution_count": null,
   "metadata": {},
   "outputs": [],
   "source": [
    "twas_results <- data.frame(\n",
    "  Method = w_methods,\n",
    "  Z_score = NA,\n",
    "  P_value = NA\n",
    ")\n",
    "\n",
    "for (i in seq_along(w_methods)) {\n",
    "  method <- w_methods[i]\n",
    "  res <- twas_z(weights[[method]], z, R)\n",
    "  twas_results$Z_score[i] <- res$z\n",
    "  twas_results$P_value[i] <- res$pval\n",
    "}\n",
    "\n",
    "print(twas_results)"
   ]
  }
 ],
 "metadata": {
  "kernelspec": {
   "display_name": "R",
   "language": "R",
   "name": "ir"
  }
 },
 "nbformat": 4,
 "nbformat_minor": 4
}
