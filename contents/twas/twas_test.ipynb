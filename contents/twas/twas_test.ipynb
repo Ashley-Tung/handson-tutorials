{
 "cells": [
  {
   "cell_type": "markdown",
   "metadata": {},
   "source": [
    "# Transcriptome-Wide Association Study (TWAS) using High-dimensional Regression Methods\n",
    "\n",
    "This notebook demonstrates how to perform Transcriptome-Wide Association Studies (TWAS) using weights derived from various high-dimensional regression methods including SuSiE, mvSuSiE and mr.mash. TWAS integrates eQTL data with GWAS summary statistics to identify gene-trait associations. The key idea is that if genetic variants affect both gene expression (eQTL effects) and trait (GWAS effects), we can aggregate these effects using learned weights from expression data to test for gene-trait associations.\n",
    "\n",
    "For details on high-dimensional regression methods used to obtain weights, please refer to:\n",
    "- `finemapping.ipynb`\n",
    "- `multivariate_finemapping.ipynb`\n",
    "- `mr_mash.ipynb`\n",
    "\n",
    "Although we simulate expression data in 5 tissues to demonstrate multivariate methods capabilities, for simplicity in this TWAS exercise we will focus on using weights from the first tissue context to perform TWAS test."
   ]
  },
  {
   "cell_type": "code",
   "execution_count": 1,
   "metadata": {
    "tags": []
   },
   "outputs": [
    {
     "name": "stderr",
     "output_type": "stream",
     "text": [
      "Loading required package: mashr\n",
      "\n",
      "Loading required package: ashr\n",
      "\n"
     ]
    }
   ],
   "source": [
    "library(susieR)\n",
    "library(mvsusieR)\n",
    "library(mr.mash.alpha)\n",
    "set.seed(1)"
   ]
  },
  {
   "cell_type": "markdown",
   "metadata": {},
   "source": [
    "## TWAS Test Definition\n",
    "\n",
    "The goal of this exercise is to demonstrate how to compute TWAS (Transcriptome-Wide Association Study) test statistics using weights learned from various high-dimensional regression methods. Before we proceed with model fitting, we first introduce the TWAS test statistic.\n",
    "\n",
    "The TWAS test combines eQTL weights with GWAS z-scores to compute a gene-level association statistic. The test statistic is computed as:\n",
    "\n",
    "$$Z_{\\text{TWAS}} = \\frac{w^T z}{\\sqrt{w^T R w}}$$\n",
    "\n",
    "where $w$ is the vector of weights, $z$ is the vector of GWAS z-scores, and $R$ is the LD matrix. This is implemented in the following function:"
   ]
  },
  {
   "cell_type": "code",
   "execution_count": 2,
   "metadata": {
    "tags": []
   },
   "outputs": [],
   "source": [
    "twas_z <- function(weights, z, R = NULL, X = NULL) {\n",
    "  if (length(weights) != length(z)) {\n",
    "    stop(\"Weights and z-scores must have the same length.\")\n",
    "  }\n",
    "  if (is.null(R)) R <- cor(X)\n",
    "  stat <- t(weights) %*% z\n",
    "  denom <- t(weights) %*% R %*% weights\n",
    "  zscore <- stat / sqrt(denom)\n",
    "  pval <- pchisq(zscore * zscore, 1, lower.tail = FALSE)\n",
    "  return(list(z = zscore, pval = pval))\n",
    "}"
   ]
  },
  {
   "cell_type": "markdown",
   "metadata": {},
   "source": [
    "## Simulate molecular trait data\n",
    "\n",
    "We'll use the same simulation setup as in the mr.mash tutorial, simulating expression of a gene across 5 tissues:"
   ]
  },
  {
   "cell_type": "code",
   "execution_count": 3,
   "metadata": {
    "tags": []
   },
   "outputs": [],
   "source": [
    "dat <- simulate_mr_mash_data(n = 300, p = 500, p_causal = 3, r = 5, pve = 0.25, V_cor = 0.25)\n",
    "# Split into training and test sets\n",
    "ntest <- 50\n",
    "Ytrain <- dat$Y[-(1:ntest),]\n",
    "Xtrain <- dat$X[-(1:ntest),]\n",
    "Ytest <- dat$Y[1:ntest,]\n",
    "Xtest <- dat$X[1:ntest,]"
   ]
  },
  {
   "cell_type": "markdown",
   "metadata": {},
   "source": [
    "## Obtain weights from different methods\n",
    "\n",
    "First, let's fit univariate SuSiE using the first tissue:"
   ]
  },
  {
   "cell_type": "code",
   "execution_count": 4,
   "metadata": {
    "tags": []
   },
   "outputs": [],
   "source": [
    "fit_susie <- susie(Xtrain, Ytrain[,1], L=10)"
   ]
  },
  {
   "cell_type": "markdown",
   "metadata": {},
   "source": [
    "Next, we'll fit mr.mash, which will also provide residual variance estimates:"
   ]
  },
  {
   "cell_type": "code",
   "execution_count": 5,
   "metadata": {
    "tags": []
   },
   "outputs": [
    {
     "name": "stdout",
     "output_type": "stream",
     "text": [
      "Processing the inputs... Done!\n",
      "Fitting the optimization algorithm using 2 RcppParallel threads... \n",
      " iter    mu1_max.diff     ELBO_diff               ELBO\n",
      "   1       2.02e-01            Inf      -1.49086924741276698114e+03\n",
      "   2       7.20e-02       1.78e+02      -1.31326485382569012472e+03\n",
      "   3       1.42e-02       3.46e+01      -1.27864561842736475228e+03\n",
      "   4       5.67e-03       1.26e+01      -1.26602106910475140467e+03\n",
      "   5       3.23e-03       6.18e+00      -1.25983909326708430854e+03\n",
      "   6       2.14e-03       3.65e+00      -1.25619172558731656864e+03\n",
      "   7       1.58e-03       2.40e+00      -1.25379032230643292678e+03\n",
      "   8       1.22e-03       1.70e+00      -1.25209372777673706878e+03\n",
      "   9       9.75e-04       1.26e+00      -1.25083377432441670862e+03\n",
      "  10       7.99e-04       9.72e-01      -1.24986221513326358945e+03\n",
      "  11       6.68e-04       7.72e-01      -1.24909053185505581496e+03\n",
      "  12       5.67e-04       6.28e-01      -1.24846273883333651611e+03\n",
      "  13       4.88e-04       5.21e-01      -1.24794179793695707303e+03\n",
      "  14       4.25e-04       4.40e-01      -1.24750229572647822351e+03\n",
      "  15       3.74e-04       3.76e-01      -1.24712625467038674287e+03\n",
      "  16       3.32e-04       3.26e-01      -1.24680062065632955637e+03\n",
      "  17       2.97e-04       2.85e-01      -1.24651569632618452488e+03\n",
      "  18       2.67e-04       2.52e-01      -1.24626413189050754227e+03\n",
      "  19       2.41e-04       2.24e-01      -1.24604025666614552392e+03\n",
      "  20       2.20e-04       2.01e-01      -1.24583962535578962161e+03\n",
      "  21       2.01e-04       1.81e-01      -1.24565870330840425595e+03\n",
      "  22       1.84e-04       1.64e-01      -1.24549464385319402027e+03\n",
      "  23       1.70e-04       1.50e-01      -1.24534512792012560567e+03\n",
      "  24       1.57e-04       1.37e-01      -1.24520824660426160335e+03\n",
      "  25       1.46e-04       1.26e-01      -1.24508241385890028141e+03\n",
      "  26       1.36e-04       1.16e-01      -1.24496630067085129667e+03\n",
      "  27       1.27e-04       1.08e-01      -1.24485878478473955511e+03\n",
      "  28       1.19e-04       9.99e-02      -1.24475891184093711672e+03\n",
      "  29       1.11e-04       9.30e-02      -1.24466586500224025258e+03\n",
      "  30       1.05e-04       8.69e-02      -1.24457894097178518678e+03\n",
      "  31       9.87e-05       8.14e-02      -1.24449753087842282184e+03\n",
      "Done!\n",
      "Processing the outputs... Done!\n",
      "mr.mash successfully executed in 0.2251629 minutes!\n"
     ]
    }
   ],
   "source": [
    "# Fit mr.mash\n",
    "S0 <- compute_canonical_covs(r=5, singletons=TRUE, hetgrid=seq(0,1,0.25))\n",
    "univ_sumstats <- compute_univariate_sumstats(Xtrain, Ytrain, standardize=TRUE)\n",
    "scaling_grid <- autoselect.mixsd(univ_sumstats, mult=sqrt(2))^2\n",
    "S0 <- expand_covs(S0, scaling_grid)\n",
    "fit_mrmash <- mr.mash(X=Xtrain, Y=Ytrain, S0=S0)"
   ]
  },
  {
   "cell_type": "markdown",
   "metadata": {},
   "source": [
    "Finally, we'll fit mvSuSiE using uniform mixture weights and canonical covariance matrices `S0`, removing the first component in `S0` which is the \"null\" effect. Note that for the residual variance, we can either use the estimate from mr.mash fit (as shown here) or directly use the covariance of Y. For prior specification, more sophisticated approaches exist, particularly the multivariate adaptive shrinkage (mash) model (Urbut et al. 2019, Nature Genetics) which can learn complex patterns of effect sharing across tissues."
   ]
  },
  {
   "cell_type": "code",
   "execution_count": 6,
   "metadata": {
    "tags": []
   },
   "outputs": [
    {
     "name": "stderr",
     "output_type": "stream",
     "text": [
      "Initializing data object...\n",
      "\n",
      "Dimension of X matrix: 250 500\n",
      "\n",
      "Dimension of Y matrix: 250 5\n",
      "\n",
      "Initializing prior object ...\n",
      "\n",
      "Number of components in the mixture prior: 161\n",
      "\n",
      "Running IBSS algorithm...\n",
      "\n",
      "Iteration 1 delta = Inf\n",
      "\n",
      "Iteration 2 delta = 12.5061971197028\n",
      "\n",
      "Iteration 3 delta = 3.04508433810247\n",
      "\n",
      "Iteration 4 delta = 0.186915951605442\n",
      "\n",
      "Iteration 5 delta = 0.15480860654111\n",
      "\n",
      "Iteration 6 delta = 0.13883133079753\n",
      "\n",
      "Iteration 7 delta = 0.126592787563141\n",
      "\n",
      "Iteration 8 delta = 0.116838226733762\n",
      "\n",
      "Iteration 9 delta = 0.108810018695294\n",
      "\n",
      "Iteration 10 delta = 0.102030740262762\n",
      "\n",
      "Iteration 11 delta = 0.0966023101877909\n",
      "\n",
      "Iteration 12 delta = 2.18986830714834\n",
      "\n",
      "Iteration 13 delta = 0.0151529720164945\n",
      "\n",
      "Iteration 14 delta = 0.0134660025412359\n",
      "\n",
      "Iteration 15 delta = 0.0120485658096641\n",
      "\n",
      "Iteration 16 delta = 0.0108467097741141\n",
      "\n",
      "Iteration 17 delta = 0.00981860605679685\n",
      "\n",
      "Iteration 18 delta = 0.008931784735978\n",
      "\n",
      "Iteration 19 delta = 0.00816096722837756\n",
      "\n",
      "Iteration 20 delta = 0.00748643877500399\n",
      "\n",
      "Iteration 21 delta = 0.00689271945179826\n",
      "\n",
      "Iteration 22 delta = 0.00636748275087484\n",
      "\n",
      "Iteration 23 delta = 0.0059007251352341\n",
      "\n",
      "Iteration 24 delta = 0.00548417378081467\n",
      "\n",
      "Iteration 25 delta = 0.00511089055612501\n",
      "\n",
      "Iteration 26 delta = 0.00477501513273637\n",
      "\n",
      "Iteration 27 delta = 0.00447159267082498\n",
      "\n",
      "Iteration 28 delta = 0.00419644487078585\n",
      "\n",
      "Iteration 29 delta = 0.00394605962173955\n",
      "\n",
      "Iteration 30 delta = 0.00371748825705254\n",
      "\n",
      "Iteration 31 delta = 0.00350824863539856\n",
      "\n",
      "Iteration 32 delta = 0.00331623657575619\n",
      "\n",
      "Iteration 33 delta = 0.0031396490426232\n",
      "\n",
      "Iteration 34 delta = 0.00297692132335214\n",
      "\n",
      "Iteration 35 delta = 0.00282667856299668\n",
      "\n",
      "Iteration 36 delta = 0.00268770040565869\n",
      "\n",
      "Iteration 37 delta = 0.00255889635445783\n",
      "\n",
      "Iteration 38 delta = 0.00243928908571434\n",
      "\n",
      "Iteration 39 delta = 0.00232800299386327\n",
      "\n",
      "Iteration 40 delta = 0.00222425572951579\n",
      "\n",
      "Iteration 41 delta = 0.00212735106879336\n",
      "\n",
      "Iteration 42 delta = 0.00203667203618352\n",
      "\n",
      "Iteration 43 delta = 0.0019516737934282\n",
      "\n",
      "Iteration 44 delta = 0.00187187612550588\n",
      "\n",
      "Iteration 45 delta = 0.00179685570356014\n",
      "\n",
      "Iteration 46 delta = 0.00172623837488572\n",
      "\n",
      "Iteration 47 delta = 0.00165969180193315\n",
      "\n",
      "Iteration 48 delta = 0.00159691872863732\n",
      "\n",
      "Iteration 49 delta = 0.00153765106733772\n",
      "\n",
      "Iteration 50 delta = 0.00148164491997704\n",
      "\n",
      "Iteration 51 delta = 0.0014286765608631\n",
      "\n",
      "Iteration 52 delta = 0.00137853931573773\n",
      "\n",
      "Iteration 53 delta = 0.00133104125393402\n",
      "\n",
      "Iteration 54 delta = 0.00128600354264563\n",
      "\n",
      "Iteration 55 delta = 0.00124325932324609\n",
      "\n",
      "Iteration 56 delta = 0.00120265297550759\n",
      "\n",
      "Iteration 57 delta = 0.00116403961487777\n",
      "\n",
      "Iteration 58 delta = 0.0011272847411874\n",
      "\n",
      "Iteration 59 delta = 0.0010922639319233\n",
      "\n",
      "Iteration 60 delta = 0.00105886251890297\n",
      "\n",
      "Iteration 61 delta = 0.00102697523198003\n",
      "\n",
      "Iteration 62 delta = 0.000996505736793551\n",
      "\n"
     ]
    }
   ],
   "source": [
    "# Get uniform weights\n",
    "n_comp <- length(S0[-1])\n",
    "w0 <- rep(1/n_comp, n_comp)\n",
    "\n",
    "# Create prior\n",
    "prior <- create_mixture_prior(list(matrices = S0[-1],\n",
    "                                  weights = w0),\n",
    "                              null_weight = 0)\n",
    "\n",
    "# Fit mvSuSiE using mr.mash residual variance\n",
    "fit_mvsusie <- mvsusie(Xtrain, Ytrain, standardize = TRUE,\n",
    "                       prior_variance = prior,\n",
    "                       residual_variance = fit_mrmash$V,\n",
    "                       estimate_prior_variance = TRUE)"
   ]
  },
  {
   "cell_type": "markdown",
   "metadata": {},
   "source": [
    "## Extract and compare weights\n",
    "\n",
    "Let's visualize the weights (coefficients) from different methods for the first tissue:"
   ]
  },
  {
   "cell_type": "code",
   "execution_count": 7,
   "metadata": {
    "tags": []
   },
   "outputs": [
    {
     "data": {
      "image/png": "[encoded data removed]",
      "text/plain": [
       "Plot with title “mr.mash weights”"
      ]
     },
     "metadata": {
      "image/png": {
       "height": 420,
       "width": 420
      }
     },
     "output_type": "display_data"
    }
   ],
   "source": [
    "par(mfrow=c(1,3))\n",
    "plot(dat$B[,1], coef(fit_susie)[-1], main=\"SuSiE weights\", \n",
    "     xlab=\"True\", ylab=\"Estimated\")\n",
    "abline(0,1,col='red',lty=2)\n",
    "\n",
    "plot(dat$B[,1], coef(fit_mvsusie)[,1][-1], \n",
    "     main=\"mvSuSiE weights\", xlab=\"True\", ylab=\"Estimated\")\n",
    "abline(0,1,col='red',lty=2)\n",
    "\n",
    "plot(dat$B[,1], fit_mrmash$mu1[,1], \n",
    "     main=\"mr.mash weights\", xlab=\"True\", ylab=\"Estimated\")\n",
    "abline(0,1,col='red',lty=2)"
   ]
  },
  {
   "cell_type": "markdown",
   "metadata": {},
   "source": [
    "It seems all the 3 methods perform similarly, correctly captured two out of the 3 simulated effects."
   ]
  },
  {
   "cell_type": "markdown",
   "metadata": {},
   "source": [
    "## Simulate GWAS z-scores\n",
    "\n",
    "We'll simulate GWAS z-scores taking into account the LD structure (R). The z-scores are generated under the assumption that variants affecting gene expression in the first tissue also affect the trait with correlated effect sizes:"
   ]
  },
  {
   "cell_type": "code",
   "execution_count": 8,
   "metadata": {
    "tags": []
   },
   "outputs": [
    {
     "data": {
      "image/png": "[encoded data removed]",
      "text/plain": [
       "plot without title"
      ]
     },
     "metadata": {
      "image/png": {
       "height": 420,
       "width": 420
      }
     },
     "output_type": "display_data"
    }
   ],
   "source": [
    "# Compute LD matrix\n",
    "R <- cor(Xtrain)\n",
    "# Simulate z-scores\n",
    "set.seed(1)\n",
    "true_effects <- sign(dat$B[,1]) * rnorm(length(dat$B[,1]), sd=3)\n",
    "z <- R %*% true_effects\n",
    "plot(z)"
   ]
  },
  {
   "cell_type": "markdown",
   "metadata": {},
   "source": [
    "## Perform TWAS\n",
    "\n",
    "Let's perform TWAS using weights from each method focusing on the first tissue:"
   ]
  },
  {
   "cell_type": "code",
   "execution_count": 9,
   "metadata": {
    "tags": []
   },
   "outputs": [
    {
     "name": "stdout",
     "output_type": "stream",
     "text": [
      "   Method  Z_score      P_value\n",
      "1   SuSiE 4.643458 3.426258e-06\n",
      "2 mvSuSiE 4.737701 2.161567e-06\n",
      "3 mr.mash 4.748785 2.046424e-06\n"
     ]
    }
   ],
   "source": [
    "# Compute TWAS results using different weights\n",
    "twas_susie <- twas_z(coef(fit_susie)[-1], z, R)\n",
    "twas_mvsusie <- twas_z(coef(fit_mvsusie)[,1][-1], z, R)\n",
    "twas_mrmash <- twas_z(fit_mrmash$mu1[,1], z, R)\n",
    "\n",
    "# Display results\n",
    "results <- data.frame(\n",
    "  Method = c(\"SuSiE\", \"mvSuSiE\", \"mr.mash\"),\n",
    "  Z_score = c(twas_susie$z, twas_mvsusie$z, twas_mrmash$z),\n",
    "  P_value = c(twas_susie$pval, twas_mvsusie$pval, twas_mrmash$pval)\n",
    ")\n",
    "print(results)"
   ]
  },
  {
   "cell_type": "markdown",
   "metadata": {},
   "source": [
    "## Computing TWAS weights using additional regression methods\n",
    "\n",
    "The `pecotmr` package (https://github.com/cumc/pecotmr/) provides a unified interface for computing TWAS weights using various high-dimensional regression methods. Here's how to use them:\n"
   ]
  },
  {
   "cell_type": "code",
   "execution_count": 10,
   "metadata": {
    "tags": []
   },
   "outputs": [
    {
     "name": "stderr",
     "output_type": "stream",
     "text": [
      "\n",
      "Attaching package: ‘pecotmr’\n",
      "\n",
      "\n",
      "The following object is masked _by_ ‘.GlobalEnv’:\n",
      "\n",
      "    twas_z\n",
      "\n",
      "\n"
     ]
    }
   ],
   "source": [
    "library(pecotmr)"
   ]
  },
  {
   "cell_type": "code",
   "execution_count": 11,
   "metadata": {
    "tags": []
   },
   "outputs": [
    {
     "name": "stderr",
     "output_type": "stream",
     "text": [
      "Total time elapsed for susie_wrapper: 0.0850000000000009\n",
      "\n"
     ]
    },
    {
     "name": "stdout",
     "output_type": "stream",
     "text": [
      "Mr.ASH terminated at iteration 346.\n"
     ]
    },
    {
     "name": "stderr",
     "output_type": "stream",
     "text": [
      "Type of analysis performed: st-blr-individual-level-dense-ld\n",
      "\n",
      "Type of analysis performed: st-blr-individual-level-dense-ld\n",
      "\n",
      "Type of analysis performed: st-blr-individual-level-dense-ld\n",
      "\n",
      "Type of analysis performed: st-blr-individual-level-dense-ld\n",
      "\n",
      "Type of analysis performed: st-blr-individual-level-dense-ld\n",
      "\n"
     ]
    }
   ],
   "source": [
    "# Create a character vector of weight methods to use\n",
    "# Each method corresponds to a `*_weights()` function in pecotmr\n",
    "w_methods <- c(\"susie_weights\", \"enet_weights\", \"lasso_weights\", \"mrash_weights\", \n",
    "            \"bayes_n_weights\", \"bayes_l_weights\", \"bayes_a_weights\", \n",
    "            \"bayes_c_weights\", \"bayes_r_weights\")\n",
    "\n",
    "# Compute weights using all methods\n",
    "# Only using the first tissue for demonstration\n",
    "weights <- twas_weights(Xtrain, Ytrain[,1], \n",
    "                       weight_methods = w_methods)"
   ]
  },
  {
   "cell_type": "markdown",
   "metadata": {},
   "source": [
    "Vasualize weights from different methods against true effects,"
   ]
  },
  {
   "cell_type": "code",
   "execution_count": 12,
   "metadata": {
    "tags": []
   },
   "outputs": [
    {
     "data": {
      "image/png": "[encoded data removed]",
      "text/plain": [
       "Plot with title “bayes_r_weights”"
      ]
     },
     "metadata": {
      "image/png": {
       "height": 420,
       "width": 420
      }
     },
     "output_type": "display_data"
    }
   ],
   "source": [
    "par(mfrow = c(3,3), mar = c(4,4,3,1))\n",
    "for (method in w_methods) {\n",
    "  plot(dat$B[,1], weights[[method]], \n",
    "       main = method,\n",
    "       xlab = \"True effects\", \n",
    "       ylab = \"Estimated weights\",\n",
    "       pch = 20)\n",
    "  abline(0, 1, col = 'red', lty = 2)\n",
    "}"
   ]
  },
  {
   "cell_type": "markdown",
   "metadata": {},
   "source": [
    "Performance of these method can be assessed using cross validation as one way to select the best model for TWAS test,"
   ]
  },
  {
   "cell_type": "code",
   "execution_count": 13,
   "metadata": {
    "tags": []
   },
   "outputs": [
    {
     "name": "stderr",
     "output_type": "stream",
     "text": [
      "Y converted to matrix of 250 rows and 1 columns.\n",
      "\n",
      "0 out of 500 total variants dropped due to quality control on X matrix.\n",
      "\n",
      "Additional 0 variants dropped after considering missing data in Y matrix, with 500 variants left.\n",
      "\n",
      "Total time elapsed for susie_wrapper: 0.117000000000004\n",
      "\n"
     ]
    },
    {
     "name": "stdout",
     "output_type": "stream",
     "text": [
      "Mr.ASH terminated at iteration 443.\n"
     ]
    },
    {
     "name": "stderr",
     "output_type": "stream",
     "text": [
      "Type of analysis performed: st-blr-individual-level-dense-ld\n",
      "\n",
      "Type of analysis performed: st-blr-individual-level-dense-ld\n",
      "\n",
      "Type of analysis performed: st-blr-individual-level-dense-ld\n",
      "\n",
      "Type of analysis performed: st-blr-individual-level-dense-ld\n",
      "\n",
      "Type of analysis performed: st-blr-individual-level-dense-ld\n",
      "\n",
      "0 out of 500 total variants dropped due to quality control on X matrix.\n",
      "\n",
      "Additional 0 variants dropped after considering missing data in Y matrix, with 500 variants left.\n",
      "\n",
      "Total time elapsed for susie_wrapper: 0.0649999999999977\n",
      "\n"
     ]
    },
    {
     "name": "stdout",
     "output_type": "stream",
     "text": [
      "Mr.ASH terminated at iteration 357.\n"
     ]
    },
    {
     "name": "stderr",
     "output_type": "stream",
     "text": [
      "Type of analysis performed: st-blr-individual-level-dense-ld\n",
      "\n",
      "Type of analysis performed: st-blr-individual-level-dense-ld\n",
      "\n",
      "Type of analysis performed: st-blr-individual-level-dense-ld\n",
      "\n",
      "Type of analysis performed: st-blr-individual-level-dense-ld\n",
      "\n",
      "Type of analysis performed: st-blr-individual-level-dense-ld\n",
      "\n",
      "0 out of 500 total variants dropped due to quality control on X matrix.\n",
      "\n",
      "Additional 0 variants dropped after considering missing data in Y matrix, with 500 variants left.\n",
      "\n",
      "Total time elapsed for susie_wrapper: 0.0519999999999925\n",
      "\n"
     ]
    },
    {
     "name": "stdout",
     "output_type": "stream",
     "text": [
      "Mr.ASH terminated at iteration 556.\n"
     ]
    },
    {
     "name": "stderr",
     "output_type": "stream",
     "text": [
      "Type of analysis performed: st-blr-individual-level-dense-ld\n",
      "\n",
      "Type of analysis performed: st-blr-individual-level-dense-ld\n",
      "\n",
      "Type of analysis performed: st-blr-individual-level-dense-ld\n",
      "\n",
      "Type of analysis performed: st-blr-individual-level-dense-ld\n",
      "\n",
      "Type of analysis performed: st-blr-individual-level-dense-ld\n",
      "\n",
      "0 out of 500 total variants dropped due to quality control on X matrix.\n",
      "\n",
      "Additional 0 variants dropped after considering missing data in Y matrix, with 500 variants left.\n",
      "\n",
      "Total time elapsed for susie_wrapper: 0.0649999999999977\n",
      "\n"
     ]
    },
    {
     "name": "stdout",
     "output_type": "stream",
     "text": [
      "Mr.ASH terminated at iteration 364.\n"
     ]
    },
    {
     "name": "stderr",
     "output_type": "stream",
     "text": [
      "Type of analysis performed: st-blr-individual-level-dense-ld\n",
      "\n",
      "Type of analysis performed: st-blr-individual-level-dense-ld\n",
      "\n",
      "Type of analysis performed: st-blr-individual-level-dense-ld\n",
      "\n",
      "Type of analysis performed: st-blr-individual-level-dense-ld\n",
      "\n",
      "Type of analysis performed: st-blr-individual-level-dense-ld\n",
      "\n",
      "0 out of 500 total variants dropped due to quality control on X matrix.\n",
      "\n",
      "Additional 0 variants dropped after considering missing data in Y matrix, with 500 variants left.\n",
      "\n",
      "Total time elapsed for susie_wrapper: 0.054000000000002\n",
      "\n"
     ]
    },
    {
     "name": "stdout",
     "output_type": "stream",
     "text": [
      "Mr.ASH terminated at iteration 472.\n"
     ]
    },
    {
     "name": "stderr",
     "output_type": "stream",
     "text": [
      "Type of analysis performed: st-blr-individual-level-dense-ld\n",
      "\n",
      "Type of analysis performed: st-blr-individual-level-dense-ld\n",
      "\n",
      "Type of analysis performed: st-blr-individual-level-dense-ld\n",
      "\n",
      "Type of analysis performed: st-blr-individual-level-dense-ld\n",
      "\n",
      "Type of analysis performed: st-blr-individual-level-dense-ld\n",
      "\n"
     ]
    }
   ],
   "source": [
    "weights_cv <- twas_weights_cv(Xtrain, Ytrain[,1], \n",
    "                       weight_methods = w_methods, fold = 5)"
   ]
  },
  {
   "cell_type": "code",
   "execution_count": 14,
   "metadata": {
    "tags": []
   },
   "outputs": [
    {
     "data": {
      "text/html": [
       "<dl>\n",
       "\t<dt>$susie_performance</dt>\n",
       "\t\t<dd><table class=\"dataframe\">\n",
       "<caption>A matrix: 1 × 6 of type dbl</caption>\n",
       "<thead>\n",
       "\t<tr><th></th><th scope=col>corr</th><th scope=col>rsq</th><th scope=col>adj_rsq</th><th scope=col>pval</th><th scope=col>RMSE</th><th scope=col>MAE</th></tr>\n",
       "</thead>\n",
       "<tbody>\n",
       "\t<tr><th scope=row>context_1</th><td>0.4974325</td><td>0.2474391</td><td>0.2444046</td><td>4.938229e-17</td><td>1.245811</td><td>1.06505</td></tr>\n",
       "</tbody>\n",
       "</table>\n",
       "</dd>\n",
       "\t<dt>$enet_performance</dt>\n",
       "\t\t<dd><table class=\"dataframe\">\n",
       "<caption>A matrix: 1 × 6 of type dbl</caption>\n",
       "<thead>\n",
       "\t<tr><th></th><th scope=col>corr</th><th scope=col>rsq</th><th scope=col>adj_rsq</th><th scope=col>pval</th><th scope=col>RMSE</th><th scope=col>MAE</th></tr>\n",
       "</thead>\n",
       "<tbody>\n",
       "\t<tr><th scope=row>context_1</th><td>0.462199</td><td>0.2136279</td><td>0.210457</td><td>1.233548e-14</td><td>1.259324</td><td>1.071705</td></tr>\n",
       "</tbody>\n",
       "</table>\n",
       "</dd>\n",
       "\t<dt>$lasso_performance</dt>\n",
       "\t\t<dd><table class=\"dataframe\">\n",
       "<caption>A matrix: 1 × 6 of type dbl</caption>\n",
       "<thead>\n",
       "\t<tr><th></th><th scope=col>corr</th><th scope=col>rsq</th><th scope=col>adj_rsq</th><th scope=col>pval</th><th scope=col>RMSE</th><th scope=col>MAE</th></tr>\n",
       "</thead>\n",
       "<tbody>\n",
       "\t<tr><th scope=row>context_1</th><td>0.4666951</td><td>0.2178043</td><td>0.2146503</td><td>6.314326e-15</td><td>1.257297</td><td>1.0714</td></tr>\n",
       "</tbody>\n",
       "</table>\n",
       "</dd>\n",
       "\t<dt>$mrash_performance</dt>\n",
       "\t\t<dd><table class=\"dataframe\">\n",
       "<caption>A matrix: 1 × 6 of type dbl</caption>\n",
       "<thead>\n",
       "\t<tr><th></th><th scope=col>corr</th><th scope=col>rsq</th><th scope=col>adj_rsq</th><th scope=col>pval</th><th scope=col>RMSE</th><th scope=col>MAE</th></tr>\n",
       "</thead>\n",
       "<tbody>\n",
       "\t<tr><th scope=row>context_1</th><td>0.4933093</td><td>0.243354</td><td>0.2403031</td><td>9.741127e-17</td><td>1.247401</td><td>1.066367</td></tr>\n",
       "</tbody>\n",
       "</table>\n",
       "</dd>\n",
       "\t<dt>$bayes_n_performance</dt>\n",
       "\t\t<dd><table class=\"dataframe\">\n",
       "<caption>A matrix: 1 × 6 of type dbl</caption>\n",
       "<thead>\n",
       "\t<tr><th></th><th scope=col>corr</th><th scope=col>rsq</th><th scope=col>adj_rsq</th><th scope=col>pval</th><th scope=col>RMSE</th><th scope=col>MAE</th></tr>\n",
       "</thead>\n",
       "<tbody>\n",
       "\t<tr><th scope=row>context_1</th><td>0.1191553</td><td>0.01419799</td><td>0.01022298</td><td>0.05993429</td><td>1.297954</td><td>1.097228</td></tr>\n",
       "</tbody>\n",
       "</table>\n",
       "</dd>\n",
       "\t<dt>$bayes_l_performance</dt>\n",
       "\t\t<dd><table class=\"dataframe\">\n",
       "<caption>A matrix: 1 × 6 of type dbl</caption>\n",
       "<thead>\n",
       "\t<tr><th></th><th scope=col>corr</th><th scope=col>rsq</th><th scope=col>adj_rsq</th><th scope=col>pval</th><th scope=col>RMSE</th><th scope=col>MAE</th></tr>\n",
       "</thead>\n",
       "<tbody>\n",
       "\t<tr><th scope=row>context_1</th><td>0.2100768</td><td>0.04413228</td><td>0.04027797</td><td>0.0008307674</td><td>1.285872</td><td>1.087563</td></tr>\n",
       "</tbody>\n",
       "</table>\n",
       "</dd>\n",
       "\t<dt>$bayes_a_performance</dt>\n",
       "\t\t<dd><table class=\"dataframe\">\n",
       "<caption>A matrix: 1 × 6 of type dbl</caption>\n",
       "<thead>\n",
       "\t<tr><th></th><th scope=col>corr</th><th scope=col>rsq</th><th scope=col>adj_rsq</th><th scope=col>pval</th><th scope=col>RMSE</th><th scope=col>MAE</th></tr>\n",
       "</thead>\n",
       "<tbody>\n",
       "\t<tr><th scope=row>context_1</th><td>0.3862526</td><td>0.1491911</td><td>0.1457604</td><td>2.553746e-10</td><td>1.270625</td><td>1.078026</td></tr>\n",
       "</tbody>\n",
       "</table>\n",
       "</dd>\n",
       "\t<dt>$bayes_c_performance</dt>\n",
       "\t\t<dd><table class=\"dataframe\">\n",
       "<caption>A matrix: 1 × 6 of type dbl</caption>\n",
       "<thead>\n",
       "\t<tr><th></th><th scope=col>corr</th><th scope=col>rsq</th><th scope=col>adj_rsq</th><th scope=col>pval</th><th scope=col>RMSE</th><th scope=col>MAE</th></tr>\n",
       "</thead>\n",
       "<tbody>\n",
       "\t<tr><th scope=row>context_1</th><td>0.4960544</td><td>0.2460699</td><td>0.2430299</td><td>6.203378e-17</td><td>1.253784</td><td>1.071939</td></tr>\n",
       "</tbody>\n",
       "</table>\n",
       "</dd>\n",
       "\t<dt>$bayes_r_performance</dt>\n",
       "\t\t<dd><table class=\"dataframe\">\n",
       "<caption>A matrix: 1 × 6 of type dbl</caption>\n",
       "<thead>\n",
       "\t<tr><th></th><th scope=col>corr</th><th scope=col>rsq</th><th scope=col>adj_rsq</th><th scope=col>pval</th><th scope=col>RMSE</th><th scope=col>MAE</th></tr>\n",
       "</thead>\n",
       "<tbody>\n",
       "\t<tr><th scope=row>context_1</th><td>0.4647551</td><td>0.2159973</td><td>0.212836</td><td>8.439891e-15</td><td>1.261438</td><td>1.077938</td></tr>\n",
       "</tbody>\n",
       "</table>\n",
       "</dd>\n",
       "</dl>\n"
      ],
      "text/latex": [
       "\\begin{description}\n",
       "\\item[\\$susie\\_performance] A matrix: 1 × 6 of type dbl\n",
       "\\begin{tabular}{r|llllll}\n",
       "  & corr & rsq & adj\\_rsq & pval & RMSE & MAE\\\\\n",
       "\\hline\n",
       "\tcontext\\_1 & 0.4974325 & 0.2474391 & 0.2444046 & 4.938229e-17 & 1.245811 & 1.06505\\\\\n",
       "\\end{tabular}\n",
       "\n",
       "\\item[\\$enet\\_performance] A matrix: 1 × 6 of type dbl\n",
       "\\begin{tabular}{r|llllll}\n",
       "  & corr & rsq & adj\\_rsq & pval & RMSE & MAE\\\\\n",
       "\\hline\n",
       "\tcontext\\_1 & 0.462199 & 0.2136279 & 0.210457 & 1.233548e-14 & 1.259324 & 1.071705\\\\\n",
       "\\end{tabular}\n",
       "\n",
       "\\item[\\$lasso\\_performance] A matrix: 1 × 6 of type dbl\n",
       "\\begin{tabular}{r|llllll}\n",
       "  & corr & rsq & adj\\_rsq & pval & RMSE & MAE\\\\\n",
       "\\hline\n",
       "\tcontext\\_1 & 0.4666951 & 0.2178043 & 0.2146503 & 6.314326e-15 & 1.257297 & 1.0714\\\\\n",
       "\\end{tabular}\n",
       "\n",
       "\\item[\\$mrash\\_performance] A matrix: 1 × 6 of type dbl\n",
       "\\begin{tabular}{r|llllll}\n",
       "  & corr & rsq & adj\\_rsq & pval & RMSE & MAE\\\\\n",
       "\\hline\n",
       "\tcontext\\_1 & 0.4933093 & 0.243354 & 0.2403031 & 9.741127e-17 & 1.247401 & 1.066367\\\\\n",
       "\\end{tabular}\n",
       "\n",
       "\\item[\\$bayes\\_n\\_performance] A matrix: 1 × 6 of type dbl\n",
       "\\begin{tabular}{r|llllll}\n",
       "  & corr & rsq & adj\\_rsq & pval & RMSE & MAE\\\\\n",
       "\\hline\n",
       "\tcontext\\_1 & 0.1191553 & 0.01419799 & 0.01022298 & 0.05993429 & 1.297954 & 1.097228\\\\\n",
       "\\end{tabular}\n",
       "\n",
       "\\item[\\$bayes\\_l\\_performance] A matrix: 1 × 6 of type dbl\n",
       "\\begin{tabular}{r|llllll}\n",
       "  & corr & rsq & adj\\_rsq & pval & RMSE & MAE\\\\\n",
       "\\hline\n",
       "\tcontext\\_1 & 0.2100768 & 0.04413228 & 0.04027797 & 0.0008307674 & 1.285872 & 1.087563\\\\\n",
       "\\end{tabular}\n",
       "\n",
       "\\item[\\$bayes\\_a\\_performance] A matrix: 1 × 6 of type dbl\n",
       "\\begin{tabular}{r|llllll}\n",
       "  & corr & rsq & adj\\_rsq & pval & RMSE & MAE\\\\\n",
       "\\hline\n",
       "\tcontext\\_1 & 0.3862526 & 0.1491911 & 0.1457604 & 2.553746e-10 & 1.270625 & 1.078026\\\\\n",
       "\\end{tabular}\n",
       "\n",
       "\\item[\\$bayes\\_c\\_performance] A matrix: 1 × 6 of type dbl\n",
       "\\begin{tabular}{r|llllll}\n",
       "  & corr & rsq & adj\\_rsq & pval & RMSE & MAE\\\\\n",
       "\\hline\n",
       "\tcontext\\_1 & 0.4960544 & 0.2460699 & 0.2430299 & 6.203378e-17 & 1.253784 & 1.071939\\\\\n",
       "\\end{tabular}\n",
       "\n",
       "\\item[\\$bayes\\_r\\_performance] A matrix: 1 × 6 of type dbl\n",
       "\\begin{tabular}{r|llllll}\n",
       "  & corr & rsq & adj\\_rsq & pval & RMSE & MAE\\\\\n",
       "\\hline\n",
       "\tcontext\\_1 & 0.4647551 & 0.2159973 & 0.212836 & 8.439891e-15 & 1.261438 & 1.077938\\\\\n",
       "\\end{tabular}\n",
       "\n",
       "\\end{description}\n"
      ],
      "text/markdown": [
       "$susie_performance\n",
       ":   \n",
       "A matrix: 1 × 6 of type dbl\n",
       "\n",
       "| <!--/--> | corr | rsq | adj_rsq | pval | RMSE | MAE |\n",
       "|---|---|---|---|---|---|---|\n",
       "| context_1 | 0.4974325 | 0.2474391 | 0.2444046 | 4.938229e-17 | 1.245811 | 1.06505 |\n",
       "\n",
       "\n",
       "$enet_performance\n",
       ":   \n",
       "A matrix: 1 × 6 of type dbl\n",
       "\n",
       "| <!--/--> | corr | rsq | adj_rsq | pval | RMSE | MAE |\n",
       "|---|---|---|---|---|---|---|\n",
       "| context_1 | 0.462199 | 0.2136279 | 0.210457 | 1.233548e-14 | 1.259324 | 1.071705 |\n",
       "\n",
       "\n",
       "$lasso_performance\n",
       ":   \n",
       "A matrix: 1 × 6 of type dbl\n",
       "\n",
       "| <!--/--> | corr | rsq | adj_rsq | pval | RMSE | MAE |\n",
       "|---|---|---|---|---|---|---|\n",
       "| context_1 | 0.4666951 | 0.2178043 | 0.2146503 | 6.314326e-15 | 1.257297 | 1.0714 |\n",
       "\n",
       "\n",
       "$mrash_performance\n",
       ":   \n",
       "A matrix: 1 × 6 of type dbl\n",
       "\n",
       "| <!--/--> | corr | rsq | adj_rsq | pval | RMSE | MAE |\n",
       "|---|---|---|---|---|---|---|\n",
       "| context_1 | 0.4933093 | 0.243354 | 0.2403031 | 9.741127e-17 | 1.247401 | 1.066367 |\n",
       "\n",
       "\n",
       "$bayes_n_performance\n",
       ":   \n",
       "A matrix: 1 × 6 of type dbl\n",
       "\n",
       "| <!--/--> | corr | rsq | adj_rsq | pval | RMSE | MAE |\n",
       "|---|---|---|---|---|---|---|\n",
       "| context_1 | 0.1191553 | 0.01419799 | 0.01022298 | 0.05993429 | 1.297954 | 1.097228 |\n",
       "\n",
       "\n",
       "$bayes_l_performance\n",
       ":   \n",
       "A matrix: 1 × 6 of type dbl\n",
       "\n",
       "| <!--/--> | corr | rsq | adj_rsq | pval | RMSE | MAE |\n",
       "|---|---|---|---|---|---|---|\n",
       "| context_1 | 0.2100768 | 0.04413228 | 0.04027797 | 0.0008307674 | 1.285872 | 1.087563 |\n",
       "\n",
       "\n",
       "$bayes_a_performance\n",
       ":   \n",
       "A matrix: 1 × 6 of type dbl\n",
       "\n",
       "| <!--/--> | corr | rsq | adj_rsq | pval | RMSE | MAE |\n",
       "|---|---|---|---|---|---|---|\n",
       "| context_1 | 0.3862526 | 0.1491911 | 0.1457604 | 2.553746e-10 | 1.270625 | 1.078026 |\n",
       "\n",
       "\n",
       "$bayes_c_performance\n",
       ":   \n",
       "A matrix: 1 × 6 of type dbl\n",
       "\n",
       "| <!--/--> | corr | rsq | adj_rsq | pval | RMSE | MAE |\n",
       "|---|---|---|---|---|---|---|\n",
       "| context_1 | 0.4960544 | 0.2460699 | 0.2430299 | 6.203378e-17 | 1.253784 | 1.071939 |\n",
       "\n",
       "\n",
       "$bayes_r_performance\n",
       ":   \n",
       "A matrix: 1 × 6 of type dbl\n",
       "\n",
       "| <!--/--> | corr | rsq | adj_rsq | pval | RMSE | MAE |\n",
       "|---|---|---|---|---|---|---|\n",
       "| context_1 | 0.4647551 | 0.2159973 | 0.212836 | 8.439891e-15 | 1.261438 | 1.077938 |\n",
       "\n",
       "\n",
       "\n",
       "\n"
      ],
      "text/plain": [
       "$susie_performance\n",
       "               corr       rsq   adj_rsq         pval     RMSE     MAE\n",
       "context_1 0.4974325 0.2474391 0.2444046 4.938229e-17 1.245811 1.06505\n",
       "\n",
       "$enet_performance\n",
       "              corr       rsq  adj_rsq         pval     RMSE      MAE\n",
       "context_1 0.462199 0.2136279 0.210457 1.233548e-14 1.259324 1.071705\n",
       "\n",
       "$lasso_performance\n",
       "               corr       rsq   adj_rsq         pval     RMSE    MAE\n",
       "context_1 0.4666951 0.2178043 0.2146503 6.314326e-15 1.257297 1.0714\n",
       "\n",
       "$mrash_performance\n",
       "               corr      rsq   adj_rsq         pval     RMSE      MAE\n",
       "context_1 0.4933093 0.243354 0.2403031 9.741127e-17 1.247401 1.066367\n",
       "\n",
       "$bayes_n_performance\n",
       "               corr        rsq    adj_rsq       pval     RMSE      MAE\n",
       "context_1 0.1191553 0.01419799 0.01022298 0.05993429 1.297954 1.097228\n",
       "\n",
       "$bayes_l_performance\n",
       "               corr        rsq    adj_rsq         pval     RMSE      MAE\n",
       "context_1 0.2100768 0.04413228 0.04027797 0.0008307674 1.285872 1.087563\n",
       "\n",
       "$bayes_a_performance\n",
       "               corr       rsq   adj_rsq         pval     RMSE      MAE\n",
       "context_1 0.3862526 0.1491911 0.1457604 2.553746e-10 1.270625 1.078026\n",
       "\n",
       "$bayes_c_performance\n",
       "               corr       rsq   adj_rsq         pval     RMSE      MAE\n",
       "context_1 0.4960544 0.2460699 0.2430299 6.203378e-17 1.253784 1.071939\n",
       "\n",
       "$bayes_r_performance\n",
       "               corr       rsq  adj_rsq         pval     RMSE      MAE\n",
       "context_1 0.4647551 0.2159973 0.212836 8.439891e-15 1.261438 1.077938\n"
      ]
     },
     "metadata": {},
     "output_type": "display_data"
    }
   ],
   "source": [
    "weights_cv$performance"
   ]
  },
  {
   "cell_type": "markdown",
   "metadata": {},
   "source": [
    "Based on cross validation performance the best model for this data-set is SuSiE, followed by BayesC. This is not suprising considering how the data was simulated (why?)."
   ]
  },
  {
   "cell_type": "markdown",
   "metadata": {},
   "source": [
    "Finally we demonstrate TWAS test using weights from each method,"
   ]
  },
  {
   "cell_type": "code",
   "execution_count": 15,
   "metadata": {
    "tags": []
   },
   "outputs": [
    {
     "name": "stdout",
     "output_type": "stream",
     "text": [
      "           Method  Z_score      P_value\n",
      "1   susie_weights 4.643458 3.426258e-06\n",
      "2    enet_weights 4.379759 1.188107e-05\n",
      "3   lasso_weights 4.467725 7.905587e-06\n",
      "4   mrash_weights 4.649285 3.330881e-06\n",
      "5 bayes_n_weights 2.868538 4.123738e-03\n",
      "6 bayes_l_weights 3.355518 7.921664e-04\n",
      "7 bayes_a_weights 3.631836 2.814121e-04\n",
      "8 bayes_c_weights 4.652555 3.278471e-06\n",
      "9 bayes_r_weights 4.579618 4.658250e-06\n"
     ]
    }
   ],
   "source": [
    "twas_results <- data.frame(\n",
    "  Method = w_methods,\n",
    "  Z_score = NA,\n",
    "  P_value = NA\n",
    ")\n",
    "\n",
    "for (i in seq_along(w_methods)) {\n",
    "  method <- w_methods[i]\n",
    "  res <- twas_z(weights[[method]], z, R)\n",
    "  twas_results$Z_score[i] <- res$z\n",
    "  twas_results$P_value[i] <- res$pval\n",
    "}\n",
    "\n",
    "print(twas_results)"
   ]
  },
  {
   "cell_type": "code",
   "execution_count": null,
   "metadata": {},
   "outputs": [],
   "source": []
  }
 ],
 "metadata": {
  "kernelspec": {
   "display_name": "R",
   "language": "R",
   "name": "ir"
  },
  "language_info": {
   "codemirror_mode": "r",
   "file_extension": ".r",
   "mimetype": "text/x-r-source",
   "name": "R",
   "pygments_lexer": "r",
   "version": "4.4.2"
  },
  "toc-autonumbering": false
 },
 "nbformat": 4,
 "nbformat_minor": 4
}
